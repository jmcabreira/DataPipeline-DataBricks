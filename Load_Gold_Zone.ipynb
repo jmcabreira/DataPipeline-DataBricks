{
 "cells": [
  {
   "cell_type": "markdown",
   "metadata": {
    "application/vnd.databricks.v1+cell": {
     "cellMetadata": {
      "byteLimit": 2048000,
      "rowLimit": 10000
     },
     "inputWidgets": {},
     "nuid": "81574298-f441-4f41-aee8-7275eec42cd6",
     "showTitle": false,
     "tableResultSettingsMap": {},
     "title": ""
    }
   },
   "source": [
    "# # Loading Data To Gold Zone \n",
    "\n",
    "**This Notebook:**\n",
    "* Load data to Golg Zone of the Data Lake House\n",
    "* Star Schekma and One Big Table Modeling\n",
    "* Creates **`IDENTITY`** column in Databricks delta table"
   ]
  },
  {
   "cell_type": "markdown",
   "metadata": {
    "application/vnd.databricks.v1+cell": {
     "cellMetadata": {},
     "inputWidgets": {},
     "nuid": "ecd3c5b5-8d45-4392-a9f5-73a260112d4a",
     "showTitle": false,
     "tableResultSettingsMap": {},
     "title": ""
    }
   },
   "source": [
    "## 1.0 Initial Setup"
   ]
  },
  {
   "cell_type": "code",
   "execution_count": 0,
   "metadata": {
    "application/vnd.databricks.v1+cell": {
     "cellMetadata": {
      "byteLimit": 2048000,
      "rowLimit": 10000
     },
     "collapsed": true,
     "inputWidgets": {},
     "nuid": "97e69ae5-8acb-447a-ac48-de146404d808",
     "showTitle": false,
     "tableResultSettingsMap": {},
     "title": ""
    }
   },
   "outputs": [
    {
     "output_type": "stream",
     "name": "stdout",
     "output_type": "stream",
     "text": [
      "\u001B[43mNote: you may need to restart the kernel using dbutils.library.restartPython() to use updated packages.\u001B[0m\nCollecting dbldatagen\n  Using cached dbldatagen-0.4.0.post1-py3-none-any.whl (122 kB)\nInstalling collected packages: dbldatagen\nSuccessfully installed dbldatagen-0.4.0.post1\n\u001B[43mNote: you may need to restart the kernel using dbutils.library.restartPython() to use updated packages.\u001B[0m\n"
     ]
    }
   ],
   "source": [
    "\n",
    "%run \"/Users/cabreirajm@gmail.com/DataPipelineCabreira/Helpers/data_generator\" "
   ]
  },
  {
   "cell_type": "markdown",
   "metadata": {
    "application/vnd.databricks.v1+cell": {
     "cellMetadata": {},
     "inputWidgets": {},
     "nuid": "66d62ab8-f059-4ecd-afa5-bb95afed9b19",
     "showTitle": false,
     "tableResultSettingsMap": {},
     "title": ""
    }
   },
   "source": [
    "## 2.0 Create `Gold Zone` Schema"
   ]
  },
  {
   "cell_type": "code",
   "execution_count": 0,
   "metadata": {
    "application/vnd.databricks.v1+cell": {
     "cellMetadata": {
      "byteLimit": 2048000,
      "rowLimit": 10000
     },
     "inputWidgets": {},
     "nuid": "9dd56966-dd4a-4a81-ac81-18e21a99a82c",
     "showTitle": false,
     "tableResultSettingsMap": {},
     "title": ""
    }
   },
   "outputs": [
    {
     "output_type": "execute_result",
     "data": {
      "text/plain": [
       "DataFrame[]"
      ]
     },
     "execution_count": 8,
     "metadata": {},
     "output_type": "execute_result"
    }
   ],
   "source": [
    "spark.sql(\"CREATE DATABASE IF NOT EXISTS gold\")"
   ]
  },
  {
   "cell_type": "markdown",
   "metadata": {
    "application/vnd.databricks.v1+cell": {
     "cellMetadata": {},
     "inputWidgets": {},
     "nuid": "8a35b5d6-0dfc-46a6-a536-493cd285a6c2",
     "showTitle": false,
     "tableResultSettingsMap": {},
     "title": ""
    }
   },
   "source": [
    "## 3.0 `Sales Star Schema` Modeling "
   ]
  },
  {
   "cell_type": "markdown",
   "metadata": {
    "application/vnd.databricks.v1+cell": {
     "cellMetadata": {},
     "inputWidgets": {},
     "nuid": "4e59efc0-3761-4546-9e25-fc1431df0e17",
     "showTitle": false,
     "tableResultSettingsMap": {},
     "title": ""
    }
   },
   "source": [
    "Aiming to optimize queries in large datasets, we can use a dimensional model. \n",
    "We will use Ralph Kimball data warehouse principles and build a Star Schema model."
   ]
  },
  {
   "cell_type": "markdown",
   "metadata": {
    "application/vnd.databricks.v1+cell": {
     "cellMetadata": {
      "byteLimit": 2048000,
      "rowLimit": 10000
     },
     "inputWidgets": {},
     "nuid": "352565aa-3b9a-435b-8621-413a1c0e091a",
     "showTitle": false,
     "tableResultSettingsMap": {},
     "title": ""
    }
   },
   "source": [
    "\n",
    "### `Dimensional Tables`\n",
    "- **dim_calendar** - Dimension with date information\n",
    "- **dim_cod** - Dimensions with codes  - Low cardinality Dimensions (Junk Dimension): \n",
    "  - **user_origin** - API vs. Files\n",
    "  - **access_from** - mobile vs. computer\n",
    "  - **payment_method** - Pix vs. Boleto vs. Cartão\n",
    "  - **percent_discount** - 5% vs. 10% vs. 15%\n",
    "- **dim_courses** - Dimensão responsável por armazenar as informações de Curso.\n",
    "- **dim_user** - Dimensão responsável por armazenar as informações de Alunos.\n",
    "\n",
    "\n",
    "All tables will have a **Surrogate Key (SK)** column that will be creeated with the **`<col_name> BIGINT GENERATED ALWAYS AS IDENTITY`** command. Spark will populate this column in execution time with an incremental value (incremental(1,1). )\n"
   ]
  },
  {
   "cell_type": "markdown",
   "metadata": {
    "application/vnd.databricks.v1+cell": {
     "cellMetadata": {},
     "inputWidgets": {},
     "nuid": "20a9aec8-5dc9-4968-84d6-d3e8e50b8931",
     "showTitle": false,
     "tableResultSettingsMap": {},
     "title": ""
    }
   },
   "source": [
    "### 3.1 `Sale Dimensions`  "
   ]
  },
  {
   "cell_type": "code",
   "execution_count": 0,
   "metadata": {
    "application/vnd.databricks.v1+cell": {
     "cellMetadata": {
      "byteLimit": 2048000,
      "implicitDf": true,
      "rowLimit": 10000
     },
     "inputWidgets": {},
     "nuid": "681f68ef-6420-44ce-921a-86bfb2a6ff04",
     "showTitle": false,
     "tableResultSettingsMap": {},
     "title": ""
    }
   },
   "outputs": [
    {
     "output_type": "display_data",
     "data": {
      "text/html": [
       "<style scoped>\n",
       "  .table-result-container {\n",
       "    max-height: 300px;\n",
       "    overflow: auto;\n",
       "  }\n",
       "  table, th, td {\n",
       "    border: 1px solid black;\n",
       "    border-collapse: collapse;\n",
       "  }\n",
       "  th, td {\n",
       "    padding: 5px;\n",
       "  }\n",
       "  th {\n",
       "    text-align: left;\n",
       "  }\n",
       "</style><div class='table-result-container'><table class='table-result'><thead style='background-color: white'><tr></tr></thead><tbody></tbody></table></div>"
      ]
     },
     "metadata": {
      "application/vnd.databricks.v1+output": {
       "addedWidgets": {},
       "aggData": [],
       "aggError": "",
       "aggOverflow": false,
       "aggSchema": [],
       "aggSeriesLimitReached": false,
       "aggType": "",
       "arguments": {},
       "columnCustomDisplayInfos": {},
       "data": [],
       "datasetInfos": [],
       "dbfsResultPath": null,
       "isJsonSchema": true,
       "metadata": {
        "dataframeName": null
       },
       "overflow": false,
       "plotOptions": {
        "customPlotOptions": {},
        "displayType": "table",
        "pivotAggregation": null,
        "pivotColumns": null,
        "xColumns": null,
        "yColumns": null
       },
       "removedWidgets": [],
       "schema": [],
       "type": "table"
      }
     },
     "output_type": "display_data"
    }
   ],
   "source": [
    "#%sql\n",
    "#DROP SCHEMA IF EXISTS gold CASCADE \n"
   ]
  },
  {
   "cell_type": "code",
   "execution_count": 0,
   "metadata": {
    "application/vnd.databricks.v1+cell": {
     "cellMetadata": {
      "byteLimit": 2048000,
      "rowLimit": 10000
     },
     "inputWidgets": {},
     "nuid": "9fd6b532-7d2a-4471-87b6-3fe167b7b8a3",
     "showTitle": false,
     "tableResultSettingsMap": {},
     "title": ""
    }
   },
   "outputs": [
    {
     "output_type": "display_data",
     "data": {
      "text/html": [
       "<style scoped>\n",
       "  .ansiout {\n",
       "    display: block;\n",
       "    unicode-bidi: embed;\n",
       "    white-space: pre-wrap;\n",
       "    word-wrap: break-word;\n",
       "    word-break: break-all;\n",
       "    font-family: \"Menlo\", \"Monaco\", \"Consolas\", \"Ubuntu Mono\", \"Source Code Pro\", monospace;\n",
       "    font-size: 13px;\n",
       "    color: #555;\n",
       "    margin-left: 4px;\n",
       "    line-height: 19px;\n",
       "  }\n",
       "</style>\n",
       "<div class=\"ansiout\">res0: Boolean = true\n",
       "</div>"
      ]
     },
     "metadata": {
      "application/vnd.databricks.v1+output": {
       "addedWidgets": {},
       "arguments": {},
       "data": "<div class=\"ansiout\">res0: Boolean = true\n</div>",
       "datasetInfos": [],
       "metadata": {
        "isDbfsCommandResult": false
       },
       "removedWidgets": [],
       "type": "html"
      }
     },
     "output_type": "display_data"
    }
   ],
   "source": [
    "%fs rm -r dbfs:/user/hive/warehouse/gold.db/dim_calendar"
   ]
  },
  {
   "cell_type": "code",
   "execution_count": 0,
   "metadata": {
    "application/vnd.databricks.v1+cell": {
     "cellMetadata": {
      "byteLimit": 2048000,
      "rowLimit": 10000
     },
     "inputWidgets": {},
     "nuid": "c286be83-8515-4993-a138-3b0bcadf7a7d",
     "showTitle": false,
     "tableResultSettingsMap": {},
     "title": ""
    }
   },
   "outputs": [
    {
     "output_type": "display_data",
     "data": {
      "text/html": [
       "<style scoped>\n",
       "  .ansiout {\n",
       "    display: block;\n",
       "    unicode-bidi: embed;\n",
       "    white-space: pre-wrap;\n",
       "    word-wrap: break-word;\n",
       "    word-break: break-all;\n",
       "    font-family: \"Menlo\", \"Monaco\", \"Consolas\", \"Ubuntu Mono\", \"Source Code Pro\", monospace;\n",
       "    font-size: 13px;\n",
       "    color: #555;\n",
       "    margin-left: 4px;\n",
       "    line-height: 19px;\n",
       "  }\n",
       "</style>\n",
       "<div class=\"ansiout\">res1: Boolean = true\n",
       "</div>"
      ]
     },
     "metadata": {
      "application/vnd.databricks.v1+output": {
       "addedWidgets": {},
       "arguments": {},
       "data": "<div class=\"ansiout\">res1: Boolean = true\n</div>",
       "datasetInfos": [],
       "metadata": {
        "isDbfsCommandResult": false
       },
       "removedWidgets": [],
       "type": "html"
      }
     },
     "output_type": "display_data"
    }
   ],
   "source": [
    "\n",
    "%fs rm -r dbfs:/user/hive/warehouse/gold.db/dim_cod"
   ]
  },
  {
   "cell_type": "code",
   "execution_count": 0,
   "metadata": {
    "application/vnd.databricks.v1+cell": {
     "cellMetadata": {
      "byteLimit": 2048000,
      "rowLimit": 10000
     },
     "inputWidgets": {},
     "nuid": "89e543e0-cc2c-41b4-8e12-1c67838133c0",
     "showTitle": false,
     "tableResultSettingsMap": {},
     "title": ""
    }
   },
   "outputs": [
    {
     "output_type": "display_data",
     "data": {
      "text/html": [
       "<style scoped>\n",
       "  .ansiout {\n",
       "    display: block;\n",
       "    unicode-bidi: embed;\n",
       "    white-space: pre-wrap;\n",
       "    word-wrap: break-word;\n",
       "    word-break: break-all;\n",
       "    font-family: \"Menlo\", \"Monaco\", \"Consolas\", \"Ubuntu Mono\", \"Source Code Pro\", monospace;\n",
       "    font-size: 13px;\n",
       "    color: #555;\n",
       "    margin-left: 4px;\n",
       "    line-height: 19px;\n",
       "  }\n",
       "</style>\n",
       "<div class=\"ansiout\">res2: Boolean = true\n",
       "</div>"
      ]
     },
     "metadata": {
      "application/vnd.databricks.v1+output": {
       "addedWidgets": {},
       "arguments": {},
       "data": "<div class=\"ansiout\">res2: Boolean = true\n</div>",
       "datasetInfos": [],
       "metadata": {
        "isDbfsCommandResult": false
       },
       "removedWidgets": [],
       "type": "html"
      }
     },
     "output_type": "display_data"
    }
   ],
   "source": [
    "%fs rm -r dbfs:/user/hive/warehouse/gold.db/dim_course"
   ]
  },
  {
   "cell_type": "code",
   "execution_count": 0,
   "metadata": {
    "application/vnd.databricks.v1+cell": {
     "cellMetadata": {
      "byteLimit": 2048000,
      "rowLimit": 10000
     },
     "inputWidgets": {},
     "nuid": "21d87b95-15f2-4cc7-b9c4-66b3ba5433c0",
     "showTitle": false,
     "tableResultSettingsMap": {},
     "title": ""
    }
   },
   "outputs": [
    {
     "output_type": "display_data",
     "data": {
      "text/html": [
       "<style scoped>\n",
       "  .ansiout {\n",
       "    display: block;\n",
       "    unicode-bidi: embed;\n",
       "    white-space: pre-wrap;\n",
       "    word-wrap: break-word;\n",
       "    word-break: break-all;\n",
       "    font-family: \"Menlo\", \"Monaco\", \"Consolas\", \"Ubuntu Mono\", \"Source Code Pro\", monospace;\n",
       "    font-size: 13px;\n",
       "    color: #555;\n",
       "    margin-left: 4px;\n",
       "    line-height: 19px;\n",
       "  }\n",
       "</style>\n",
       "<div class=\"ansiout\">res3: Boolean = true\n",
       "</div>"
      ]
     },
     "metadata": {
      "application/vnd.databricks.v1+output": {
       "addedWidgets": {},
       "arguments": {},
       "data": "<div class=\"ansiout\">res3: Boolean = true\n</div>",
       "datasetInfos": [],
       "metadata": {
        "isDbfsCommandResult": false
       },
       "removedWidgets": [],
       "type": "html"
      }
     },
     "output_type": "display_data"
    }
   ],
   "source": [
    "%fs rm -r dbfs:/user/hive/warehouse/gold.db/dim_user"
   ]
  },
  {
   "cell_type": "code",
   "execution_count": 0,
   "metadata": {
    "application/vnd.databricks.v1+cell": {
     "cellMetadata": {
      "byteLimit": 2048000,
      "rowLimit": 10000
     },
     "inputWidgets": {},
     "nuid": "e5dfd8be-7dcf-4a62-b7a3-3ff46861293f",
     "showTitle": false,
     "tableResultSettingsMap": {},
     "title": ""
    }
   },
   "outputs": [
    {
     "output_type": "execute_result",
     "data": {
      "text/plain": [
       "DataFrame[]"
      ]
     },
     "execution_count": 10,
     "metadata": {},
     "output_type": "execute_result"
    }
   ],
   "source": [
    "spark.sql(\"\"\"\n",
    "    CREATE TABLE IF NOT EXISTS gold.dim_calendar(\n",
    "        sk_tempo BIGINT GENERATED ALWAYS AS IDENTITY,\n",
    "        date DATE,\n",
    "        year INT, \n",
    "        month STRING,\n",
    "        month_year INT,\n",
    "        day_week_int INT, \n",
    "        day_week STRING,\n",
    "        fl_day_week BOOLEAN,\n",
    "        day_month INT,\n",
    "        fl_last_month_day INT,\n",
    "        day_year INT,\n",
    "        week_year INT,\n",
    "        bimonthly INT,\n",
    "        quarter INT, \n",
    "        semester INT, \n",
    "        dt_load TIMESTAMP\n",
    "    )  \n",
    "\"\"\")\n",
    "\n",
    "spark.sql(\"\"\"\n",
    "    CREATE TABLE IF NOT EXISTS gold.dim_cod (\n",
    "        sk_cod BIGINT GENERATED ALWAYS AS IDENTITY,\n",
    "        user_origin STRING,\n",
    "        access_from STRING,\n",
    "        payment_method STRING,\n",
    "        percent_discount STRING,\n",
    "        dt_load TIMESTAMP\n",
    "    )  \n",
    "\"\"\")\n",
    "\n",
    "spark.sql(\"\"\"\n",
    "    CREATE TABLE IF NOT EXISTS gold.dim_course(\n",
    "        sk_course BIGINT GENERATED ALWAYS AS IDENTITY,\n",
    "        course_uuid STRING,\n",
    "        course_name STRING, \n",
    "        course_level STRING,\n",
    "        course_price DECIMAL(9,2),\n",
    "        dt_load TIMESTAMP\n",
    "    )          \n",
    "\"\"\")\n",
    "\n",
    "spark.sql(\"\"\"\n",
    "    CREATE TABLE IF NOT EXISTS gold.dim_user(\n",
    "    sk_user BIGINT GENERATED ALWAYS AS IDENTITY,\n",
    "    user_uuid STRING,\n",
    "    user_name STRING,\n",
    "    user_email STRING,\n",
    "    user_idade INT, \n",
    "    user_gender STRING,\n",
    "    user_state STRING,\n",
    "    user_profession STRING,\n",
    "    company STRING,\n",
    "    dt_load TIMESTAMP\n",
    "    )\n",
    "\"\"\")"
   ]
  },
  {
   "cell_type": "markdown",
   "metadata": {
    "application/vnd.databricks.v1+cell": {
     "cellMetadata": {},
     "inputWidgets": {},
     "nuid": "4a15c2fd-cc5d-4570-ab53-41e552ef64cf",
     "showTitle": false,
     "tableResultSettingsMap": {},
     "title": ""
    }
   },
   "source": [
    "### 3.2 `Calendar Dimension`  "
   ]
  },
  {
   "cell_type": "markdown",
   "metadata": {
    "application/vnd.databricks.v1+cell": {
     "cellMetadata": {},
     "inputWidgets": {},
     "nuid": "203a1c20-ea0b-4d19-91aa-02052f620db0",
     "showTitle": false,
     "tableResultSettingsMap": {},
     "title": ""
    }
   },
   "source": [
    "The view **`vw_dim_calendar`**:\n",
    "* Starts date : **01/06/2024** \n",
    "* End date: **31/12/2025**"
   ]
  },
  {
   "cell_type": "code",
   "execution_count": 0,
   "metadata": {
    "application/vnd.databricks.v1+cell": {
     "cellMetadata": {
      "byteLimit": 2048000,
      "rowLimit": 10000
     },
     "inputWidgets": {},
     "nuid": "f025b7ab-3dc9-442b-b865-ba83670b7aa8",
     "showTitle": false,
     "tableResultSettingsMap": {},
     "title": ""
    }
   },
   "outputs": [
    {
     "output_type": "display_data",
     "data": {
      "text/html": [
       "<style scoped>\n",
       "  .table-result-container {\n",
       "    max-height: 300px;\n",
       "    overflow: auto;\n",
       "  }\n",
       "  table, th, td {\n",
       "    border: 1px solid black;\n",
       "    border-collapse: collapse;\n",
       "  }\n",
       "  th, td {\n",
       "    padding: 5px;\n",
       "  }\n",
       "  th {\n",
       "    text-align: left;\n",
       "  }\n",
       "</style><div class='table-result-container'><table class='table-result'><thead style='background-color: white'><tr><th>date</th><th>year</th><th>month</th><th>month_year</th><th>day_week_int</th><th>day_week</th><th>fl_day_week</th><th>day_month</th><th>fl_last_month_day</th><th>day_year</th><th>week_year</th><th>bimonthly</th><th>quarter</th><th>semester</th></tr></thead><tbody><tr><td>2024-06-01</td><td>2024</td><td>June</td><td>6</td><td>7</td><td>Saturday</td><td>false</td><td>1</td><td>false</td><td>153</td><td>22</td><td>3</td><td>2</td><td>1</td></tr><tr><td>2024-06-02</td><td>2024</td><td>June</td><td>6</td><td>1</td><td>Sunday</td><td>false</td><td>2</td><td>false</td><td>154</td><td>22</td><td>3</td><td>2</td><td>1</td></tr><tr><td>2024-06-03</td><td>2024</td><td>June</td><td>6</td><td>2</td><td>Monday</td><td>true</td><td>3</td><td>false</td><td>155</td><td>23</td><td>3</td><td>2</td><td>1</td></tr></tbody></table></div>"
      ]
     },
     "metadata": {
      "application/vnd.databricks.v1+output": {
       "addedWidgets": {},
       "aggData": [],
       "aggError": "",
       "aggOverflow": false,
       "aggSchema": [],
       "aggSeriesLimitReached": false,
       "aggType": "",
       "arguments": {},
       "columnCustomDisplayInfos": {},
       "data": [
        [
         "2024-06-01",
         2024,
         "June",
         6,
         7,
         "Saturday",
         false,
         1,
         false,
         153,
         22,
         3,
         2,
         1
        ],
        [
         "2024-06-02",
         2024,
         "June",
         6,
         1,
         "Sunday",
         false,
         2,
         false,
         154,
         22,
         3,
         2,
         1
        ],
        [
         "2024-06-03",
         2024,
         "June",
         6,
         2,
         "Monday",
         true,
         3,
         false,
         155,
         23,
         3,
         2,
         1
        ]
       ],
       "datasetInfos": [],
       "dbfsResultPath": null,
       "isJsonSchema": true,
       "metadata": {},
       "overflow": false,
       "plotOptions": {
        "customPlotOptions": {},
        "displayType": "table",
        "pivotAggregation": null,
        "pivotColumns": null,
        "xColumns": null,
        "yColumns": null
       },
       "removedWidgets": [],
       "schema": [
        {
         "metadata": "{}",
         "name": "date",
         "type": "\"date\""
        },
        {
         "metadata": "{}",
         "name": "year",
         "type": "\"integer\""
        },
        {
         "metadata": "{}",
         "name": "month",
         "type": "\"string\""
        },
        {
         "metadata": "{}",
         "name": "month_year",
         "type": "\"integer\""
        },
        {
         "metadata": "{}",
         "name": "day_week_int",
         "type": "\"integer\""
        },
        {
         "metadata": "{}",
         "name": "day_week",
         "type": "\"string\""
        },
        {
         "metadata": "{}",
         "name": "fl_day_week",
         "type": "\"boolean\""
        },
        {
         "metadata": "{}",
         "name": "day_month",
         "type": "\"integer\""
        },
        {
         "metadata": "{}",
         "name": "fl_last_month_day",
         "type": "\"boolean\""
        },
        {
         "metadata": "{}",
         "name": "day_year",
         "type": "\"integer\""
        },
        {
         "metadata": "{}",
         "name": "week_year",
         "type": "\"integer\""
        },
        {
         "metadata": "{}",
         "name": "bimonthly",
         "type": "\"integer\""
        },
        {
         "metadata": "{}",
         "name": "quarter",
         "type": "\"integer\""
        },
        {
         "metadata": "{}",
         "name": "semester",
         "type": "\"integer\""
        }
       ],
       "type": "table"
      }
     },
     "output_type": "display_data"
    }
   ],
   "source": [
    "\n",
    "from pyspark.sql.functions import explode, sequence, to_date\n",
    "\n",
    "start_date = '2024-06-01'\n",
    "end_date = '2025-12-31'\n",
    "\n",
    "spark.sql(f\"\"\"         \n",
    "  with dates as (\n",
    "    select\n",
    "      explode(\n",
    "        sequence(\n",
    "          to_date('{start_date}'),\n",
    "          to_date('{end_date}'),\n",
    "          interval 1 day\n",
    "        )\n",
    "      ) as date\n",
    "  )\n",
    "  select\n",
    "    date,\n",
    "    year(date) AS year,\n",
    "    to_csv(\n",
    "      named_struct('date', date),\n",
    "      map('dateFormat', 'MMMM', 'locale', 'EN')\n",
    "    ) AS month,\n",
    "    month(date) as month_year,\n",
    "    dayofweek(date) AS day_week_int,\n",
    "    to_csv(\n",
    "      named_struct('date', date),\n",
    "      map('dateFormat', 'EEEE', 'locale', 'EN')\n",
    "    ) AS day_week,\n",
    "    case\n",
    "      when weekday(date) < 5 then True\n",
    "      else False\n",
    "    end as fl_day_week,\n",
    "    dayofmonth(date) as day_month,\n",
    "    case\n",
    "      when date = last_day(date) then True\n",
    "      else False\n",
    "    end as fl_last_month_day,\n",
    "    dayofyear(date) as day_year,\n",
    "    weekofyear(date) as week_year,\n",
    "    case\n",
    "      when month(date) in (1, 2) then 1\n",
    "      when month(date) in (3, 4) then 2\n",
    "      when month(date) in (5, 6) then 3\n",
    "      when month(date) in (7, 8) then 4\n",
    "      when month(date) in (9, 10) then 5\n",
    "      when month(date) in (11, 12) then 6\n",
    "    end as bimonthly,\n",
    "    case\n",
    "      when month(date) in (1, 2, 3) then 1\n",
    "      when month(date) in (4, 5, 6) then 2\n",
    "      when month(date) in (7, 8, 9) then 3\n",
    "      when month(date) in (10, 11, 12) then 4\n",
    "    end as quarter,\n",
    "    case\n",
    "      when month(date) in (1, 2, 3, 4, 5, 6) then 1\n",
    "      when month(date) in (7, 8, 9, 10, 11, 12) then 2\n",
    "    end as semester\n",
    "  from\n",
    "    dates\n",
    "\"\"\").createOrReplaceTempView('vw_dim_calendar')\n",
    "\n",
    "spark.sql('SELECT * FROM vw_dim_calendar LIMIT 3').display()"
   ]
  },
  {
   "cell_type": "markdown",
   "metadata": {
    "application/vnd.databricks.v1+cell": {
     "cellMetadata": {},
     "inputWidgets": {},
     "nuid": "e544026d-8db6-49d2-94e1-05df91001d4b",
     "showTitle": false,
     "tableResultSettingsMap": {},
     "title": ""
    }
   },
   "source": [
    "\n",
    "We will now use the **`Merge`** commando to load the `dim_calendar` data."
   ]
  },
  {
   "cell_type": "code",
   "execution_count": 0,
   "metadata": {
    "application/vnd.databricks.v1+cell": {
     "cellMetadata": {
      "byteLimit": 2048000,
      "rowLimit": 10000
     },
     "inputWidgets": {},
     "nuid": "e00abe91-9f51-4571-8648-edabb7f20d47",
     "showTitle": false,
     "tableResultSettingsMap": {},
     "title": ""
    }
   },
   "outputs": [
    {
     "output_type": "display_data",
     "data": {
      "text/html": [
       "<style scoped>\n",
       "  .table-result-container {\n",
       "    max-height: 300px;\n",
       "    overflow: auto;\n",
       "  }\n",
       "  table, th, td {\n",
       "    border: 1px solid black;\n",
       "    border-collapse: collapse;\n",
       "  }\n",
       "  th, td {\n",
       "    padding: 5px;\n",
       "  }\n",
       "  th {\n",
       "    text-align: left;\n",
       "  }\n",
       "</style><div class='table-result-container'><table class='table-result'><thead style='background-color: white'><tr><th>num_affected_rows</th><th>num_updated_rows</th><th>num_deleted_rows</th><th>num_inserted_rows</th></tr></thead><tbody><tr><td>579</td><td>0</td><td>0</td><td>579</td></tr></tbody></table></div>"
      ]
     },
     "metadata": {
      "application/vnd.databricks.v1+output": {
       "addedWidgets": {},
       "aggData": [],
       "aggError": "",
       "aggOverflow": false,
       "aggSchema": [],
       "aggSeriesLimitReached": false,
       "aggType": "",
       "arguments": {},
       "columnCustomDisplayInfos": {},
       "data": [
        [
         579,
         0,
         0,
         579
        ]
       ],
       "datasetInfos": [],
       "dbfsResultPath": null,
       "isJsonSchema": true,
       "metadata": {},
       "overflow": false,
       "plotOptions": {
        "customPlotOptions": {},
        "displayType": "table",
        "pivotAggregation": null,
        "pivotColumns": null,
        "xColumns": null,
        "yColumns": null
       },
       "removedWidgets": [],
       "schema": [
        {
         "metadata": "{}",
         "name": "num_affected_rows",
         "type": "\"long\""
        },
        {
         "metadata": "{}",
         "name": "num_updated_rows",
         "type": "\"long\""
        },
        {
         "metadata": "{}",
         "name": "num_deleted_rows",
         "type": "\"long\""
        },
        {
         "metadata": "{}",
         "name": "num_inserted_rows",
         "type": "\"long\""
        }
       ],
       "type": "table"
      }
     },
     "output_type": "display_data"
    },
    {
     "output_type": "display_data",
     "data": {
      "text/html": [
       "<style scoped>\n",
       "  .table-result-container {\n",
       "    max-height: 300px;\n",
       "    overflow: auto;\n",
       "  }\n",
       "  table, th, td {\n",
       "    border: 1px solid black;\n",
       "    border-collapse: collapse;\n",
       "  }\n",
       "  th, td {\n",
       "    padding: 5px;\n",
       "  }\n",
       "  th {\n",
       "    text-align: left;\n",
       "  }\n",
       "</style><div class='table-result-container'><table class='table-result'><thead style='background-color: white'><tr><th>sk_tempo</th><th>date</th><th>year</th><th>month</th><th>month_year</th><th>day_week_int</th><th>day_week</th><th>fl_day_week</th><th>day_month</th><th>fl_last_month_day</th><th>day_year</th><th>week_year</th><th>bimonthly</th><th>quarter</th><th>semester</th><th>dt_load</th></tr></thead><tbody><tr><td>1</td><td>2024-06-01</td><td>2024</td><td>June</td><td>6</td><td>7</td><td>Saturday</td><td>false</td><td>1</td><td>0</td><td>153</td><td>22</td><td>3</td><td>2</td><td>1</td><td>2024-11-29T14:09:25.107Z</td></tr><tr><td>2</td><td>2024-06-02</td><td>2024</td><td>June</td><td>6</td><td>1</td><td>Sunday</td><td>false</td><td>2</td><td>0</td><td>154</td><td>22</td><td>3</td><td>2</td><td>1</td><td>2024-11-29T14:09:25.107Z</td></tr><tr><td>3</td><td>2024-06-03</td><td>2024</td><td>June</td><td>6</td><td>2</td><td>Monday</td><td>true</td><td>3</td><td>0</td><td>155</td><td>23</td><td>3</td><td>2</td><td>1</td><td>2024-11-29T14:09:25.107Z</td></tr><tr><td>4</td><td>2024-06-04</td><td>2024</td><td>June</td><td>6</td><td>3</td><td>Tuesday</td><td>true</td><td>4</td><td>0</td><td>156</td><td>23</td><td>3</td><td>2</td><td>1</td><td>2024-11-29T14:09:25.107Z</td></tr><tr><td>5</td><td>2024-06-05</td><td>2024</td><td>June</td><td>6</td><td>4</td><td>Wednesday</td><td>true</td><td>5</td><td>0</td><td>157</td><td>23</td><td>3</td><td>2</td><td>1</td><td>2024-11-29T14:09:25.107Z</td></tr></tbody></table></div>"
      ]
     },
     "metadata": {
      "application/vnd.databricks.v1+output": {
       "addedWidgets": {},
       "aggData": [],
       "aggError": "",
       "aggOverflow": false,
       "aggSchema": [],
       "aggSeriesLimitReached": false,
       "aggType": "",
       "arguments": {},
       "columnCustomDisplayInfos": {},
       "data": [
        [
         1,
         "2024-06-01",
         2024,
         "June",
         6,
         7,
         "Saturday",
         false,
         1,
         0,
         153,
         22,
         3,
         2,
         1,
         "2024-11-29T14:09:25.107Z"
        ],
        [
         2,
         "2024-06-02",
         2024,
         "June",
         6,
         1,
         "Sunday",
         false,
         2,
         0,
         154,
         22,
         3,
         2,
         1,
         "2024-11-29T14:09:25.107Z"
        ],
        [
         3,
         "2024-06-03",
         2024,
         "June",
         6,
         2,
         "Monday",
         true,
         3,
         0,
         155,
         23,
         3,
         2,
         1,
         "2024-11-29T14:09:25.107Z"
        ],
        [
         4,
         "2024-06-04",
         2024,
         "June",
         6,
         3,
         "Tuesday",
         true,
         4,
         0,
         156,
         23,
         3,
         2,
         1,
         "2024-11-29T14:09:25.107Z"
        ],
        [
         5,
         "2024-06-05",
         2024,
         "June",
         6,
         4,
         "Wednesday",
         true,
         5,
         0,
         157,
         23,
         3,
         2,
         1,
         "2024-11-29T14:09:25.107Z"
        ]
       ],
       "datasetInfos": [],
       "dbfsResultPath": null,
       "isJsonSchema": true,
       "metadata": {},
       "overflow": false,
       "plotOptions": {
        "customPlotOptions": {},
        "displayType": "table",
        "pivotAggregation": null,
        "pivotColumns": null,
        "xColumns": null,
        "yColumns": null
       },
       "removedWidgets": [],
       "schema": [
        {
         "metadata": "{}",
         "name": "sk_tempo",
         "type": "\"long\""
        },
        {
         "metadata": "{}",
         "name": "date",
         "type": "\"date\""
        },
        {
         "metadata": "{}",
         "name": "year",
         "type": "\"integer\""
        },
        {
         "metadata": "{}",
         "name": "month",
         "type": "\"string\""
        },
        {
         "metadata": "{}",
         "name": "month_year",
         "type": "\"integer\""
        },
        {
         "metadata": "{}",
         "name": "day_week_int",
         "type": "\"integer\""
        },
        {
         "metadata": "{}",
         "name": "day_week",
         "type": "\"string\""
        },
        {
         "metadata": "{}",
         "name": "fl_day_week",
         "type": "\"boolean\""
        },
        {
         "metadata": "{}",
         "name": "day_month",
         "type": "\"integer\""
        },
        {
         "metadata": "{}",
         "name": "fl_last_month_day",
         "type": "\"integer\""
        },
        {
         "metadata": "{}",
         "name": "day_year",
         "type": "\"integer\""
        },
        {
         "metadata": "{}",
         "name": "week_year",
         "type": "\"integer\""
        },
        {
         "metadata": "{}",
         "name": "bimonthly",
         "type": "\"integer\""
        },
        {
         "metadata": "{}",
         "name": "quarter",
         "type": "\"integer\""
        },
        {
         "metadata": "{}",
         "name": "semester",
         "type": "\"integer\""
        },
        {
         "metadata": "{}",
         "name": "dt_load",
         "type": "\"timestamp\""
        }
       ],
       "type": "table"
      }
     },
     "output_type": "display_data"
    }
   ],
   "source": [
    "spark.sql(\"\"\"\n",
    "    MERGE INTO gold.dim_calendar as dest\n",
    "    USING vw_dim_calendar AS orig\n",
    "        ON dest.date = orig.date\n",
    "    WHEN NOT MATCHED    \n",
    "        THEN INSERT(\n",
    "            date,year,month,month_year,day_week_int,day_week,fl_day_week,day_month,fl_last_month_day,day_year,week_year,bimonthly,quarter,semester,dt_load\n",
    "            )\n",
    "        VALUES(\n",
    "            date,year,month,month_year,day_week_int,day_week,fl_day_week,day_month,fl_last_month_day,day_year,week_year,bimonthly,quarter,semester,getdate()\n",
    "        )\n",
    "    \"\"\").display()\n",
    "\n",
    "\n",
    "spark.sql(\"SELECT * FROM gold.dim_calendar LIMIT 5\").display()"
   ]
  },
  {
   "cell_type": "markdown",
   "metadata": {
    "application/vnd.databricks.v1+cell": {
     "cellMetadata": {},
     "inputWidgets": {},
     "nuid": "c2b85c2a-0f7b-44ec-8436-f7790267e4da",
     "showTitle": false,
     "tableResultSettingsMap": {},
     "title": ""
    }
   },
   "source": [
    "## 3.3 Junk Dimension\n",
    "We will first create a **`vw_dim_cod`** view that will be responsible for creating a **cartesian product between some of low cardinality codes***. \n",
    "\n",
    "We will use this method in order to avoid building low dimensions with few registers.\n"
   ]
  },
  {
   "cell_type": "code",
   "execution_count": 0,
   "metadata": {
    "application/vnd.databricks.v1+cell": {
     "cellMetadata": {
      "byteLimit": 2048000,
      "rowLimit": 10000
     },
     "inputWidgets": {},
     "nuid": "756495e4-8560-4216-abc6-27bd8849d9b7",
     "showTitle": false,
     "tableResultSettingsMap": {},
     "title": ""
    }
   },
   "outputs": [
    {
     "output_type": "display_data",
     "data": {
      "text/html": [
       "<style scoped>\n",
       "  .table-result-container {\n",
       "    max-height: 300px;\n",
       "    overflow: auto;\n",
       "  }\n",
       "  table, th, td {\n",
       "    border: 1px solid black;\n",
       "    border-collapse: collapse;\n",
       "  }\n",
       "  th, td {\n",
       "    padding: 5px;\n",
       "  }\n",
       "  th {\n",
       "    text-align: left;\n",
       "  }\n",
       "</style><div class='table-result-container'><table class='table-result'><thead style='background-color: white'><tr><th>user_origin</th><th>local_access</th><th>payment_method</th><th>percent_discount</th></tr></thead><tbody><tr><td>API</td><td>Computer</td><td>boleto</td><td>5%</td></tr><tr><td>API</td><td>Computer</td><td>boleto</td><td>do not apply</td></tr><tr><td>API</td><td>Computer</td><td>credito</td><td>10%</td></tr><tr><td>API</td><td>Computer</td><td>credito</td><td>15%</td></tr><tr><td>API</td><td>Computer</td><td>credito</td><td>5%</td></tr></tbody></table></div>"
      ]
     },
     "metadata": {
      "application/vnd.databricks.v1+output": {
       "addedWidgets": {},
       "aggData": [],
       "aggError": "",
       "aggOverflow": false,
       "aggSchema": [],
       "aggSeriesLimitReached": false,
       "aggType": "",
       "arguments": {},
       "columnCustomDisplayInfos": {},
       "data": [
        [
         "API",
         "Computer",
         "boleto",
         "5%"
        ],
        [
         "API",
         "Computer",
         "boleto",
         "do not apply"
        ],
        [
         "API",
         "Computer",
         "credito",
         "10%"
        ],
        [
         "API",
         "Computer",
         "credito",
         "15%"
        ],
        [
         "API",
         "Computer",
         "credito",
         "5%"
        ]
       ],
       "datasetInfos": [],
       "dbfsResultPath": null,
       "isJsonSchema": true,
       "metadata": {},
       "overflow": false,
       "plotOptions": {
        "customPlotOptions": {},
        "displayType": "table",
        "pivotAggregation": null,
        "pivotColumns": null,
        "xColumns": null,
        "yColumns": null
       },
       "removedWidgets": [],
       "schema": [
        {
         "metadata": "{}",
         "name": "user_origin",
         "type": "\"string\""
        },
        {
         "metadata": "{}",
         "name": "local_access",
         "type": "\"string\""
        },
        {
         "metadata": "{}",
         "name": "payment_method",
         "type": "\"string\""
        },
        {
         "metadata": "{}",
         "name": "percent_discount",
         "type": "\"string\""
        }
       ],
       "type": "table"
      }
     },
     "output_type": "display_data"
    }
   ],
   "source": [
    "spark.sql( \"\"\"\n",
    "    SELECT DISTINCT \n",
    "    s.origin user_origin ,\n",
    "    CASE WHEN s.origin = 'File' then \"do not apply\" ELSE a.local_access end as local_access,\n",
    "    s.payment_method,\n",
    "    coalesce(s.percent_discount, 'do not apply' ) as percent_discount\n",
    "    from silver.tb_sales as s\n",
    "    cross join silver.tb_access as a \n",
    "    order BY user_origin,local_access, payment_method, percent_discount      \n",
    "\"\"\").createOrReplaceTempView(\"vw_dim_cod\")\n",
    "\n",
    "spark.sql(\"select * from vw_dim_cod limit 5\").display()"
   ]
  },
  {
   "cell_type": "code",
   "execution_count": 0,
   "metadata": {
    "application/vnd.databricks.v1+cell": {
     "cellMetadata": {
      "byteLimit": 2048000,
      "rowLimit": 10000
     },
     "inputWidgets": {},
     "nuid": "1da1676d-cc6d-472e-90e2-042a4a0cbfbf",
     "showTitle": false,
     "tableResultSettingsMap": {},
     "title": ""
    }
   },
   "outputs": [
    {
     "output_type": "display_data",
     "data": {
      "text/html": [
       "<style scoped>\n",
       "  .table-result-container {\n",
       "    max-height: 300px;\n",
       "    overflow: auto;\n",
       "  }\n",
       "  table, th, td {\n",
       "    border: 1px solid black;\n",
       "    border-collapse: collapse;\n",
       "  }\n",
       "  th, td {\n",
       "    padding: 5px;\n",
       "  }\n",
       "  th {\n",
       "    text-align: left;\n",
       "  }\n",
       "</style><div class='table-result-container'><table class='table-result'><thead style='background-color: white'><tr><th>num_affected_rows</th><th>num_updated_rows</th><th>num_deleted_rows</th><th>num_inserted_rows</th></tr></thead><tbody><tr><td>22</td><td>0</td><td>0</td><td>22</td></tr></tbody></table></div>"
      ]
     },
     "metadata": {
      "application/vnd.databricks.v1+output": {
       "addedWidgets": {},
       "aggData": [],
       "aggError": "",
       "aggOverflow": false,
       "aggSchema": [],
       "aggSeriesLimitReached": false,
       "aggType": "",
       "arguments": {},
       "columnCustomDisplayInfos": {},
       "data": [
        [
         22,
         0,
         0,
         22
        ]
       ],
       "datasetInfos": [],
       "dbfsResultPath": null,
       "isJsonSchema": true,
       "metadata": {},
       "overflow": false,
       "plotOptions": {
        "customPlotOptions": {},
        "displayType": "table",
        "pivotAggregation": null,
        "pivotColumns": null,
        "xColumns": null,
        "yColumns": null
       },
       "removedWidgets": [],
       "schema": [
        {
         "metadata": "{}",
         "name": "num_affected_rows",
         "type": "\"long\""
        },
        {
         "metadata": "{}",
         "name": "num_updated_rows",
         "type": "\"long\""
        },
        {
         "metadata": "{}",
         "name": "num_deleted_rows",
         "type": "\"long\""
        },
        {
         "metadata": "{}",
         "name": "num_inserted_rows",
         "type": "\"long\""
        }
       ],
       "type": "table"
      }
     },
     "output_type": "display_data"
    },
    {
     "output_type": "display_data",
     "data": {
      "text/html": [
       "<style scoped>\n",
       "  .table-result-container {\n",
       "    max-height: 300px;\n",
       "    overflow: auto;\n",
       "  }\n",
       "  table, th, td {\n",
       "    border: 1px solid black;\n",
       "    border-collapse: collapse;\n",
       "  }\n",
       "  th, td {\n",
       "    padding: 5px;\n",
       "  }\n",
       "  th {\n",
       "    text-align: left;\n",
       "  }\n",
       "</style><div class='table-result-container'><table class='table-result'><thead style='background-color: white'><tr><th>sk_cod</th><th>user_origin</th><th>access_from</th><th>payment_method</th><th>percent_discount</th><th>dt_load</th></tr></thead><tbody><tr><td>1</td><td>API</td><td>Computer</td><td>boleto</td><td>5%</td><td>2024-11-29T14:09:59.493Z</td></tr><tr><td>2</td><td>API</td><td>Computer</td><td>boleto</td><td>do not apply</td><td>2024-11-29T14:09:59.493Z</td></tr><tr><td>3</td><td>API</td><td>Computer</td><td>credito</td><td>10%</td><td>2024-11-29T14:09:59.493Z</td></tr><tr><td>4</td><td>API</td><td>Computer</td><td>credito</td><td>15%</td><td>2024-11-29T14:09:59.493Z</td></tr><tr><td>5</td><td>API</td><td>Computer</td><td>credito</td><td>5%</td><td>2024-11-29T14:09:59.493Z</td></tr></tbody></table></div>"
      ]
     },
     "metadata": {
      "application/vnd.databricks.v1+output": {
       "addedWidgets": {},
       "aggData": [],
       "aggError": "",
       "aggOverflow": false,
       "aggSchema": [],
       "aggSeriesLimitReached": false,
       "aggType": "",
       "arguments": {},
       "columnCustomDisplayInfos": {},
       "data": [
        [
         1,
         "API",
         "Computer",
         "boleto",
         "5%",
         "2024-11-29T14:09:59.493Z"
        ],
        [
         2,
         "API",
         "Computer",
         "boleto",
         "do not apply",
         "2024-11-29T14:09:59.493Z"
        ],
        [
         3,
         "API",
         "Computer",
         "credito",
         "10%",
         "2024-11-29T14:09:59.493Z"
        ],
        [
         4,
         "API",
         "Computer",
         "credito",
         "15%",
         "2024-11-29T14:09:59.493Z"
        ],
        [
         5,
         "API",
         "Computer",
         "credito",
         "5%",
         "2024-11-29T14:09:59.493Z"
        ]
       ],
       "datasetInfos": [],
       "dbfsResultPath": null,
       "isJsonSchema": true,
       "metadata": {},
       "overflow": false,
       "plotOptions": {
        "customPlotOptions": {},
        "displayType": "table",
        "pivotAggregation": null,
        "pivotColumns": null,
        "xColumns": null,
        "yColumns": null
       },
       "removedWidgets": [],
       "schema": [
        {
         "metadata": "{}",
         "name": "sk_cod",
         "type": "\"long\""
        },
        {
         "metadata": "{}",
         "name": "user_origin",
         "type": "\"string\""
        },
        {
         "metadata": "{}",
         "name": "access_from",
         "type": "\"string\""
        },
        {
         "metadata": "{}",
         "name": "payment_method",
         "type": "\"string\""
        },
        {
         "metadata": "{}",
         "name": "percent_discount",
         "type": "\"string\""
        },
        {
         "metadata": "{}",
         "name": "dt_load",
         "type": "\"timestamp\""
        }
       ],
       "type": "table"
      }
     },
     "output_type": "display_data"
    }
   ],
   "source": [
    "spark.sql(\"\"\"\n",
    "    MERGE INTO gold.dim_cod as dest\n",
    "    using vw_dim_cod as orig\n",
    "    on dest.user_origin = orig.user_origin\n",
    "        and dest.payment_method = orig.payment_method\n",
    "        and dest.access_from = orig.local_access\n",
    "        and dest.percent_discount = orig.percent_discount\n",
    "\n",
    "    when not matched \n",
    "        then INSERT (\n",
    "            user_origin,\n",
    "            access_from,\n",
    "            payment_method,\n",
    "            percent_discount,\n",
    "           dt_load\n",
    "        )\n",
    "        values(\n",
    "            user_origin,\n",
    "            local_access,\n",
    "            payment_method,\n",
    "            percent_discount,\n",
    "           getdate()\n",
    "        )       \n",
    "\"\"\").display()\n",
    "\n",
    "spark.sql(\"SELECT * FROM gold.dim_cod LIMIT 5\").display()"
   ]
  },
  {
   "cell_type": "markdown",
   "metadata": {
    "application/vnd.databricks.v1+cell": {
     "cellMetadata": {},
     "inputWidgets": {},
     "nuid": "75d1554d-64f2-4f65-aeaf-d271b4c36a6b",
     "showTitle": false,
     "tableResultSettingsMap": {},
     "title": ""
    }
   },
   "source": []
  },
  {
   "cell_type": "markdown",
   "metadata": {
    "application/vnd.databricks.v1+cell": {
     "cellMetadata": {},
     "inputWidgets": {},
     "nuid": "8912832b-5a00-4217-9cb6-2c45a58d6362",
     "showTitle": false,
     "tableResultSettingsMap": {},
     "title": ""
    }
   },
   "source": [
    "## 3.4 User Dimension"
   ]
  },
  {
   "cell_type": "code",
   "execution_count": 0,
   "metadata": {
    "application/vnd.databricks.v1+cell": {
     "cellMetadata": {
      "byteLimit": 2048000,
      "rowLimit": 10000
     },
     "inputWidgets": {},
     "nuid": "bb5375b3-4d07-4621-a87d-41d005dbdb2b",
     "showTitle": false,
     "tableResultSettingsMap": {},
     "title": ""
    }
   },
   "outputs": [
    {
     "output_type": "display_data",
     "data": {
      "text/html": [
       "<style scoped>\n",
       "  .table-result-container {\n",
       "    max-height: 300px;\n",
       "    overflow: auto;\n",
       "  }\n",
       "  table, th, td {\n",
       "    border: 1px solid black;\n",
       "    border-collapse: collapse;\n",
       "  }\n",
       "  th, td {\n",
       "    padding: 5px;\n",
       "  }\n",
       "  th {\n",
       "    text-align: left;\n",
       "  }\n",
       "</style><div class='table-result-container'><table class='table-result'><thead style='background-color: white'><tr><th>num_affected_rows</th><th>num_updated_rows</th><th>num_deleted_rows</th><th>num_inserted_rows</th></tr></thead><tbody><tr><td>207001</td><td>0</td><td>0</td><td>207001</td></tr></tbody></table></div>"
      ]
     },
     "metadata": {
      "application/vnd.databricks.v1+output": {
       "addedWidgets": {},
       "aggData": [],
       "aggError": "",
       "aggOverflow": false,
       "aggSchema": [],
       "aggSeriesLimitReached": false,
       "aggType": "",
       "arguments": {},
       "columnCustomDisplayInfos": {},
       "data": [
        [
         207001,
         0,
         0,
         207001
        ]
       ],
       "datasetInfos": [],
       "dbfsResultPath": null,
       "isJsonSchema": true,
       "metadata": {},
       "overflow": false,
       "plotOptions": {
        "customPlotOptions": {},
        "displayType": "table",
        "pivotAggregation": null,
        "pivotColumns": null,
        "xColumns": null,
        "yColumns": null
       },
       "removedWidgets": [],
       "schema": [
        {
         "metadata": "{}",
         "name": "num_affected_rows",
         "type": "\"long\""
        },
        {
         "metadata": "{}",
         "name": "num_updated_rows",
         "type": "\"long\""
        },
        {
         "metadata": "{}",
         "name": "num_deleted_rows",
         "type": "\"long\""
        },
        {
         "metadata": "{}",
         "name": "num_inserted_rows",
         "type": "\"long\""
        }
       ],
       "type": "table"
      }
     },
     "output_type": "display_data"
    },
    {
     "output_type": "display_data",
     "data": {
      "text/html": [
       "<style scoped>\n",
       "  .table-result-container {\n",
       "    max-height: 300px;\n",
       "    overflow: auto;\n",
       "  }\n",
       "  table, th, td {\n",
       "    border: 1px solid black;\n",
       "    border-collapse: collapse;\n",
       "  }\n",
       "  th, td {\n",
       "    padding: 5px;\n",
       "  }\n",
       "  th {\n",
       "    text-align: left;\n",
       "  }\n",
       "</style><div class='table-result-container'><table class='table-result'><thead style='background-color: white'><tr><th>sk_user</th><th>user_uuid</th><th>user_name</th><th>user_email</th><th>user_idade</th><th>user_gender</th><th>user_state</th><th>user_profession</th><th>company</th><th>dt_load</th></tr></thead><tbody><tr><td>1</td><td>b743fc5f984f623958d0ea0bc0edafef</td><td>Usuario 15ce4bb4b2</td><td>usuario_15ce4bb4b2@uol.com</td><td>21</td><td>F</td><td>MS</td><td>Cientista de Dados</td><td>null</td><td>2024-11-29T14:10:17.258Z</td></tr><tr><td>8</td><td>9e26cd7d73ab748a2e84d60f63e37d1e</td><td>Usuario f9db37a838</td><td>usuario_f9db37a838@gmail.com</td><td>37</td><td>M</td><td>PE</td><td>Arquiteto de Dados</td><td>null</td><td>2024-11-29T14:10:17.258Z</td></tr><tr><td>15</td><td>b4087b3b31810e76478bf36d15a5a004</td><td>Usuario 3c3d30dcfd</td><td>usuario_3c3d30dcfd@uol.com</td><td>41</td><td>M</td><td>PR</td><td>Desenvolvedor de Sistemas</td><td>null</td><td>2024-11-29T14:10:17.258Z</td></tr><tr><td>22</td><td>6b6f45a7ba1a53661b2ec7344d9e7e60</td><td>Usuario 412bbf0591</td><td>usuario_412bbf0591@outlook.com</td><td>23</td><td>F</td><td>SE</td><td>Desenvolvedor de ETL</td><td>null</td><td>2024-11-29T14:10:17.258Z</td></tr><tr><td>29</td><td>6505bcb29d968af8150ddd9082899312</td><td>Usuario 1dadb89898</td><td>usuario_1dadb89898@gmail.com</td><td>20</td><td>F</td><td>RR</td><td>Desenvolvedor de ETL</td><td>null</td><td>2024-11-29T14:10:17.258Z</td></tr></tbody></table></div>"
      ]
     },
     "metadata": {
      "application/vnd.databricks.v1+output": {
       "addedWidgets": {},
       "aggData": [],
       "aggError": "",
       "aggOverflow": false,
       "aggSchema": [],
       "aggSeriesLimitReached": false,
       "aggType": "",
       "arguments": {},
       "columnCustomDisplayInfos": {},
       "data": [
        [
         1,
         "b743fc5f984f623958d0ea0bc0edafef",
         "Usuario 15ce4bb4b2",
         "usuario_15ce4bb4b2@uol.com",
         21,
         "F",
         "MS",
         "Cientista de Dados",
         null,
         "2024-11-29T14:10:17.258Z"
        ],
        [
         8,
         "9e26cd7d73ab748a2e84d60f63e37d1e",
         "Usuario f9db37a838",
         "usuario_f9db37a838@gmail.com",
         37,
         "M",
         "PE",
         "Arquiteto de Dados",
         null,
         "2024-11-29T14:10:17.258Z"
        ],
        [
         15,
         "b4087b3b31810e76478bf36d15a5a004",
         "Usuario 3c3d30dcfd",
         "usuario_3c3d30dcfd@uol.com",
         41,
         "M",
         "PR",
         "Desenvolvedor de Sistemas",
         null,
         "2024-11-29T14:10:17.258Z"
        ],
        [
         22,
         "6b6f45a7ba1a53661b2ec7344d9e7e60",
         "Usuario 412bbf0591",
         "usuario_412bbf0591@outlook.com",
         23,
         "F",
         "SE",
         "Desenvolvedor de ETL",
         null,
         "2024-11-29T14:10:17.258Z"
        ],
        [
         29,
         "6505bcb29d968af8150ddd9082899312",
         "Usuario 1dadb89898",
         "usuario_1dadb89898@gmail.com",
         20,
         "F",
         "RR",
         "Desenvolvedor de ETL",
         null,
         "2024-11-29T14:10:17.258Z"
        ]
       ],
       "datasetInfos": [],
       "dbfsResultPath": null,
       "isJsonSchema": true,
       "metadata": {},
       "overflow": false,
       "plotOptions": {
        "customPlotOptions": {},
        "displayType": "table",
        "pivotAggregation": null,
        "pivotColumns": null,
        "xColumns": null,
        "yColumns": null
       },
       "removedWidgets": [],
       "schema": [
        {
         "metadata": "{}",
         "name": "sk_user",
         "type": "\"long\""
        },
        {
         "metadata": "{}",
         "name": "user_uuid",
         "type": "\"string\""
        },
        {
         "metadata": "{}",
         "name": "user_name",
         "type": "\"string\""
        },
        {
         "metadata": "{}",
         "name": "user_email",
         "type": "\"string\""
        },
        {
         "metadata": "{}",
         "name": "user_idade",
         "type": "\"integer\""
        },
        {
         "metadata": "{}",
         "name": "user_gender",
         "type": "\"string\""
        },
        {
         "metadata": "{}",
         "name": "user_state",
         "type": "\"string\""
        },
        {
         "metadata": "{}",
         "name": "user_profession",
         "type": "\"string\""
        },
        {
         "metadata": "{}",
         "name": "company",
         "type": "\"string\""
        },
        {
         "metadata": "{}",
         "name": "dt_load",
         "type": "\"timestamp\""
        }
       ],
       "type": "table"
      }
     },
     "output_type": "display_data"
    }
   ],
   "source": [
    "spark.sql(\"\"\"\n",
    "      MERGE INTO gold.dim_user as dest \n",
    "      using silver.tb_users as orig\n",
    "        on dest.user_uuid = orig.user_uuid\n",
    "    when matched\n",
    "        and dest.user_email != orig.user_email\n",
    "        or dest.user_idade!= orig.user_idade\n",
    "        or dest.user_state != orig.user_state\n",
    "        or dest.user_profession != orig.user_profession\n",
    "        or dest.company != orig.company\n",
    "        THEN UPDATE \n",
    "            SET dest.user_email = orig.user_email\n",
    "                ,dest.user_idade = orig.user_idade \n",
    "                ,dest.user_state = orig.user_state\n",
    "                ,dest.user_profession = orig.user_profession\n",
    "                ,dest.company  = orig.company\n",
    "          \n",
    "         when not MATCHED\n",
    "            then insert (\n",
    "        user_uuid, \n",
    "        user_name, \n",
    "        user_email, \n",
    "        user_idade, \n",
    "        user_gender,\n",
    "        user_state, \n",
    "        user_profession, \n",
    "        company, \n",
    "        dt_load\n",
    "            )\n",
    "    VALUES (\n",
    "        user_uuid, \n",
    "        user_name, \n",
    "        user_email, \n",
    "        user_idade, \n",
    "        user_gender,\n",
    "        user_state, \n",
    "        user_profession, \n",
    "        company, \n",
    "        getdate()\n",
    "\n",
    "            )   \n",
    "\"\"\").display()\n",
    "\n",
    "spark.sql(\"SELECT * FROM gold.dim_user LIMIT 5\").display()"
   ]
  },
  {
   "cell_type": "markdown",
   "metadata": {
    "application/vnd.databricks.v1+cell": {
     "cellMetadata": {},
     "inputWidgets": {},
     "nuid": "a4b1c139-f940-49cd-8cc4-c4b7e6d7fe3a",
     "showTitle": false,
     "tableResultSettingsMap": {},
     "title": ""
    }
   },
   "source": [
    "## 3.5 Courses Dimension"
   ]
  },
  {
   "cell_type": "markdown",
   "metadata": {
    "application/vnd.databricks.v1+cell": {
     "cellMetadata": {},
     "inputWidgets": {},
     "nuid": "dc6505de-e578-4fce-acd7-3dccc364f06a",
     "showTitle": false,
     "tableResultSettingsMap": {},
     "title": ""
    }
   },
   "source": [
    "We will load the **`dim_course`** with  **`MERGE`**  command\n",
    "* Source: **`silver.tb_curso`**. table\n"
   ]
  },
  {
   "cell_type": "code",
   "execution_count": 0,
   "metadata": {
    "application/vnd.databricks.v1+cell": {
     "cellMetadata": {
      "byteLimit": 2048000,
      "rowLimit": 10000
     },
     "inputWidgets": {},
     "nuid": "e024b89a-8bb8-4ead-9cb8-a2e9be959075",
     "showTitle": false,
     "tableResultSettingsMap": {},
     "title": ""
    }
   },
   "outputs": [
    {
     "output_type": "display_data",
     "data": {
      "text/html": [
       "<style scoped>\n",
       "  .table-result-container {\n",
       "    max-height: 300px;\n",
       "    overflow: auto;\n",
       "  }\n",
       "  table, th, td {\n",
       "    border: 1px solid black;\n",
       "    border-collapse: collapse;\n",
       "  }\n",
       "  th, td {\n",
       "    padding: 5px;\n",
       "  }\n",
       "  th {\n",
       "    text-align: left;\n",
       "  }\n",
       "</style><div class='table-result-container'><table class='table-result'><thead style='background-color: white'><tr><th>num_affected_rows</th><th>num_updated_rows</th><th>num_deleted_rows</th><th>num_inserted_rows</th></tr></thead><tbody><tr><td>3</td><td>0</td><td>0</td><td>3</td></tr></tbody></table></div>"
      ]
     },
     "metadata": {
      "application/vnd.databricks.v1+output": {
       "addedWidgets": {},
       "aggData": [],
       "aggError": "",
       "aggOverflow": false,
       "aggSchema": [],
       "aggSeriesLimitReached": false,
       "aggType": "",
       "arguments": {},
       "columnCustomDisplayInfos": {},
       "data": [
        [
         3,
         0,
         0,
         3
        ]
       ],
       "datasetInfos": [],
       "dbfsResultPath": null,
       "isJsonSchema": true,
       "metadata": {},
       "overflow": false,
       "plotOptions": {
        "customPlotOptions": {},
        "displayType": "table",
        "pivotAggregation": null,
        "pivotColumns": null,
        "xColumns": null,
        "yColumns": null
       },
       "removedWidgets": [],
       "schema": [
        {
         "metadata": "{}",
         "name": "num_affected_rows",
         "type": "\"long\""
        },
        {
         "metadata": "{}",
         "name": "num_updated_rows",
         "type": "\"long\""
        },
        {
         "metadata": "{}",
         "name": "num_deleted_rows",
         "type": "\"long\""
        },
        {
         "metadata": "{}",
         "name": "num_inserted_rows",
         "type": "\"long\""
        }
       ],
       "type": "table"
      }
     },
     "output_type": "display_data"
    },
    {
     "output_type": "display_data",
     "data": {
      "text/html": [
       "<style scoped>\n",
       "  .table-result-container {\n",
       "    max-height: 300px;\n",
       "    overflow: auto;\n",
       "  }\n",
       "  table, th, td {\n",
       "    border: 1px solid black;\n",
       "    border-collapse: collapse;\n",
       "  }\n",
       "  th, td {\n",
       "    padding: 5px;\n",
       "  }\n",
       "  th {\n",
       "    text-align: left;\n",
       "  }\n",
       "</style><div class='table-result-container'><table class='table-result'><thead style='background-color: white'><tr><th>sk_course</th><th>course_uuid</th><th>course_name</th><th>course_level</th><th>course_price</th><th>dt_load</th></tr></thead><tbody><tr><td>4</td><td>f260cd97c6c9813b01601e834a2added</td><td>Construindo o seu Primeiro Pipeline de Dados com o Databricks</td><td>beginner</td><td>589.90</td><td>2024-11-29T15:54:40.921Z</td></tr><tr><td>5</td><td>34bdd77f6954552d11c4f5547cb41458</td><td>Do Primeiro Pipeline ao Data Lakehouse com o Databricks</td><td>intermediate</td><td>659.90</td><td>2024-11-29T15:54:40.921Z</td></tr><tr><td>6</td><td>c2d6bcbc3e46555bb1e7e9afbc24d3af</td><td>Construindo Pipelines de Dados usando o Spark Structured Streaming</td><td>advanced</td><td>549.90</td><td>2024-11-29T15:54:40.921Z</td></tr><tr><td>1</td><td>fb95df132ca7f41d392bc98ccf0cfeb8</td><td>Data Pipeline with Databricks</td><td>beginner</td><td>589.90</td><td>2024-11-29T14:10:41.508Z</td></tr><tr><td>2</td><td>bda125b01c9596e123e5f9b3bf00f3a8</td><td>From your first data pipeline to a Data Lakehouse with Databricks</td><td>intermediate</td><td>659.90</td><td>2024-11-29T14:10:41.508Z</td></tr></tbody></table></div>"
      ]
     },
     "metadata": {
      "application/vnd.databricks.v1+output": {
       "addedWidgets": {},
       "aggData": [],
       "aggError": "",
       "aggOverflow": false,
       "aggSchema": [],
       "aggSeriesLimitReached": false,
       "aggType": "",
       "arguments": {},
       "columnCustomDisplayInfos": {},
       "data": [
        [
         4,
         "f260cd97c6c9813b01601e834a2added",
         "Construindo o seu Primeiro Pipeline de Dados com o Databricks",
         "beginner",
         "589.90",
         "2024-11-29T15:54:40.921Z"
        ],
        [
         5,
         "34bdd77f6954552d11c4f5547cb41458",
         "Do Primeiro Pipeline ao Data Lakehouse com o Databricks",
         "intermediate",
         "659.90",
         "2024-11-29T15:54:40.921Z"
        ],
        [
         6,
         "c2d6bcbc3e46555bb1e7e9afbc24d3af",
         "Construindo Pipelines de Dados usando o Spark Structured Streaming",
         "advanced",
         "549.90",
         "2024-11-29T15:54:40.921Z"
        ],
        [
         1,
         "fb95df132ca7f41d392bc98ccf0cfeb8",
         "Data Pipeline with Databricks",
         "beginner",
         "589.90",
         "2024-11-29T14:10:41.508Z"
        ],
        [
         2,
         "bda125b01c9596e123e5f9b3bf00f3a8",
         "From your first data pipeline to a Data Lakehouse with Databricks",
         "intermediate",
         "659.90",
         "2024-11-29T14:10:41.508Z"
        ]
       ],
       "datasetInfos": [],
       "dbfsResultPath": null,
       "isJsonSchema": true,
       "metadata": {},
       "overflow": false,
       "plotOptions": {
        "customPlotOptions": {},
        "displayType": "table",
        "pivotAggregation": null,
        "pivotColumns": null,
        "xColumns": null,
        "yColumns": null
       },
       "removedWidgets": [],
       "schema": [
        {
         "metadata": "{}",
         "name": "sk_course",
         "type": "\"long\""
        },
        {
         "metadata": "{}",
         "name": "course_uuid",
         "type": "\"string\""
        },
        {
         "metadata": "{}",
         "name": "course_name",
         "type": "\"string\""
        },
        {
         "metadata": "{}",
         "name": "course_level",
         "type": "\"string\""
        },
        {
         "metadata": "{}",
         "name": "course_price",
         "type": "\"decimal(9,2)\""
        },
        {
         "metadata": "{}",
         "name": "dt_load",
         "type": "\"timestamp\""
        }
       ],
       "type": "table"
      }
     },
     "output_type": "display_data"
    }
   ],
   "source": [
    "spark.sql(\"\"\"\n",
    "    merge into gold.dim_course as dest \n",
    "        using silver.tb_courses as orig\n",
    "            on dest.course_uuid = orig.course_uuid\n",
    "\n",
    "    when matched    \n",
    "        and dest.course_name != orig.course_name\n",
    "        or dest.course_level != orig.course_level\n",
    "        or dest.course_price != orig.course_price\n",
    "        then update \n",
    "            set \n",
    "                dest.course_name = orig.course_name,\n",
    "                dest.course_level = orig.course_level,\n",
    "                dest.course_price = orig.course_price\n",
    "    when not matched\n",
    "        then insert (\n",
    "            course_uuid,\n",
    "            course_name,\n",
    "            course_level,\n",
    "            course_price,\n",
    "            dt_load\n",
    "        )\n",
    "    values (\n",
    "            course_uuid,\n",
    "            course_name,\n",
    "            course_level,\n",
    "            course_price,\n",
    "            GETDATE()\n",
    "    )\n",
    "\"\"\").display()\n",
    "\n",
    "spark.sql(\"SELECT * FROM gold.dim_course LIMIT 5\").display()"
   ]
  },
  {
   "cell_type": "markdown",
   "metadata": {
    "application/vnd.databricks.v1+cell": {
     "cellMetadata": {},
     "inputWidgets": {},
     "nuid": "7a972db9-041b-4793-b3ca-21a5684bf77a",
     "showTitle": false,
     "tableResultSettingsMap": {},
     "title": ""
    }
   },
   "source": [
    "## 3.6 Sales Fact"
   ]
  },
  {
   "cell_type": "code",
   "execution_count": 0,
   "metadata": {
    "application/vnd.databricks.v1+cell": {
     "cellMetadata": {
      "byteLimit": 2048000,
      "rowLimit": 10000
     },
     "inputWidgets": {},
     "nuid": "ab50cdd4-aa34-4b22-a1ff-cb8e4bde3eb4",
     "showTitle": false,
     "tableResultSettingsMap": {},
     "title": ""
    }
   },
   "outputs": [],
   "source": [
    "df_stream_sales= spark.readStream.table('silver.tb_sales')\n",
    "df_stream_sales.createOrReplaceTempView('vw_fact_sales')"
   ]
  },
  {
   "cell_type": "code",
   "execution_count": 0,
   "metadata": {
    "application/vnd.databricks.v1+cell": {
     "cellMetadata": {
      "byteLimit": 2048000,
      "rowLimit": 10000
     },
     "inputWidgets": {},
     "nuid": "cb68924e-ade5-4c75-9f03-73a18f0cae53",
     "showTitle": false,
     "tableResultSettingsMap": {},
     "title": ""
    }
   },
   "outputs": [
    {
     "output_type": "display_data",
     "data": {
      "text/html": [
       "<style scoped>\n",
       "  .table-result-container {\n",
       "    max-height: 300px;\n",
       "    overflow: auto;\n",
       "  }\n",
       "  table, th, td {\n",
       "    border: 1px solid black;\n",
       "    border-collapse: collapse;\n",
       "  }\n",
       "  th, td {\n",
       "    padding: 5px;\n",
       "  }\n",
       "  th {\n",
       "    text-align: left;\n",
       "  }\n",
       "</style><div class='table-result-container'><table class='table-result'><thead style='background-color: white'><tr><th>sk_tempo</th><th>sk_cod</th><th>user_origin</th><th>payment_method</th><th>access_from</th><th>sk_course</th><th>sk_user</th><th>access_local</th><th>discount_value</th><th>total_value</th></tr></thead><tbody><tr><td>3</td><td>5</td><td>API</td><td>credito</td><td>Computer</td><td>4</td><td>29</td><td>Computer</td><td>29.50</td><td>560.40</td></tr><tr><td>3</td><td>5</td><td>API</td><td>credito</td><td>Computer</td><td>4</td><td>29</td><td>Computer</td><td>29.50</td><td>560.40</td></tr><tr><td>3</td><td>5</td><td>API</td><td>credito</td><td>Computer</td><td>4</td><td>29</td><td>Computer</td><td>29.50</td><td>560.40</td></tr><tr><td>3</td><td>5</td><td>API</td><td>credito</td><td>Computer</td><td>4</td><td>29</td><td>Computer</td><td>29.50</td><td>560.40</td></tr><tr><td>3</td><td>5</td><td>API</td><td>credito</td><td>Computer</td><td>4</td><td>29</td><td>Computer</td><td>29.50</td><td>560.40</td></tr></tbody></table></div>"
      ]
     },
     "metadata": {
      "application/vnd.databricks.v1+output": {
       "addedWidgets": {},
       "aggData": [],
       "aggError": "",
       "aggOverflow": false,
       "aggSchema": [],
       "aggSeriesLimitReached": false,
       "aggType": "",
       "arguments": {},
       "columnCustomDisplayInfos": {},
       "data": [
        [
         3,
         5,
         "API",
         "credito",
         "Computer",
         4,
         29,
         "Computer",
         "29.50",
         "560.40"
        ],
        [
         3,
         5,
         "API",
         "credito",
         "Computer",
         4,
         29,
         "Computer",
         "29.50",
         "560.40"
        ],
        [
         3,
         5,
         "API",
         "credito",
         "Computer",
         4,
         29,
         "Computer",
         "29.50",
         "560.40"
        ],
        [
         3,
         5,
         "API",
         "credito",
         "Computer",
         4,
         29,
         "Computer",
         "29.50",
         "560.40"
        ],
        [
         3,
         5,
         "API",
         "credito",
         "Computer",
         4,
         29,
         "Computer",
         "29.50",
         "560.40"
        ]
       ],
       "datasetInfos": [],
       "dbfsResultPath": null,
       "isJsonSchema": true,
       "metadata": {
        "isDbfsCommandResult": false
       },
       "overflow": false,
       "plotOptions": {
        "customPlotOptions": {},
        "displayType": "table",
        "pivotAggregation": null,
        "pivotColumns": null,
        "xColumns": null,
        "yColumns": null
       },
       "removedWidgets": [],
       "schema": [
        {
         "metadata": "{}",
         "name": "sk_tempo",
         "type": "\"long\""
        },
        {
         "metadata": "{}",
         "name": "sk_cod",
         "type": "\"long\""
        },
        {
         "metadata": "{}",
         "name": "user_origin",
         "type": "\"string\""
        },
        {
         "metadata": "{}",
         "name": "payment_method",
         "type": "\"string\""
        },
        {
         "metadata": "{}",
         "name": "access_from",
         "type": "\"string\""
        },
        {
         "metadata": "{}",
         "name": "sk_course",
         "type": "\"long\""
        },
        {
         "metadata": "{}",
         "name": "sk_user",
         "type": "\"long\""
        },
        {
         "metadata": "{}",
         "name": "access_local",
         "type": "\"string\""
        },
        {
         "metadata": "{}",
         "name": "discount_value",
         "type": "\"decimal(9,2)\""
        },
        {
         "metadata": "{}",
         "name": "total_value",
         "type": "\"decimal(9,2)\""
        }
       ],
       "type": "table"
      }
     },
     "output_type": "display_data"
    }
   ],
   "source": [
    "df_fact_sales = spark.sql(\"\"\"\n",
    "        with orig_fact_sales (\n",
    "        select \n",
    "            s.percent_discount,\n",
    "            case when s.origin = 'FILE' then 'not applicable' else a.local_access end as access_local,\n",
    "            s.payment_method,\n",
    "            s.origin as user_origin,\n",
    "            s.discount_value,\n",
    "            s.total_value,\n",
    "            s.course_uuid,\n",
    "            s.user_uuid,\n",
    "            s.dt_sale\n",
    "        from vw_fact_sales as s\n",
    "        left join silver.tb_access as a on s.access_uuid = a.access_uuid\n",
    "    ) select \n",
    "        dcal.sk_tempo,\n",
    "        dcod.sk_cod,\n",
    "        dcod.user_origin,\n",
    "        dcod.payment_method,\n",
    "        dcod.access_from,\n",
    "        dc.sk_course,\n",
    "        du.sk_user,\n",
    "        ofs.access_local,\n",
    "        ofs.discount_value,\n",
    "        ofs.total_value\n",
    "    from orig_fact_sales as ofs\n",
    "    join gold.dim_cod as dcod on ofs.payment_method = dcod.payment_method\n",
    "                                and ofs.user_origin = dcod.user_origin\n",
    "                               and ofs.access_local =dcod.access_from\n",
    "                               and ofs.percent_discount = dcod.percent_discount\n",
    "    join gold.dim_calendar as dcal on dcal.date = cast(ofs.dt_sale as date)\n",
    "    join gold.dim_course as dc on dc.course_uuid = ofs.course_uuid\n",
    "    join gold.dim_user as du on du.user_uuid = ofs.user_uuid\n",
    "    \n",
    "\"\"\")\n",
    "\n",
    "df_fact_sales.limit(5).display()"
   ]
  },
  {
   "cell_type": "code",
   "execution_count": 0,
   "metadata": {
    "application/vnd.databricks.v1+cell": {
     "cellMetadata": {
      "byteLimit": 2048000,
      "rowLimit": 10000
     },
     "inputWidgets": {},
     "nuid": "70fdbffe-35f6-44fd-84fb-e9de4dbceb60",
     "showTitle": false,
     "tableResultSettingsMap": {},
     "title": ""
    }
   },
   "outputs": [
    {
     "output_type": "display_data",
     "data": {
      "text/html": [
       "<style scoped>\n",
       "  .ansiout {\n",
       "    display: block;\n",
       "    unicode-bidi: embed;\n",
       "    white-space: pre-wrap;\n",
       "    word-wrap: break-word;\n",
       "    word-break: break-all;\n",
       "    font-family: \"Menlo\", \"Monaco\", \"Consolas\", \"Ubuntu Mono\", \"Source Code Pro\", monospace;\n",
       "    font-size: 13px;\n",
       "    color: #555;\n",
       "    margin-left: 4px;\n",
       "    line-height: 19px;\n",
       "  }\n",
       "</style>\n",
       "<div class=\"ansiout\">res5: Boolean = true\n",
       "</div>"
      ]
     },
     "metadata": {
      "application/vnd.databricks.v1+output": {
       "addedWidgets": {},
       "arguments": {},
       "data": "<div class=\"ansiout\">res5: Boolean = true\n</div>",
       "datasetInfos": [],
       "metadata": {
        "isDbfsCommandResult": false
       },
       "removedWidgets": [],
       "type": "html"
      }
     },
     "output_type": "display_data"
    }
   ],
   "source": [
    "%fs rm -r dbfs:/user/hive/warehouse/gold.db/_checkpoint/fact_sales\n"
   ]
  },
  {
   "cell_type": "code",
   "execution_count": 0,
   "metadata": {
    "application/vnd.databricks.v1+cell": {
     "cellMetadata": {
      "byteLimit": 2048000,
      "rowLimit": 10000
     },
     "inputWidgets": {},
     "nuid": "f3fbe754-6fcf-48e9-bb23-c63c3c5784c4",
     "showTitle": false,
     "tableResultSettingsMap": {},
     "title": ""
    }
   },
   "outputs": [
    {
     "output_type": "display_data",
     "data": {
      "text/html": [
       "<style scoped>\n",
       "  .ansiout {\n",
       "    display: block;\n",
       "    unicode-bidi: embed;\n",
       "    white-space: pre-wrap;\n",
       "    word-wrap: break-word;\n",
       "    word-break: break-all;\n",
       "    font-family: \"Menlo\", \"Monaco\", \"Consolas\", \"Ubuntu Mono\", \"Source Code Pro\", monospace;\n",
       "    font-size: 13px;\n",
       "    color: #555;\n",
       "    margin-left: 4px;\n",
       "    line-height: 19px;\n",
       "  }\n",
       "</style>\n",
       "<div class=\"ansiout\">res6: Boolean = true\n",
       "</div>"
      ]
     },
     "metadata": {
      "application/vnd.databricks.v1+output": {
       "addedWidgets": {},
       "arguments": {},
       "data": "<div class=\"ansiout\">res6: Boolean = true\n</div>",
       "datasetInfos": [],
       "metadata": {
        "isDbfsCommandResult": false
       },
       "removedWidgets": [],
       "type": "html"
      }
     },
     "output_type": "display_data"
    }
   ],
   "source": [
    "%fs rm -r dbfs:/user/hive/warehouse/gold.db/f_sales"
   ]
  },
  {
   "cell_type": "code",
   "execution_count": 0,
   "metadata": {
    "application/vnd.databricks.v1+cell": {
     "cellMetadata": {
      "byteLimit": 2048000,
      "rowLimit": 10000
     },
     "inputWidgets": {},
     "nuid": "3875274d-fd85-423b-993a-80ed578d2698",
     "showTitle": false,
     "tableResultSettingsMap": {},
     "title": ""
    }
   },
   "outputs": [
    {
     "output_type": "display_data",
     "data": {
      "text/html": [
       "<style scoped>\n",
       "  .table-result-container {\n",
       "    max-height: 300px;\n",
       "    overflow: auto;\n",
       "  }\n",
       "  table, th, td {\n",
       "    border: 1px solid black;\n",
       "    border-collapse: collapse;\n",
       "  }\n",
       "  th, td {\n",
       "    padding: 5px;\n",
       "  }\n",
       "  th {\n",
       "    text-align: left;\n",
       "  }\n",
       "</style><div class='table-result-container'><table class='table-result'><thead style='background-color: white'><tr><th>sk_tempo</th><th>sk_cod</th><th>user_origin</th><th>payment_method</th><th>access_from</th><th>sk_course</th><th>sk_user</th><th>access_local</th><th>discount_value</th><th>total_value</th></tr></thead><tbody><tr><td>3</td><td>5</td><td>API</td><td>credito</td><td>Computer</td><td>4</td><td>29</td><td>Computer</td><td>29.50</td><td>560.40</td></tr><tr><td>3</td><td>5</td><td>API</td><td>credito</td><td>Computer</td><td>4</td><td>29</td><td>Computer</td><td>29.50</td><td>560.40</td></tr><tr><td>3</td><td>5</td><td>API</td><td>credito</td><td>Computer</td><td>4</td><td>29</td><td>Computer</td><td>29.50</td><td>560.40</td></tr><tr><td>3</td><td>5</td><td>API</td><td>credito</td><td>Computer</td><td>4</td><td>29</td><td>Computer</td><td>29.50</td><td>560.40</td></tr><tr><td>3</td><td>5</td><td>API</td><td>credito</td><td>Computer</td><td>4</td><td>29</td><td>Computer</td><td>29.50</td><td>560.40</td></tr></tbody></table></div>"
      ]
     },
     "metadata": {
      "application/vnd.databricks.v1+output": {
       "addedWidgets": {},
       "aggData": [],
       "aggError": "",
       "aggOverflow": false,
       "aggSchema": [],
       "aggSeriesLimitReached": false,
       "aggType": "",
       "arguments": {},
       "columnCustomDisplayInfos": {},
       "data": [
        [
         3,
         5,
         "API",
         "credito",
         "Computer",
         4,
         29,
         "Computer",
         "29.50",
         "560.40"
        ],
        [
         3,
         5,
         "API",
         "credito",
         "Computer",
         4,
         29,
         "Computer",
         "29.50",
         "560.40"
        ],
        [
         3,
         5,
         "API",
         "credito",
         "Computer",
         4,
         29,
         "Computer",
         "29.50",
         "560.40"
        ],
        [
         3,
         5,
         "API",
         "credito",
         "Computer",
         4,
         29,
         "Computer",
         "29.50",
         "560.40"
        ],
        [
         3,
         5,
         "API",
         "credito",
         "Computer",
         4,
         29,
         "Computer",
         "29.50",
         "560.40"
        ]
       ],
       "datasetInfos": [],
       "dbfsResultPath": null,
       "isJsonSchema": true,
       "metadata": {},
       "overflow": false,
       "plotOptions": {
        "customPlotOptions": {},
        "displayType": "table",
        "pivotAggregation": null,
        "pivotColumns": null,
        "xColumns": null,
        "yColumns": null
       },
       "removedWidgets": [],
       "schema": [
        {
         "metadata": "{}",
         "name": "sk_tempo",
         "type": "\"long\""
        },
        {
         "metadata": "{}",
         "name": "sk_cod",
         "type": "\"long\""
        },
        {
         "metadata": "{}",
         "name": "user_origin",
         "type": "\"string\""
        },
        {
         "metadata": "{}",
         "name": "payment_method",
         "type": "\"string\""
        },
        {
         "metadata": "{}",
         "name": "access_from",
         "type": "\"string\""
        },
        {
         "metadata": "{}",
         "name": "sk_course",
         "type": "\"long\""
        },
        {
         "metadata": "{}",
         "name": "sk_user",
         "type": "\"long\""
        },
        {
         "metadata": "{}",
         "name": "access_local",
         "type": "\"string\""
        },
        {
         "metadata": "{}",
         "name": "discount_value",
         "type": "\"decimal(9,2)\""
        },
        {
         "metadata": "{}",
         "name": "total_value",
         "type": "\"decimal(9,2)\""
        }
       ],
       "type": "table"
      }
     },
     "output_type": "display_data"
    }
   ],
   "source": [
    "sales_fact_gold_checkpoint_path = 'dbfs:/user/hive/warehouse/gold.db/_checkpoint/fact_sales'\n",
    "(\n",
    "\n",
    "df_fact_sales.writeStream\n",
    "            .format('delta')\n",
    "            .outputMode('append')\n",
    "            .option('checkpointLocation', sales_fact_gold_checkpoint_path)\n",
    "            .trigger(availableNow=True)\n",
    "            .toTable('gold.f_sales')\n",
    ").awaitTermination()\n",
    "\n",
    "spark.sql('select * from gold.f_sales limit 5').display()"
   ]
  },
  {
   "cell_type": "markdown",
   "metadata": {
    "application/vnd.databricks.v1+cell": {
     "cellMetadata": {},
     "inputWidgets": {},
     "nuid": "1c0d289a-5fdb-43d5-a5a4-bf7d78a342dd",
     "showTitle": false,
     "tableResultSettingsMap": {},
     "title": ""
    }
   },
   "source": [
    "* The **`.writeStream`** method will be used to store data from **`df_fact_sales`** dataframe into the **gold.f_sales**. This table will be created on-the-fly trough the **`toTable()`** method.\n",
    "\n",
    "* The **`outputMode('Append')`** states that the data will be appended in the destination table\n",
    "\n",
    "* **`option('checkpointLocation', sales_fact_gold_checkpoint_path)`** defines the checkpoint directory that spark will use to control the stream processing in order to do the `exactly-once delivery` during the load processing.\n",
    "\n",
    "*  **`.trigger(availableNow=True)`** indicates to writeStream method that **the process will occour in batch**\n",
    "\n",
    "* **`.awaitTermination()`** is used to make the stream query a synchronous process."
   ]
  },
  {
   "cell_type": "markdown",
   "metadata": {
    "application/vnd.databricks.v1+cell": {
     "cellMetadata": {},
     "inputWidgets": {},
     "nuid": "362dd929-cfd0-4f4d-9023-2ba025b48283",
     "showTitle": false,
     "tableResultSettingsMap": {},
     "title": ""
    }
   },
   "source": [
    "The code below simulates a **sales analysis report**. This report shows the revenue + qnt of sold courses in jun24 with 5% discount applied and that were done by mobile.\n"
   ]
  },
  {
   "cell_type": "code",
   "execution_count": 0,
   "metadata": {
    "application/vnd.databricks.v1+cell": {
     "cellMetadata": {
      "byteLimit": 2048000,
      "rowLimit": 10000
     },
     "inputWidgets": {},
     "nuid": "cc4f193c-ff49-4912-be52-4e7eda56f71e",
     "showTitle": false,
     "tableResultSettingsMap": {},
     "title": ""
    }
   },
   "outputs": [
    {
     "output_type": "display_data",
     "data": {
      "text/html": [
       "<style scoped>\n",
       "  .table-result-container {\n",
       "    max-height: 300px;\n",
       "    overflow: auto;\n",
       "  }\n",
       "  table, th, td {\n",
       "    border: 1px solid black;\n",
       "    border-collapse: collapse;\n",
       "  }\n",
       "  th, td {\n",
       "    padding: 5px;\n",
       "  }\n",
       "  th {\n",
       "    text-align: left;\n",
       "  }\n",
       "</style><div class='table-result-container'><table class='table-result'><thead style='background-color: white'><tr><th>qnt_sold_courses</th><th>total_revenue</th></tr></thead><tbody><tr><td>2956</td><td>1598158.51</td></tr></tbody></table></div>"
      ]
     },
     "metadata": {
      "application/vnd.databricks.v1+output": {
       "addedWidgets": {},
       "aggData": [],
       "aggError": "",
       "aggOverflow": false,
       "aggSchema": [],
       "aggSeriesLimitReached": false,
       "aggType": "",
       "arguments": {},
       "columnCustomDisplayInfos": {},
       "data": [
        [
         2956,
         "1598158.51"
        ]
       ],
       "datasetInfos": [],
       "dbfsResultPath": null,
       "isJsonSchema": true,
       "metadata": {},
       "overflow": false,
       "plotOptions": {
        "customPlotOptions": {},
        "displayType": "table",
        "pivotAggregation": null,
        "pivotColumns": null,
        "xColumns": null,
        "yColumns": null
       },
       "removedWidgets": [],
       "schema": [
        {
         "metadata": "{}",
         "name": "qnt_sold_courses",
         "type": "\"long\""
        },
        {
         "metadata": "{}",
         "name": "total_revenue",
         "type": "\"decimal(20,2)\""
        }
       ],
       "type": "table"
      }
     },
     "output_type": "display_data"
    }
   ],
   "source": [
    "spark.sql(\"\"\"\n",
    "    select \n",
    "        count(*) as qnt_sold_courses,\n",
    "        sum(f.total_value) - sum(f.discount_value) as total_revenue\n",
    "    from gold.f_sales as f\n",
    "    join gold.dim_cod as dcod \n",
    "    on f.sk_cod = dcod.sk_cod\n",
    "    join gold.dim_course as dco\n",
    "    on dco.sk_course = f.sk_course\n",
    "    join gold.dim_calendar dca\n",
    "    on dca.sk_tempo = f.sk_tempo\n",
    "    join gold.dim_user du\n",
    "    on du.sk_user = f.sk_user\n",
    "    where \n",
    "    dca.year = 2024\n",
    "    and dca.month = 'June'\n",
    "    and dcod.access_from = 'Mobile'\n",
    "    and dcod.percent_discount = '5%'\n",
    "\n",
    "\"\"\").display()"
   ]
  },
  {
   "cell_type": "markdown",
   "metadata": {
    "application/vnd.databricks.v1+cell": {
     "cellMetadata": {},
     "inputWidgets": {},
     "nuid": "58cef2e6-7b72-49e8-89fe-c2470f969537",
     "showTitle": false,
     "tableResultSettingsMap": {},
     "title": ""
    }
   },
   "source": [
    "## 4.0 One Big Table (OBT)\n",
    "\n",
    "**One Big Table (OBT)** is an alternative to use stead of dimensional modeling. This data modeling is **Simple** and **stores all the data in one unique table** (big table). This offers a simplified model by reducing the number of tables that need to be updated and governated.\n"
   ]
  },
  {
   "cell_type": "code",
   "execution_count": 0,
   "metadata": {
    "application/vnd.databricks.v1+cell": {
     "cellMetadata": {},
     "inputWidgets": {},
     "nuid": "3df8f329-5e8c-4b4e-80fd-ef262ecf770e",
     "showTitle": false,
     "tableResultSettingsMap": {},
     "title": ""
    }
   },
   "outputs": [],
   "source": [
    "df_stream_acesse = spark.readStream.table('silver.tb_access')\n",
    "df_stream_acesse.createOrReplaceTempView('vw_access')"
   ]
  },
  {
   "cell_type": "code",
   "execution_count": 0,
   "metadata": {
    "application/vnd.databricks.v1+cell": {
     "cellMetadata": {},
     "inputWidgets": {},
     "nuid": "da43b269-cce4-404f-a482-9da35c1ee01a",
     "showTitle": false,
     "tableResultSettingsMap": {},
     "title": ""
    }
   },
   "outputs": [],
   "source": []
  },
  {
   "cell_type": "code",
   "execution_count": 0,
   "metadata": {
    "application/vnd.databricks.v1+cell": {
     "cellMetadata": {},
     "inputWidgets": {},
     "nuid": "c8050409-d5fb-43dc-9581-a8bb4a855c7c",
     "showTitle": false,
     "tableResultSettingsMap": {},
     "title": ""
    }
   },
   "outputs": [],
   "source": []
  },
  {
   "cell_type": "code",
   "execution_count": 0,
   "metadata": {
    "application/vnd.databricks.v1+cell": {
     "cellMetadata": {},
     "inputWidgets": {},
     "nuid": "f20641ff-1a64-4418-b4df-0b3864261d37",
     "showTitle": false,
     "tableResultSettingsMap": {},
     "title": ""
    }
   },
   "outputs": [],
   "source": [
    "stop_all_streams()"
   ]
  },
  {
   "cell_type": "markdown",
   "metadata": {
    "application/vnd.databricks.v1+cell": {
     "cellMetadata": {},
     "inputWidgets": {},
     "nuid": "298f45d3-3f58-4692-ac29-d4ccb223cabc",
     "showTitle": false,
     "tableResultSettingsMap": {},
     "title": ""
    }
   },
   "source": []
  }
 ],
 "metadata": {
  "application/vnd.databricks.v1+notebook": {
   "dashboards": [],
   "environmentMetadata": null,
   "language": "python",
   "notebookMetadata": {
    "mostRecentlyExecutedCommandWithImplicitDF": {
     "commandId": 4456441008715718,
     "dataframes": [
      "_sqldf"
     ]
    },
    "pythonIndentUnit": 4
   },
   "notebookName": "Load_Gold_Zone",
   "widgets": {}
  }
 },
 "nbformat": 4,
 "nbformat_minor": 0
}
