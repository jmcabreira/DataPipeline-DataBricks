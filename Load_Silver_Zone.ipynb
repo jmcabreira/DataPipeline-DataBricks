{
 "cells": [
  {
   "cell_type": "markdown",
   "metadata": {
    "application/vnd.databricks.v1+cell": {
     "cellMetadata": {},
     "inputWidgets": {},
     "nuid": "1ca48b39-6254-44fe-8d5f-fe6ef60d1155",
     "showTitle": false,
     "tableResultSettingsMap": {},
     "title": ""
    }
   },
   "source": [
    "# Loading Data to Silver Zone\n",
    "\n",
    "This Notebook:\n",
    "* We will iIngest data from **Bronze Zone** to **Silver Zone** using spark\n",
    "* We will use Spark Structured Streaming with **`trigger(availableNow=True)`** for batch loading\n",
    "* We will do a **load control** of the batch processes through Structured Streaming **checkpoint**\n",
    "* We will use **`awaitTermination()`**  ethod to transform the streaming queries in a synchronous process\n",
    "* We will Combine spark and sql in order to do the data load"
   ]
  },
  {
   "cell_type": "markdown",
   "metadata": {
    "application/vnd.databricks.v1+cell": {
     "cellMetadata": {},
     "inputWidgets": {},
     "nuid": "cc4cbf26-23cf-4ff9-80a3-8302c1ab5505",
     "showTitle": false,
     "tableResultSettingsMap": {},
     "title": ""
    }
   },
   "source": [
    "## 1.0 Initial Setup"
   ]
  },
  {
   "cell_type": "code",
   "execution_count": 0,
   "metadata": {
    "application/vnd.databricks.v1+cell": {
     "cellMetadata": {
      "byteLimit": 2048000,
      "rowLimit": 10000
     },
     "collapsed": true,
     "inputWidgets": {},
     "nuid": "c3859f71-b7e2-4b25-8028-6301486d5453",
     "showTitle": false,
     "tableResultSettingsMap": {},
     "title": ""
    }
   },
   "outputs": [],
   "source": [
    "%run \"/Users/cabreirajm@gmail.com/DataPipelineCabreira/Helpers/data_generator\" "
   ]
  },
  {
   "cell_type": "code",
   "execution_count": 0,
   "metadata": {
    "application/vnd.databricks.v1+cell": {
     "cellMetadata": {
      "byteLimit": 2048000,
      "rowLimit": 10000
     },
     "collapsed": true,
     "inputWidgets": {},
     "nuid": "57533dbe-ef74-43f1-96c3-3e0e1508ea74",
     "showTitle": false,
     "tableResultSettingsMap": {},
     "title": ""
    }
   },
   "outputs": [
    {
     "output_type": "stream",
     "name": "stdout",
     "output_type": "stream",
     "text": [
      "\u001B[43mNote: you may need to restart the kernel using dbutils.library.restartPython() to use updated packages.\u001B[0m\nRequirement already satisfied: dbldatagen in /local_disk0/.ephemeral_nfs/envs/pythonEnv-087f316f-68e9-440f-8fb5-410bb2f2d811/lib/python3.10/site-packages (0.4.0.post1)\n\u001B[43mNote: you may need to restart the kernel using dbutils.library.restartPython() to use updated packages.\u001B[0m\n"
     ]
    }
   ],
   "source": [
    "%run \"/Users/cabreirajm@gmail.com/DataPipelineCabreira/Load_Bronze_Zone\"   "
   ]
  },
  {
   "cell_type": "markdown",
   "metadata": {
    "application/vnd.databricks.v1+cell": {
     "cellMetadata": {},
     "inputWidgets": {},
     "nuid": "052ad713-ac0b-4051-8b6f-4b247e37cb05",
     "showTitle": false,
     "tableResultSettingsMap": {},
     "title": ""
    }
   },
   "source": [
    "## 2.0 Create `Silver Zone` Schema"
   ]
  },
  {
   "cell_type": "code",
   "execution_count": 0,
   "metadata": {
    "application/vnd.databricks.v1+cell": {
     "cellMetadata": {
      "byteLimit": 2048000,
      "rowLimit": 10000
     },
     "inputWidgets": {},
     "nuid": "e2e899e0-caae-458f-9ab1-ee338ec3c532",
     "showTitle": false,
     "tableResultSettingsMap": {},
     "title": ""
    }
   },
   "outputs": [
    {
     "output_type": "execute_result",
     "data": {
      "text/plain": [
       "DataFrame[]"
      ]
     },
     "execution_count": 8,
     "metadata": {},
     "output_type": "execute_result"
    },
    {
     "output_type": "display_data",
     "data": {
      "text/html": [
       "<style scoped>\n",
       "  .ansiout {\n",
       "    display: block;\n",
       "    unicode-bidi: embed;\n",
       "    white-space: pre-wrap;\n",
       "    word-wrap: break-word;\n",
       "    word-break: break-all;\n",
       "    font-family: \"Menlo\", \"Monaco\", \"Consolas\", \"Ubuntu Mono\", \"Source Code Pro\", monospace;\n",
       "    font-size: 13px;\n",
       "    color: #555;\n",
       "    margin-left: 4px;\n",
       "    line-height: 19px;\n",
       "  }\n",
       "</style>\n",
       "<div class=\"ansiout\">res2: Boolean = true\n",
       "</div>"
      ]
     },
     "metadata": {
      "application/vnd.databricks.v1+output": {
       "addedWidgets": {},
       "arguments": {},
       "data": "<div class=\"ansiout\">res2: Boolean = true\n</div>",
       "datasetInfos": [],
       "metadata": {
        "isDbfsCommandResult": false
       },
       "removedWidgets": [],
       "type": "html"
      }
     },
     "output_type": "display_data"
    },
    {
     "output_type": "display_data",
     "data": {
      "text/html": [
       "<style scoped>\n",
       "  .table-result-container {\n",
       "    max-height: 300px;\n",
       "    overflow: auto;\n",
       "  }\n",
       "  table, th, td {\n",
       "    border: 1px solid black;\n",
       "    border-collapse: collapse;\n",
       "  }\n",
       "  th, td {\n",
       "    padding: 5px;\n",
       "  }\n",
       "  th {\n",
       "    text-align: left;\n",
       "  }\n",
       "</style><div class='table-result-container'><table class='table-result'><thead style='background-color: white'><tr><th>data_venda</th><th>nome_empresa</th><th>sexo</th><th>nome_funcionario</th><th>email_functionario</th><th>profissao</th><th>idade</th><th>estado</th><th>curso</th><th>valor</th><th>disconto</th><th>source_file_name</th><th>processing_timestamp</th></tr></thead><tbody><tr><td>2025-02-26</td><td>Empresa A</td><td>M</td><td>Funcionario c00a3119ac</td><td>funcionario_c00a3119ac@empresaa.com.br</td><td>Cientista de Dados</td><td>44</td><td>RO</td><td>Construindo o seu Primeiro Pipeline de Dados com o Databricks</td><td>R$ 789,90</td><td>5%</td><td>part-00000-tid-577086507526502122-e3723548-ae8b-4131-841b-c65d35b11604-0-1-c000.csv</td><td>2024-11-28T09:23:08.677Z</td></tr><tr><td>2024-07-01</td><td>Empresa A</td><td>F</td><td>Funcionario f2e3eedb83</td><td>funcionario_f2e3eedb83@empresaa.com.br</td><td>Desenvolvedor de ETL</td><td>31</td><td>AC</td><td>Do Primeiro Pipeline ao Data Lakehouse com o Databricks</td><td>R$ 689,90</td><td>5%</td><td>part-00000-tid-577086507526502122-e3723548-ae8b-4131-841b-c65d35b11604-0-1-c000.csv</td><td>2024-11-28T09:23:08.677Z</td></tr><tr><td>2025-11-23</td><td>Empresa A</td><td>M</td><td>Funcionario a86bec1438</td><td>funcionario_a86bec1438@empresaa.com.br</td><td>Desenvolvedor de ETL</td><td>19</td><td>AM</td><td>Construindo Pipelines de Dados usando o Spark Structured Streaming</td><td>R$ 549,90</td><td>5%</td><td>part-00000-tid-577086507526502122-e3723548-ae8b-4131-841b-c65d35b11604-0-1-c000.csv</td><td>2024-11-28T09:23:08.677Z</td></tr><tr><td>2025-04-07</td><td>Empresa A</td><td>F</td><td>Funcionario 3d824a84e7</td><td>funcionario_3d824a84e7@empresaa.com.br</td><td>Analista de Dados</td><td>21</td><td>RR</td><td>Construindo o seu Primeiro Pipeline de Dados com o Databricks</td><td>R$ 789,90</td><td>5%</td><td>part-00000-tid-577086507526502122-e3723548-ae8b-4131-841b-c65d35b11604-0-1-c000.csv</td><td>2024-11-28T09:23:08.677Z</td></tr><tr><td>2024-08-10</td><td>Empresa A</td><td>M</td><td>Funcionario 34eb9d299a</td><td>funcionario_34eb9d299a@empresaa.com.br</td><td>Arquiteto de Dados</td><td>44</td><td>PA</td><td>Do Primeiro Pipeline ao Data Lakehouse com o Databricks</td><td>R$ 689,90</td><td>5%</td><td>part-00000-tid-577086507526502122-e3723548-ae8b-4131-841b-c65d35b11604-0-1-c000.csv</td><td>2024-11-28T09:23:08.677Z</td></tr></tbody></table></div>"
      ]
     },
     "metadata": {
      "application/vnd.databricks.v1+output": {
       "addedWidgets": {},
       "aggData": [],
       "aggError": "",
       "aggOverflow": false,
       "aggSchema": [],
       "aggSeriesLimitReached": false,
       "aggType": "",
       "arguments": {},
       "columnCustomDisplayInfos": {},
       "data": [
        [
         "2025-02-26",
         "Empresa A",
         "M",
         "Funcionario c00a3119ac",
         "funcionario_c00a3119ac@empresaa.com.br",
         "Cientista de Dados",
         "44",
         "RO",
         "Construindo o seu Primeiro Pipeline de Dados com o Databricks",
         "R$ 789,90",
         "5%",
         "part-00000-tid-577086507526502122-e3723548-ae8b-4131-841b-c65d35b11604-0-1-c000.csv",
         "2024-11-28T09:23:08.677Z"
        ],
        [
         "2024-07-01",
         "Empresa A",
         "F",
         "Funcionario f2e3eedb83",
         "funcionario_f2e3eedb83@empresaa.com.br",
         "Desenvolvedor de ETL",
         "31",
         "AC",
         "Do Primeiro Pipeline ao Data Lakehouse com o Databricks",
         "R$ 689,90",
         "5%",
         "part-00000-tid-577086507526502122-e3723548-ae8b-4131-841b-c65d35b11604-0-1-c000.csv",
         "2024-11-28T09:23:08.677Z"
        ],
        [
         "2025-11-23",
         "Empresa A",
         "M",
         "Funcionario a86bec1438",
         "funcionario_a86bec1438@empresaa.com.br",
         "Desenvolvedor de ETL",
         "19",
         "AM",
         "Construindo Pipelines de Dados usando o Spark Structured Streaming",
         "R$ 549,90",
         "5%",
         "part-00000-tid-577086507526502122-e3723548-ae8b-4131-841b-c65d35b11604-0-1-c000.csv",
         "2024-11-28T09:23:08.677Z"
        ],
        [
         "2025-04-07",
         "Empresa A",
         "F",
         "Funcionario 3d824a84e7",
         "funcionario_3d824a84e7@empresaa.com.br",
         "Analista de Dados",
         "21",
         "RR",
         "Construindo o seu Primeiro Pipeline de Dados com o Databricks",
         "R$ 789,90",
         "5%",
         "part-00000-tid-577086507526502122-e3723548-ae8b-4131-841b-c65d35b11604-0-1-c000.csv",
         "2024-11-28T09:23:08.677Z"
        ],
        [
         "2024-08-10",
         "Empresa A",
         "M",
         "Funcionario 34eb9d299a",
         "funcionario_34eb9d299a@empresaa.com.br",
         "Arquiteto de Dados",
         "44",
         "PA",
         "Do Primeiro Pipeline ao Data Lakehouse com o Databricks",
         "R$ 689,90",
         "5%",
         "part-00000-tid-577086507526502122-e3723548-ae8b-4131-841b-c65d35b11604-0-1-c000.csv",
         "2024-11-28T09:23:08.677Z"
        ]
       ],
       "datasetInfos": [],
       "dbfsResultPath": null,
       "isJsonSchema": true,
       "metadata": {},
       "overflow": false,
       "plotOptions": {
        "customPlotOptions": {},
        "displayType": "table",
        "pivotAggregation": null,
        "pivotColumns": null,
        "xColumns": null,
        "yColumns": null
       },
       "removedWidgets": [],
       "schema": [
        {
         "metadata": "{}",
         "name": "data_venda",
         "type": "\"string\""
        },
        {
         "metadata": "{}",
         "name": "nome_empresa",
         "type": "\"string\""
        },
        {
         "metadata": "{}",
         "name": "sexo",
         "type": "\"string\""
        },
        {
         "metadata": "{}",
         "name": "nome_funcionario",
         "type": "\"string\""
        },
        {
         "metadata": "{}",
         "name": "email_functionario",
         "type": "\"string\""
        },
        {
         "metadata": "{}",
         "name": "profissao",
         "type": "\"string\""
        },
        {
         "metadata": "{}",
         "name": "idade",
         "type": "\"string\""
        },
        {
         "metadata": "{}",
         "name": "estado",
         "type": "\"string\""
        },
        {
         "metadata": "{}",
         "name": "curso",
         "type": "\"string\""
        },
        {
         "metadata": "{}",
         "name": "valor",
         "type": "\"string\""
        },
        {
         "metadata": "{}",
         "name": "disconto",
         "type": "\"string\""
        },
        {
         "metadata": "{}",
         "name": "source_file_name",
         "type": "\"string\""
        },
        {
         "metadata": "{}",
         "name": "processing_timestamp",
         "type": "\"timestamp\""
        }
       ],
       "type": "table"
      }
     },
     "output_type": "display_data"
    },
    {
     "output_type": "stream",
     "name": "stdout",
     "output_type": "stream",
     "text": [
      "Total of rows: 100000\nFile Name: part-00000-tid-577086507526502122-e3723548-ae8b-4131-841b-c65d35b11604-0-1-c000.csv\n"
     ]
    },
    {
     "output_type": "stream",
     "name": "stdout",
     "output_type": "stream",
     "text": [
      "Qnt of rows in bromze.file_data table: 100000\n"
     ]
    },
    {
     "output_type": "stream",
     "name": "stdout",
     "output_type": "stream",
     "text": [
      "stop_all_streams-inicio-2024-11-28 09:23:40.463751\nO stream display_query_1 fui finalizado com sucesso.\nO stream generate_api_stream_data fui finalizado com sucesso.\nO stream None fui finalizado com sucesso.\nstop_all_streams-fim-2024-11-28 09:23:42.552468\n              \nclean_up_landing_dir-inicio-2024-11-28 09:23:42.552570\nTodos os arquivos e diretórios dentro de 'dbfs:/FileStore/landing/' foram excluidos com sucesso.\nclean_up_landing_dir-fim-2024-11-28 09:23:43.647624\n              \n"
     ]
    }
   ],
   "source": [
    "spark.sql(\"CREATE DATABASE IF NOT EXISTS silver\")"
   ]
  },
  {
   "cell_type": "markdown",
   "metadata": {
    "application/vnd.databricks.v1+cell": {
     "cellMetadata": {},
     "inputWidgets": {},
     "nuid": "3b1f652a-4c5d-41ec-adb2-924dfaa4602a",
     "showTitle": false,
     "tableResultSettingsMap": {},
     "title": ""
    }
   },
   "source": [
    "## 3.0 Businesse Requirements for Silver Zone"
   ]
  },
  {
   "cell_type": "markdown",
   "metadata": {
    "application/vnd.databricks.v1+cell": {
     "cellMetadata": {},
     "inputWidgets": {},
     "nuid": "db2d40a5-b072-4525-9475-36d25b09840c",
     "showTitle": false,
     "tableResultSettingsMap": {},
     "title": ""
    }
   },
   "source": [
    "1. The ingestion need to be done in batch in order to avoid extra costs \n",
    "    * Even though the API data is stored in streaming in landing zone \n",
    "2. API and Batch Data need to be stored in the same table \n",
    "3. Each table will have an uuid column with a hash to identify each register\n",
    "4. We have to garantee the correct data type of all column \n",
    "5. We need to create better column names for each table "
   ]
  },
  {
   "cell_type": "markdown",
   "metadata": {
    "application/vnd.databricks.v1+cell": {
     "cellMetadata": {},
     "inputWidgets": {},
     "nuid": "56c5aab8-5a36-48e0-8e79-cd3923a9877d",
     "showTitle": false,
     "tableResultSettingsMap": {},
     "title": ""
    }
   },
   "source": [
    "## 4.0 Data Modeling"
   ]
  },
  {
   "cell_type": "markdown",
   "metadata": {
    "application/vnd.databricks.v1+cell": {
     "cellMetadata": {},
     "inputWidgets": {},
     "nuid": "510ba2f5-3b40-4c6d-982c-1197cc888852",
     "showTitle": false,
     "tableResultSettingsMap": {},
     "title": ""
    }
   },
   "source": [
    "### 4.1 Courses Table  ( Domain Table)"
   ]
  },
  {
   "cell_type": "markdown",
   "metadata": {
    "application/vnd.databricks.v1+cell": {
     "cellMetadata": {
      "byteLimit": 2048000,
      "rowLimit": 10000
     },
     "inputWidgets": {},
     "nuid": "67ed5195-477b-4595-b2e7-08aa947aec5a",
     "showTitle": false,
     "tableResultSettingsMap": {},
     "title": ""
    }
   },
   "source": [
    "The table `tb_courses` is a **domain table** and we will store all the available courses information ( the product ). Its information will be added manually.\n",
    "* We will use the **md5()** function to create the **curso_uuuid** column by the course name \n",
    "* The column **data_carga** : Contains the processing date"
   ]
  },
  {
   "cell_type": "code",
   "execution_count": 0,
   "metadata": {
    "application/vnd.databricks.v1+cell": {
     "cellMetadata": {
      "byteLimit": 2048000,
      "rowLimit": 10000
     },
     "inputWidgets": {},
     "nuid": "69c658f5-1110-4cdc-b4e5-75505de0a807",
     "showTitle": false,
     "tableResultSettingsMap": {},
     "title": ""
    }
   },
   "outputs": [
    {
     "output_type": "display_data",
     "data": {
      "text/html": [
       "<style scoped>\n",
       "  .ansiout {\n",
       "    display: block;\n",
       "    unicode-bidi: embed;\n",
       "    white-space: pre-wrap;\n",
       "    word-wrap: break-word;\n",
       "    word-break: break-all;\n",
       "    font-family: \"Menlo\", \"Monaco\", \"Consolas\", \"Ubuntu Mono\", \"Source Code Pro\", monospace;\n",
       "    font-size: 13px;\n",
       "    color: #555;\n",
       "    margin-left: 4px;\n",
       "    line-height: 19px;\n",
       "  }\n",
       "</style>\n",
       "<div class=\"ansiout\">res0: Boolean = true\n",
       "</div>"
      ]
     },
     "metadata": {
      "application/vnd.databricks.v1+output": {
       "addedWidgets": {},
       "arguments": {},
       "data": "<div class=\"ansiout\">res0: Boolean = true\n</div>",
       "datasetInfos": [],
       "metadata": {
        "isDbfsCommandResult": false
       },
       "removedWidgets": [],
       "type": "html"
      }
     },
     "output_type": "display_data"
    }
   ],
   "source": [
    "%fs rm -r dbfs:/user/hive/warehouse/silver.db/tb_courses"
   ]
  },
  {
   "cell_type": "code",
   "execution_count": 0,
   "metadata": {
    "application/vnd.databricks.v1+cell": {
     "cellMetadata": {
      "byteLimit": 2048000,
      "rowLimit": 10000
     },
     "inputWidgets": {},
     "nuid": "b2ad018d-8815-4026-b49a-af3ed022ad9f",
     "showTitle": false,
     "tableResultSettingsMap": {},
     "title": ""
    }
   },
   "outputs": [
    {
     "output_type": "display_data",
     "data": {
      "text/html": [
       "<style scoped>\n",
       "  .table-result-container {\n",
       "    max-height: 300px;\n",
       "    overflow: auto;\n",
       "  }\n",
       "  table, th, td {\n",
       "    border: 1px solid black;\n",
       "    border-collapse: collapse;\n",
       "  }\n",
       "  th, td {\n",
       "    padding: 5px;\n",
       "  }\n",
       "  th {\n",
       "    text-align: left;\n",
       "  }\n",
       "</style><div class='table-result-container'><table class='table-result'><thead style='background-color: white'><tr><th>course_uuid</th><th>course_name</th><th>course_level</th><th>course_price</th><th>dt_load</th></tr></thead><tbody><tr><td>f260cd97c6c9813b01601e834a2added</td><td>Construindo o seu Primeiro Pipeline de Dados com o Databricks</td><td>beginner</td><td>589.90</td><td>2024-11-29T15:37:40.47Z</td></tr><tr><td>34bdd77f6954552d11c4f5547cb41458</td><td>Do Primeiro Pipeline ao Data Lakehouse com o Databricks</td><td>intermediate</td><td>659.90</td><td>2024-11-29T15:37:40.47Z</td></tr><tr><td>c2d6bcbc3e46555bb1e7e9afbc24d3af</td><td>Construindo Pipelines de Dados usando o Spark Structured Streaming</td><td>advanced</td><td>549.90</td><td>2024-11-29T15:37:40.47Z</td></tr></tbody></table></div>"
      ]
     },
     "metadata": {
      "application/vnd.databricks.v1+output": {
       "addedWidgets": {},
       "aggData": [],
       "aggError": "",
       "aggOverflow": false,
       "aggSchema": [],
       "aggSeriesLimitReached": false,
       "aggType": "",
       "arguments": {},
       "columnCustomDisplayInfos": {},
       "data": [
        [
         "f260cd97c6c9813b01601e834a2added",
         "Construindo o seu Primeiro Pipeline de Dados com o Databricks",
         "beginner",
         "589.90",
         "2024-11-29T15:37:40.47Z"
        ],
        [
         "34bdd77f6954552d11c4f5547cb41458",
         "Do Primeiro Pipeline ao Data Lakehouse com o Databricks",
         "intermediate",
         "659.90",
         "2024-11-29T15:37:40.47Z"
        ],
        [
         "c2d6bcbc3e46555bb1e7e9afbc24d3af",
         "Construindo Pipelines de Dados usando o Spark Structured Streaming",
         "advanced",
         "549.90",
         "2024-11-29T15:37:40.47Z"
        ]
       ],
       "datasetInfos": [],
       "dbfsResultPath": null,
       "isJsonSchema": true,
       "metadata": {},
       "overflow": false,
       "plotOptions": {
        "customPlotOptions": {},
        "displayType": "table",
        "pivotAggregation": null,
        "pivotColumns": null,
        "xColumns": null,
        "yColumns": null
       },
       "removedWidgets": [],
       "schema": [
        {
         "metadata": "{}",
         "name": "course_uuid",
         "type": "\"string\""
        },
        {
         "metadata": "{}",
         "name": "course_name",
         "type": "\"string\""
        },
        {
         "metadata": "{}",
         "name": "course_level",
         "type": "\"string\""
        },
        {
         "metadata": "{}",
         "name": "course_price",
         "type": "\"decimal(5,2)\""
        },
        {
         "metadata": "{}",
         "name": "dt_load",
         "type": "\"timestamp\""
        }
       ],
       "type": "table"
      }
     },
     "output_type": "display_data"
    }
   ],
   "source": [
    "spark.sql(\"\"\"\n",
    "  CREATE TABLE IF NOT EXISTS silver.tb_courses\n",
    "  AS\n",
    "    SELECT  \n",
    "      md5('Construindo o seu Primeiro Pipeline de Dados com o Databricks') AS course_uuid,\n",
    "      'Construindo o seu Primeiro Pipeline de Dados com o Databricks' AS course_name,\n",
    "      'beginner' AS course_level,\n",
    "      589.90 AS course_price,\n",
    "      getdate() AS dt_load\n",
    "\n",
    "      UNION\n",
    "\n",
    "    SELECT\n",
    "      md5('Do Primeiro Pipeline ao Data Lakehouse com o Databricks') AS course_uuid,\n",
    "      'Do Primeiro Pipeline ao Data Lakehouse com o Databricks' AS course_name,\n",
    "      'intermediate' as course_level,\n",
    "      659.90 AS course_price,\n",
    "      getdate() AS dt_load\n",
    "\n",
    "\n",
    "      UNION\n",
    "\n",
    "    SELECT\n",
    "      md5('Construindo Pipelines de Dados usando o Spark Structured Streaming') AS course_uuid,\n",
    "      'Construindo Pipelines de Dados usando o Spark Structured Streaming' as course_name,\n",
    "      'advanced' as course_level,\n",
    "      549.90 as course_price,\n",
    "      getdate() as dt_load\n",
    "\"\"\"\n",
    ")\n",
    "\n",
    "\n",
    "spark.sql('SELECT * FROM silver.tb_courses').display()"
   ]
  },
  {
   "cell_type": "markdown",
   "metadata": {
    "application/vnd.databricks.v1+cell": {
     "cellMetadata": {},
     "inputWidgets": {},
     "nuid": "965ead0b-abfb-464d-9a6f-7abc73f8b657",
     "showTitle": false,
     "tableResultSettingsMap": {},
     "title": ""
    }
   },
   "source": [
    "We will now create two streaming views called **`stream_temp_vw_api`**  and **`stream_temp_vw_files`** that will be used as source data for our loading process."
   ]
  },
  {
   "cell_type": "code",
   "execution_count": 0,
   "metadata": {
    "application/vnd.databricks.v1+cell": {
     "cellMetadata": {
      "byteLimit": 2048000,
      "rowLimit": 10000
     },
     "inputWidgets": {},
     "nuid": "0d4e6a86-fe59-48e6-ba71-4286e1febb9f",
     "showTitle": false,
     "tableResultSettingsMap": {},
     "title": ""
    }
   },
   "outputs": [],
   "source": [
    "api_df = spark.readStream.table('bronze.api_data')\n",
    "api_df.createOrReplaceTempView('stream_temp_vw_api')\n",
    "\n",
    "files_df = spark.readStream.table('bronze.file_data')\n",
    "files_df.createOrReplaceTempView('stream_temp_vw_files')"
   ]
  },
  {
   "cell_type": "markdown",
   "metadata": {
    "application/vnd.databricks.v1+cell": {
     "cellMetadata": {},
     "inputWidgets": {},
     "nuid": "f502abce-be96-4a7c-8da2-9c6a250982cb",
     "showTitle": false,
     "tableResultSettingsMap": {},
     "title": ""
    }
   },
   "source": [
    "### 4.2 Access Table  "
   ]
  },
  {
   "cell_type": "markdown",
   "metadata": {
    "application/vnd.databricks.v1+cell": {
     "cellMetadata": {},
     "inputWidgets": {},
     "nuid": "a3cae93e-ef1b-4493-b364-848cc8e0e0c9",
     "showTitle": false,
     "tableResultSettingsMap": {},
     "title": ""
    }
   },
   "source": [
    "This table stores all the website access.\n",
    "\n",
    "**`df_access`** : Dataframe that used to load data into **`tb_access`** table. This dataframe stores all information regarding the website visitors and its information comes from API. \n",
    "\n",
    "**Columns:**\n",
    "* **`acesso_uuid` column** : Created with the **`md5()`** function  by **`concatenating`** the columns below:\n",
    "  * **`access_date`** - After being converted to Timestamp\n",
    "  * **`ip_address`**. - ip address of the computer \n",
    "  * **`access_point`** -Identify the access point as mobile or computer (**local_acesso**).\n",
    "* **`usuario_uuid` column**: Created with the **`md5()`** function  by **`concatenating`** the columns below:\n",
    "  * **`access_date`** - After being converted to Timestamp\n",
    "  * **`payload.info_usuario.nome`** - name of the user\n",
    "* **`data_carga` column**: The processing date of the register "
   ]
  },
  {
   "cell_type": "code",
   "execution_count": 0,
   "metadata": {
    "application/vnd.databricks.v1+cell": {
     "cellMetadata": {
      "byteLimit": 2048000,
      "implicitDf": true,
      "rowLimit": 10000
     },
     "inputWidgets": {},
     "nuid": "d4c473ac-b045-4c93-94c9-f4dc69954e57",
     "showTitle": false,
     "tableResultSettingsMap": {},
     "title": ""
    }
   },
   "outputs": [
    {
     "output_type": "display_data",
     "data": {
      "text/html": [
       "<style scoped>\n",
       "  .table-result-container {\n",
       "    max-height: 300px;\n",
       "    overflow: auto;\n",
       "  }\n",
       "  table, th, td {\n",
       "    border: 1px solid black;\n",
       "    border-collapse: collapse;\n",
       "  }\n",
       "  th, td {\n",
       "    padding: 5px;\n",
       "  }\n",
       "  th {\n",
       "    text-align: left;\n",
       "  }\n",
       "</style><div class='table-result-container'><table class='table-result'><thead style='background-color: white'><tr><th>access_date</th><th>access_point</th><th>ip_address</th><th>payload</th><th>_rescued_data</th><th>source_file_name</th><th>processing_timestamp</th></tr></thead><tbody><tr><td>2024-06-02T10:51:16.000Z</td><td>safari</td><td>69.127.75.83</td><td>List(null, null, null)</td><td>null</td><td>part-00001-487e7b86-4de6-4481-89dd-9509c10ba409-c000.json</td><td>2024-11-29T13:48:50.178Z</td></tr><tr><td>2024-06-02T11:24:12.000Z</td><td>android</td><td>168.18.37.100</td><td>List(null, null, null)</td><td>null</td><td>part-00001-487e7b86-4de6-4481-89dd-9509c10ba409-c000.json</td><td>2024-11-29T13:48:50.178Z</td></tr></tbody></table></div>"
      ]
     },
     "metadata": {
      "application/vnd.databricks.v1+output": {
       "addedWidgets": {},
       "aggData": [],
       "aggError": "",
       "aggOverflow": false,
       "aggSchema": [],
       "aggSeriesLimitReached": false,
       "aggType": "",
       "arguments": {},
       "columnCustomDisplayInfos": {},
       "data": [
        [
         "2024-06-02T10:51:16.000Z",
         "safari",
         "69.127.75.83",
         [
          null,
          null,
          null
         ],
         null,
         "part-00001-487e7b86-4de6-4481-89dd-9509c10ba409-c000.json",
         "2024-11-29T13:48:50.178Z"
        ],
        [
         "2024-06-02T11:24:12.000Z",
         "android",
         "168.18.37.100",
         [
          null,
          null,
          null
         ],
         null,
         "part-00001-487e7b86-4de6-4481-89dd-9509c10ba409-c000.json",
         "2024-11-29T13:48:50.178Z"
        ]
       ],
       "datasetInfos": [],
       "dbfsResultPath": null,
       "isJsonSchema": true,
       "metadata": {
        "isDbfsCommandResult": false
       },
       "overflow": false,
       "plotOptions": {
        "customPlotOptions": {},
        "displayType": "table",
        "pivotAggregation": null,
        "pivotColumns": null,
        "xColumns": null,
        "yColumns": null
       },
       "removedWidgets": [],
       "schema": [
        {
         "metadata": "{}",
         "name": "access_date",
         "type": "\"string\""
        },
        {
         "metadata": "{}",
         "name": "access_point",
         "type": "\"string\""
        },
        {
         "metadata": "{}",
         "name": "ip_address",
         "type": "\"string\""
        },
        {
         "metadata": "{}",
         "name": "payload",
         "type": "{\"type\":\"struct\",\"fields\":[{\"name\":\"info_pagamento\",\"type\":{\"type\":\"struct\",\"fields\":[{\"name\":\"disconto\",\"type\":\"string\",\"nullable\":true,\"metadata\":{}},{\"name\":\"forma_pagamento\",\"type\":\"string\",\"nullable\":true,\"metadata\":{}},{\"name\":\"quantidade_parcelas\",\"type\":\"string\",\"nullable\":true,\"metadata\":{}},{\"name\":\"valor\",\"type\":\"string\",\"nullable\":true,\"metadata\":{}},{\"name\":\"valor_parcelas\",\"type\":\"string\",\"nullable\":true,\"metadata\":{}}]},\"nullable\":true,\"metadata\":{}},{\"name\":\"info_produto\",\"type\":{\"type\":\"struct\",\"fields\":[{\"name\":\"product_uuid\",\"type\":\"string\",\"nullable\":true,\"metadata\":{}},{\"name\":\"valor\",\"type\":\"string\",\"nullable\":true,\"metadata\":{}}]},\"nullable\":true,\"metadata\":{}},{\"name\":\"info_usuario\",\"type\":{\"type\":\"struct\",\"fields\":[{\"name\":\"email\",\"type\":\"string\",\"nullable\":true,\"metadata\":{}},{\"name\":\"estado\",\"type\":\"string\",\"nullable\":true,\"metadata\":{}},{\"name\":\"idade\",\"type\":\"string\",\"nullable\":true,\"metadata\":{}},{\"name\":\"nome\",\"type\":\"string\",\"nullable\":true,\"metadata\":{}},{\"name\":\"profissao\",\"type\":\"string\",\"nullable\":true,\"metadata\":{}},{\"name\":\"sexo\",\"type\":\"string\",\"nullable\":true,\"metadata\":{}}]},\"nullable\":true,\"metadata\":{}}]}"
        },
        {
         "metadata": "{}",
         "name": "_rescued_data",
         "type": "\"string\""
        },
        {
         "metadata": "{}",
         "name": "source_file_name",
         "type": "\"string\""
        },
        {
         "metadata": "{}",
         "name": "processing_timestamp",
         "type": "\"timestamp\""
        }
       ],
       "type": "table"
      }
     },
     "output_type": "display_data"
    }
   ],
   "source": [
    "%sql\n",
    "select * from stream_temp_vw_api limit 2"
   ]
  },
  {
   "cell_type": "code",
   "execution_count": 0,
   "metadata": {
    "application/vnd.databricks.v1+cell": {
     "cellMetadata": {
      "byteLimit": 2048000,
      "rowLimit": 10000
     },
     "inputWidgets": {},
     "nuid": "d58bddee-a4d1-4780-8c8c-7eb085c85021",
     "showTitle": false,
     "tableResultSettingsMap": {},
     "title": ""
    }
   },
   "outputs": [
    {
     "output_type": "display_data",
     "data": {
      "text/html": [
       "<style scoped>\n",
       "  .table-result-container {\n",
       "    max-height: 300px;\n",
       "    overflow: auto;\n",
       "  }\n",
       "  table, th, td {\n",
       "    border: 1px solid black;\n",
       "    border-collapse: collapse;\n",
       "  }\n",
       "  th, td {\n",
       "    padding: 5px;\n",
       "  }\n",
       "  th {\n",
       "    text-align: left;\n",
       "  }\n",
       "</style><div class='table-result-container'><table class='table-result'><thead style='background-color: white'><tr><th>access_timestamp</th><th>access_ip_address</th><th>local_access</th><th>access_uuid</th><th>user_uuid</th><th>course_uuid</th><th>dt_load</th></tr></thead><tbody><tr><td>2024-06-02T10:51:16Z</td><td>69.127.75.83</td><td>Computer</td><td>d6894f8d0be6fc07738efd35ad4d076d</td><td>null</td><td>null</td><td>2024-11-29T15:17:48.667Z</td></tr><tr><td>2024-06-02T11:24:12Z</td><td>168.18.37.100</td><td>Mobile</td><td>9282482ea2d2753cc2fca9fe45584434</td><td>null</td><td>null</td><td>2024-11-29T15:17:48.667Z</td></tr><tr><td>2024-06-02T11:57:08Z</td><td>113.109.66.208</td><td>Computer</td><td>8f8888544fef2ab31eba86ac2439643f</td><td>null</td><td>null</td><td>2024-11-29T15:17:48.667Z</td></tr><tr><td>2024-06-02T12:30:04Z</td><td>87.241.252.59</td><td>Computer</td><td>0b187aed08deadfc694ca80bb5beb8c6</td><td>null</td><td>null</td><td>2024-11-29T15:17:48.667Z</td></tr><tr><td>2024-06-02T13:03:00Z</td><td>188.111.120.11</td><td>Mobile</td><td>8954acd1862b490bac52b46314bb1327</td><td>null</td><td>null</td><td>2024-11-29T15:17:48.667Z</td></tr></tbody></table></div>"
      ]
     },
     "metadata": {
      "application/vnd.databricks.v1+output": {
       "addedWidgets": {},
       "aggData": [],
       "aggError": "",
       "aggOverflow": false,
       "aggSchema": [],
       "aggSeriesLimitReached": false,
       "aggType": "",
       "arguments": {},
       "columnCustomDisplayInfos": {},
       "data": [
        [
         "2024-06-02T10:51:16Z",
         "69.127.75.83",
         "Computer",
         "d6894f8d0be6fc07738efd35ad4d076d",
         null,
         null,
         "2024-11-29T15:17:48.667Z"
        ],
        [
         "2024-06-02T11:24:12Z",
         "168.18.37.100",
         "Mobile",
         "9282482ea2d2753cc2fca9fe45584434",
         null,
         null,
         "2024-11-29T15:17:48.667Z"
        ],
        [
         "2024-06-02T11:57:08Z",
         "113.109.66.208",
         "Computer",
         "8f8888544fef2ab31eba86ac2439643f",
         null,
         null,
         "2024-11-29T15:17:48.667Z"
        ],
        [
         "2024-06-02T12:30:04Z",
         "87.241.252.59",
         "Computer",
         "0b187aed08deadfc694ca80bb5beb8c6",
         null,
         null,
         "2024-11-29T15:17:48.667Z"
        ],
        [
         "2024-06-02T13:03:00Z",
         "188.111.120.11",
         "Mobile",
         "8954acd1862b490bac52b46314bb1327",
         null,
         null,
         "2024-11-29T15:17:48.667Z"
        ]
       ],
       "datasetInfos": [],
       "dbfsResultPath": null,
       "isJsonSchema": true,
       "metadata": {
        "isDbfsCommandResult": false
       },
       "overflow": false,
       "plotOptions": {
        "customPlotOptions": {},
        "displayType": "table",
        "pivotAggregation": null,
        "pivotColumns": null,
        "xColumns": null,
        "yColumns": null
       },
       "removedWidgets": [],
       "schema": [
        {
         "metadata": "{}",
         "name": "access_timestamp",
         "type": "\"timestamp\""
        },
        {
         "metadata": "{}",
         "name": "access_ip_address",
         "type": "\"string\""
        },
        {
         "metadata": "{}",
         "name": "local_access",
         "type": "\"string\""
        },
        {
         "metadata": "{}",
         "name": "access_uuid",
         "type": "\"string\""
        },
        {
         "metadata": "{}",
         "name": "user_uuid",
         "type": "\"string\""
        },
        {
         "metadata": "{}",
         "name": "course_uuid",
         "type": "\"string\""
        },
        {
         "metadata": "{}",
         "name": "dt_load",
         "type": "\"timestamp\""
        }
       ],
       "type": "table"
      }
     },
     "output_type": "display_data"
    }
   ],
   "source": [
    "df_access = spark.sql(\"\"\" \n",
    "    SELECT \n",
    "      CAST( access_date AS TIMESTAMP) AS access_timestamp,\n",
    "      ip_address AS access_ip_address,\n",
    "      CASE WHEN access_point IN ('iphone','android') THEN 'Mobile' ELSE 'Computer' END AS local_access,\n",
    "      md5(concat(\n",
    "        CAST(access_date AS TIMESTAMP),\n",
    "        ip_address,\n",
    "        CASE WHEN access_point IN ('iphne', 'android') THEN 'Mobile' ELSE 'Computer' END\n",
    "      )) AS access_uuid,\n",
    "      md5(concat(\n",
    "          CAST( access_date AS TIMESTAMP),\n",
    "          payload.info_usuario.nome        \n",
    "         )) AS user_uuid,\n",
    "        payload.info_produto.product_uuid AS course_uuid,\n",
    "      getdate() AS dt_load\n",
    "    FROM stream_temp_vw_api\n",
    "\"\"\"\n",
    ")\n",
    "\n",
    "df_access.limit(5).display()"
   ]
  },
  {
   "cell_type": "markdown",
   "metadata": {
    "application/vnd.databricks.v1+cell": {
     "cellMetadata": {},
     "inputWidgets": {},
     "nuid": "85b37a69-55ff-4d1a-aa87-37608586c34a",
     "showTitle": false,
     "tableResultSettingsMap": {},
     "title": ""
    }
   },
   "source": [
    "We have just read the stream data from our API. \n",
    "\n",
    "Important note about spark:\n",
    "* The origin and destination of the should have the same caracteristics. In other words:\n",
    "  * `Source` : Stream data and `Destination`: Stream data\n",
    "  * `Source` : Batch data and `Destionation`: batch data\n",
    "\n",
    "In other to overcome this issue, we will use `Spark Structured Streaming` to read the sterming data in batch.\n",
    "\n",
    "We use `Spark Structured Streaming` to load micro batch of data.\n",
    "\n",
    "`Spark Structured Streaming` :\n",
    "* No need to manage a checkpoint table to identify data that have been loead\n",
    "* The `Spark Structured Streaming` uses a **`checkpoint directory`** defined by the writeStream method. This checkpoint stores the last file/offset/row  that have been stored.This way, in case of failing the process, the spark will be able to garantee the **Stream Exactly-Once Semantics**. In other words, the checkpoint is responsible for controlling the load as it should be loaded.\n",
    "* **trigger(availableNow == True)** : States spark to do the load in batch by using the Structured Streaming Process. That way, spark will ingest the data in micro-batches. After finishing all mapped data \n",
    "\n",
    "\n",
    "O Spark Structured Streaming permite o uso do tipo de **trigger availableNow**. Quando definido como **True** dentro do método **`trigger`** no método **`writeStream`** indicará ao Spark que **realize a carga de dados em Batch** usando o processo do Structured Streaming. O spark irá realizar a leitura de todos os registros disponíveis para carga e irá realizar a ingestão de todos esses dados em micro-batchs. Ao terminar a execução de todos os registros mapeados no início do processo de carga, o **Spark will stop the  Stream query automatically.**.  \n"
   ]
  },
  {
   "cell_type": "markdown",
   "metadata": {
    "application/vnd.databricks.v1+cell": {
     "cellMetadata": {},
     "inputWidgets": {},
     "nuid": "0a58e2e9-324f-4785-b1e1-b846fa0f4964",
     "showTitle": false,
     "tableResultSettingsMap": {},
     "title": ""
    }
   },
   "source": [
    "\n",
    "* **`.writeStream`** : Stores the dataframe data into the **silver.tb_access** table which will be created on-the-fly through the **`.table()`** method \n",
    "* **`.outputMode('append')`**: States the the data will be appended in the destiny table\n",
    "* **`option('CheckpointLocation', access_checkpoint_location)`**: Defines the diretory where the spark will use to control the streaming data and perform the `exactly-once delivery`\n",
    "* **`.trigger(availableNow=True)`**: States that the writeStream process will be performed in batch.\n",
    "* **`.awaitTermination()`**: Makes the stream query a synchronous process. Used when the **`availableNow`** parameter is equal to **`True`**\n"
   ]
  },
  {
   "cell_type": "code",
   "execution_count": 0,
   "metadata": {
    "application/vnd.databricks.v1+cell": {
     "cellMetadata": {
      "byteLimit": 2048000,
      "rowLimit": 10000
     },
     "inputWidgets": {},
     "nuid": "47ddec4d-de75-48eb-8a20-3e134000d5b2",
     "showTitle": false,
     "tableResultSettingsMap": {},
     "title": ""
    }
   },
   "outputs": [
    {
     "output_type": "display_data",
     "data": {
      "text/html": [
       "<style scoped>\n",
       "  .ansiout {\n",
       "    display: block;\n",
       "    unicode-bidi: embed;\n",
       "    white-space: pre-wrap;\n",
       "    word-wrap: break-word;\n",
       "    word-break: break-all;\n",
       "    font-family: \"Menlo\", \"Monaco\", \"Consolas\", \"Ubuntu Mono\", \"Source Code Pro\", monospace;\n",
       "    font-size: 13px;\n",
       "    color: #555;\n",
       "    margin-left: 4px;\n",
       "    line-height: 19px;\n",
       "  }\n",
       "</style>\n",
       "<div class=\"ansiout\">res11: Boolean = false\n",
       "</div>"
      ]
     },
     "metadata": {
      "application/vnd.databricks.v1+output": {
       "addedWidgets": {},
       "arguments": {},
       "data": "<div class=\"ansiout\">res11: Boolean = false\n</div>",
       "datasetInfos": [],
       "metadata": {
        "isDbfsCommandResult": false
       },
       "removedWidgets": [],
       "type": "html"
      }
     },
     "output_type": "display_data"
    }
   ],
   "source": [
    "%fs rm -r dbfs:/user/hive/warehouse/silver.db/tb_access"
   ]
  },
  {
   "cell_type": "code",
   "execution_count": 0,
   "metadata": {
    "application/vnd.databricks.v1+cell": {
     "cellMetadata": {
      "byteLimit": 2048000,
      "rowLimit": 10000
     },
     "inputWidgets": {},
     "nuid": "145a0fdf-6677-4363-8391-f474cdb14ea3",
     "showTitle": false,
     "tableResultSettingsMap": {},
     "title": ""
    }
   },
   "outputs": [
    {
     "output_type": "display_data",
     "data": {
      "text/html": [
       "<style scoped>\n",
       "  .ansiout {\n",
       "    display: block;\n",
       "    unicode-bidi: embed;\n",
       "    white-space: pre-wrap;\n",
       "    word-wrap: break-word;\n",
       "    word-break: break-all;\n",
       "    font-family: \"Menlo\", \"Monaco\", \"Consolas\", \"Ubuntu Mono\", \"Source Code Pro\", monospace;\n",
       "    font-size: 13px;\n",
       "    color: #555;\n",
       "    margin-left: 4px;\n",
       "    line-height: 19px;\n",
       "  }\n",
       "</style>\n",
       "<div class=\"ansiout\">res12: Boolean = true\n",
       "</div>"
      ]
     },
     "metadata": {
      "application/vnd.databricks.v1+output": {
       "addedWidgets": {},
       "arguments": {},
       "data": "<div class=\"ansiout\">res12: Boolean = true\n</div>",
       "datasetInfos": [],
       "metadata": {
        "isDbfsCommandResult": false
       },
       "removedWidgets": [],
       "type": "html"
      }
     },
     "output_type": "display_data"
    }
   ],
   "source": [
    "%fs rm -r dbfs:/user/hive/warehouse/silver.db/_checkpoint/api/tb_access"
   ]
  },
  {
   "cell_type": "code",
   "execution_count": 0,
   "metadata": {
    "application/vnd.databricks.v1+cell": {
     "cellMetadata": {
      "byteLimit": 2048000,
      "rowLimit": 10000
     },
     "inputWidgets": {},
     "nuid": "e3e3b4d8-a37f-46af-b467-10d511909d0f",
     "showTitle": false,
     "tableResultSettingsMap": {},
     "title": ""
    }
   },
   "outputs": [
    {
     "output_type": "display_data",
     "data": {
      "text/html": [
       "<style scoped>\n",
       "  .table-result-container {\n",
       "    max-height: 300px;\n",
       "    overflow: auto;\n",
       "  }\n",
       "  table, th, td {\n",
       "    border: 1px solid black;\n",
       "    border-collapse: collapse;\n",
       "  }\n",
       "  th, td {\n",
       "    padding: 5px;\n",
       "  }\n",
       "  th {\n",
       "    text-align: left;\n",
       "  }\n",
       "</style><div class='table-result-container'><table class='table-result'><thead style='background-color: white'><tr><th>access_timestamp</th><th>access_ip_address</th><th>local_access</th><th>access_uuid</th><th>user_uuid</th><th>course_uuid</th><th>dt_load</th></tr></thead><tbody><tr><td>2024-06-02T10:51:16Z</td><td>69.127.75.83</td><td>Computer</td><td>d6894f8d0be6fc07738efd35ad4d076d</td><td>null</td><td>null</td><td>2024-11-29T15:18:32.449Z</td></tr><tr><td>2024-06-02T11:24:12Z</td><td>168.18.37.100</td><td>Mobile</td><td>9282482ea2d2753cc2fca9fe45584434</td><td>null</td><td>null</td><td>2024-11-29T15:18:32.449Z</td></tr><tr><td>2024-06-02T11:57:08Z</td><td>113.109.66.208</td><td>Computer</td><td>8f8888544fef2ab31eba86ac2439643f</td><td>null</td><td>null</td><td>2024-11-29T15:18:32.449Z</td></tr><tr><td>2024-06-02T12:30:04Z</td><td>87.241.252.59</td><td>Computer</td><td>0b187aed08deadfc694ca80bb5beb8c6</td><td>null</td><td>null</td><td>2024-11-29T15:18:32.449Z</td></tr><tr><td>2024-06-02T13:03:00Z</td><td>188.111.120.11</td><td>Mobile</td><td>8954acd1862b490bac52b46314bb1327</td><td>null</td><td>null</td><td>2024-11-29T15:18:32.449Z</td></tr></tbody></table></div>"
      ]
     },
     "metadata": {
      "application/vnd.databricks.v1+output": {
       "addedWidgets": {},
       "aggData": [],
       "aggError": "",
       "aggOverflow": false,
       "aggSchema": [],
       "aggSeriesLimitReached": false,
       "aggType": "",
       "arguments": {},
       "columnCustomDisplayInfos": {},
       "data": [
        [
         "2024-06-02T10:51:16Z",
         "69.127.75.83",
         "Computer",
         "d6894f8d0be6fc07738efd35ad4d076d",
         null,
         null,
         "2024-11-29T15:18:32.449Z"
        ],
        [
         "2024-06-02T11:24:12Z",
         "168.18.37.100",
         "Mobile",
         "9282482ea2d2753cc2fca9fe45584434",
         null,
         null,
         "2024-11-29T15:18:32.449Z"
        ],
        [
         "2024-06-02T11:57:08Z",
         "113.109.66.208",
         "Computer",
         "8f8888544fef2ab31eba86ac2439643f",
         null,
         null,
         "2024-11-29T15:18:32.449Z"
        ],
        [
         "2024-06-02T12:30:04Z",
         "87.241.252.59",
         "Computer",
         "0b187aed08deadfc694ca80bb5beb8c6",
         null,
         null,
         "2024-11-29T15:18:32.449Z"
        ],
        [
         "2024-06-02T13:03:00Z",
         "188.111.120.11",
         "Mobile",
         "8954acd1862b490bac52b46314bb1327",
         null,
         null,
         "2024-11-29T15:18:32.449Z"
        ]
       ],
       "datasetInfos": [],
       "dbfsResultPath": null,
       "isJsonSchema": true,
       "metadata": {},
       "overflow": false,
       "plotOptions": {
        "customPlotOptions": {},
        "displayType": "table",
        "pivotAggregation": null,
        "pivotColumns": null,
        "xColumns": null,
        "yColumns": null
       },
       "removedWidgets": [],
       "schema": [
        {
         "metadata": "{}",
         "name": "access_timestamp",
         "type": "\"timestamp\""
        },
        {
         "metadata": "{}",
         "name": "access_ip_address",
         "type": "\"string\""
        },
        {
         "metadata": "{}",
         "name": "local_access",
         "type": "\"string\""
        },
        {
         "metadata": "{}",
         "name": "access_uuid",
         "type": "\"string\""
        },
        {
         "metadata": "{}",
         "name": "user_uuid",
         "type": "\"string\""
        },
        {
         "metadata": "{}",
         "name": "course_uuid",
         "type": "\"string\""
        },
        {
         "metadata": "{}",
         "name": "dt_load",
         "type": "\"timestamp\""
        }
       ],
       "type": "table"
      }
     },
     "output_type": "display_data"
    }
   ],
   "source": [
    "access_checkpoint_location = 'dbfs:/user/hive/warehouse/silver.db/_checkpoint/api/tb_access'\n",
    "(\n",
    "    df_access.writeStream\n",
    "        .format('delta')\n",
    "        .outputMode('append')\n",
    "        .option('CheckpointLocation', access_checkpoint_location)\n",
    "        .trigger(availableNow = True)\n",
    "        .table('silver.tb_access').awaitTermination()\n",
    ")\n",
    "\n",
    "\n",
    "\n",
    "spark.sql('SELECT * FROM silver.tb_access LIMIT 5').display()"
   ]
  },
  {
   "cell_type": "markdown",
   "metadata": {
    "application/vnd.databricks.v1+cell": {
     "cellMetadata": {},
     "inputWidgets": {},
     "nuid": "4731dff4-e3b9-435c-aedf-679ebdc55e1f",
     "showTitle": false,
     "tableResultSettingsMap": {},
     "title": ""
    }
   },
   "source": [
    "### 4.3 Users Table "
   ]
  },
  {
   "cell_type": "markdown",
   "metadata": {
    "application/vnd.databricks.v1+cell": {
     "cellMetadata": {},
     "inputWidgets": {},
     "nuid": "d72af21d-7a51-4fc2-ad1d-8178b6c39347",
     "showTitle": false,
     "tableResultSettingsMap": {},
     "title": ""
    }
   },
   "source": [
    "Important Note:\n",
    "* Even though we have two different sources ( API and Files) building the same user table, we still  have to identify two different checkpoint directory for each of the source.\n"
   ]
  },
  {
   "cell_type": "markdown",
   "metadata": {
    "application/vnd.databricks.v1+cell": {
     "cellMetadata": {},
     "inputWidgets": {},
     "nuid": "ff8d81a9-4257-4b90-8dd8-8ccd83c1b01f",
     "showTitle": false,
     "tableResultSettingsMap": {},
     "title": ""
    }
   },
   "source": [
    "### 4.3.1 API users data"
   ]
  },
  {
   "cell_type": "markdown",
   "metadata": {
    "application/vnd.databricks.v1+cell": {
     "cellMetadata": {},
     "inputWidgets": {},
     "nuid": "c63a1868-216b-4c70-a4fe-af74b8ffa504",
     "showTitle": false,
     "tableResultSettingsMap": {},
     "title": ""
    }
   },
   "source": [
    "* **`df_users_api`**: contains all the user information from the API data. \n",
    "* **`user_uuid`** : We will use the **`md5()`** function to create the `user_uuid`. To do that, we will concat the columns below:\n",
    "  * **`access_date`** - we will cast to timestamp\n",
    "  * **`payload.info_usuario.nome`** \n",
    "* **`origin`**: Informs wheather the data is from API or file ( data vault modelling principle)\n",
    "* **`dt_load`**: The process date"
   ]
  },
  {
   "cell_type": "code",
   "execution_count": 0,
   "metadata": {
    "application/vnd.databricks.v1+cell": {
     "cellMetadata": {
      "byteLimit": 2048000,
      "rowLimit": 10000
     },
     "inputWidgets": {},
     "nuid": "1e964401-d836-4c13-8954-ff4fe6b6c08e",
     "showTitle": false,
     "tableResultSettingsMap": {},
     "title": ""
    }
   },
   "outputs": [
    {
     "output_type": "display_data",
     "data": {
      "text/html": [
       "<style scoped>\n",
       "  .table-result-container {\n",
       "    max-height: 300px;\n",
       "    overflow: auto;\n",
       "  }\n",
       "  table, th, td {\n",
       "    border: 1px solid black;\n",
       "    border-collapse: collapse;\n",
       "  }\n",
       "  th, td {\n",
       "    padding: 5px;\n",
       "  }\n",
       "  th {\n",
       "    text-align: left;\n",
       "  }\n",
       "</style><div class='table-result-container'><table class='table-result'><thead style='background-color: white'><tr><th>user_uuid</th><th>user_name</th><th>user_email</th><th>user_idade</th><th>user_gender</th><th>user_state</th><th>user_profession</th><th>company</th><th>origin</th><th>dt_load</th></tr></thead><tbody><tr><td>b743fc5f984f623958d0ea0bc0edafef</td><td>Usuario 15ce4bb4b2</td><td>usuario_15ce4bb4b2@uol.com</td><td>21</td><td>F</td><td>MS</td><td>Cientista de Dados</td><td>null</td><td>API</td><td>2024-11-29T13:57:52.384Z</td></tr><tr><td>9e26cd7d73ab748a2e84d60f63e37d1e</td><td>Usuario f9db37a838</td><td>usuario_f9db37a838@gmail.com</td><td>37</td><td>M</td><td>PE</td><td>Arquiteto de Dados</td><td>null</td><td>API</td><td>2024-11-29T13:57:52.384Z</td></tr><tr><td>b4087b3b31810e76478bf36d15a5a004</td><td>Usuario 3c3d30dcfd</td><td>usuario_3c3d30dcfd@uol.com</td><td>41</td><td>M</td><td>PR</td><td>Desenvolvedor de Sistemas</td><td>null</td><td>API</td><td>2024-11-29T13:57:52.384Z</td></tr><tr><td>6b6f45a7ba1a53661b2ec7344d9e7e60</td><td>Usuario 412bbf0591</td><td>usuario_412bbf0591@outlook.com</td><td>23</td><td>F</td><td>SE</td><td>Desenvolvedor de ETL</td><td>null</td><td>API</td><td>2024-11-29T13:57:52.384Z</td></tr><tr><td>6505bcb29d968af8150ddd9082899312</td><td>Usuario 1dadb89898</td><td>usuario_1dadb89898@gmail.com</td><td>20</td><td>F</td><td>RR</td><td>Desenvolvedor de ETL</td><td>null</td><td>API</td><td>2024-11-29T13:57:52.384Z</td></tr></tbody></table></div>"
      ]
     },
     "metadata": {
      "application/vnd.databricks.v1+output": {
       "addedWidgets": {},
       "aggData": [],
       "aggError": "",
       "aggOverflow": false,
       "aggSchema": [],
       "aggSeriesLimitReached": false,
       "aggType": "",
       "arguments": {},
       "columnCustomDisplayInfos": {},
       "data": [
        [
         "b743fc5f984f623958d0ea0bc0edafef",
         "Usuario 15ce4bb4b2",
         "usuario_15ce4bb4b2@uol.com",
         21,
         "F",
         "MS",
         "Cientista de Dados",
         null,
         "API",
         "2024-11-29T13:57:52.384Z"
        ],
        [
         "9e26cd7d73ab748a2e84d60f63e37d1e",
         "Usuario f9db37a838",
         "usuario_f9db37a838@gmail.com",
         37,
         "M",
         "PE",
         "Arquiteto de Dados",
         null,
         "API",
         "2024-11-29T13:57:52.384Z"
        ],
        [
         "b4087b3b31810e76478bf36d15a5a004",
         "Usuario 3c3d30dcfd",
         "usuario_3c3d30dcfd@uol.com",
         41,
         "M",
         "PR",
         "Desenvolvedor de Sistemas",
         null,
         "API",
         "2024-11-29T13:57:52.384Z"
        ],
        [
         "6b6f45a7ba1a53661b2ec7344d9e7e60",
         "Usuario 412bbf0591",
         "usuario_412bbf0591@outlook.com",
         23,
         "F",
         "SE",
         "Desenvolvedor de ETL",
         null,
         "API",
         "2024-11-29T13:57:52.384Z"
        ],
        [
         "6505bcb29d968af8150ddd9082899312",
         "Usuario 1dadb89898",
         "usuario_1dadb89898@gmail.com",
         20,
         "F",
         "RR",
         "Desenvolvedor de ETL",
         null,
         "API",
         "2024-11-29T13:57:52.384Z"
        ]
       ],
       "datasetInfos": [],
       "dbfsResultPath": null,
       "isJsonSchema": true,
       "metadata": {
        "isDbfsCommandResult": false
       },
       "overflow": false,
       "plotOptions": {
        "customPlotOptions": {},
        "displayType": "table",
        "pivotAggregation": null,
        "pivotColumns": null,
        "xColumns": null,
        "yColumns": null
       },
       "removedWidgets": [],
       "schema": [
        {
         "metadata": "{}",
         "name": "user_uuid",
         "type": "\"string\""
        },
        {
         "metadata": "{}",
         "name": "user_name",
         "type": "\"string\""
        },
        {
         "metadata": "{}",
         "name": "user_email",
         "type": "\"string\""
        },
        {
         "metadata": "{}",
         "name": "user_idade",
         "type": "\"integer\""
        },
        {
         "metadata": "{}",
         "name": "user_gender",
         "type": "\"string\""
        },
        {
         "metadata": "{}",
         "name": "user_state",
         "type": "\"string\""
        },
        {
         "metadata": "{}",
         "name": "user_profession",
         "type": "\"string\""
        },
        {
         "metadata": "{}",
         "name": "company",
         "type": "\"string\""
        },
        {
         "metadata": "{}",
         "name": "origin",
         "type": "\"string\""
        },
        {
         "metadata": "{}",
         "name": "dt_load",
         "type": "\"timestamp\""
        }
       ],
       "type": "table"
      }
     },
     "output_type": "display_data"
    }
   ],
   "source": [
    "df_user_api = spark.sql(\"\"\"\n",
    "          SELECT \n",
    "            md5(concat(\n",
    "            cast(access_date AS TIMESTAMP),\n",
    "            payload.info_usuario.nome\n",
    "            )) AS user_uuid,\n",
    "            payload.info_usuario.nome AS user_name,\n",
    "            payload.info_usuario.email AS user_email,\n",
    "            CAST(payload.info_usuario.idade  AS INT) AS user_idade,\n",
    "            payload.info_usuario.sexo as user_gender,\n",
    "            payload.info_usuario.estado AS user_state,\n",
    "            payload.info_usuario.profissao AS user_profession,\n",
    "            CAST(NULL AS STRING) AS company,\n",
    "            'API' as origin,\n",
    "            getdate() as dt_load\n",
    "            FROM stream_temp_vw_api\n",
    "            WHERE payload.info_usuario IS NOT NULL\n",
    "\"\"\")\n",
    "\n",
    "df_user_api.limit(5).display()"
   ]
  },
  {
   "cell_type": "markdown",
   "metadata": {
    "application/vnd.databricks.v1+cell": {
     "cellMetadata": {},
     "inputWidgets": {},
     "nuid": "7c476fac-bfc5-4a04-82b5-925f176a69c9",
     "showTitle": false,
     "tableResultSettingsMap": {},
     "title": ""
    }
   },
   "source": [
    "* **`option('mergeSchema',True)`** Indicates the process of **Schema Evolution**.\n",
    "\n",
    "* **`.trigger(availableNow=True)`** States that the writeStream occours in  **batch**.\n",
    "\n",
    "* **`.awaitTermination()`**  Makes the stream query to be a synchronous \n"
   ]
  },
  {
   "cell_type": "code",
   "execution_count": 0,
   "metadata": {
    "application/vnd.databricks.v1+cell": {
     "cellMetadata": {
      "byteLimit": 2048000,
      "rowLimit": 10000
     },
     "inputWidgets": {},
     "nuid": "c1347f7c-9fc4-42ff-b256-8cd6f0371d19",
     "showTitle": false,
     "tableResultSettingsMap": {},
     "title": ""
    }
   },
   "outputs": [
    {
     "output_type": "display_data",
     "data": {
      "text/html": [
       "<style scoped>\n",
       "  .ansiout {\n",
       "    display: block;\n",
       "    unicode-bidi: embed;\n",
       "    white-space: pre-wrap;\n",
       "    word-wrap: break-word;\n",
       "    word-break: break-all;\n",
       "    font-family: \"Menlo\", \"Monaco\", \"Consolas\", \"Ubuntu Mono\", \"Source Code Pro\", monospace;\n",
       "    font-size: 13px;\n",
       "    color: #555;\n",
       "    margin-left: 4px;\n",
       "    line-height: 19px;\n",
       "  }\n",
       "</style>\n",
       "<div class=\"ansiout\">res7: Boolean = true\n",
       "</div>"
      ]
     },
     "metadata": {
      "application/vnd.databricks.v1+output": {
       "addedWidgets": {},
       "arguments": {},
       "data": "<div class=\"ansiout\">res7: Boolean = true\n</div>",
       "datasetInfos": [],
       "metadata": {
        "isDbfsCommandResult": false
       },
       "removedWidgets": [],
       "type": "html"
      }
     },
     "output_type": "display_data"
    }
   ],
   "source": [
    "%fs rm -r dbfs:/user/hive/warehouse/silver.db/_checkpoint/api/tb_users"
   ]
  },
  {
   "cell_type": "code",
   "execution_count": 0,
   "metadata": {
    "application/vnd.databricks.v1+cell": {
     "cellMetadata": {
      "byteLimit": 2048000,
      "rowLimit": 10000
     },
     "inputWidgets": {},
     "nuid": "f1cfe179-3b4a-46d0-aae2-017a716938c5",
     "showTitle": false,
     "tableResultSettingsMap": {},
     "title": ""
    }
   },
   "outputs": [
    {
     "output_type": "display_data",
     "data": {
      "text/html": [
       "<style scoped>\n",
       "  .ansiout {\n",
       "    display: block;\n",
       "    unicode-bidi: embed;\n",
       "    white-space: pre-wrap;\n",
       "    word-wrap: break-word;\n",
       "    word-break: break-all;\n",
       "    font-family: \"Menlo\", \"Monaco\", \"Consolas\", \"Ubuntu Mono\", \"Source Code Pro\", monospace;\n",
       "    font-size: 13px;\n",
       "    color: #555;\n",
       "    margin-left: 4px;\n",
       "    line-height: 19px;\n",
       "  }\n",
       "</style>\n",
       "<div class=\"ansiout\">res8: Boolean = true\n",
       "</div>"
      ]
     },
     "metadata": {
      "application/vnd.databricks.v1+output": {
       "addedWidgets": {},
       "arguments": {},
       "data": "<div class=\"ansiout\">res8: Boolean = true\n</div>",
       "datasetInfos": [],
       "metadata": {
        "isDbfsCommandResult": false
       },
       "removedWidgets": [],
       "type": "html"
      }
     },
     "output_type": "display_data"
    }
   ],
   "source": [
    "%fs rm -r dbfs:/user/hive/warehouse/silver.db/tb_users"
   ]
  },
  {
   "cell_type": "code",
   "execution_count": 0,
   "metadata": {
    "application/vnd.databricks.v1+cell": {
     "cellMetadata": {
      "byteLimit": 2048000,
      "rowLimit": 10000
     },
     "inputWidgets": {},
     "nuid": "8839a32f-8159-4b39-9c92-99f0d4058928",
     "showTitle": false,
     "tableResultSettingsMap": {},
     "title": ""
    }
   },
   "outputs": [
    {
     "output_type": "display_data",
     "data": {
      "text/html": [
       "<style scoped>\n",
       "  .table-result-container {\n",
       "    max-height: 300px;\n",
       "    overflow: auto;\n",
       "  }\n",
       "  table, th, td {\n",
       "    border: 1px solid black;\n",
       "    border-collapse: collapse;\n",
       "  }\n",
       "  th, td {\n",
       "    padding: 5px;\n",
       "  }\n",
       "  th {\n",
       "    text-align: left;\n",
       "  }\n",
       "</style><div class='table-result-container'><table class='table-result'><thead style='background-color: white'><tr><th>user_uuid</th><th>user_name</th><th>user_email</th><th>user_idade</th><th>user_gender</th><th>user_state</th><th>user_profession</th><th>company</th><th>origin</th><th>dt_load</th></tr></thead><tbody><tr><td>b743fc5f984f623958d0ea0bc0edafef</td><td>Usuario 15ce4bb4b2</td><td>usuario_15ce4bb4b2@uol.com</td><td>21</td><td>F</td><td>MS</td><td>Cientista de Dados</td><td>null</td><td>API</td><td>2024-11-29T13:58:41.602Z</td></tr><tr><td>9e26cd7d73ab748a2e84d60f63e37d1e</td><td>Usuario f9db37a838</td><td>usuario_f9db37a838@gmail.com</td><td>37</td><td>M</td><td>PE</td><td>Arquiteto de Dados</td><td>null</td><td>API</td><td>2024-11-29T13:58:41.602Z</td></tr><tr><td>b4087b3b31810e76478bf36d15a5a004</td><td>Usuario 3c3d30dcfd</td><td>usuario_3c3d30dcfd@uol.com</td><td>41</td><td>M</td><td>PR</td><td>Desenvolvedor de Sistemas</td><td>null</td><td>API</td><td>2024-11-29T13:58:41.602Z</td></tr><tr><td>6b6f45a7ba1a53661b2ec7344d9e7e60</td><td>Usuario 412bbf0591</td><td>usuario_412bbf0591@outlook.com</td><td>23</td><td>F</td><td>SE</td><td>Desenvolvedor de ETL</td><td>null</td><td>API</td><td>2024-11-29T13:58:41.602Z</td></tr><tr><td>6505bcb29d968af8150ddd9082899312</td><td>Usuario 1dadb89898</td><td>usuario_1dadb89898@gmail.com</td><td>20</td><td>F</td><td>RR</td><td>Desenvolvedor de ETL</td><td>null</td><td>API</td><td>2024-11-29T13:58:41.602Z</td></tr></tbody></table></div>"
      ]
     },
     "metadata": {
      "application/vnd.databricks.v1+output": {
       "addedWidgets": {},
       "aggData": [],
       "aggError": "",
       "aggOverflow": false,
       "aggSchema": [],
       "aggSeriesLimitReached": false,
       "aggType": "",
       "arguments": {},
       "columnCustomDisplayInfos": {},
       "data": [
        [
         "b743fc5f984f623958d0ea0bc0edafef",
         "Usuario 15ce4bb4b2",
         "usuario_15ce4bb4b2@uol.com",
         21,
         "F",
         "MS",
         "Cientista de Dados",
         null,
         "API",
         "2024-11-29T13:58:41.602Z"
        ],
        [
         "9e26cd7d73ab748a2e84d60f63e37d1e",
         "Usuario f9db37a838",
         "usuario_f9db37a838@gmail.com",
         37,
         "M",
         "PE",
         "Arquiteto de Dados",
         null,
         "API",
         "2024-11-29T13:58:41.602Z"
        ],
        [
         "b4087b3b31810e76478bf36d15a5a004",
         "Usuario 3c3d30dcfd",
         "usuario_3c3d30dcfd@uol.com",
         41,
         "M",
         "PR",
         "Desenvolvedor de Sistemas",
         null,
         "API",
         "2024-11-29T13:58:41.602Z"
        ],
        [
         "6b6f45a7ba1a53661b2ec7344d9e7e60",
         "Usuario 412bbf0591",
         "usuario_412bbf0591@outlook.com",
         23,
         "F",
         "SE",
         "Desenvolvedor de ETL",
         null,
         "API",
         "2024-11-29T13:58:41.602Z"
        ],
        [
         "6505bcb29d968af8150ddd9082899312",
         "Usuario 1dadb89898",
         "usuario_1dadb89898@gmail.com",
         20,
         "F",
         "RR",
         "Desenvolvedor de ETL",
         null,
         "API",
         "2024-11-29T13:58:41.602Z"
        ]
       ],
       "datasetInfos": [],
       "dbfsResultPath": null,
       "isJsonSchema": true,
       "metadata": {},
       "overflow": false,
       "plotOptions": {
        "customPlotOptions": {},
        "displayType": "table",
        "pivotAggregation": null,
        "pivotColumns": null,
        "xColumns": null,
        "yColumns": null
       },
       "removedWidgets": [],
       "schema": [
        {
         "metadata": "{}",
         "name": "user_uuid",
         "type": "\"string\""
        },
        {
         "metadata": "{}",
         "name": "user_name",
         "type": "\"string\""
        },
        {
         "metadata": "{}",
         "name": "user_email",
         "type": "\"string\""
        },
        {
         "metadata": "{}",
         "name": "user_idade",
         "type": "\"integer\""
        },
        {
         "metadata": "{}",
         "name": "user_gender",
         "type": "\"string\""
        },
        {
         "metadata": "{}",
         "name": "user_state",
         "type": "\"string\""
        },
        {
         "metadata": "{}",
         "name": "user_profession",
         "type": "\"string\""
        },
        {
         "metadata": "{}",
         "name": "company",
         "type": "\"string\""
        },
        {
         "metadata": "{}",
         "name": "origin",
         "type": "\"string\""
        },
        {
         "metadata": "{}",
         "name": "dt_load",
         "type": "\"timestamp\""
        }
       ],
       "type": "table"
      }
     },
     "output_type": "display_data"
    }
   ],
   "source": [
    "user_api_checkpoint_path = \"dbfs:/user/hive/warehouse/silver.db/_checkpoint/api/tb_users\"\n",
    "(\n",
    "  df_user_api.writeStream\n",
    "        .format('delta')\n",
    "        .outputMode('append')\n",
    "        .option('CheckpointLocation',user_api_checkpoint_path)\n",
    "        .option('mergeSchema', True)\n",
    "        .trigger(availableNow=True)\n",
    "        .table('silver.tb_users')\n",
    ").awaitTermination()\n",
    "\n",
    "spark.sql(\"SELECT * FROM silver.tb_users WHERE origin = 'API' LIMIT 5\").display()"
   ]
  },
  {
   "cell_type": "markdown",
   "metadata": {
    "application/vnd.databricks.v1+cell": {
     "cellMetadata": {},
     "inputWidgets": {},
     "nuid": "6b07bb48-ef18-4eff-ab47-293737e33fb0",
     "showTitle": false,
     "tableResultSettingsMap": {},
     "title": ""
    }
   },
   "source": [
    "### 4.3.2 Files users data"
   ]
  },
  {
   "cell_type": "markdown",
   "metadata": {
    "application/vnd.databricks.v1+cell": {
     "cellMetadata": {},
     "inputWidgets": {},
     "nuid": "33cad111-38f8-49b4-b48b-346b31424a37",
     "showTitle": false,
     "tableResultSettingsMap": {},
     "title": ""
    }
   },
   "source": [
    "\n",
    "We will now create a **`df_users_file`** that will be used to ingest users data from all batch files.\n",
    "\n",
    "* **`usuario_uuid`** : We will use the `md5()` function with concat to create the user uuid\n",
    "  * **`nome_empresa`**.\n",
    "  * **`nome_funcionario`**.\n",
    "* **`origin`** :\n",
    "* **`dt_loat`**:"
   ]
  },
  {
   "cell_type": "code",
   "execution_count": 0,
   "metadata": {
    "application/vnd.databricks.v1+cell": {
     "cellMetadata": {
      "byteLimit": 2048000,
      "rowLimit": 10000
     },
     "inputWidgets": {},
     "nuid": "c4edef45-3b17-4553-b38e-213c74390f94",
     "showTitle": false,
     "tableResultSettingsMap": {},
     "title": ""
    }
   },
   "outputs": [
    {
     "output_type": "display_data",
     "data": {
      "text/html": [
       "<style scoped>\n",
       "  .table-result-container {\n",
       "    max-height: 300px;\n",
       "    overflow: auto;\n",
       "  }\n",
       "  table, th, td {\n",
       "    border: 1px solid black;\n",
       "    border-collapse: collapse;\n",
       "  }\n",
       "  th, td {\n",
       "    padding: 5px;\n",
       "  }\n",
       "  th {\n",
       "    text-align: left;\n",
       "  }\n",
       "</style><div class='table-result-container'><table class='table-result'><thead style='background-color: white'><tr><th>user_uuid</th><th>user_name</th><th>user_email</th><th>user_idade</th><th>user_gender</th><th>user_state</th><th>user_profession</th><th>company</th><th>origin</th><th>dt_load</th></tr></thead><tbody><tr><td>984e334f07cddc9ad2640420af9a5345</td><td>Funcionario 9ea557ec22</td><td>funcionario_9ea557ec22@empresaa.com.br</td><td>38</td><td>F</td><td>ES</td><td>Arquiteto de Dados</td><td>Empresa A</td><td>FILE</td><td>2024-11-29T13:59:10.918Z</td></tr><tr><td>45895efd021febd9a70f246e3d99adb4</td><td>Funcionario 004dfe5038</td><td>funcionario_004dfe5038@empresaa.com.br</td><td>46</td><td>F</td><td>RJ</td><td>Arquiteto de Dados</td><td>Empresa A</td><td>FILE</td><td>2024-11-29T13:59:10.918Z</td></tr><tr><td>1e09fc978496b61c33e8d2ca831dae6e</td><td>Funcionario 7df9309e4f</td><td>funcionario_7df9309e4f@empresaa.com.br</td><td>36</td><td>F</td><td>SP</td><td>Analista de BI</td><td>Empresa A</td><td>FILE</td><td>2024-11-29T13:59:10.918Z</td></tr><tr><td>f6bc71b39ec053409d3ea68b6a7a816f</td><td>Funcionario 109a634962</td><td>funcionario_109a634962@empresaa.com.br</td><td>48</td><td>M</td><td>PR</td><td>Cientista de Dados</td><td>Empresa A</td><td>FILE</td><td>2024-11-29T13:59:10.918Z</td></tr><tr><td>865cd17c600cf8c81200b91e04e7c6f5</td><td>Funcionario fafcb19dae</td><td>funcionario_fafcb19dae@empresaa.com.br</td><td>48</td><td>M</td><td>SC</td><td>Cientista de Dados</td><td>Empresa A</td><td>FILE</td><td>2024-11-29T13:59:10.918Z</td></tr></tbody></table></div>"
      ]
     },
     "metadata": {
      "application/vnd.databricks.v1+output": {
       "addedWidgets": {},
       "aggData": [],
       "aggError": "",
       "aggOverflow": false,
       "aggSchema": [],
       "aggSeriesLimitReached": false,
       "aggType": "",
       "arguments": {},
       "columnCustomDisplayInfos": {},
       "data": [
        [
         "984e334f07cddc9ad2640420af9a5345",
         "Funcionario 9ea557ec22",
         "funcionario_9ea557ec22@empresaa.com.br",
         38,
         "F",
         "ES",
         "Arquiteto de Dados",
         "Empresa A",
         "FILE",
         "2024-11-29T13:59:10.918Z"
        ],
        [
         "45895efd021febd9a70f246e3d99adb4",
         "Funcionario 004dfe5038",
         "funcionario_004dfe5038@empresaa.com.br",
         46,
         "F",
         "RJ",
         "Arquiteto de Dados",
         "Empresa A",
         "FILE",
         "2024-11-29T13:59:10.918Z"
        ],
        [
         "1e09fc978496b61c33e8d2ca831dae6e",
         "Funcionario 7df9309e4f",
         "funcionario_7df9309e4f@empresaa.com.br",
         36,
         "F",
         "SP",
         "Analista de BI",
         "Empresa A",
         "FILE",
         "2024-11-29T13:59:10.918Z"
        ],
        [
         "f6bc71b39ec053409d3ea68b6a7a816f",
         "Funcionario 109a634962",
         "funcionario_109a634962@empresaa.com.br",
         48,
         "M",
         "PR",
         "Cientista de Dados",
         "Empresa A",
         "FILE",
         "2024-11-29T13:59:10.918Z"
        ],
        [
         "865cd17c600cf8c81200b91e04e7c6f5",
         "Funcionario fafcb19dae",
         "funcionario_fafcb19dae@empresaa.com.br",
         48,
         "M",
         "SC",
         "Cientista de Dados",
         "Empresa A",
         "FILE",
         "2024-11-29T13:59:10.918Z"
        ]
       ],
       "datasetInfos": [],
       "dbfsResultPath": null,
       "isJsonSchema": true,
       "metadata": {
        "isDbfsCommandResult": false
       },
       "overflow": false,
       "plotOptions": {
        "customPlotOptions": {},
        "displayType": "table",
        "pivotAggregation": null,
        "pivotColumns": null,
        "xColumns": null,
        "yColumns": null
       },
       "removedWidgets": [],
       "schema": [
        {
         "metadata": "{}",
         "name": "user_uuid",
         "type": "\"string\""
        },
        {
         "metadata": "{}",
         "name": "user_name",
         "type": "\"string\""
        },
        {
         "metadata": "{}",
         "name": "user_email",
         "type": "\"string\""
        },
        {
         "metadata": "{}",
         "name": "user_idade",
         "type": "\"integer\""
        },
        {
         "metadata": "{}",
         "name": "user_gender",
         "type": "\"string\""
        },
        {
         "metadata": "{}",
         "name": "user_state",
         "type": "\"string\""
        },
        {
         "metadata": "{}",
         "name": "user_profession",
         "type": "\"string\""
        },
        {
         "metadata": "{}",
         "name": "company",
         "type": "\"string\""
        },
        {
         "metadata": "{}",
         "name": "origin",
         "type": "\"string\""
        },
        {
         "metadata": "{}",
         "name": "dt_load",
         "type": "\"timestamp\""
        }
       ],
       "type": "table"
      }
     },
     "output_type": "display_data"
    }
   ],
   "source": [
    "df_users_file = spark.sql(\"\"\"\n",
    "      SELECT   md5(CONCAT(\n",
    "            nome_empresa,\n",
    "            nome_funcionario\n",
    "        )) AS user_uuid,\n",
    "        nome_funcionario AS user_name,\n",
    "        email_functionario AS user_email,\n",
    "        CAST(idade AS INT) AS user_idade,\n",
    "        sexo AS user_gender,\n",
    "        estado as user_state,\n",
    "        profissao as user_profession,  \n",
    "        nome_empresa AS company,\n",
    "        'FILE'  as origin,\n",
    "        getdate() as dt_load       \n",
    "        FROM stream_temp_vw_files\n",
    "\"\"\")\n",
    "\n",
    "df_users_file.limit(5).display()"
   ]
  },
  {
   "cell_type": "code",
   "execution_count": 0,
   "metadata": {
    "application/vnd.databricks.v1+cell": {
     "cellMetadata": {
      "byteLimit": 2048000,
      "rowLimit": 10000
     },
     "inputWidgets": {},
     "nuid": "86dfdfd7-be1e-4dcb-8729-e7502f4ab850",
     "showTitle": false,
     "tableResultSettingsMap": {},
     "title": ""
    }
   },
   "outputs": [
    {
     "output_type": "display_data",
     "data": {
      "text/html": [
       "<style scoped>\n",
       "  .table-result-container {\n",
       "    max-height: 300px;\n",
       "    overflow: auto;\n",
       "  }\n",
       "  table, th, td {\n",
       "    border: 1px solid black;\n",
       "    border-collapse: collapse;\n",
       "  }\n",
       "  th, td {\n",
       "    padding: 5px;\n",
       "  }\n",
       "  th {\n",
       "    text-align: left;\n",
       "  }\n",
       "</style><div class='table-result-container'><table class='table-result'><thead style='background-color: white'><tr><th>user_uuid</th><th>user_name</th><th>user_email</th><th>user_idade</th><th>user_gender</th><th>user_state</th><th>user_profession</th><th>company</th><th>origin</th><th>dt_load</th></tr></thead><tbody><tr><td>e783e39b9a202f3c75199676ed309876</td><td>Funcionario ee2d2a7774</td><td>funcionario_ee2d2a7774@empresaa.com.br</td><td>38</td><td>F</td><td>PA</td><td>Analista de Negocio</td><td>Empresa A</td><td>FILE</td><td>2024-11-29T14:00:14.792Z</td></tr><tr><td>c82b6ce03e00c77ab7e8fc1e64dfc6e4</td><td>Funcionario 3df40f8365</td><td>funcionario_3df40f8365@empresaa.com.br</td><td>20</td><td>M</td><td>AP</td><td>Analista de BI</td><td>Empresa A</td><td>FILE</td><td>2024-11-29T14:00:14.792Z</td></tr><tr><td>a33a0ab22834df686bcfe3797602af4a</td><td>Funcionario 574315e0f4</td><td>funcionario_574315e0f4@empresaa.com.br</td><td>45</td><td>M</td><td>TO</td><td>Analista de Dados</td><td>Empresa A</td><td>FILE</td><td>2024-11-29T14:00:14.792Z</td></tr><tr><td>9233664dd866ac4d3eff10d73b537086</td><td>Funcionario 855b095c21</td><td>funcionario_855b095c21@empresaa.com.br</td><td>31</td><td>F</td><td>MA</td><td>Cientista de Dados</td><td>Empresa A</td><td>FILE</td><td>2024-11-29T14:00:14.792Z</td></tr><tr><td>d84d335fdbb0dfb5c9135be223911dd4</td><td>Funcionario e3206f6f30</td><td>funcionario_e3206f6f30@empresaa.com.br</td><td>44</td><td>M</td><td>PI</td><td>Analista de BI</td><td>Empresa A</td><td>FILE</td><td>2024-11-29T14:00:14.792Z</td></tr></tbody></table></div>"
      ]
     },
     "metadata": {
      "application/vnd.databricks.v1+output": {
       "addedWidgets": {},
       "aggData": [],
       "aggError": "",
       "aggOverflow": false,
       "aggSchema": [],
       "aggSeriesLimitReached": false,
       "aggType": "",
       "arguments": {},
       "columnCustomDisplayInfos": {},
       "data": [
        [
         "e783e39b9a202f3c75199676ed309876",
         "Funcionario ee2d2a7774",
         "funcionario_ee2d2a7774@empresaa.com.br",
         38,
         "F",
         "PA",
         "Analista de Negocio",
         "Empresa A",
         "FILE",
         "2024-11-29T14:00:14.792Z"
        ],
        [
         "c82b6ce03e00c77ab7e8fc1e64dfc6e4",
         "Funcionario 3df40f8365",
         "funcionario_3df40f8365@empresaa.com.br",
         20,
         "M",
         "AP",
         "Analista de BI",
         "Empresa A",
         "FILE",
         "2024-11-29T14:00:14.792Z"
        ],
        [
         "a33a0ab22834df686bcfe3797602af4a",
         "Funcionario 574315e0f4",
         "funcionario_574315e0f4@empresaa.com.br",
         45,
         "M",
         "TO",
         "Analista de Dados",
         "Empresa A",
         "FILE",
         "2024-11-29T14:00:14.792Z"
        ],
        [
         "9233664dd866ac4d3eff10d73b537086",
         "Funcionario 855b095c21",
         "funcionario_855b095c21@empresaa.com.br",
         31,
         "F",
         "MA",
         "Cientista de Dados",
         "Empresa A",
         "FILE",
         "2024-11-29T14:00:14.792Z"
        ],
        [
         "d84d335fdbb0dfb5c9135be223911dd4",
         "Funcionario e3206f6f30",
         "funcionario_e3206f6f30@empresaa.com.br",
         44,
         "M",
         "PI",
         "Analista de BI",
         "Empresa A",
         "FILE",
         "2024-11-29T14:00:14.792Z"
        ]
       ],
       "datasetInfos": [],
       "dbfsResultPath": null,
       "isJsonSchema": true,
       "metadata": {},
       "overflow": false,
       "plotOptions": {
        "customPlotOptions": {},
        "displayType": "table",
        "pivotAggregation": null,
        "pivotColumns": null,
        "xColumns": null,
        "yColumns": null
       },
       "removedWidgets": [],
       "schema": [
        {
         "metadata": "{}",
         "name": "user_uuid",
         "type": "\"string\""
        },
        {
         "metadata": "{}",
         "name": "user_name",
         "type": "\"string\""
        },
        {
         "metadata": "{}",
         "name": "user_email",
         "type": "\"string\""
        },
        {
         "metadata": "{}",
         "name": "user_idade",
         "type": "\"integer\""
        },
        {
         "metadata": "{}",
         "name": "user_gender",
         "type": "\"string\""
        },
        {
         "metadata": "{}",
         "name": "user_state",
         "type": "\"string\""
        },
        {
         "metadata": "{}",
         "name": "user_profession",
         "type": "\"string\""
        },
        {
         "metadata": "{}",
         "name": "company",
         "type": "\"string\""
        },
        {
         "metadata": "{}",
         "name": "origin",
         "type": "\"string\""
        },
        {
         "metadata": "{}",
         "name": "dt_load",
         "type": "\"timestamp\""
        }
       ],
       "type": "table"
      }
     },
     "output_type": "display_data"
    }
   ],
   "source": [
    "user_files_checkpoint_files = 'dbfs:/user/hive/warehouse/silver.db/_checkpoint/files/tb_users'\n",
    "(\n",
    "df_users_file.writeStream\n",
    "        .format('delta')\n",
    "        .outputMode('append')\n",
    "        .option('CheckpointLocation',user_files_checkpoint_files)\n",
    "        .option('mergeSchema',True)\n",
    "        .trigger(availableNow=True)\n",
    "        .table('silver.tb_users')\n",
    ").awaitTermination()\n",
    "\n",
    "spark.sql(\"SELECT * FROM silver.tb_users WHERE origin = 'FILE' LIMIT 5\").display()"
   ]
  },
  {
   "cell_type": "markdown",
   "metadata": {
    "application/vnd.databricks.v1+cell": {
     "cellMetadata": {},
     "inputWidgets": {},
     "nuid": "f335ee34-14b2-45d4-a210-cbc32b2ec230",
     "showTitle": false,
     "tableResultSettingsMap": {},
     "title": ""
    }
   },
   "source": [
    "### 4.4 Sales Table "
   ]
  },
  {
   "cell_type": "markdown",
   "metadata": {
    "application/vnd.databricks.v1+cell": {
     "cellMetadata": {},
     "inputWidgets": {},
     "nuid": "120b455d-1373-447f-ba65-661b11fc7e74",
     "showTitle": false,
     "tableResultSettingsMap": {},
     "title": ""
    }
   },
   "source": [
    "We will load sales information fom the streming and API data and create the dataframes **`df_sales_api`** and **`df_sales_file`**. The first one with API sales data and the second containing file sales data.\n",
    "\n",
    "1. **`df_sales_api`** \n",
    "* **`acesso_uuid`** We will use the**`md5()`** function with **`concat`** to create the uuid with the columns below:\n",
    "  * **`access_date`** - cast to timestamp\n",
    "  * **`ip_address`**.\n",
    "  * **`access_point`** -  mobile or Computador (**local_acesso**).\n",
    "* **`usuario_uuid`**  **`md5()`** + **`concat`** to create the uuid by concatenating the columns below:\n",
    "  * **`access_date`** - cast to timestamp\n",
    "  * **`payload.info_usuario.nome`**.\n",
    "* **`total_value`**, **`percent_descount`** and **`descount_value`** treated\n",
    "* **`origin`** API or FILE\n",
    "* **`td_load`** the loading date"
   ]
  },
  {
   "cell_type": "markdown",
   "metadata": {
    "application/vnd.databricks.v1+cell": {
     "cellMetadata": {},
     "inputWidgets": {},
     "nuid": "d9ea929e-5fdc-4b88-a662-8651aa1345ed",
     "showTitle": false,
     "tableResultSettingsMap": {},
     "title": ""
    }
   },
   "source": [
    "#### 4.4.1 Sales API Data\n"
   ]
  },
  {
   "cell_type": "code",
   "execution_count": 0,
   "metadata": {
    "application/vnd.databricks.v1+cell": {
     "cellMetadata": {
      "byteLimit": 2048000,
      "rowLimit": 10000
     },
     "inputWidgets": {},
     "nuid": "23e5e569-127e-4829-b8cc-6b9bc66280a3",
     "showTitle": false,
     "tableResultSettingsMap": {},
     "title": ""
    }
   },
   "outputs": [
    {
     "output_type": "display_data",
     "data": {
      "text/html": [
       "<style scoped>\n",
       "  .table-result-container {\n",
       "    max-height: 300px;\n",
       "    overflow: auto;\n",
       "  }\n",
       "  table, th, td {\n",
       "    border: 1px solid black;\n",
       "    border-collapse: collapse;\n",
       "  }\n",
       "  th, td {\n",
       "    padding: 5px;\n",
       "  }\n",
       "  th {\n",
       "    text-align: left;\n",
       "  }\n",
       "</style><div class='table-result-container'><table class='table-result'><thead style='background-color: white'><tr><th>dt_sale</th><th>access_uuid</th><th>user_uuid</th><th>course_uuid</th><th>payment_method</th><th>qnt_instalments</th><th>instalments_values</th><th>total_value</th><th>percent_discount</th><th>discount_value</th><th>origin</th><th>dt_load</th></tr></thead><tbody><tr><td>2024-06-02T21:17:00Z</td><td>c2bf54a92f643d4b800b026c29aaa91d</td><td>9e26cd7d73ab748a2e84d60f63e37d1e</td><td>f260cd97c6c9813b01601e834a2added</td><td>credito</td><td>10</td><td>58.99</td><td>589.90</td><td>null</td><td>null</td><td>API</td><td>2024-11-29T14:00:51.766Z</td></tr><tr><td>2024-06-02T21:49:56Z</td><td>0c7b85d124e6762b3d1345e1e8d4a90b</td><td>b4087b3b31810e76478bf36d15a5a004</td><td>c2d6bcbc3e46555bb1e7e9afbc24d3af</td><td>credito</td><td>10</td><td>54.99</td><td>549.90</td><td>null</td><td>null</td><td>API</td><td>2024-11-29T14:00:51.766Z</td></tr><tr><td>2024-06-03T02:13:24Z</td><td>f1d885fcd44adf54b836f44480c900d7</td><td>6505bcb29d968af8150ddd9082899312</td><td>f260cd97c6c9813b01601e834a2added</td><td>credito</td><td>2</td><td>280.20</td><td>560.40</td><td>5%</td><td>29.50</td><td>API</td><td>2024-11-29T14:00:51.766Z</td></tr><tr><td>2024-06-03T17:02:36Z</td><td>199d1865c4941093c38b780228597cc3</td><td>6e0be9ade7feb0c9609799b8468cd3c2</td><td>f260cd97c6c9813b01601e834a2added</td><td>credito</td><td>10</td><td>56.04</td><td>560.40</td><td>5%</td><td>29.50</td><td>API</td><td>2024-11-29T14:00:51.766Z</td></tr><tr><td>2024-06-01T20:35:00Z</td><td>61ee98d03d8969ca8ea80e0e14d75a28</td><td>9b43b24a68017eee83bfdcd98d5a3460</td><td>f260cd97c6c9813b01601e834a2added</td><td>boleto</td><td>1</td><td>589.90</td><td>589.90</td><td>null</td><td>null</td><td>API</td><td>2024-11-29T14:00:51.766Z</td></tr></tbody></table></div>"
      ]
     },
     "metadata": {
      "application/vnd.databricks.v1+output": {
       "addedWidgets": {},
       "aggData": [],
       "aggError": "",
       "aggOverflow": false,
       "aggSchema": [],
       "aggSeriesLimitReached": false,
       "aggType": "",
       "arguments": {},
       "columnCustomDisplayInfos": {},
       "data": [
        [
         "2024-06-02T21:17:00Z",
         "c2bf54a92f643d4b800b026c29aaa91d",
         "9e26cd7d73ab748a2e84d60f63e37d1e",
         "f260cd97c6c9813b01601e834a2added",
         "credito",
         10,
         "58.99",
         "589.90",
         null,
         null,
         "API",
         "2024-11-29T14:00:51.766Z"
        ],
        [
         "2024-06-02T21:49:56Z",
         "0c7b85d124e6762b3d1345e1e8d4a90b",
         "b4087b3b31810e76478bf36d15a5a004",
         "c2d6bcbc3e46555bb1e7e9afbc24d3af",
         "credito",
         10,
         "54.99",
         "549.90",
         null,
         null,
         "API",
         "2024-11-29T14:00:51.766Z"
        ],
        [
         "2024-06-03T02:13:24Z",
         "f1d885fcd44adf54b836f44480c900d7",
         "6505bcb29d968af8150ddd9082899312",
         "f260cd97c6c9813b01601e834a2added",
         "credito",
         2,
         "280.20",
         "560.40",
         "5%",
         "29.50",
         "API",
         "2024-11-29T14:00:51.766Z"
        ],
        [
         "2024-06-03T17:02:36Z",
         "199d1865c4941093c38b780228597cc3",
         "6e0be9ade7feb0c9609799b8468cd3c2",
         "f260cd97c6c9813b01601e834a2added",
         "credito",
         10,
         "56.04",
         "560.40",
         "5%",
         "29.50",
         "API",
         "2024-11-29T14:00:51.766Z"
        ],
        [
         "2024-06-01T20:35:00Z",
         "61ee98d03d8969ca8ea80e0e14d75a28",
         "9b43b24a68017eee83bfdcd98d5a3460",
         "f260cd97c6c9813b01601e834a2added",
         "boleto",
         1,
         "589.90",
         "589.90",
         null,
         null,
         "API",
         "2024-11-29T14:00:51.766Z"
        ]
       ],
       "datasetInfos": [],
       "dbfsResultPath": null,
       "isJsonSchema": true,
       "metadata": {
        "isDbfsCommandResult": false
       },
       "overflow": false,
       "plotOptions": {
        "customPlotOptions": {},
        "displayType": "table",
        "pivotAggregation": null,
        "pivotColumns": null,
        "xColumns": null,
        "yColumns": null
       },
       "removedWidgets": [],
       "schema": [
        {
         "metadata": "{}",
         "name": "dt_sale",
         "type": "\"timestamp\""
        },
        {
         "metadata": "{}",
         "name": "access_uuid",
         "type": "\"string\""
        },
        {
         "metadata": "{}",
         "name": "user_uuid",
         "type": "\"string\""
        },
        {
         "metadata": "{}",
         "name": "course_uuid",
         "type": "\"string\""
        },
        {
         "metadata": "{}",
         "name": "payment_method",
         "type": "\"string\""
        },
        {
         "metadata": "{}",
         "name": "qnt_instalments",
         "type": "\"integer\""
        },
        {
         "metadata": "{}",
         "name": "instalments_values",
         "type": "\"decimal(9,2)\""
        },
        {
         "metadata": "{}",
         "name": "total_value",
         "type": "\"decimal(9,2)\""
        },
        {
         "metadata": "{}",
         "name": "percent_discount",
         "type": "\"string\""
        },
        {
         "metadata": "{}",
         "name": "discount_value",
         "type": "\"decimal(9,2)\""
        },
        {
         "metadata": "{}",
         "name": "origin",
         "type": "\"string\""
        },
        {
         "metadata": "{}",
         "name": "dt_load",
         "type": "\"timestamp\""
        }
       ],
       "type": "table"
      }
     },
     "output_type": "display_data"
    }
   ],
   "source": [
    "df_sales_api = spark.sql(\"\"\"\n",
    "      SELECT \n",
    "        CAST( access_date AS TIMESTAMP) AS dt_sale,\n",
    "        md5(concat(\n",
    "          CAST(access_date AS TIMESTAMP),\n",
    "          ip_address,\n",
    "          CASE WHEN access_point IN ('iphone', 'android') THEN 'Mobile' ELSE 'Computer' END\n",
    "        )) AS access_uuid,\n",
    "        md5(concat(\n",
    "          cast(access_date as TIMESTAMP),\n",
    "          payload.info_usuario.nome\n",
    "       )) user_uuid,\n",
    "        payload.info_produto.product_uuid AS course_uuid,\n",
    "        payload.info_pagamento.forma_pagamento as payment_method, \n",
    "        CAST(payload.info_pagamento.quantidade_parcelas AS INT) AS qnt_instalments,  \n",
    "        CAST(payload.info_pagamento.valor_parcelas as DECIMAL(9,2) ) AS instalments_values,\n",
    "        CAST(payload.info_pagamento.quantidade_parcelas * payload.info_pagamento.valor_parcelas AS DECIMAL(9,2)) AS total_value, \n",
    "        concat(CAST((payload.info_pagamento.disconto*100) AS INT ), '%' ) AS percent_discount ,\n",
    "        CAST( replace(substr(payload.info_produto.valor,4),',','.' ) * payload.info_pagamento.disconto AS DECIMAL(9,2)) as discount_value,\n",
    "        'API' as origin,\n",
    "        getdate() as dt_load     \n",
    "      FROM stream_temp_vw_api\n",
    "      WHERE payload.info_pagamento IS NOT NULL       \n",
    "                         \n",
    "                         \n",
    "\"\"\")\n",
    "\n",
    "df_sales_api.limit(5).display()"
   ]
  },
  {
   "cell_type": "code",
   "execution_count": 0,
   "metadata": {
    "application/vnd.databricks.v1+cell": {
     "cellMetadata": {
      "byteLimit": 2048000,
      "rowLimit": 10000
     },
     "inputWidgets": {},
     "nuid": "6add6c44-4011-46c1-b2bc-f67db4147c62",
     "showTitle": false,
     "tableResultSettingsMap": {},
     "title": ""
    }
   },
   "outputs": [
    {
     "output_type": "display_data",
     "data": {
      "text/html": [
       "<style scoped>\n",
       "  .ansiout {\n",
       "    display: block;\n",
       "    unicode-bidi: embed;\n",
       "    white-space: pre-wrap;\n",
       "    word-wrap: break-word;\n",
       "    word-break: break-all;\n",
       "    font-family: \"Menlo\", \"Monaco\", \"Consolas\", \"Ubuntu Mono\", \"Source Code Pro\", monospace;\n",
       "    font-size: 13px;\n",
       "    color: #555;\n",
       "    margin-left: 4px;\n",
       "    line-height: 19px;\n",
       "  }\n",
       "</style>\n",
       "<div class=\"ansiout\">res9: Boolean = true\n",
       "</div>"
      ]
     },
     "metadata": {
      "application/vnd.databricks.v1+output": {
       "addedWidgets": {},
       "arguments": {},
       "data": "<div class=\"ansiout\">res9: Boolean = true\n</div>",
       "datasetInfos": [],
       "metadata": {
        "isDbfsCommandResult": false
       },
       "removedWidgets": [],
       "type": "html"
      }
     },
     "output_type": "display_data"
    }
   ],
   "source": [
    "%fs rm -r dbfs:/user/hive/warehouse/silver.db/tb_sales"
   ]
  },
  {
   "cell_type": "code",
   "execution_count": 0,
   "metadata": {
    "application/vnd.databricks.v1+cell": {
     "cellMetadata": {
      "byteLimit": 2048000,
      "rowLimit": 10000
     },
     "inputWidgets": {},
     "nuid": "9760bc29-9e62-4187-95d8-1f869dbda6d8",
     "showTitle": false,
     "tableResultSettingsMap": {},
     "title": ""
    }
   },
   "outputs": [
    {
     "output_type": "display_data",
     "data": {
      "text/html": [
       "<style scoped>\n",
       "  .ansiout {\n",
       "    display: block;\n",
       "    unicode-bidi: embed;\n",
       "    white-space: pre-wrap;\n",
       "    word-wrap: break-word;\n",
       "    word-break: break-all;\n",
       "    font-family: \"Menlo\", \"Monaco\", \"Consolas\", \"Ubuntu Mono\", \"Source Code Pro\", monospace;\n",
       "    font-size: 13px;\n",
       "    color: #555;\n",
       "    margin-left: 4px;\n",
       "    line-height: 19px;\n",
       "  }\n",
       "</style>\n",
       "<div class=\"ansiout\">res10: Boolean = true\n",
       "</div>"
      ]
     },
     "metadata": {
      "application/vnd.databricks.v1+output": {
       "addedWidgets": {},
       "arguments": {},
       "data": "<div class=\"ansiout\">res10: Boolean = true\n</div>",
       "datasetInfos": [],
       "metadata": {
        "isDbfsCommandResult": false
       },
       "removedWidgets": [],
       "type": "html"
      }
     },
     "output_type": "display_data"
    }
   ],
   "source": [
    "%fs rm -r dbfs:/user/hive/warehouse/silver.db/_checkpoint/api/tb_sales"
   ]
  },
  {
   "cell_type": "code",
   "execution_count": 0,
   "metadata": {
    "application/vnd.databricks.v1+cell": {
     "cellMetadata": {
      "byteLimit": 2048000,
      "rowLimit": 10000
     },
     "inputWidgets": {},
     "nuid": "ab7f86f5-dee5-439c-bf48-61474467963d",
     "showTitle": false,
     "tableResultSettingsMap": {},
     "title": ""
    }
   },
   "outputs": [
    {
     "output_type": "execute_result",
     "data": {
      "text/plain": [
       "DataFrame[dt_sale: timestamp, access_uuid: string, user_uuid: string, course_uuid: string, payment_method: string, qnt_instalments: int, instalments_values: decimal(9,2), total_value: decimal(9,2), percent_discount: string, discount_value: decimal(9,2), origin: string, dt_load: timestamp]"
      ]
     },
     "execution_count": 20,
     "metadata": {},
     "output_type": "execute_result"
    }
   ],
   "source": [
    "sales_api_checkout_path = 'dbfs:/user/hive/warehouse/silver.db/_checkpoint/api/tb_sales'\n",
    "(\n",
    "df_sales_api.writeStream\n",
    "        .format('delta')\n",
    "        .outputMode('append')\n",
    "        .option('CheckpointLocation',sales_api_checkout_path)\n",
    "        .option('mergeSchema','true')\n",
    "        .trigger(availableNow = True)\n",
    "        .toTable('silver.tb_sales')\n",
    ").awaitTermination()\n",
    "\n",
    "spark.sql(\"select * from silver.tb_sales where origin ='API' limit 5\")"
   ]
  },
  {
   "cell_type": "markdown",
   "metadata": {
    "application/vnd.databricks.v1+cell": {
     "cellMetadata": {},
     "inputWidgets": {},
     "nuid": "c4d4a1a2-1188-40ad-a41b-6806868a97da",
     "showTitle": false,
     "tableResultSettingsMap": {},
     "title": ""
    }
   },
   "source": [
    "#### 4.4.1 Sales File Data \n"
   ]
  },
  {
   "cell_type": "code",
   "execution_count": 0,
   "metadata": {
    "application/vnd.databricks.v1+cell": {
     "cellMetadata": {
      "byteLimit": 2048000,
      "rowLimit": 10000
     },
     "inputWidgets": {},
     "nuid": "f6fb5112-d71e-441c-bb83-2e920944820e",
     "showTitle": false,
     "tableResultSettingsMap": {},
     "title": ""
    }
   },
   "outputs": [
    {
     "output_type": "display_data",
     "data": {
      "text/html": [
       "<style scoped>\n",
       "  .table-result-container {\n",
       "    max-height: 300px;\n",
       "    overflow: auto;\n",
       "  }\n",
       "  table, th, td {\n",
       "    border: 1px solid black;\n",
       "    border-collapse: collapse;\n",
       "  }\n",
       "  th, td {\n",
       "    padding: 5px;\n",
       "  }\n",
       "  th {\n",
       "    text-align: left;\n",
       "  }\n",
       "</style><div class='table-result-container'><table class='table-result'><thead style='background-color: white'><tr><th>dt_sale</th><th>access_uuid</th><th>user_uuid</th><th>course_uuid</th><th>payment_method</th><th>qnt_instalments</th><th>instalments_values</th><th>total_value</th><th>percent_discount</th><th>discount_value</th><th>origin</th><th>dt_load</th></tr></thead><tbody><tr><td>2025-04-07T00:00:00Z</td><td>null</td><td>984e334f07cddc9ad2640420af9a5345</td><td>c2d6bcbc3e46555bb1e7e9afbc24d3af</td><td>pix</td><td>1</td><td>null</td><td>522.40</td><td>5%</td><td>27.50</td><td>FILE</td><td>2024-11-29T14:04:30.79Z</td></tr><tr><td>2025-10-04T00:00:00Z</td><td>null</td><td>45895efd021febd9a70f246e3d99adb4</td><td>f260cd97c6c9813b01601e834a2added</td><td>pix</td><td>1</td><td>null</td><td>750.40</td><td>5%</td><td>39.50</td><td>FILE</td><td>2024-11-29T14:04:30.79Z</td></tr><tr><td>2024-10-19T00:00:00Z</td><td>null</td><td>1e09fc978496b61c33e8d2ca831dae6e</td><td>34bdd77f6954552d11c4f5547cb41458</td><td>pix</td><td>1</td><td>null</td><td>655.40</td><td>5%</td><td>34.50</td><td>FILE</td><td>2024-11-29T14:04:30.79Z</td></tr><tr><td>2025-09-04T00:00:00Z</td><td>null</td><td>f6bc71b39ec053409d3ea68b6a7a816f</td><td>c2d6bcbc3e46555bb1e7e9afbc24d3af</td><td>pix</td><td>1</td><td>null</td><td>522.40</td><td>5%</td><td>27.50</td><td>FILE</td><td>2024-11-29T14:04:30.79Z</td></tr><tr><td>2025-01-27T00:00:00Z</td><td>null</td><td>865cd17c600cf8c81200b91e04e7c6f5</td><td>f260cd97c6c9813b01601e834a2added</td><td>pix</td><td>1</td><td>null</td><td>750.40</td><td>5%</td><td>39.50</td><td>FILE</td><td>2024-11-29T14:04:30.79Z</td></tr></tbody></table></div>"
      ]
     },
     "metadata": {
      "application/vnd.databricks.v1+output": {
       "addedWidgets": {},
       "aggData": [],
       "aggError": "",
       "aggOverflow": false,
       "aggSchema": [],
       "aggSeriesLimitReached": false,
       "aggType": "",
       "arguments": {},
       "columnCustomDisplayInfos": {},
       "data": [
        [
         "2025-04-07T00:00:00Z",
         null,
         "984e334f07cddc9ad2640420af9a5345",
         "c2d6bcbc3e46555bb1e7e9afbc24d3af",
         "pix",
         1,
         null,
         "522.40",
         "5%",
         "27.50",
         "FILE",
         "2024-11-29T14:04:30.79Z"
        ],
        [
         "2025-10-04T00:00:00Z",
         null,
         "45895efd021febd9a70f246e3d99adb4",
         "f260cd97c6c9813b01601e834a2added",
         "pix",
         1,
         null,
         "750.40",
         "5%",
         "39.50",
         "FILE",
         "2024-11-29T14:04:30.79Z"
        ],
        [
         "2024-10-19T00:00:00Z",
         null,
         "1e09fc978496b61c33e8d2ca831dae6e",
         "34bdd77f6954552d11c4f5547cb41458",
         "pix",
         1,
         null,
         "655.40",
         "5%",
         "34.50",
         "FILE",
         "2024-11-29T14:04:30.79Z"
        ],
        [
         "2025-09-04T00:00:00Z",
         null,
         "f6bc71b39ec053409d3ea68b6a7a816f",
         "c2d6bcbc3e46555bb1e7e9afbc24d3af",
         "pix",
         1,
         null,
         "522.40",
         "5%",
         "27.50",
         "FILE",
         "2024-11-29T14:04:30.79Z"
        ],
        [
         "2025-01-27T00:00:00Z",
         null,
         "865cd17c600cf8c81200b91e04e7c6f5",
         "f260cd97c6c9813b01601e834a2added",
         "pix",
         1,
         null,
         "750.40",
         "5%",
         "39.50",
         "FILE",
         "2024-11-29T14:04:30.79Z"
        ]
       ],
       "datasetInfos": [],
       "dbfsResultPath": null,
       "isJsonSchema": true,
       "metadata": {
        "isDbfsCommandResult": false
       },
       "overflow": false,
       "plotOptions": {
        "customPlotOptions": {},
        "displayType": "table",
        "pivotAggregation": null,
        "pivotColumns": null,
        "xColumns": null,
        "yColumns": null
       },
       "removedWidgets": [],
       "schema": [
        {
         "metadata": "{}",
         "name": "dt_sale",
         "type": "\"timestamp\""
        },
        {
         "metadata": "{}",
         "name": "access_uuid",
         "type": "\"string\""
        },
        {
         "metadata": "{}",
         "name": "user_uuid",
         "type": "\"string\""
        },
        {
         "metadata": "{}",
         "name": "course_uuid",
         "type": "\"string\""
        },
        {
         "metadata": "{}",
         "name": "payment_method",
         "type": "\"string\""
        },
        {
         "metadata": "{}",
         "name": "qnt_instalments",
         "type": "\"integer\""
        },
        {
         "metadata": "{}",
         "name": "instalments_values",
         "type": "\"decimal(9,2)\""
        },
        {
         "metadata": "{}",
         "name": "total_value",
         "type": "\"decimal(9,2)\""
        },
        {
         "metadata": "{}",
         "name": "percent_discount",
         "type": "\"string\""
        },
        {
         "metadata": "{}",
         "name": "discount_value",
         "type": "\"decimal(9,2)\""
        },
        {
         "metadata": "{}",
         "name": "origin",
         "type": "\"string\""
        },
        {
         "metadata": "{}",
         "name": "dt_load",
         "type": "\"timestamp\""
        }
       ],
       "type": "table"
      }
     },
     "output_type": "display_data"
    }
   ],
   "source": [
    "df_sales_file = spark.sql(\"\"\"\n",
    "        SELECT \n",
    "          CAST(data_venda as TIMESTAMP) as dt_sale,\n",
    "          CAST(NULL AS STRING) AS access_uuid,\n",
    "          md5(concat(\n",
    "            nome_empresa,\n",
    "            nome_funcionario\n",
    "             )) AS user_uuid,\n",
    "          md5(curso) AS course_uuid,\n",
    "          'pix' AS payment_method,\n",
    "          1 AS qnt_instalments,\n",
    "          CAST((replace(substr(valor,4), ',','.') - CAST(replace(substr(valor,4), ',','.' * (replace(disconto,'%','') / 100)) AS DECIMAL(9,2))) AS DECIMAL(9,2)) AS instalments_values,\n",
    "          CAST((replace(substr(valor,4),',','.') - CAST((replace(substr(valor,4),',','.') * (replace(disconto,'%','')/100)) AS DECIMAL(9,2))) AS DECIMAL(9,2)) AS total_value,\n",
    "          disconto AS percent_discount,\n",
    "          CAST((replace(substr(valor,4),',','.') * (replace(disconto,'%','')/100)) AS DECIMAL(9,2)) AS discount_value,\n",
    "          'FILE' as origin,\n",
    "          getdate() as dt_load\n",
    "          FROM stream_temp_vw_files                       \n",
    "\"\"\")\n",
    "\n",
    "df_sales_file.limit(5).display()"
   ]
  },
  {
   "cell_type": "markdown",
   "metadata": {
    "application/vnd.databricks.v1+cell": {
     "cellMetadata": {},
     "inputWidgets": {},
     "nuid": "2aada3c0-de14-4b92-ab89-462e4e35e452",
     "showTitle": false,
     "tableResultSettingsMap": {},
     "title": ""
    }
   },
   "source": [
    "* **`.writeStream`** and **`.table()`**: loads data from **`df_sales_file`** to the **silver.tb_sales** table \n",
    "* **`outputMode('append')`**: States that the data will be appended \n",
    "* **`option('CheckpointLocation', file_checkpoint_path)`**: Defines the checkpoint diretory where Spark will control the streaming process with **`exactly-once-delivery`**\n",
    "* **`option('mergeSchema',True)`**: Indicates a **Schema Evolution** processing\n",
    "* **`trigger(availableNow=True)`**: States that the process will occcour in batches\n",
    "* **`.trigger(availableNow=True)`**: Makes the query a scyncronous process"
   ]
  },
  {
   "cell_type": "code",
   "execution_count": 0,
   "metadata": {
    "application/vnd.databricks.v1+cell": {
     "cellMetadata": {
      "byteLimit": 2048000,
      "rowLimit": 10000
     },
     "inputWidgets": {},
     "nuid": "6bdaab2b-af91-4f25-805f-14cb8eb5ff82",
     "showTitle": false,
     "tableResultSettingsMap": {},
     "title": ""
    }
   },
   "outputs": [
    {
     "output_type": "display_data",
     "data": {
      "text/html": [
       "<style scoped>\n",
       "  .table-result-container {\n",
       "    max-height: 300px;\n",
       "    overflow: auto;\n",
       "  }\n",
       "  table, th, td {\n",
       "    border: 1px solid black;\n",
       "    border-collapse: collapse;\n",
       "  }\n",
       "  th, td {\n",
       "    padding: 5px;\n",
       "  }\n",
       "  th {\n",
       "    text-align: left;\n",
       "  }\n",
       "</style><div class='table-result-container'><table class='table-result'><thead style='background-color: white'><tr><th>dt_sale</th><th>access_uuid</th><th>user_uuid</th><th>course_uuid</th><th>payment_method</th><th>qnt_instalments</th><th>instalments_values</th><th>total_value</th><th>percent_discount</th><th>discount_value</th><th>origin</th><th>dt_load</th></tr></thead><tbody><tr><td>2024-09-19T00:00:00Z</td><td>null</td><td>e783e39b9a202f3c75199676ed309876</td><td>34bdd77f6954552d11c4f5547cb41458</td><td>pix</td><td>1</td><td>null</td><td>655.40</td><td>5%</td><td>34.50</td><td>FILE</td><td>2024-11-29T14:05:42.578Z</td></tr><tr><td>2025-01-27T00:00:00Z</td><td>null</td><td>c82b6ce03e00c77ab7e8fc1e64dfc6e4</td><td>c2d6bcbc3e46555bb1e7e9afbc24d3af</td><td>pix</td><td>1</td><td>null</td><td>522.40</td><td>5%</td><td>27.50</td><td>FILE</td><td>2024-11-29T14:05:42.578Z</td></tr><tr><td>2024-07-31T00:00:00Z</td><td>null</td><td>a33a0ab22834df686bcfe3797602af4a</td><td>f260cd97c6c9813b01601e834a2added</td><td>pix</td><td>1</td><td>null</td><td>750.40</td><td>5%</td><td>39.50</td><td>FILE</td><td>2024-11-29T14:05:42.578Z</td></tr><tr><td>2025-01-07T00:00:00Z</td><td>null</td><td>9233664dd866ac4d3eff10d73b537086</td><td>34bdd77f6954552d11c4f5547cb41458</td><td>pix</td><td>1</td><td>null</td><td>655.40</td><td>5%</td><td>34.50</td><td>FILE</td><td>2024-11-29T14:05:42.578Z</td></tr><tr><td>2024-11-28T00:00:00Z</td><td>null</td><td>d84d335fdbb0dfb5c9135be223911dd4</td><td>c2d6bcbc3e46555bb1e7e9afbc24d3af</td><td>pix</td><td>1</td><td>null</td><td>522.40</td><td>5%</td><td>27.50</td><td>FILE</td><td>2024-11-29T14:05:42.578Z</td></tr></tbody></table></div>"
      ]
     },
     "metadata": {
      "application/vnd.databricks.v1+output": {
       "addedWidgets": {},
       "aggData": [],
       "aggError": "",
       "aggOverflow": false,
       "aggSchema": [],
       "aggSeriesLimitReached": false,
       "aggType": "",
       "arguments": {},
       "columnCustomDisplayInfos": {},
       "data": [
        [
         "2024-09-19T00:00:00Z",
         null,
         "e783e39b9a202f3c75199676ed309876",
         "34bdd77f6954552d11c4f5547cb41458",
         "pix",
         1,
         null,
         "655.40",
         "5%",
         "34.50",
         "FILE",
         "2024-11-29T14:05:42.578Z"
        ],
        [
         "2025-01-27T00:00:00Z",
         null,
         "c82b6ce03e00c77ab7e8fc1e64dfc6e4",
         "c2d6bcbc3e46555bb1e7e9afbc24d3af",
         "pix",
         1,
         null,
         "522.40",
         "5%",
         "27.50",
         "FILE",
         "2024-11-29T14:05:42.578Z"
        ],
        [
         "2024-07-31T00:00:00Z",
         null,
         "a33a0ab22834df686bcfe3797602af4a",
         "f260cd97c6c9813b01601e834a2added",
         "pix",
         1,
         null,
         "750.40",
         "5%",
         "39.50",
         "FILE",
         "2024-11-29T14:05:42.578Z"
        ],
        [
         "2025-01-07T00:00:00Z",
         null,
         "9233664dd866ac4d3eff10d73b537086",
         "34bdd77f6954552d11c4f5547cb41458",
         "pix",
         1,
         null,
         "655.40",
         "5%",
         "34.50",
         "FILE",
         "2024-11-29T14:05:42.578Z"
        ],
        [
         "2024-11-28T00:00:00Z",
         null,
         "d84d335fdbb0dfb5c9135be223911dd4",
         "c2d6bcbc3e46555bb1e7e9afbc24d3af",
         "pix",
         1,
         null,
         "522.40",
         "5%",
         "27.50",
         "FILE",
         "2024-11-29T14:05:42.578Z"
        ]
       ],
       "datasetInfos": [],
       "dbfsResultPath": null,
       "isJsonSchema": true,
       "metadata": {},
       "overflow": false,
       "plotOptions": {
        "customPlotOptions": {},
        "displayType": "table",
        "pivotAggregation": null,
        "pivotColumns": null,
        "xColumns": null,
        "yColumns": null
       },
       "removedWidgets": [],
       "schema": [
        {
         "metadata": "{}",
         "name": "dt_sale",
         "type": "\"timestamp\""
        },
        {
         "metadata": "{}",
         "name": "access_uuid",
         "type": "\"string\""
        },
        {
         "metadata": "{}",
         "name": "user_uuid",
         "type": "\"string\""
        },
        {
         "metadata": "{}",
         "name": "course_uuid",
         "type": "\"string\""
        },
        {
         "metadata": "{}",
         "name": "payment_method",
         "type": "\"string\""
        },
        {
         "metadata": "{}",
         "name": "qnt_instalments",
         "type": "\"integer\""
        },
        {
         "metadata": "{}",
         "name": "instalments_values",
         "type": "\"decimal(9,2)\""
        },
        {
         "metadata": "{}",
         "name": "total_value",
         "type": "\"decimal(9,2)\""
        },
        {
         "metadata": "{}",
         "name": "percent_discount",
         "type": "\"string\""
        },
        {
         "metadata": "{}",
         "name": "discount_value",
         "type": "\"decimal(9,2)\""
        },
        {
         "metadata": "{}",
         "name": "origin",
         "type": "\"string\""
        },
        {
         "metadata": "{}",
         "name": "dt_load",
         "type": "\"timestamp\""
        }
       ],
       "type": "table"
      }
     },
     "output_type": "display_data"
    }
   ],
   "source": [
    "file_checkpoint_path = 'dbfs:/user/hive/warehouse/silver.db/_checkpoint/arquivo/tb_sales'\n",
    "(\n",
    "\n",
    "df_sales_file.writeStream\n",
    "      .format('delta')\n",
    "      .outputMode('append')\n",
    "      .option('mergeSchema', 'true')\n",
    "      .option('CheckpointLocation', file_checkpoint_path)\n",
    "      .trigger(availableNow=True)\n",
    "      .table('silver.tb_sales')\n",
    ").awaitTermination()\n",
    "\n",
    "spark.sql(\"SELECT * FROM silver.tb_sales WHERE origin = 'FILE' LIMIT 5\").display()"
   ]
  },
  {
   "cell_type": "code",
   "execution_count": 0,
   "metadata": {
    "application/vnd.databricks.v1+cell": {
     "cellMetadata": {
      "byteLimit": 2048000,
      "rowLimit": 10000
     },
     "inputWidgets": {},
     "nuid": "a0b3db8f-3704-48a5-b44b-34772c92cd6f",
     "showTitle": false,
     "tableResultSettingsMap": {},
     "title": ""
    }
   },
   "outputs": [
    {
     "output_type": "stream",
     "name": "stdout",
     "output_type": "stream",
     "text": [
      "stop_all_streams-inicio-2024-11-29 14:06:41.414082\nO stream display_query_7 fui finalizado com sucesso.\nO stream display_query_5 fui finalizado com sucesso.\nO stream display_query_2 fui finalizado com sucesso.\nO stream display_query_3 fui finalizado com sucesso.\nO stream display_query_6 fui finalizado com sucesso.\nO stream display_query_4 fui finalizado com sucesso.\nstop_all_streams-fim-2024-11-29 14:06:42.818463\n              \n"
     ]
    }
   ],
   "source": [
    "stop_all_streams()"
   ]
  },
  {
   "cell_type": "code",
   "execution_count": 0,
   "metadata": {
    "application/vnd.databricks.v1+cell": {
     "cellMetadata": {},
     "inputWidgets": {},
     "nuid": "457ef14f-3d09-41f7-9ae2-a9e4c594ad17",
     "showTitle": false,
     "tableResultSettingsMap": {},
     "title": ""
    }
   },
   "outputs": [],
   "source": []
  }
 ],
 "metadata": {
  "application/vnd.databricks.v1+notebook": {
   "dashboards": [],
   "environmentMetadata": null,
   "language": "python",
   "notebookMetadata": {
    "mostRecentlyExecutedCommandWithImplicitDF": {
     "commandId": 4456441008715716,
     "dataframes": [
      "_sqldf"
     ]
    },
    "pythonIndentUnit": 2
   },
   "notebookName": "Load_Silver_Zone",
   "widgets": {}
  }
 },
 "nbformat": 4,
 "nbformat_minor": 0
}
