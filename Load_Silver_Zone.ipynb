{
 "cells": [
  {
   "cell_type": "markdown",
   "metadata": {
    "application/vnd.databricks.v1+cell": {
     "cellMetadata": {},
     "inputWidgets": {},
     "nuid": "1ca48b39-6254-44fe-8d5f-fe6ef60d1155",
     "showTitle": false,
     "tableResultSettingsMap": {},
     "title": ""
    }
   },
   "source": [
    "# Loading Data to Silver Zone\n",
    "\n",
    "This Notebook:\n",
    "* We will iIngest data from **Bronze Zone** to **Silver Zone** using spark\n",
    "* We will use Spark Structured Streaming with **`trigger(availableNow=True)`** for batch loading\n",
    "* We will do a **load control** of the batch processes through Structured Streaming **checkpoint**\n",
    "* We will use **`awaitTermination()`**  ethod to transform the streaming queries in a synchronous process\n",
    "* We will Combine spark and sql in order to do the data load"
   ]
  },
  {
   "cell_type": "markdown",
   "metadata": {
    "application/vnd.databricks.v1+cell": {
     "cellMetadata": {},
     "inputWidgets": {},
     "nuid": "cc4cbf26-23cf-4ff9-80a3-8302c1ab5505",
     "showTitle": false,
     "tableResultSettingsMap": {},
     "title": ""
    }
   },
   "source": [
    "## 1.0 Initial Setup"
   ]
  },
  {
   "cell_type": "code",
   "execution_count": 0,
   "metadata": {
    "application/vnd.databricks.v1+cell": {
     "cellMetadata": {
      "byteLimit": 2048000,
      "rowLimit": 10000
     },
     "collapsed": true,
     "inputWidgets": {},
     "nuid": "c3859f71-b7e2-4b25-8028-6301486d5453",
     "showTitle": false,
     "tableResultSettingsMap": {},
     "title": ""
    }
   },
   "outputs": [],
   "source": [
    "%run \"/Users/cabreirajm@gmail.com/DataPipelineCabreira/Helpers/data_generator\" \n"
   ]
  },
  {
   "cell_type": "markdown",
   "metadata": {
    "application/vnd.databricks.v1+cell": {
     "cellMetadata": {},
     "inputWidgets": {},
     "nuid": "052ad713-ac0b-4051-8b6f-4b247e37cb05",
     "showTitle": false,
     "tableResultSettingsMap": {},
     "title": ""
    }
   },
   "source": [
    "## 2.0 Create `Silver Zone` Schema"
   ]
  },
  {
   "cell_type": "code",
   "execution_count": 0,
   "metadata": {
    "application/vnd.databricks.v1+cell": {
     "cellMetadata": {
      "byteLimit": 2048000,
      "rowLimit": 10000
     },
     "inputWidgets": {},
     "nuid": "e2e899e0-caae-458f-9ab1-ee338ec3c532",
     "showTitle": false,
     "tableResultSettingsMap": {},
     "title": ""
    }
   },
   "outputs": [
    {
     "output_type": "execute_result",
     "data": {
      "text/plain": [
       "DataFrame[]"
      ]
     },
     "execution_count": 8,
     "metadata": {},
     "output_type": "execute_result"
    }
   ],
   "source": [
    "spark.sql(\"CREATE DATABASE IF NOT EXISTS silver\")"
   ]
  },
  {
   "cell_type": "markdown",
   "metadata": {
    "application/vnd.databricks.v1+cell": {
     "cellMetadata": {},
     "inputWidgets": {},
     "nuid": "3b1f652a-4c5d-41ec-adb2-924dfaa4602a",
     "showTitle": false,
     "tableResultSettingsMap": {},
     "title": ""
    }
   },
   "source": [
    "## 3.0 Businesse Requirements for Silver Zone"
   ]
  },
  {
   "cell_type": "markdown",
   "metadata": {
    "application/vnd.databricks.v1+cell": {
     "cellMetadata": {},
     "inputWidgets": {},
     "nuid": "db2d40a5-b072-4525-9475-36d25b09840c",
     "showTitle": false,
     "tableResultSettingsMap": {},
     "title": ""
    }
   },
   "source": [
    "1. The ingestion need to be done in batch in order to avoid extra costs \n",
    "    * Even though the API data is stored in streaming in landing zone \n",
    "2. API and Batch Data need to be stored in the same table \n",
    "3. Each table will have an uuid column with a hash to identify each register\n",
    "4. We have to garantee the correct data type of all column \n",
    "5. We need to create better column names for each table "
   ]
  },
  {
   "cell_type": "markdown",
   "metadata": {
    "application/vnd.databricks.v1+cell": {
     "cellMetadata": {},
     "inputWidgets": {},
     "nuid": "56c5aab8-5a36-48e0-8e79-cd3923a9877d",
     "showTitle": false,
     "tableResultSettingsMap": {},
     "title": ""
    }
   },
   "source": [
    "## 4.0 Data Modeling"
   ]
  },
  {
   "cell_type": "markdown",
   "metadata": {
    "application/vnd.databricks.v1+cell": {
     "cellMetadata": {},
     "inputWidgets": {},
     "nuid": "510ba2f5-3b40-4c6d-982c-1197cc888852",
     "showTitle": false,
     "tableResultSettingsMap": {},
     "title": ""
    }
   },
   "source": [
    "### 4.1 Courses Table  ( Domain Table)"
   ]
  },
  {
   "cell_type": "markdown",
   "metadata": {
    "application/vnd.databricks.v1+cell": {
     "cellMetadata": {
      "byteLimit": 2048000,
      "rowLimit": 10000
     },
     "inputWidgets": {},
     "nuid": "67ed5195-477b-4595-b2e7-08aa947aec5a",
     "showTitle": false,
     "tableResultSettingsMap": {},
     "title": ""
    }
   },
   "source": [
    "The table `tb_courses` is a **domain table** and we will store all the available courses information ( the product ). Its information will be added manually.\n",
    "* We will use the **md5()** function to create the **curso_uuuid** column by the course name \n",
    "* The column **data_carga** : Contains the processing date"
   ]
  },
  {
   "cell_type": "code",
   "execution_count": 0,
   "metadata": {
    "application/vnd.databricks.v1+cell": {
     "cellMetadata": {
      "byteLimit": 2048000,
      "rowLimit": 10000
     },
     "inputWidgets": {},
     "nuid": "b2ad018d-8815-4026-b49a-af3ed022ad9f",
     "showTitle": false,
     "tableResultSettingsMap": {},
     "title": ""
    }
   },
   "outputs": [
    {
     "output_type": "display_data",
     "data": {
      "text/html": [
       "<style scoped>\n",
       "  .table-result-container {\n",
       "    max-height: 300px;\n",
       "    overflow: auto;\n",
       "  }\n",
       "  table, th, td {\n",
       "    border: 1px solid black;\n",
       "    border-collapse: collapse;\n",
       "  }\n",
       "  th, td {\n",
       "    padding: 5px;\n",
       "  }\n",
       "  th {\n",
       "    text-align: left;\n",
       "  }\n",
       "</style><div class='table-result-container'><table class='table-result'><thead style='background-color: white'><tr><th>course_uuid</th><th>course_name</th><th>course_level</th><th>course_price</th><th>dt_load</th></tr></thead><tbody><tr><td>fb95df132ca7f41d392bc98ccf0cfeb8</td><td>Data Pipeline with Databricks</td><td>beginner</td><td>589.90</td><td>2024-11-22T19:12:29.318Z</td></tr><tr><td>bda125b01c9596e123e5f9b3bf00f3a8</td><td>From your first data pipeline to a Data Lakehouse with Databricks</td><td>intermediate</td><td>659.90</td><td>2024-11-22T19:12:29.318Z</td></tr><tr><td>ff17869bc6f9d9865e0bf8133c4ce3c3</td><td>Building a Data Pipeline with Spark Structured Streaming</td><td>advanced</td><td>549.90</td><td>2024-11-22T19:12:29.318Z</td></tr></tbody></table></div>"
      ]
     },
     "metadata": {
      "application/vnd.databricks.v1+output": {
       "addedWidgets": {},
       "aggData": [],
       "aggError": "",
       "aggOverflow": false,
       "aggSchema": [],
       "aggSeriesLimitReached": false,
       "aggType": "",
       "arguments": {},
       "columnCustomDisplayInfos": {},
       "data": [
        [
         "fb95df132ca7f41d392bc98ccf0cfeb8",
         "Data Pipeline with Databricks",
         "beginner",
         "589.90",
         "2024-11-22T19:12:29.318Z"
        ],
        [
         "bda125b01c9596e123e5f9b3bf00f3a8",
         "From your first data pipeline to a Data Lakehouse with Databricks",
         "intermediate",
         "659.90",
         "2024-11-22T19:12:29.318Z"
        ],
        [
         "ff17869bc6f9d9865e0bf8133c4ce3c3",
         "Building a Data Pipeline with Spark Structured Streaming",
         "advanced",
         "549.90",
         "2024-11-22T19:12:29.318Z"
        ]
       ],
       "datasetInfos": [],
       "dbfsResultPath": null,
       "isJsonSchema": true,
       "metadata": {},
       "overflow": false,
       "plotOptions": {
        "customPlotOptions": {},
        "displayType": "table",
        "pivotAggregation": null,
        "pivotColumns": null,
        "xColumns": null,
        "yColumns": null
       },
       "removedWidgets": [],
       "schema": [
        {
         "metadata": "{}",
         "name": "course_uuid",
         "type": "\"string\""
        },
        {
         "metadata": "{}",
         "name": "course_name",
         "type": "\"string\""
        },
        {
         "metadata": "{}",
         "name": "course_level",
         "type": "\"string\""
        },
        {
         "metadata": "{}",
         "name": "course_price",
         "type": "\"decimal(5,2)\""
        },
        {
         "metadata": "{}",
         "name": "dt_load",
         "type": "\"timestamp\""
        }
       ],
       "type": "table"
      }
     },
     "output_type": "display_data"
    }
   ],
   "source": [
    "spark.sql(\"\"\"\n",
    "  CREATE TABLE IF NOT EXISTS silver.tb_courses\n",
    "  AS\n",
    "    SELECT  \n",
    "      md5('Data Pipeline with Databricks') AS course_uuid,\n",
    "      'Data Pipeline with Databricks' AS course_name,\n",
    "      'beginner' AS course_level,\n",
    "      589.90 AS course_price,\n",
    "      getdate() AS dt_load\n",
    "\n",
    "      UNION\n",
    "\n",
    "    SELECT\n",
    "      md5('From your first data pipeline to a Data Lakehouse with Databricks') AS course_uuid,\n",
    "      'From your first data pipeline to a Data Lakehouse with Databricks' AS course_name,\n",
    "      'intermediate' as course_level,\n",
    "      659.90 AS course_price,\n",
    "      getdate() AS dt_load\n",
    "\n",
    "\n",
    "      UNION\n",
    "\n",
    "    SELECT\n",
    "      md5('Building a Data Pipeline with Spark Structured Streaming') AS course_uuid,\n",
    "      'Building a Data Pipeline with Spark Structured Streaming' as course_name,\n",
    "      'advanced' as course_level,\n",
    "      549.90 as course_price,\n",
    "      getdate() as dt_load\n",
    "\"\"\"\n",
    ")\n",
    "\n",
    "\n",
    "spark.sql('SELECT * FROM silver.tb_courses').display()"
   ]
  },
  {
   "cell_type": "code",
   "execution_count": 0,
   "metadata": {
    "application/vnd.databricks.v1+cell": {
     "cellMetadata": {
      "byteLimit": 2048000,
      "rowLimit": 10000
     },
     "inputWidgets": {},
     "nuid": "2e6014eb-8c4e-42b4-8f5f-ede24a60c2e9",
     "showTitle": false,
     "tableResultSettingsMap": {},
     "title": ""
    }
   },
   "outputs": [],
   "source": [
    "#%fs rm -r dbfs:/user/hive/warehouse/silver.db/tb_courses"
   ]
  },
  {
   "cell_type": "markdown",
   "metadata": {
    "application/vnd.databricks.v1+cell": {
     "cellMetadata": {},
     "inputWidgets": {},
     "nuid": "965ead0b-abfb-464d-9a6f-7abc73f8b657",
     "showTitle": false,
     "tableResultSettingsMap": {},
     "title": ""
    }
   },
   "source": [
    "We will now create two streaming views called **`stream_temp_vw_api`**  and **`stream_temp_vw_files`** that will be used as source data for our loading process."
   ]
  },
  {
   "cell_type": "code",
   "execution_count": 0,
   "metadata": {
    "application/vnd.databricks.v1+cell": {
     "cellMetadata": {
      "byteLimit": 2048000,
      "rowLimit": 10000
     },
     "inputWidgets": {},
     "nuid": "0d4e6a86-fe59-48e6-ba71-4286e1febb9f",
     "showTitle": false,
     "tableResultSettingsMap": {},
     "title": ""
    }
   },
   "outputs": [],
   "source": [
    "api_df = spark.readStream.table('bronze.api_data')\n",
    "api_df.createOrReplaceTempView('stream_temp_vw_api')\n",
    "\n",
    "files_df = spark.readStream.table('bronze.file_data')\n",
    "files_df.createOrReplaceTempView('stream_temp_vw_files')"
   ]
  },
  {
   "cell_type": "markdown",
   "metadata": {
    "application/vnd.databricks.v1+cell": {
     "cellMetadata": {},
     "inputWidgets": {},
     "nuid": "f502abce-be96-4a7c-8da2-9c6a250982cb",
     "showTitle": false,
     "tableResultSettingsMap": {},
     "title": ""
    }
   },
   "source": [
    "### 4.2 Access Table  "
   ]
  },
  {
   "cell_type": "markdown",
   "metadata": {
    "application/vnd.databricks.v1+cell": {
     "cellMetadata": {},
     "inputWidgets": {},
     "nuid": "a3cae93e-ef1b-4493-b364-848cc8e0e0c9",
     "showTitle": false,
     "tableResultSettingsMap": {},
     "title": ""
    }
   },
   "source": [
    "This table stores all the website access.\n",
    "\n",
    "**`df_access`** : Dataframe that used to load data into **`tb_access`** table. This dataframe stores all information regarding the website visitors and its information comes from API. \n",
    "\n",
    "**Columns:**\n",
    "* **`acesso_uuid` column** : Created with the **`md5()`** function  by **`concatenating`** the columns below:\n",
    "  * **`access_date`** - After being converted to Timestamp\n",
    "  * **`ip_address`**. - ip address of the computer \n",
    "  * **`access_point`** -Identify the access point as mobile or computer (**local_acesso**).\n",
    "* **`usuario_uuid` column**: Created with the **`md5()`** function  by **`concatenating`** the columns below:\n",
    "  * **`access_date`** - After being converted to Timestamp\n",
    "  * **`payload.info_usuario.nome`** - name of the user\n",
    "* **`data_carga` column**: The processing date of the register "
   ]
  },
  {
   "cell_type": "code",
   "execution_count": 0,
   "metadata": {
    "application/vnd.databricks.v1+cell": {
     "cellMetadata": {
      "byteLimit": 2048000,
      "implicitDf": true,
      "rowLimit": 10000
     },
     "inputWidgets": {},
     "nuid": "d4c473ac-b045-4c93-94c9-f4dc69954e57",
     "showTitle": false,
     "tableResultSettingsMap": {},
     "title": ""
    }
   },
   "outputs": [
    {
     "output_type": "display_data",
     "data": {
      "text/html": [
       "<style scoped>\n",
       "  .table-result-container {\n",
       "    max-height: 300px;\n",
       "    overflow: auto;\n",
       "  }\n",
       "  table, th, td {\n",
       "    border: 1px solid black;\n",
       "    border-collapse: collapse;\n",
       "  }\n",
       "  th, td {\n",
       "    padding: 5px;\n",
       "  }\n",
       "  th {\n",
       "    text-align: left;\n",
       "  }\n",
       "</style><div class='table-result-container'><table class='table-result'><thead style='background-color: white'><tr><th>access_date</th><th>access_point</th><th>ip_address</th><th>payload</th><th>_rescued_data</th><th>source_file_name</th><th>processing_timestamp</th></tr></thead><tbody><tr><td>2024-06-02T17:30:35.000Z</td><td>iphone</td><td>69.127.75.83</td><td>List(null, null, null)</td><td>null</td><td>part-00002-6a513f62-6f11-4849-8da2-4a202cc4adb9-c000.json</td><td>2024-11-22T19:51:02.88Z</td></tr><tr><td>2024-06-02T18:03:31.000Z</td><td>safari</td><td>168.18.37.100</td><td>List(null, null, List(usuario_aea7b8dddc@hotmail.com, SP, 36, Usuario aea7b8dddc, Cientista de Dados, F))</td><td>null</td><td>part-00002-6a513f62-6f11-4849-8da2-4a202cc4adb9-c000.json</td><td>2024-11-22T19:51:02.88Z</td></tr></tbody></table></div>"
      ]
     },
     "metadata": {
      "application/vnd.databricks.v1+output": {
       "addedWidgets": {},
       "aggData": [],
       "aggError": "",
       "aggOverflow": false,
       "aggSchema": [],
       "aggSeriesLimitReached": false,
       "aggType": "",
       "arguments": {},
       "columnCustomDisplayInfos": {},
       "data": [
        [
         "2024-06-02T17:30:35.000Z",
         "iphone",
         "69.127.75.83",
         [
          null,
          null,
          null
         ],
         null,
         "part-00002-6a513f62-6f11-4849-8da2-4a202cc4adb9-c000.json",
         "2024-11-22T19:51:02.88Z"
        ],
        [
         "2024-06-02T18:03:31.000Z",
         "safari",
         "168.18.37.100",
         [
          null,
          null,
          [
           "usuario_aea7b8dddc@hotmail.com",
           "SP",
           "36",
           "Usuario aea7b8dddc",
           "Cientista de Dados",
           "F"
          ]
         ],
         null,
         "part-00002-6a513f62-6f11-4849-8da2-4a202cc4adb9-c000.json",
         "2024-11-22T19:51:02.88Z"
        ]
       ],
       "datasetInfos": [],
       "dbfsResultPath": null,
       "isJsonSchema": true,
       "metadata": {
        "isDbfsCommandResult": false
       },
       "overflow": false,
       "plotOptions": {
        "customPlotOptions": {},
        "displayType": "table",
        "pivotAggregation": null,
        "pivotColumns": null,
        "xColumns": null,
        "yColumns": null
       },
       "removedWidgets": [],
       "schema": [
        {
         "metadata": "{}",
         "name": "access_date",
         "type": "\"string\""
        },
        {
         "metadata": "{}",
         "name": "access_point",
         "type": "\"string\""
        },
        {
         "metadata": "{}",
         "name": "ip_address",
         "type": "\"string\""
        },
        {
         "metadata": "{}",
         "name": "payload",
         "type": "{\"type\":\"struct\",\"fields\":[{\"name\":\"info_pagamento\",\"type\":{\"type\":\"struct\",\"fields\":[{\"name\":\"disconto\",\"type\":\"string\",\"nullable\":true,\"metadata\":{}},{\"name\":\"forma_pagamento\",\"type\":\"string\",\"nullable\":true,\"metadata\":{}},{\"name\":\"quantidade_parcelas\",\"type\":\"string\",\"nullable\":true,\"metadata\":{}},{\"name\":\"valor\",\"type\":\"string\",\"nullable\":true,\"metadata\":{}},{\"name\":\"valor_parcelas\",\"type\":\"string\",\"nullable\":true,\"metadata\":{}}]},\"nullable\":true,\"metadata\":{}},{\"name\":\"info_produto\",\"type\":{\"type\":\"struct\",\"fields\":[{\"name\":\"product_uuid\",\"type\":\"string\",\"nullable\":true,\"metadata\":{}},{\"name\":\"valor\",\"type\":\"string\",\"nullable\":true,\"metadata\":{}}]},\"nullable\":true,\"metadata\":{}},{\"name\":\"info_usuario\",\"type\":{\"type\":\"struct\",\"fields\":[{\"name\":\"email\",\"type\":\"string\",\"nullable\":true,\"metadata\":{}},{\"name\":\"estado\",\"type\":\"string\",\"nullable\":true,\"metadata\":{}},{\"name\":\"idade\",\"type\":\"string\",\"nullable\":true,\"metadata\":{}},{\"name\":\"nome\",\"type\":\"string\",\"nullable\":true,\"metadata\":{}},{\"name\":\"profissao\",\"type\":\"string\",\"nullable\":true,\"metadata\":{}},{\"name\":\"sexo\",\"type\":\"string\",\"nullable\":true,\"metadata\":{}}]},\"nullable\":true,\"metadata\":{}}]}"
        },
        {
         "metadata": "{}",
         "name": "_rescued_data",
         "type": "\"string\""
        },
        {
         "metadata": "{}",
         "name": "source_file_name",
         "type": "\"string\""
        },
        {
         "metadata": "{}",
         "name": "processing_timestamp",
         "type": "\"timestamp\""
        }
       ],
       "type": "table"
      }
     },
     "output_type": "display_data"
    }
   ],
   "source": [
    "%sql\n",
    "select * from stream_temp_vw_api limit 2"
   ]
  },
  {
   "cell_type": "code",
   "execution_count": 0,
   "metadata": {
    "application/vnd.databricks.v1+cell": {
     "cellMetadata": {
      "byteLimit": 2048000,
      "rowLimit": 10000
     },
     "inputWidgets": {},
     "nuid": "d58bddee-a4d1-4780-8c8c-7eb085c85021",
     "showTitle": false,
     "tableResultSettingsMap": {},
     "title": ""
    }
   },
   "outputs": [
    {
     "output_type": "display_data",
     "data": {
      "text/html": [
       "<style scoped>\n",
       "  .table-result-container {\n",
       "    max-height: 300px;\n",
       "    overflow: auto;\n",
       "  }\n",
       "  table, th, td {\n",
       "    border: 1px solid black;\n",
       "    border-collapse: collapse;\n",
       "  }\n",
       "  th, td {\n",
       "    padding: 5px;\n",
       "  }\n",
       "  th {\n",
       "    text-align: left;\n",
       "  }\n",
       "</style><div class='table-result-container'><table class='table-result'><thead style='background-color: white'><tr><th>access_timestamp</th><th>access_ip_address</th><th>local_access</th><th>access_uuid</th><th>user_uuid</th><th>course_uuid</th><th>dt_load</th></tr></thead><tbody><tr><td>2024-06-02T17:30:35Z</td><td>69.127.75.83</td><td>Mobile</td><td>66bf173550bab1074ad6d545ff36aad2</td><td>null</td><td>null</td><td>2024-11-22T20:03:43.776Z</td></tr><tr><td>2024-06-02T18:03:31Z</td><td>168.18.37.100</td><td>Computer</td><td>562d7cf09fe6bc868808516857fb2e95</td><td>a3320d218294674fbf0c2e14b90671df</td><td>null</td><td>2024-11-22T20:03:43.776Z</td></tr><tr><td>2024-06-02T18:36:27Z</td><td>113.109.66.208</td><td>Mobile</td><td>971c6d9c866c5c6703bc2eda589d37b1</td><td>null</td><td>null</td><td>2024-11-22T20:03:43.776Z</td></tr><tr><td>2024-06-02T19:09:23Z</td><td>87.241.252.59</td><td>Computer</td><td>c4309fa8f4d737ecd65ba8c77447fc32</td><td>null</td><td>null</td><td>2024-11-22T20:03:43.776Z</td></tr><tr><td>2024-06-02T19:42:19Z</td><td>188.111.120.11</td><td>Computer</td><td>88e32230f15f37a57eb319995e07d0b4</td><td>null</td><td>null</td><td>2024-11-22T20:03:43.776Z</td></tr></tbody></table></div>"
      ]
     },
     "metadata": {
      "application/vnd.databricks.v1+output": {
       "addedWidgets": {},
       "aggData": [],
       "aggError": "",
       "aggOverflow": false,
       "aggSchema": [],
       "aggSeriesLimitReached": false,
       "aggType": "",
       "arguments": {},
       "columnCustomDisplayInfos": {},
       "data": [
        [
         "2024-06-02T17:30:35Z",
         "69.127.75.83",
         "Mobile",
         "66bf173550bab1074ad6d545ff36aad2",
         null,
         null,
         "2024-11-22T20:03:43.776Z"
        ],
        [
         "2024-06-02T18:03:31Z",
         "168.18.37.100",
         "Computer",
         "562d7cf09fe6bc868808516857fb2e95",
         "a3320d218294674fbf0c2e14b90671df",
         null,
         "2024-11-22T20:03:43.776Z"
        ],
        [
         "2024-06-02T18:36:27Z",
         "113.109.66.208",
         "Mobile",
         "971c6d9c866c5c6703bc2eda589d37b1",
         null,
         null,
         "2024-11-22T20:03:43.776Z"
        ],
        [
         "2024-06-02T19:09:23Z",
         "87.241.252.59",
         "Computer",
         "c4309fa8f4d737ecd65ba8c77447fc32",
         null,
         null,
         "2024-11-22T20:03:43.776Z"
        ],
        [
         "2024-06-02T19:42:19Z",
         "188.111.120.11",
         "Computer",
         "88e32230f15f37a57eb319995e07d0b4",
         null,
         null,
         "2024-11-22T20:03:43.776Z"
        ]
       ],
       "datasetInfos": [],
       "dbfsResultPath": null,
       "isJsonSchema": true,
       "metadata": {
        "isDbfsCommandResult": false
       },
       "overflow": false,
       "plotOptions": {
        "customPlotOptions": {},
        "displayType": "table",
        "pivotAggregation": null,
        "pivotColumns": null,
        "xColumns": null,
        "yColumns": null
       },
       "removedWidgets": [],
       "schema": [
        {
         "metadata": "{}",
         "name": "access_timestamp",
         "type": "\"timestamp\""
        },
        {
         "metadata": "{}",
         "name": "access_ip_address",
         "type": "\"string\""
        },
        {
         "metadata": "{}",
         "name": "local_access",
         "type": "\"string\""
        },
        {
         "metadata": "{}",
         "name": "access_uuid",
         "type": "\"string\""
        },
        {
         "metadata": "{}",
         "name": "user_uuid",
         "type": "\"string\""
        },
        {
         "metadata": "{}",
         "name": "course_uuid",
         "type": "\"string\""
        },
        {
         "metadata": "{}",
         "name": "dt_load",
         "type": "\"timestamp\""
        }
       ],
       "type": "table"
      }
     },
     "output_type": "display_data"
    }
   ],
   "source": [
    "df_access = spark.sql(\"\"\" \n",
    "    SELECT \n",
    "      CAST( access_date AS TIMESTAMP) AS access_timestamp,\n",
    "      ip_address AS access_ip_address,\n",
    "      CASE WHEN access_point IN ('iphone','android') THEN 'Mobile' ELSE 'Computer' END AS local_access,\n",
    "      md5(concat(\n",
    "        CAST(access_date AS TIMESTAMP),\n",
    "        ip_address,\n",
    "        CASE WHEN access_point IN ('iphne', 'android') THEN 'mobile' ELSE 'computer' END\n",
    "      )) AS access_uuid,\n",
    "      md5(concat(\n",
    "          CAST( access_date AS TIMESTAMP),\n",
    "          payload.info_usuario.nome        \n",
    "         )) AS user_uuid,\n",
    "        payload.info_produto.product_uuid AS course_uuid,\n",
    "      getdate() AS dt_load\n",
    "    FROM stream_temp_vw_api\n",
    "\"\"\"\n",
    ")\n",
    "\n",
    "df_access.limit(5).display()"
   ]
  },
  {
   "cell_type": "markdown",
   "metadata": {
    "application/vnd.databricks.v1+cell": {
     "cellMetadata": {},
     "inputWidgets": {},
     "nuid": "85b37a69-55ff-4d1a-aa87-37608586c34a",
     "showTitle": false,
     "tableResultSettingsMap": {},
     "title": ""
    }
   },
   "source": [
    "We have just read the stream data from our API. \n",
    "\n",
    "Important note about spark:\n",
    "* The origin and destination of the should have the same caracteristics. In other words:\n",
    "  * `Source` : Stream data and `Destination`: Stream data\n",
    "  * `Source` : Batch data and `Destionation`: batch data\n",
    "\n",
    "In other to overcome this issue, we will use `Spark Structured Streaming` to read the sterming data in batch.\n",
    "\n",
    "We use `Spark Structured Streaming` to load micro batch of data.\n",
    "\n",
    "`Spark Structured Streaming` :\n",
    "* No need to manage a checkpoint table to identify data that have been loead\n",
    "* The `Spark Structured Streaming` uses a **`checkpoint directory`** defined by the writeStream method. This checkpoint stores the last file/offset/row  that have been stored.This way, in case of failing the process, the spark will be able to garantee the **Stream Exactly-Once Semantics**. In other words, the checkpoint is responsible for controlling the load as it should be loaded.\n",
    "* **trigger(availableNow == True)** : States spark to do the load in batch by using the Structured Streaming Process. That way, spark will ingest the data in micro-batches. After finishing all mapped data \n",
    "\n",
    "\n",
    "O Spark Structured Streaming permite o uso do tipo de **trigger availableNow**. Quando definido como **True** dentro do método **`trigger`** no método **`writeStream`** indicará ao Spark que **realize a carga de dados em Batch** usando o processo do Structured Streaming. O spark irá realizar a leitura de todos os registros disponíveis para carga e irá realizar a ingestão de todos esses dados em micro-batchs. Ao terminar a execução de todos os registros mapeados no início do processo de carga, o **Spark will stop the  Stream query automatically.**.  \n"
   ]
  },
  {
   "cell_type": "markdown",
   "metadata": {
    "application/vnd.databricks.v1+cell": {
     "cellMetadata": {},
     "inputWidgets": {},
     "nuid": "0a58e2e9-324f-4785-b1e1-b846fa0f4964",
     "showTitle": false,
     "tableResultSettingsMap": {},
     "title": ""
    }
   },
   "source": [
    "\n",
    "* **`.writeStream`** : Stores the dataframe data into the **silver.tb_access** table which will be created on-the-fly through the **`.table()`** method \n",
    "* **`.outputMode('append')`**: States the the data will be appended in the destiny table\n",
    "* **`option('CheckpointLocation', access_checkpoint_location)`**: Defines the diretory where the spark will use to control the streaming data and perform the `exactly-once delivery`\n",
    "* **`.trigger(availableNow=True)`**: States that the writeStream process will be performed in batch.\n",
    "* **`.awaitTermination()`**: Makes the stream query a synchronous process. Used when the **`availableNow`** parameter is equal to **`True`**\n"
   ]
  },
  {
   "cell_type": "code",
   "execution_count": 0,
   "metadata": {
    "application/vnd.databricks.v1+cell": {
     "cellMetadata": {
      "byteLimit": 2048000,
      "rowLimit": 10000
     },
     "inputWidgets": {},
     "nuid": "47ddec4d-de75-48eb-8a20-3e134000d5b2",
     "showTitle": false,
     "tableResultSettingsMap": {},
     "title": ""
    }
   },
   "outputs": [
    {
     "output_type": "display_data",
     "data": {
      "text/html": [
       "<style scoped>\n",
       "  .ansiout {\n",
       "    display: block;\n",
       "    unicode-bidi: embed;\n",
       "    white-space: pre-wrap;\n",
       "    word-wrap: break-word;\n",
       "    word-break: break-all;\n",
       "    font-family: \"Menlo\", \"Monaco\", \"Consolas\", \"Ubuntu Mono\", \"Source Code Pro\", monospace;\n",
       "    font-size: 13px;\n",
       "    color: #555;\n",
       "    margin-left: 4px;\n",
       "    line-height: 19px;\n",
       "  }\n",
       "</style>\n",
       "<div class=\"ansiout\">res1: Boolean = true\n",
       "</div>"
      ]
     },
     "metadata": {
      "application/vnd.databricks.v1+output": {
       "addedWidgets": {},
       "arguments": {},
       "data": "<div class=\"ansiout\">res1: Boolean = true\n</div>",
       "datasetInfos": [],
       "metadata": {
        "isDbfsCommandResult": false
       },
       "removedWidgets": [],
       "type": "html"
      }
     },
     "output_type": "display_data"
    }
   ],
   "source": [
    "%fs rm -r dbfs:/user/hive/warehouse/silver.db/tb_access"
   ]
  },
  {
   "cell_type": "code",
   "execution_count": 0,
   "metadata": {
    "application/vnd.databricks.v1+cell": {
     "cellMetadata": {
      "byteLimit": 2048000,
      "rowLimit": 10000
     },
     "inputWidgets": {},
     "nuid": "e3e3b4d8-a37f-46af-b467-10d511909d0f",
     "showTitle": false,
     "tableResultSettingsMap": {},
     "title": ""
    }
   },
   "outputs": [
    {
     "output_type": "display_data",
     "data": {
      "text/html": [
       "<style scoped>\n",
       "  .table-result-container {\n",
       "    max-height: 300px;\n",
       "    overflow: auto;\n",
       "  }\n",
       "  table, th, td {\n",
       "    border: 1px solid black;\n",
       "    border-collapse: collapse;\n",
       "  }\n",
       "  th, td {\n",
       "    padding: 5px;\n",
       "  }\n",
       "  th {\n",
       "    text-align: left;\n",
       "  }\n",
       "</style><div class='table-result-container'><table class='table-result'><thead style='background-color: white'><tr><th>access_timestamp</th><th>access_ip_address</th><th>local_access</th><th>access_uuid</th><th>user_uuid</th><th>course_uuid</th><th>dt_load</th></tr></thead><tbody><tr><td>2024-06-02T17:30:35Z</td><td>69.127.75.83</td><td>Mobile</td><td>66bf173550bab1074ad6d545ff36aad2</td><td>null</td><td>null</td><td>2024-11-22T20:09:19.298Z</td></tr><tr><td>2024-06-02T18:03:31Z</td><td>168.18.37.100</td><td>Computer</td><td>562d7cf09fe6bc868808516857fb2e95</td><td>a3320d218294674fbf0c2e14b90671df</td><td>null</td><td>2024-11-22T20:09:19.298Z</td></tr><tr><td>2024-06-02T18:36:27Z</td><td>113.109.66.208</td><td>Mobile</td><td>971c6d9c866c5c6703bc2eda589d37b1</td><td>null</td><td>null</td><td>2024-11-22T20:09:19.298Z</td></tr><tr><td>2024-06-02T19:09:23Z</td><td>87.241.252.59</td><td>Computer</td><td>c4309fa8f4d737ecd65ba8c77447fc32</td><td>null</td><td>null</td><td>2024-11-22T20:09:19.298Z</td></tr><tr><td>2024-06-02T19:42:19Z</td><td>188.111.120.11</td><td>Computer</td><td>88e32230f15f37a57eb319995e07d0b4</td><td>null</td><td>null</td><td>2024-11-22T20:09:19.298Z</td></tr></tbody></table></div>"
      ]
     },
     "metadata": {
      "application/vnd.databricks.v1+output": {
       "addedWidgets": {},
       "aggData": [],
       "aggError": "",
       "aggOverflow": false,
       "aggSchema": [],
       "aggSeriesLimitReached": false,
       "aggType": "",
       "arguments": {},
       "columnCustomDisplayInfos": {},
       "data": [
        [
         "2024-06-02T17:30:35Z",
         "69.127.75.83",
         "Mobile",
         "66bf173550bab1074ad6d545ff36aad2",
         null,
         null,
         "2024-11-22T20:09:19.298Z"
        ],
        [
         "2024-06-02T18:03:31Z",
         "168.18.37.100",
         "Computer",
         "562d7cf09fe6bc868808516857fb2e95",
         "a3320d218294674fbf0c2e14b90671df",
         null,
         "2024-11-22T20:09:19.298Z"
        ],
        [
         "2024-06-02T18:36:27Z",
         "113.109.66.208",
         "Mobile",
         "971c6d9c866c5c6703bc2eda589d37b1",
         null,
         null,
         "2024-11-22T20:09:19.298Z"
        ],
        [
         "2024-06-02T19:09:23Z",
         "87.241.252.59",
         "Computer",
         "c4309fa8f4d737ecd65ba8c77447fc32",
         null,
         null,
         "2024-11-22T20:09:19.298Z"
        ],
        [
         "2024-06-02T19:42:19Z",
         "188.111.120.11",
         "Computer",
         "88e32230f15f37a57eb319995e07d0b4",
         null,
         null,
         "2024-11-22T20:09:19.298Z"
        ]
       ],
       "datasetInfos": [],
       "dbfsResultPath": null,
       "isJsonSchema": true,
       "metadata": {},
       "overflow": false,
       "plotOptions": {
        "customPlotOptions": {},
        "displayType": "table",
        "pivotAggregation": null,
        "pivotColumns": null,
        "xColumns": null,
        "yColumns": null
       },
       "removedWidgets": [],
       "schema": [
        {
         "metadata": "{}",
         "name": "access_timestamp",
         "type": "\"timestamp\""
        },
        {
         "metadata": "{}",
         "name": "access_ip_address",
         "type": "\"string\""
        },
        {
         "metadata": "{}",
         "name": "local_access",
         "type": "\"string\""
        },
        {
         "metadata": "{}",
         "name": "access_uuid",
         "type": "\"string\""
        },
        {
         "metadata": "{}",
         "name": "user_uuid",
         "type": "\"string\""
        },
        {
         "metadata": "{}",
         "name": "course_uuid",
         "type": "\"string\""
        },
        {
         "metadata": "{}",
         "name": "dt_load",
         "type": "\"timestamp\""
        }
       ],
       "type": "table"
      }
     },
     "output_type": "display_data"
    }
   ],
   "source": [
    "access_checkpoint_location = 'dbfs:/user/hive/warehouse/silver.db/_checkpoint/api/tb_access'\n",
    "(\n",
    "    df_access.writeStream\n",
    "        .format('delta')\n",
    "        .outputMode('append')\n",
    "        .option('CheckpointLocation', access_checkpoint_location)\n",
    "        .trigger(availableNow = True)\n",
    "        .table('silver.tb_access').awaitTermination()\n",
    ")\n",
    "\n",
    "\n",
    "\n",
    "spark.sql('SELECT * FROM silver.tb_access LIMIT 5').display()"
   ]
  },
  {
   "cell_type": "markdown",
   "metadata": {
    "application/vnd.databricks.v1+cell": {
     "cellMetadata": {},
     "inputWidgets": {},
     "nuid": "4731dff4-e3b9-435c-aedf-679ebdc55e1f",
     "showTitle": false,
     "tableResultSettingsMap": {},
     "title": ""
    }
   },
   "source": [
    "### 4.3 Users Table "
   ]
  },
  {
   "cell_type": "markdown",
   "metadata": {
    "application/vnd.databricks.v1+cell": {
     "cellMetadata": {},
     "inputWidgets": {},
     "nuid": "ff8d81a9-4257-4b90-8dd8-8ccd83c1b01f",
     "showTitle": false,
     "tableResultSettingsMap": {},
     "title": ""
    }
   },
   "source": [
    "### 4.3.1 API users data"
   ]
  },
  {
   "cell_type": "markdown",
   "metadata": {
    "application/vnd.databricks.v1+cell": {
     "cellMetadata": {},
     "inputWidgets": {},
     "nuid": "c63a1868-216b-4c70-a4fe-af74b8ffa504",
     "showTitle": false,
     "tableResultSettingsMap": {},
     "title": ""
    }
   },
   "source": [
    "* **`df_users_api`**: contains all the user information from the API data. \n",
    "* **`user_uuid`** : We will use the **`md5()`** function to create the `user_uuid`. To do that, we will concat the columns below:\n",
    "  * **`access_date`** - we will cast to timestamp\n",
    "  * **`payload.info_usuario.nome`** \n",
    "* **`origin`**: Informs wheather the data is from API or file ( data vault modelling principle)\n",
    "* **`dt_load`**: The process date"
   ]
  },
  {
   "cell_type": "code",
   "execution_count": 0,
   "metadata": {
    "application/vnd.databricks.v1+cell": {
     "cellMetadata": {
      "byteLimit": 2048000,
      "rowLimit": 10000
     },
     "inputWidgets": {},
     "nuid": "1e964401-d836-4c13-8954-ff4fe6b6c08e",
     "showTitle": false,
     "tableResultSettingsMap": {},
     "title": ""
    }
   },
   "outputs": [
    {
     "output_type": "display_data",
     "data": {
      "text/html": [
       "<style scoped>\n",
       "  .table-result-container {\n",
       "    max-height: 300px;\n",
       "    overflow: auto;\n",
       "  }\n",
       "  table, th, td {\n",
       "    border: 1px solid black;\n",
       "    border-collapse: collapse;\n",
       "  }\n",
       "  th, td {\n",
       "    padding: 5px;\n",
       "  }\n",
       "  th {\n",
       "    text-align: left;\n",
       "  }\n",
       "</style><div class='table-result-container'><table class='table-result'><thead style='background-color: white'><tr><th>user_uuid</th><th>user_name</th><th>user_email</th><th>user_idade</th><th>user_gender</th><th>user_state</th><th>user_profession</th><th>company</th><th>origin</th><th>dt_load</th></tr></thead><tbody><tr><td>a3320d218294674fbf0c2e14b90671df</td><td>Usuario aea7b8dddc</td><td>usuario_aea7b8dddc@hotmail.com</td><td>36</td><td>F</td><td>SP</td><td>Cientista de Dados</td><td>null</td><td>API</td><td>2024-11-22T20:10:08.846Z</td></tr><tr><td>8f7e5643e974a7aa1e06fe6099f063f7</td><td>Usuario aac1431fa5</td><td>usuario_aac1431fa5@outlook.com</td><td>44</td><td>F</td><td>SC</td><td>Desenvolvedor de Sistemas</td><td>null</td><td>API</td><td>2024-11-22T20:10:08.846Z</td></tr><tr><td>bc1df61364155727147f5662dc2d68b8</td><td>Usuario dd72bfbd99</td><td>usuario_dd72bfbd99@hotmail.com</td><td>47</td><td>M</td><td>AM</td><td>Cientista de Dados</td><td>null</td><td>API</td><td>2024-11-22T20:10:08.846Z</td></tr><tr><td>0f71205c4c1df4db312847e9757d65fb</td><td>Usuario 7f204ad514</td><td>usuario_7f204ad514@hotmail.com</td><td>20</td><td>F</td><td>RJ</td><td>Desenvolvedor de Sistemas</td><td>null</td><td>API</td><td>2024-11-22T20:10:08.846Z</td></tr><tr><td>fd6871915eba8fb5a24afb32fa4379f8</td><td>Usuario 289cc961b9</td><td>usuario_289cc961b9@hotmail.com</td><td>26</td><td>F</td><td>DF</td><td>Analista de BI</td><td>null</td><td>API</td><td>2024-11-22T20:10:08.846Z</td></tr></tbody></table></div>"
      ]
     },
     "metadata": {
      "application/vnd.databricks.v1+output": {
       "addedWidgets": {},
       "aggData": [],
       "aggError": "",
       "aggOverflow": false,
       "aggSchema": [],
       "aggSeriesLimitReached": false,
       "aggType": "",
       "arguments": {},
       "columnCustomDisplayInfos": {},
       "data": [
        [
         "a3320d218294674fbf0c2e14b90671df",
         "Usuario aea7b8dddc",
         "usuario_aea7b8dddc@hotmail.com",
         36,
         "F",
         "SP",
         "Cientista de Dados",
         null,
         "API",
         "2024-11-22T20:10:08.846Z"
        ],
        [
         "8f7e5643e974a7aa1e06fe6099f063f7",
         "Usuario aac1431fa5",
         "usuario_aac1431fa5@outlook.com",
         44,
         "F",
         "SC",
         "Desenvolvedor de Sistemas",
         null,
         "API",
         "2024-11-22T20:10:08.846Z"
        ],
        [
         "bc1df61364155727147f5662dc2d68b8",
         "Usuario dd72bfbd99",
         "usuario_dd72bfbd99@hotmail.com",
         47,
         "M",
         "AM",
         "Cientista de Dados",
         null,
         "API",
         "2024-11-22T20:10:08.846Z"
        ],
        [
         "0f71205c4c1df4db312847e9757d65fb",
         "Usuario 7f204ad514",
         "usuario_7f204ad514@hotmail.com",
         20,
         "F",
         "RJ",
         "Desenvolvedor de Sistemas",
         null,
         "API",
         "2024-11-22T20:10:08.846Z"
        ],
        [
         "fd6871915eba8fb5a24afb32fa4379f8",
         "Usuario 289cc961b9",
         "usuario_289cc961b9@hotmail.com",
         26,
         "F",
         "DF",
         "Analista de BI",
         null,
         "API",
         "2024-11-22T20:10:08.846Z"
        ]
       ],
       "datasetInfos": [],
       "dbfsResultPath": null,
       "isJsonSchema": true,
       "metadata": {
        "isDbfsCommandResult": false
       },
       "overflow": false,
       "plotOptions": {
        "customPlotOptions": {},
        "displayType": "table",
        "pivotAggregation": null,
        "pivotColumns": null,
        "xColumns": null,
        "yColumns": null
       },
       "removedWidgets": [],
       "schema": [
        {
         "metadata": "{}",
         "name": "user_uuid",
         "type": "\"string\""
        },
        {
         "metadata": "{}",
         "name": "user_name",
         "type": "\"string\""
        },
        {
         "metadata": "{}",
         "name": "user_email",
         "type": "\"string\""
        },
        {
         "metadata": "{}",
         "name": "user_idade",
         "type": "\"integer\""
        },
        {
         "metadata": "{}",
         "name": "user_gender",
         "type": "\"string\""
        },
        {
         "metadata": "{}",
         "name": "user_state",
         "type": "\"string\""
        },
        {
         "metadata": "{}",
         "name": "user_profession",
         "type": "\"string\""
        },
        {
         "metadata": "{}",
         "name": "company",
         "type": "\"string\""
        },
        {
         "metadata": "{}",
         "name": "origin",
         "type": "\"string\""
        },
        {
         "metadata": "{}",
         "name": "dt_load",
         "type": "\"timestamp\""
        }
       ],
       "type": "table"
      }
     },
     "output_type": "display_data"
    }
   ],
   "source": [
    "df_user_api = spark.sql(\"\"\"\n",
    "          SELECT \n",
    "            md5(concat(\n",
    "            cast(access_date AS TIMESTAMP),\n",
    "            payload.info_usuario.nome\n",
    "            )) AS user_uuid,\n",
    "            payload.info_usuario.nome AS user_name,\n",
    "            payload.info_usuario.email AS user_email,\n",
    "            CAST(payload.info_usuario.idade  AS INT) AS user_idade,\n",
    "            payload.info_usuario.sexo as user_gender,\n",
    "            payload.info_usuario.estado AS user_state,\n",
    "            payload.info_usuario.profissao AS user_profession,\n",
    "            CAST(NULL AS STRING) AS company,\n",
    "            'API' as origin,\n",
    "            getdate() as dt_load\n",
    "            FROM stream_temp_vw_api\n",
    "            WHERE payload.info_usuario IS NOT NULL\n",
    "\"\"\")\n",
    "\n",
    "df_user_api.limit(5).display()"
   ]
  },
  {
   "cell_type": "markdown",
   "metadata": {
    "application/vnd.databricks.v1+cell": {
     "cellMetadata": {},
     "inputWidgets": {},
     "nuid": "7c476fac-bfc5-4a04-82b5-925f176a69c9",
     "showTitle": false,
     "tableResultSettingsMap": {},
     "title": ""
    }
   },
   "source": [
    "* **`option('mergeSchema',True)`** Indicates the process of **Schema Evolution**.\n",
    "\n",
    "* **`.trigger(availableNow=True)`** States that the writeStream occours in  **batch**.\n",
    "\n",
    "* **`.awaitTermination()`**  Makes the stream query to be a synchronous \n"
   ]
  },
  {
   "cell_type": "code",
   "execution_count": 0,
   "metadata": {
    "application/vnd.databricks.v1+cell": {
     "cellMetadata": {
      "byteLimit": 2048000,
      "rowLimit": 10000
     },
     "inputWidgets": {},
     "nuid": "8839a32f-8159-4b39-9c92-99f0d4058928",
     "showTitle": false,
     "tableResultSettingsMap": {},
     "title": ""
    }
   },
   "outputs": [
    {
     "output_type": "display_data",
     "data": {
      "text/html": [
       "<style scoped>\n",
       "  .table-result-container {\n",
       "    max-height: 300px;\n",
       "    overflow: auto;\n",
       "  }\n",
       "  table, th, td {\n",
       "    border: 1px solid black;\n",
       "    border-collapse: collapse;\n",
       "  }\n",
       "  th, td {\n",
       "    padding: 5px;\n",
       "  }\n",
       "  th {\n",
       "    text-align: left;\n",
       "  }\n",
       "</style><div class='table-result-container'><table class='table-result'><thead style='background-color: white'><tr><th>user_uuid</th><th>user_name</th><th>user_email</th><th>user_idade</th><th>user_gender</th><th>user_state</th><th>user_profession</th><th>company</th><th>origin</th><th>dt_load</th></tr></thead><tbody><tr><td>a3320d218294674fbf0c2e14b90671df</td><td>Usuario aea7b8dddc</td><td>usuario_aea7b8dddc@hotmail.com</td><td>36</td><td>F</td><td>SP</td><td>Cientista de Dados</td><td>null</td><td>API</td><td>2024-11-22T20:15:28.024Z</td></tr><tr><td>8f7e5643e974a7aa1e06fe6099f063f7</td><td>Usuario aac1431fa5</td><td>usuario_aac1431fa5@outlook.com</td><td>44</td><td>F</td><td>SC</td><td>Desenvolvedor de Sistemas</td><td>null</td><td>API</td><td>2024-11-22T20:15:28.024Z</td></tr><tr><td>bc1df61364155727147f5662dc2d68b8</td><td>Usuario dd72bfbd99</td><td>usuario_dd72bfbd99@hotmail.com</td><td>47</td><td>M</td><td>AM</td><td>Cientista de Dados</td><td>null</td><td>API</td><td>2024-11-22T20:15:28.024Z</td></tr><tr><td>0f71205c4c1df4db312847e9757d65fb</td><td>Usuario 7f204ad514</td><td>usuario_7f204ad514@hotmail.com</td><td>20</td><td>F</td><td>RJ</td><td>Desenvolvedor de Sistemas</td><td>null</td><td>API</td><td>2024-11-22T20:15:28.024Z</td></tr><tr><td>fd6871915eba8fb5a24afb32fa4379f8</td><td>Usuario 289cc961b9</td><td>usuario_289cc961b9@hotmail.com</td><td>26</td><td>F</td><td>DF</td><td>Analista de BI</td><td>null</td><td>API</td><td>2024-11-22T20:15:28.024Z</td></tr></tbody></table></div>"
      ]
     },
     "metadata": {
      "application/vnd.databricks.v1+output": {
       "addedWidgets": {},
       "aggData": [],
       "aggError": "",
       "aggOverflow": false,
       "aggSchema": [],
       "aggSeriesLimitReached": false,
       "aggType": "",
       "arguments": {},
       "columnCustomDisplayInfos": {},
       "data": [
        [
         "a3320d218294674fbf0c2e14b90671df",
         "Usuario aea7b8dddc",
         "usuario_aea7b8dddc@hotmail.com",
         36,
         "F",
         "SP",
         "Cientista de Dados",
         null,
         "API",
         "2024-11-22T20:15:28.024Z"
        ],
        [
         "8f7e5643e974a7aa1e06fe6099f063f7",
         "Usuario aac1431fa5",
         "usuario_aac1431fa5@outlook.com",
         44,
         "F",
         "SC",
         "Desenvolvedor de Sistemas",
         null,
         "API",
         "2024-11-22T20:15:28.024Z"
        ],
        [
         "bc1df61364155727147f5662dc2d68b8",
         "Usuario dd72bfbd99",
         "usuario_dd72bfbd99@hotmail.com",
         47,
         "M",
         "AM",
         "Cientista de Dados",
         null,
         "API",
         "2024-11-22T20:15:28.024Z"
        ],
        [
         "0f71205c4c1df4db312847e9757d65fb",
         "Usuario 7f204ad514",
         "usuario_7f204ad514@hotmail.com",
         20,
         "F",
         "RJ",
         "Desenvolvedor de Sistemas",
         null,
         "API",
         "2024-11-22T20:15:28.024Z"
        ],
        [
         "fd6871915eba8fb5a24afb32fa4379f8",
         "Usuario 289cc961b9",
         "usuario_289cc961b9@hotmail.com",
         26,
         "F",
         "DF",
         "Analista de BI",
         null,
         "API",
         "2024-11-22T20:15:28.024Z"
        ]
       ],
       "datasetInfos": [],
       "dbfsResultPath": null,
       "isJsonSchema": true,
       "metadata": {},
       "overflow": false,
       "plotOptions": {
        "customPlotOptions": {},
        "displayType": "table",
        "pivotAggregation": null,
        "pivotColumns": null,
        "xColumns": null,
        "yColumns": null
       },
       "removedWidgets": [],
       "schema": [
        {
         "metadata": "{}",
         "name": "user_uuid",
         "type": "\"string\""
        },
        {
         "metadata": "{}",
         "name": "user_name",
         "type": "\"string\""
        },
        {
         "metadata": "{}",
         "name": "user_email",
         "type": "\"string\""
        },
        {
         "metadata": "{}",
         "name": "user_idade",
         "type": "\"integer\""
        },
        {
         "metadata": "{}",
         "name": "user_gender",
         "type": "\"string\""
        },
        {
         "metadata": "{}",
         "name": "user_state",
         "type": "\"string\""
        },
        {
         "metadata": "{}",
         "name": "user_profession",
         "type": "\"string\""
        },
        {
         "metadata": "{}",
         "name": "company",
         "type": "\"string\""
        },
        {
         "metadata": "{}",
         "name": "origin",
         "type": "\"string\""
        },
        {
         "metadata": "{}",
         "name": "dt_load",
         "type": "\"timestamp\""
        }
       ],
       "type": "table"
      }
     },
     "output_type": "display_data"
    }
   ],
   "source": [
    "user_api_checkpoint_path = \"dbfs:/user/hive/warehouse/silver.db/_checkpoint/api/tb_users\"\n",
    "(\n",
    "  df_user_api.writeStream\n",
    "        .format('delta')\n",
    "        .outputMode('append')\n",
    "        .option('CheckpointLocation',user_api_checkpoint_path)\n",
    "        .option('mergeSchema', True)\n",
    "        .trigger(availableNow=True)\n",
    "        .table('silver.tb_users')\n",
    ").awaitTermination()\n",
    "\n",
    "spark.sql(\"SELECT * FROM silver.tb_users WHERE origin = 'API' LIMIT 5\").display()"
   ]
  },
  {
   "cell_type": "markdown",
   "metadata": {
    "application/vnd.databricks.v1+cell": {
     "cellMetadata": {},
     "inputWidgets": {},
     "nuid": "6b07bb48-ef18-4eff-ab47-293737e33fb0",
     "showTitle": false,
     "tableResultSettingsMap": {},
     "title": ""
    }
   },
   "source": [
    "### 4.3.2 Files users data"
   ]
  },
  {
   "cell_type": "markdown",
   "metadata": {
    "application/vnd.databricks.v1+cell": {
     "cellMetadata": {},
     "inputWidgets": {},
     "nuid": "33cad111-38f8-49b4-b48b-346b31424a37",
     "showTitle": false,
     "tableResultSettingsMap": {},
     "title": ""
    }
   },
   "source": [
    "\n",
    "We will now create a **`df_users_file`** that will be used to ingest users data from all batch files.\n",
    "\n",
    "* **`usuario_uuid`** : We will use the `md5()` function with concat to create the user uuid\n",
    "  * **`nome_empresa`**.\n",
    "  * **`nome_funcionario`**.\n",
    "* **`origin`** :\n",
    "* **`dt_loat`**:"
   ]
  },
  {
   "cell_type": "code",
   "execution_count": 0,
   "metadata": {
    "application/vnd.databricks.v1+cell": {
     "cellMetadata": {
      "byteLimit": 2048000,
      "rowLimit": 10000
     },
     "inputWidgets": {},
     "nuid": "c4edef45-3b17-4553-b38e-213c74390f94",
     "showTitle": false,
     "tableResultSettingsMap": {},
     "title": ""
    }
   },
   "outputs": [
    {
     "output_type": "display_data",
     "data": {
      "text/html": [
       "<style scoped>\n",
       "  .table-result-container {\n",
       "    max-height: 300px;\n",
       "    overflow: auto;\n",
       "  }\n",
       "  table, th, td {\n",
       "    border: 1px solid black;\n",
       "    border-collapse: collapse;\n",
       "  }\n",
       "  th, td {\n",
       "    padding: 5px;\n",
       "  }\n",
       "  th {\n",
       "    text-align: left;\n",
       "  }\n",
       "</style><div class='table-result-container'><table class='table-result'><thead style='background-color: white'><tr><th>user_uuid</th><th>user_name</th><th>user_email</th><th>user_idade</th><th>user_gender</th><th>user_state</th><th>user_profession</th><th>company</th><th>origin</th><th>dt_load</th></tr></thead><tbody><tr><td>c34c4b0abe94489a7913fa596d214837</td><td>Funcionario 1c64a078b0</td><td>funcionario_1c64a078b0@empresaa.com.br</td><td>38</td><td>F</td><td>PA</td><td>Analista de Negocio</td><td>Empresa A</td><td>FILE</td><td>2024-11-22T20:43:10.995Z</td></tr><tr><td>de1fc924f1f7bd83af85323c09052166</td><td>Funcionario 7651263aa5</td><td>funcionario_7651263aa5@empresaa.com.br</td><td>20</td><td>M</td><td>AP</td><td>Analista de BI</td><td>Empresa A</td><td>FILE</td><td>2024-11-22T20:43:10.995Z</td></tr><tr><td>5ad24ca0983441d38ce7985203c02652</td><td>Funcionario 801f18b55b</td><td>funcionario_801f18b55b@empresaa.com.br</td><td>45</td><td>M</td><td>TO</td><td>Analista de Dados</td><td>Empresa A</td><td>FILE</td><td>2024-11-22T20:43:10.995Z</td></tr><tr><td>12ea0258081123e5b0327e253e870d78</td><td>Funcionario 2a2b38c0ee</td><td>funcionario_2a2b38c0ee@empresaa.com.br</td><td>31</td><td>F</td><td>MA</td><td>Cientista de Dados</td><td>Empresa A</td><td>FILE</td><td>2024-11-22T20:43:10.995Z</td></tr><tr><td>ba03dcb4b259bb550915ec7119a50ab2</td><td>Funcionario 667f2be2e5</td><td>funcionario_667f2be2e5@empresaa.com.br</td><td>44</td><td>M</td><td>PI</td><td>Analista de BI</td><td>Empresa A</td><td>FILE</td><td>2024-11-22T20:43:10.995Z</td></tr></tbody></table></div>"
      ]
     },
     "metadata": {
      "application/vnd.databricks.v1+output": {
       "addedWidgets": {},
       "aggData": [],
       "aggError": "",
       "aggOverflow": false,
       "aggSchema": [],
       "aggSeriesLimitReached": false,
       "aggType": "",
       "arguments": {},
       "columnCustomDisplayInfos": {},
       "data": [
        [
         "c34c4b0abe94489a7913fa596d214837",
         "Funcionario 1c64a078b0",
         "funcionario_1c64a078b0@empresaa.com.br",
         38,
         "F",
         "PA",
         "Analista de Negocio",
         "Empresa A",
         "FILE",
         "2024-11-22T20:43:10.995Z"
        ],
        [
         "de1fc924f1f7bd83af85323c09052166",
         "Funcionario 7651263aa5",
         "funcionario_7651263aa5@empresaa.com.br",
         20,
         "M",
         "AP",
         "Analista de BI",
         "Empresa A",
         "FILE",
         "2024-11-22T20:43:10.995Z"
        ],
        [
         "5ad24ca0983441d38ce7985203c02652",
         "Funcionario 801f18b55b",
         "funcionario_801f18b55b@empresaa.com.br",
         45,
         "M",
         "TO",
         "Analista de Dados",
         "Empresa A",
         "FILE",
         "2024-11-22T20:43:10.995Z"
        ],
        [
         "12ea0258081123e5b0327e253e870d78",
         "Funcionario 2a2b38c0ee",
         "funcionario_2a2b38c0ee@empresaa.com.br",
         31,
         "F",
         "MA",
         "Cientista de Dados",
         "Empresa A",
         "FILE",
         "2024-11-22T20:43:10.995Z"
        ],
        [
         "ba03dcb4b259bb550915ec7119a50ab2",
         "Funcionario 667f2be2e5",
         "funcionario_667f2be2e5@empresaa.com.br",
         44,
         "M",
         "PI",
         "Analista de BI",
         "Empresa A",
         "FILE",
         "2024-11-22T20:43:10.995Z"
        ]
       ],
       "datasetInfos": [],
       "dbfsResultPath": null,
       "isJsonSchema": true,
       "metadata": {
        "isDbfsCommandResult": false
       },
       "overflow": false,
       "plotOptions": {
        "customPlotOptions": {},
        "displayType": "table",
        "pivotAggregation": null,
        "pivotColumns": null,
        "xColumns": null,
        "yColumns": null
       },
       "removedWidgets": [],
       "schema": [
        {
         "metadata": "{}",
         "name": "user_uuid",
         "type": "\"string\""
        },
        {
         "metadata": "{}",
         "name": "user_name",
         "type": "\"string\""
        },
        {
         "metadata": "{}",
         "name": "user_email",
         "type": "\"string\""
        },
        {
         "metadata": "{}",
         "name": "user_idade",
         "type": "\"integer\""
        },
        {
         "metadata": "{}",
         "name": "user_gender",
         "type": "\"string\""
        },
        {
         "metadata": "{}",
         "name": "user_state",
         "type": "\"string\""
        },
        {
         "metadata": "{}",
         "name": "user_profession",
         "type": "\"string\""
        },
        {
         "metadata": "{}",
         "name": "company",
         "type": "\"string\""
        },
        {
         "metadata": "{}",
         "name": "origin",
         "type": "\"string\""
        },
        {
         "metadata": "{}",
         "name": "dt_load",
         "type": "\"timestamp\""
        }
       ],
       "type": "table"
      }
     },
     "output_type": "display_data"
    }
   ],
   "source": [
    "df_users_file = spark.sql(\"\"\"\n",
    "      SELECT   md5(CONCAT(\n",
    "            nome_empresa,\n",
    "            nome_funcionario\n",
    "        )) AS user_uuid,\n",
    "        nome_funcionario AS user_name,\n",
    "        email_functionario AS user_email,\n",
    "        CAST(idade AS INT) AS user_idade,\n",
    "        sexo AS user_gender,\n",
    "        estado as user_state,\n",
    "        profissao as user_profession,  \n",
    "        nome_empresa AS company,\n",
    "        'FILE'  as origin,\n",
    "        getdate() as dt_load       \n",
    "        FROM stream_temp_vw_files\n",
    "\"\"\")\n",
    "\n",
    "df_users_file.limit(5).display()"
   ]
  },
  {
   "cell_type": "code",
   "execution_count": 0,
   "metadata": {
    "application/vnd.databricks.v1+cell": {
     "cellMetadata": {
      "byteLimit": 2048000,
      "rowLimit": 10000
     },
     "inputWidgets": {},
     "nuid": "86dfdfd7-be1e-4dcb-8729-e7502f4ab850",
     "showTitle": false,
     "tableResultSettingsMap": {},
     "title": ""
    }
   },
   "outputs": [
    {
     "output_type": "display_data",
     "data": {
      "text/html": [
       "<style scoped>\n",
       "  .table-result-container {\n",
       "    max-height: 300px;\n",
       "    overflow: auto;\n",
       "  }\n",
       "  table, th, td {\n",
       "    border: 1px solid black;\n",
       "    border-collapse: collapse;\n",
       "  }\n",
       "  th, td {\n",
       "    padding: 5px;\n",
       "  }\n",
       "  th {\n",
       "    text-align: left;\n",
       "  }\n",
       "</style><div class='table-result-container'><table class='table-result'><thead style='background-color: white'><tr><th>user_uuid</th><th>user_name</th><th>user_email</th><th>user_idade</th><th>user_gender</th><th>user_state</th><th>user_profession</th><th>company</th><th>origin</th><th>dt_load</th></tr></thead><tbody><tr><td>c34c4b0abe94489a7913fa596d214837</td><td>Funcionario 1c64a078b0</td><td>funcionario_1c64a078b0@empresaa.com.br</td><td>38</td><td>F</td><td>PA</td><td>Analista de Negocio</td><td>Empresa A</td><td>FILE</td><td>2024-11-22T20:49:59.032Z</td></tr><tr><td>de1fc924f1f7bd83af85323c09052166</td><td>Funcionario 7651263aa5</td><td>funcionario_7651263aa5@empresaa.com.br</td><td>20</td><td>M</td><td>AP</td><td>Analista de BI</td><td>Empresa A</td><td>FILE</td><td>2024-11-22T20:49:59.032Z</td></tr><tr><td>5ad24ca0983441d38ce7985203c02652</td><td>Funcionario 801f18b55b</td><td>funcionario_801f18b55b@empresaa.com.br</td><td>45</td><td>M</td><td>TO</td><td>Analista de Dados</td><td>Empresa A</td><td>FILE</td><td>2024-11-22T20:49:59.032Z</td></tr><tr><td>12ea0258081123e5b0327e253e870d78</td><td>Funcionario 2a2b38c0ee</td><td>funcionario_2a2b38c0ee@empresaa.com.br</td><td>31</td><td>F</td><td>MA</td><td>Cientista de Dados</td><td>Empresa A</td><td>FILE</td><td>2024-11-22T20:49:59.032Z</td></tr><tr><td>ba03dcb4b259bb550915ec7119a50ab2</td><td>Funcionario 667f2be2e5</td><td>funcionario_667f2be2e5@empresaa.com.br</td><td>44</td><td>M</td><td>PI</td><td>Analista de BI</td><td>Empresa A</td><td>FILE</td><td>2024-11-22T20:49:59.032Z</td></tr></tbody></table></div>"
      ]
     },
     "metadata": {
      "application/vnd.databricks.v1+output": {
       "addedWidgets": {},
       "aggData": [],
       "aggError": "",
       "aggOverflow": false,
       "aggSchema": [],
       "aggSeriesLimitReached": false,
       "aggType": "",
       "arguments": {},
       "columnCustomDisplayInfos": {},
       "data": [
        [
         "c34c4b0abe94489a7913fa596d214837",
         "Funcionario 1c64a078b0",
         "funcionario_1c64a078b0@empresaa.com.br",
         38,
         "F",
         "PA",
         "Analista de Negocio",
         "Empresa A",
         "FILE",
         "2024-11-22T20:49:59.032Z"
        ],
        [
         "de1fc924f1f7bd83af85323c09052166",
         "Funcionario 7651263aa5",
         "funcionario_7651263aa5@empresaa.com.br",
         20,
         "M",
         "AP",
         "Analista de BI",
         "Empresa A",
         "FILE",
         "2024-11-22T20:49:59.032Z"
        ],
        [
         "5ad24ca0983441d38ce7985203c02652",
         "Funcionario 801f18b55b",
         "funcionario_801f18b55b@empresaa.com.br",
         45,
         "M",
         "TO",
         "Analista de Dados",
         "Empresa A",
         "FILE",
         "2024-11-22T20:49:59.032Z"
        ],
        [
         "12ea0258081123e5b0327e253e870d78",
         "Funcionario 2a2b38c0ee",
         "funcionario_2a2b38c0ee@empresaa.com.br",
         31,
         "F",
         "MA",
         "Cientista de Dados",
         "Empresa A",
         "FILE",
         "2024-11-22T20:49:59.032Z"
        ],
        [
         "ba03dcb4b259bb550915ec7119a50ab2",
         "Funcionario 667f2be2e5",
         "funcionario_667f2be2e5@empresaa.com.br",
         44,
         "M",
         "PI",
         "Analista de BI",
         "Empresa A",
         "FILE",
         "2024-11-22T20:49:59.032Z"
        ]
       ],
       "datasetInfos": [],
       "dbfsResultPath": null,
       "isJsonSchema": true,
       "metadata": {},
       "overflow": false,
       "plotOptions": {
        "customPlotOptions": {},
        "displayType": "table",
        "pivotAggregation": null,
        "pivotColumns": null,
        "xColumns": null,
        "yColumns": null
       },
       "removedWidgets": [],
       "schema": [
        {
         "metadata": "{}",
         "name": "user_uuid",
         "type": "\"string\""
        },
        {
         "metadata": "{}",
         "name": "user_name",
         "type": "\"string\""
        },
        {
         "metadata": "{}",
         "name": "user_email",
         "type": "\"string\""
        },
        {
         "metadata": "{}",
         "name": "user_idade",
         "type": "\"integer\""
        },
        {
         "metadata": "{}",
         "name": "user_gender",
         "type": "\"string\""
        },
        {
         "metadata": "{}",
         "name": "user_state",
         "type": "\"string\""
        },
        {
         "metadata": "{}",
         "name": "user_profession",
         "type": "\"string\""
        },
        {
         "metadata": "{}",
         "name": "company",
         "type": "\"string\""
        },
        {
         "metadata": "{}",
         "name": "origin",
         "type": "\"string\""
        },
        {
         "metadata": "{}",
         "name": "dt_load",
         "type": "\"timestamp\""
        }
       ],
       "type": "table"
      }
     },
     "output_type": "display_data"
    }
   ],
   "source": [
    "user_files_checkpoint_files = 'dbfs:/user/hive/warehouse/silver.db/_checkpoint/files/tb_users'\n",
    "(\n",
    "df_users_file.writeStream\n",
    "        .format('delta')\n",
    "        .outputMode('append')\n",
    "        .option('CheckpointLocation',user_files_checkpoint_files)\n",
    "        .option('mergeSchema',True)\n",
    "        .trigger(availableNow=True)\n",
    "        .table('silver.tb_users')\n",
    ").awaitTermination()\n",
    "\n",
    "spark.sql(\"SELECT * FROM silver.tb_users WHERE origin = 'FILE' LIMIT 5\").display()"
   ]
  },
  {
   "cell_type": "markdown",
   "metadata": {
    "application/vnd.databricks.v1+cell": {
     "cellMetadata": {},
     "inputWidgets": {},
     "nuid": "f335ee34-14b2-45d4-a210-cbc32b2ec230",
     "showTitle": false,
     "tableResultSettingsMap": {},
     "title": ""
    }
   },
   "source": [
    "### 4.4 Sales Table "
   ]
  },
  {
   "cell_type": "code",
   "execution_count": 0,
   "metadata": {
    "application/vnd.databricks.v1+cell": {
     "cellMetadata": {
      "byteLimit": 2048000,
      "rowLimit": 10000
     },
     "inputWidgets": {},
     "nuid": "0b73c2f4-4158-478f-8015-c3ba5f4e2509",
     "showTitle": false,
     "tableResultSettingsMap": {},
     "title": ""
    }
   },
   "outputs": [
    {
     "output_type": "stream",
     "name": "stdout",
     "output_type": "stream",
     "text": [
      "stop_all_streams-inicio-2024-11-22 20:51:25.932676\nO stream display_query_7 fui finalizado com sucesso.\nO stream display_query_4 fui finalizado com sucesso.\nO stream display_query_3 fui finalizado com sucesso.\nO stream display_query_2 fui finalizado com sucesso.\nstop_all_streams-fim-2024-11-22 20:51:27.312878\n              \nclean_up_landing_dir-inicio-2024-11-22 20:51:27.312988\nTodos os arquivos e diretórios dentro de 'dbfs:/FileStore/landing/' foram excluidos com sucesso.\nclean_up_landing_dir-fim-2024-11-22 20:51:27.370540\n              \n"
     ]
    }
   ],
   "source": [
    "stop_all_streams()\n",
    "clean_up_landing_dir()"
   ]
  },
  {
   "cell_type": "code",
   "execution_count": 0,
   "metadata": {
    "application/vnd.databricks.v1+cell": {
     "cellMetadata": {},
     "inputWidgets": {},
     "nuid": "457ef14f-3d09-41f7-9ae2-a9e4c594ad17",
     "showTitle": false,
     "tableResultSettingsMap": {},
     "title": ""
    }
   },
   "outputs": [],
   "source": []
  }
 ],
 "metadata": {
  "application/vnd.databricks.v1+notebook": {
   "dashboards": [],
   "environmentMetadata": null,
   "language": "python",
   "notebookMetadata": {
    "mostRecentlyExecutedCommandWithImplicitDF": {
     "commandId": 771602024729944,
     "dataframes": [
      "_sqldf"
     ]
    },
    "pythonIndentUnit": 2
   },
   "notebookName": "Load_Silver_Zone",
   "widgets": {}
  }
 },
 "nbformat": 4,
 "nbformat_minor": 0
}
