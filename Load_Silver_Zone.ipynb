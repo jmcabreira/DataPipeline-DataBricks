{
 "cells": [
  {
   "cell_type": "markdown",
   "metadata": {
    "application/vnd.databricks.v1+cell": {
     "cellMetadata": {},
     "inputWidgets": {},
     "nuid": "1ca48b39-6254-44fe-8d5f-fe6ef60d1155",
     "showTitle": false,
     "tableResultSettingsMap": {},
     "title": ""
    }
   },
   "source": [
    "# Loading Data to Silver Zone\n",
    "\n",
    "This Notebook:\n",
    "* We will iIngest data from **Bronze Zone** to **Silver Zone** using spark\n",
    "* We will use Spark Structured Streaming with **`trigger(availableNow=True)`** for batch loading\n",
    "* We will do a **load control** of the batch processes through Structured Streaming **checkpoint**\n",
    "* We will use **`awaitTermination()`**  ethod to transform the streaming queries in a synchronous process\n",
    "* We will Combine spark and sql in order to do the data load"
   ]
  },
  {
   "cell_type": "markdown",
   "metadata": {
    "application/vnd.databricks.v1+cell": {
     "cellMetadata": {},
     "inputWidgets": {},
     "nuid": "cc4cbf26-23cf-4ff9-80a3-8302c1ab5505",
     "showTitle": false,
     "tableResultSettingsMap": {},
     "title": ""
    }
   },
   "source": [
    "## 1.0 Initial Setup"
   ]
  },
  {
   "cell_type": "code",
   "execution_count": 0,
   "metadata": {
    "application/vnd.databricks.v1+cell": {
     "cellMetadata": {
      "byteLimit": 2048000,
      "rowLimit": 10000
     },
     "collapsed": true,
     "inputWidgets": {},
     "nuid": "c3859f71-b7e2-4b25-8028-6301486d5453",
     "showTitle": false,
     "tableResultSettingsMap": {},
     "title": ""
    }
   },
   "outputs": [],
   "source": [
    "%run \"/Users/cabreirajm@gmail.com/DataPipelineCabreira/Helpers/data_generator\" \n"
   ]
  },
  {
   "cell_type": "markdown",
   "metadata": {
    "application/vnd.databricks.v1+cell": {
     "cellMetadata": {},
     "inputWidgets": {},
     "nuid": "052ad713-ac0b-4051-8b6f-4b247e37cb05",
     "showTitle": false,
     "tableResultSettingsMap": {},
     "title": ""
    }
   },
   "source": [
    "## 2.0 Create `Silver Zone` Schema"
   ]
  },
  {
   "cell_type": "code",
   "execution_count": 0,
   "metadata": {
    "application/vnd.databricks.v1+cell": {
     "cellMetadata": {
      "byteLimit": 2048000,
      "rowLimit": 10000
     },
     "inputWidgets": {},
     "nuid": "e2e899e0-caae-458f-9ab1-ee338ec3c532",
     "showTitle": false,
     "tableResultSettingsMap": {},
     "title": ""
    }
   },
   "outputs": [
    {
     "output_type": "execute_result",
     "data": {
      "text/plain": [
       "DataFrame[]"
      ]
     },
     "execution_count": 9,
     "metadata": {},
     "output_type": "execute_result"
    }
   ],
   "source": [
    "spark.sql(\"CREATE DATABASE IF NOT EXISTS silver\")"
   ]
  },
  {
   "cell_type": "markdown",
   "metadata": {
    "application/vnd.databricks.v1+cell": {
     "cellMetadata": {},
     "inputWidgets": {},
     "nuid": "3b1f652a-4c5d-41ec-adb2-924dfaa4602a",
     "showTitle": false,
     "tableResultSettingsMap": {},
     "title": ""
    }
   },
   "source": [
    "## 3.0 Businesse Requirements for Silver Zone"
   ]
  },
  {
   "cell_type": "markdown",
   "metadata": {
    "application/vnd.databricks.v1+cell": {
     "cellMetadata": {},
     "inputWidgets": {},
     "nuid": "db2d40a5-b072-4525-9475-36d25b09840c",
     "showTitle": false,
     "tableResultSettingsMap": {},
     "title": ""
    }
   },
   "source": [
    "1. The ingestion need to be done in batch in order to avoid extra costs \n",
    "    * Even though the API data is stored in streaming in landing zone \n",
    "2. API and Batch Data need to be stored in the same table \n",
    "3. Each table will have an uuid column with a hash to identify each register\n",
    "4. We have to garantee the correct data type of all column \n",
    "5. We need to create better column names for each table "
   ]
  },
  {
   "cell_type": "markdown",
   "metadata": {
    "application/vnd.databricks.v1+cell": {
     "cellMetadata": {},
     "inputWidgets": {},
     "nuid": "56c5aab8-5a36-48e0-8e79-cd3923a9877d",
     "showTitle": false,
     "tableResultSettingsMap": {},
     "title": ""
    }
   },
   "source": [
    "## 4.0 Data Modeling"
   ]
  },
  {
   "cell_type": "markdown",
   "metadata": {
    "application/vnd.databricks.v1+cell": {
     "cellMetadata": {},
     "inputWidgets": {},
     "nuid": "510ba2f5-3b40-4c6d-982c-1197cc888852",
     "showTitle": false,
     "tableResultSettingsMap": {},
     "title": ""
    }
   },
   "source": [
    "### 4.1 Courses Table  ( Domain Table)"
   ]
  },
  {
   "cell_type": "markdown",
   "metadata": {
    "application/vnd.databricks.v1+cell": {
     "cellMetadata": {
      "byteLimit": 2048000,
      "rowLimit": 10000
     },
     "inputWidgets": {},
     "nuid": "67ed5195-477b-4595-b2e7-08aa947aec5a",
     "showTitle": false,
     "tableResultSettingsMap": {},
     "title": ""
    }
   },
   "source": [
    "The table `tb_courses` is a **domain table** and we will store all the available courses information ( the product ). Its information will be added manually.\n",
    "* We will use the **md5()** function to create the **curso_uuuid** column by the course name \n",
    "* The column **data_carga** : Contains the processing date"
   ]
  },
  {
   "cell_type": "code",
   "execution_count": 0,
   "metadata": {
    "application/vnd.databricks.v1+cell": {
     "cellMetadata": {
      "byteLimit": 2048000,
      "rowLimit": 10000
     },
     "inputWidgets": {},
     "nuid": "b2ad018d-8815-4026-b49a-af3ed022ad9f",
     "showTitle": false,
     "tableResultSettingsMap": {},
     "title": ""
    }
   },
   "outputs": [
    {
     "output_type": "display_data",
     "data": {
      "text/html": [
       "<style scoped>\n",
       "  .table-result-container {\n",
       "    max-height: 300px;\n",
       "    overflow: auto;\n",
       "  }\n",
       "  table, th, td {\n",
       "    border: 1px solid black;\n",
       "    border-collapse: collapse;\n",
       "  }\n",
       "  th, td {\n",
       "    padding: 5px;\n",
       "  }\n",
       "  th {\n",
       "    text-align: left;\n",
       "  }\n",
       "</style><div class='table-result-container'><table class='table-result'><thead style='background-color: white'><tr><th>course_uuid</th><th>course_name</th><th>course_level</th><th>course_price</th><th>dt_load</th></tr></thead><tbody><tr><td>fb95df132ca7f41d392bc98ccf0cfeb8</td><td>Data Pipeline with Databricks</td><td>beginner</td><td>589.90</td><td>2024-11-22T09:39:02.963Z</td></tr><tr><td>bda125b01c9596e123e5f9b3bf00f3a8</td><td>From your first data pipeline to a Data Lakehouse with Databricks</td><td>intermediate</td><td>659.90</td><td>2024-11-22T09:39:02.963Z</td></tr><tr><td>ff17869bc6f9d9865e0bf8133c4ce3c3</td><td>Building a Data Pipeline with Spark Structured Streaming</td><td>advanced</td><td>549.90</td><td>2024-11-22T09:39:02.963Z</td></tr></tbody></table></div>"
      ]
     },
     "metadata": {
      "application/vnd.databricks.v1+output": {
       "addedWidgets": {},
       "aggData": [],
       "aggError": "",
       "aggOverflow": false,
       "aggSchema": [],
       "aggSeriesLimitReached": false,
       "aggType": "",
       "arguments": {},
       "columnCustomDisplayInfos": {},
       "data": [
        [
         "fb95df132ca7f41d392bc98ccf0cfeb8",
         "Data Pipeline with Databricks",
         "beginner",
         "589.90",
         "2024-11-22T09:39:02.963Z"
        ],
        [
         "bda125b01c9596e123e5f9b3bf00f3a8",
         "From your first data pipeline to a Data Lakehouse with Databricks",
         "intermediate",
         "659.90",
         "2024-11-22T09:39:02.963Z"
        ],
        [
         "ff17869bc6f9d9865e0bf8133c4ce3c3",
         "Building a Data Pipeline with Spark Structured Streaming",
         "advanced",
         "549.90",
         "2024-11-22T09:39:02.963Z"
        ]
       ],
       "datasetInfos": [],
       "dbfsResultPath": null,
       "isJsonSchema": true,
       "metadata": {},
       "overflow": false,
       "plotOptions": {
        "customPlotOptions": {},
        "displayType": "table",
        "pivotAggregation": null,
        "pivotColumns": null,
        "xColumns": null,
        "yColumns": null
       },
       "removedWidgets": [],
       "schema": [
        {
         "metadata": "{}",
         "name": "course_uuid",
         "type": "\"string\""
        },
        {
         "metadata": "{}",
         "name": "course_name",
         "type": "\"string\""
        },
        {
         "metadata": "{}",
         "name": "course_level",
         "type": "\"string\""
        },
        {
         "metadata": "{}",
         "name": "course_price",
         "type": "\"decimal(5,2)\""
        },
        {
         "metadata": "{}",
         "name": "dt_load",
         "type": "\"timestamp\""
        }
       ],
       "type": "table"
      }
     },
     "output_type": "display_data"
    }
   ],
   "source": [
    "spark.sql(\"\"\"\n",
    "  CREATE TABLE IF NOT EXISTS silver.tb_courses\n",
    "  AS\n",
    "    SELECT  \n",
    "      md5('Data Pipeline with Databricks') AS course_uuid,\n",
    "      'Data Pipeline with Databricks' AS course_name,\n",
    "      'beginner' AS course_level,\n",
    "      589.90 AS course_price,\n",
    "      getdate() AS dt_load\n",
    "\n",
    "      UNION\n",
    "\n",
    "    SELECT\n",
    "      md5('From your first data pipeline to a Data Lakehouse with Databricks') AS course_uuid,\n",
    "      'From your first data pipeline to a Data Lakehouse with Databricks' AS course_name,\n",
    "      'intermediate' as course_level,\n",
    "      659.90 AS course_price,\n",
    "      getdate() AS dt_load\n",
    "\n",
    "\n",
    "      UNION\n",
    "\n",
    "    SELECT\n",
    "      md5('Building a Data Pipeline with Spark Structured Streaming') AS course_uuid,\n",
    "      'Building a Data Pipeline with Spark Structured Streaming' as course_name,\n",
    "      'advanced' as course_level,\n",
    "      549.90 as course_price,\n",
    "      getdate() as dt_load\n",
    "\"\"\"\n",
    ")\n",
    "\n",
    "\n",
    "spark.sql('SELECT * FROM silver.tb_courses').display()"
   ]
  },
  {
   "cell_type": "markdown",
   "metadata": {
    "application/vnd.databricks.v1+cell": {
     "cellMetadata": {},
     "inputWidgets": {},
     "nuid": "965ead0b-abfb-464d-9a6f-7abc73f8b657",
     "showTitle": false,
     "tableResultSettingsMap": {},
     "title": ""
    }
   },
   "source": [
    "We will now create two streaming views called **`stream_temp_vw_api`**  and **`stream_temp_vw_files`** that will be used as source data for our loading process."
   ]
  },
  {
   "cell_type": "code",
   "execution_count": 0,
   "metadata": {
    "application/vnd.databricks.v1+cell": {
     "cellMetadata": {
      "byteLimit": 2048000,
      "rowLimit": 10000
     },
     "inputWidgets": {},
     "nuid": "0d4e6a86-fe59-48e6-ba71-4286e1febb9f",
     "showTitle": false,
     "tableResultSettingsMap": {},
     "title": ""
    }
   },
   "outputs": [],
   "source": [
    "api_df = spark.readStream.table('bronze.api_data_')\n",
    "api_df.createOrReplaceTempView('stream_temp_vw_api')\n",
    "\n",
    "files_df = spark.readStream.table('bronze.file_data_')\n",
    "files_df.createOrReplaceTempView('stream_temp_vw_files')"
   ]
  },
  {
   "cell_type": "markdown",
   "metadata": {
    "application/vnd.databricks.v1+cell": {
     "cellMetadata": {},
     "inputWidgets": {},
     "nuid": "f502abce-be96-4a7c-8da2-9c6a250982cb",
     "showTitle": false,
     "tableResultSettingsMap": {},
     "title": ""
    }
   },
   "source": [
    "### 4.2 Access Table  "
   ]
  },
  {
   "cell_type": "markdown",
   "metadata": {
    "application/vnd.databricks.v1+cell": {
     "cellMetadata": {},
     "inputWidgets": {},
     "nuid": "a3cae93e-ef1b-4493-b364-848cc8e0e0c9",
     "showTitle": false,
     "tableResultSettingsMap": {},
     "title": ""
    }
   },
   "source": [
    "This table stores all the website access.\n",
    "\n",
    "**`df_access`** : Dataframe that used to load data into **`tb_access`** table. This dataframe stores all information regarding the website visitors and its information comes from API. \n",
    "\n",
    "**Columns:**\n",
    "* **`acesso_uuid` column** : Created with the **`md5()`** function  by **`concatenating`** the columns below:\n",
    "  * **`access_date`** - After being converted to Timestamp\n",
    "  * **`ip_address`**. - ip address of the computer \n",
    "  * **`access_point`** -Identify the access point as mobile or computer (**local_acesso**).\n",
    "* **`usuario_uuid` column**: Created with the **`md5()`** function  by **`concatenating`** the columns below:\n",
    "  * **`access_date`** - After being converted to Timestamp\n",
    "  * **`payload.info_usuario.nome`** - name of the user\n",
    "* **`data_carga` column**: The processing date of the register "
   ]
  },
  {
   "cell_type": "code",
   "execution_count": 0,
   "metadata": {
    "application/vnd.databricks.v1+cell": {
     "cellMetadata": {
      "byteLimit": 2048000,
      "implicitDf": true,
      "rowLimit": 10000
     },
     "inputWidgets": {},
     "nuid": "d4c473ac-b045-4c93-94c9-f4dc69954e57",
     "showTitle": false,
     "tableResultSettingsMap": {},
     "title": ""
    }
   },
   "outputs": [
    {
     "output_type": "display_data",
     "data": {
      "text/html": [
       "<style scoped>\n",
       "  .table-result-container {\n",
       "    max-height: 300px;\n",
       "    overflow: auto;\n",
       "  }\n",
       "  table, th, td {\n",
       "    border: 1px solid black;\n",
       "    border-collapse: collapse;\n",
       "  }\n",
       "  th, td {\n",
       "    padding: 5px;\n",
       "  }\n",
       "  th {\n",
       "    text-align: left;\n",
       "  }\n",
       "</style><div class='table-result-container'><table class='table-result'><thead style='background-color: white'><tr><th>access_date</th><th>access_point</th><th>ip_address</th><th>payload</th><th>_rescued_data</th><th>source_file_name</th><th>processing_timestamp</th></tr></thead><tbody><tr><td>2024-06-02T04:32:32.000Z</td><td>android</td><td>69.127.75.83</td><td>List(null, null, null)</td><td>null</td><td>part-00007-dcf3b00e-1836-4744-b6b7-0b017475c73e-c000.json</td><td>2024-11-22T10:18:20.134Z</td></tr><tr><td>2024-06-02T05:05:28.000Z</td><td>firefox</td><td>168.18.37.100</td><td>List(null, null, null)</td><td>null</td><td>part-00007-dcf3b00e-1836-4744-b6b7-0b017475c73e-c000.json</td><td>2024-11-22T10:18:20.134Z</td></tr></tbody></table></div>"
      ]
     },
     "metadata": {
      "application/vnd.databricks.v1+output": {
       "addedWidgets": {},
       "aggData": [],
       "aggError": "",
       "aggOverflow": false,
       "aggSchema": [],
       "aggSeriesLimitReached": false,
       "aggType": "",
       "arguments": {},
       "columnCustomDisplayInfos": {},
       "data": [
        [
         "2024-06-02T04:32:32.000Z",
         "android",
         "69.127.75.83",
         [
          null,
          null,
          null
         ],
         null,
         "part-00007-dcf3b00e-1836-4744-b6b7-0b017475c73e-c000.json",
         "2024-11-22T10:18:20.134Z"
        ],
        [
         "2024-06-02T05:05:28.000Z",
         "firefox",
         "168.18.37.100",
         [
          null,
          null,
          null
         ],
         null,
         "part-00007-dcf3b00e-1836-4744-b6b7-0b017475c73e-c000.json",
         "2024-11-22T10:18:20.134Z"
        ]
       ],
       "datasetInfos": [],
       "dbfsResultPath": null,
       "isJsonSchema": true,
       "metadata": {
        "isDbfsCommandResult": false
       },
       "overflow": false,
       "plotOptions": {
        "customPlotOptions": {},
        "displayType": "table",
        "pivotAggregation": null,
        "pivotColumns": null,
        "xColumns": null,
        "yColumns": null
       },
       "removedWidgets": [],
       "schema": [
        {
         "metadata": "{}",
         "name": "access_date",
         "type": "\"string\""
        },
        {
         "metadata": "{}",
         "name": "access_point",
         "type": "\"string\""
        },
        {
         "metadata": "{}",
         "name": "ip_address",
         "type": "\"string\""
        },
        {
         "metadata": "{}",
         "name": "payload",
         "type": "{\"type\":\"struct\",\"fields\":[{\"name\":\"info_pagamento\",\"type\":{\"type\":\"struct\",\"fields\":[{\"name\":\"disconto\",\"type\":\"string\",\"nullable\":true,\"metadata\":{}},{\"name\":\"forma_pagamento\",\"type\":\"string\",\"nullable\":true,\"metadata\":{}},{\"name\":\"quantidade_parcelas\",\"type\":\"string\",\"nullable\":true,\"metadata\":{}},{\"name\":\"valor\",\"type\":\"string\",\"nullable\":true,\"metadata\":{}},{\"name\":\"valor_parcelas\",\"type\":\"string\",\"nullable\":true,\"metadata\":{}}]},\"nullable\":true,\"metadata\":{}},{\"name\":\"info_produto\",\"type\":{\"type\":\"struct\",\"fields\":[{\"name\":\"product_uuid\",\"type\":\"string\",\"nullable\":true,\"metadata\":{}},{\"name\":\"valor\",\"type\":\"string\",\"nullable\":true,\"metadata\":{}}]},\"nullable\":true,\"metadata\":{}},{\"name\":\"info_usuario\",\"type\":{\"type\":\"struct\",\"fields\":[{\"name\":\"email\",\"type\":\"string\",\"nullable\":true,\"metadata\":{}},{\"name\":\"estado\",\"type\":\"string\",\"nullable\":true,\"metadata\":{}},{\"name\":\"idade\",\"type\":\"string\",\"nullable\":true,\"metadata\":{}},{\"name\":\"nome\",\"type\":\"string\",\"nullable\":true,\"metadata\":{}},{\"name\":\"profissao\",\"type\":\"string\",\"nullable\":true,\"metadata\":{}},{\"name\":\"sexo\",\"type\":\"string\",\"nullable\":true,\"metadata\":{}}]},\"nullable\":true,\"metadata\":{}}]}"
        },
        {
         "metadata": "{}",
         "name": "_rescued_data",
         "type": "\"string\""
        },
        {
         "metadata": "{}",
         "name": "source_file_name",
         "type": "\"string\""
        },
        {
         "metadata": "{}",
         "name": "processing_timestamp",
         "type": "\"timestamp\""
        }
       ],
       "type": "table"
      }
     },
     "output_type": "display_data"
    }
   ],
   "source": [
    "%sql\n",
    "select * from stream_temp_vw_api limit 2"
   ]
  },
  {
   "cell_type": "code",
   "execution_count": 0,
   "metadata": {
    "application/vnd.databricks.v1+cell": {
     "cellMetadata": {
      "byteLimit": 2048000,
      "rowLimit": 10000
     },
     "inputWidgets": {},
     "nuid": "d58bddee-a4d1-4780-8c8c-7eb085c85021",
     "showTitle": false,
     "tableResultSettingsMap": {},
     "title": ""
    }
   },
   "outputs": [
    {
     "output_type": "display_data",
     "data": {
      "text/html": [
       "<style scoped>\n",
       "  .table-result-container {\n",
       "    max-height: 300px;\n",
       "    overflow: auto;\n",
       "  }\n",
       "  table, th, td {\n",
       "    border: 1px solid black;\n",
       "    border-collapse: collapse;\n",
       "  }\n",
       "  th, td {\n",
       "    padding: 5px;\n",
       "  }\n",
       "  th {\n",
       "    text-align: left;\n",
       "  }\n",
       "</style><div class='table-result-container'><table class='table-result'><thead style='background-color: white'><tr><th>access_timestamp</th><th>access_ip_address</th><th>local_access</th><th>access_uuid</th><th>uuid_user</th><th>course_uuid</th><th>dt_load</th></tr></thead><tbody><tr><td>2024-06-02T04:32:32Z</td><td>69.127.75.83</td><td>Mobile</td><td>1103c7b8628eb7d9e78de86aa2b29d68</td><td>null</td><td>null</td><td>2024-11-22T11:07:38.842Z</td></tr><tr><td>2024-06-02T05:05:28Z</td><td>168.18.37.100</td><td>Computer</td><td>9b6441d6a9398786735cd962eabaf763</td><td>null</td><td>null</td><td>2024-11-22T11:07:38.842Z</td></tr><tr><td>2024-06-02T05:38:24Z</td><td>113.109.66.208</td><td>Computer</td><td>af4e558b3f8e7bda5f938521fc9f8d71</td><td>6a7bba03bab91ad37c8b99cc62b2b49b</td><td>f260cd97c6c9813b01601e834a2added</td><td>2024-11-22T11:07:38.842Z</td></tr><tr><td>2024-06-02T06:11:20Z</td><td>87.241.252.59</td><td>Mobile</td><td>09203dff192ad95f83d644065fdc86c9</td><td>null</td><td>null</td><td>2024-11-22T11:07:38.842Z</td></tr><tr><td>2024-06-02T06:44:16Z</td><td>188.111.120.11</td><td>Computer</td><td>a234a81dc3a2926c09d2a198e8d09750</td><td>d6f409ceb737a0a28b5c020593a4dff9</td><td>34bdd77f6954552d11c4f5547cb41458</td><td>2024-11-22T11:07:38.842Z</td></tr></tbody></table></div>"
      ]
     },
     "metadata": {
      "application/vnd.databricks.v1+output": {
       "addedWidgets": {},
       "aggData": [],
       "aggError": "",
       "aggOverflow": false,
       "aggSchema": [],
       "aggSeriesLimitReached": false,
       "aggType": "",
       "arguments": {},
       "columnCustomDisplayInfos": {},
       "data": [
        [
         "2024-06-02T04:32:32Z",
         "69.127.75.83",
         "Mobile",
         "1103c7b8628eb7d9e78de86aa2b29d68",
         null,
         null,
         "2024-11-22T11:07:38.842Z"
        ],
        [
         "2024-06-02T05:05:28Z",
         "168.18.37.100",
         "Computer",
         "9b6441d6a9398786735cd962eabaf763",
         null,
         null,
         "2024-11-22T11:07:38.842Z"
        ],
        [
         "2024-06-02T05:38:24Z",
         "113.109.66.208",
         "Computer",
         "af4e558b3f8e7bda5f938521fc9f8d71",
         "6a7bba03bab91ad37c8b99cc62b2b49b",
         "f260cd97c6c9813b01601e834a2added",
         "2024-11-22T11:07:38.842Z"
        ],
        [
         "2024-06-02T06:11:20Z",
         "87.241.252.59",
         "Mobile",
         "09203dff192ad95f83d644065fdc86c9",
         null,
         null,
         "2024-11-22T11:07:38.842Z"
        ],
        [
         "2024-06-02T06:44:16Z",
         "188.111.120.11",
         "Computer",
         "a234a81dc3a2926c09d2a198e8d09750",
         "d6f409ceb737a0a28b5c020593a4dff9",
         "34bdd77f6954552d11c4f5547cb41458",
         "2024-11-22T11:07:38.842Z"
        ]
       ],
       "datasetInfos": [],
       "dbfsResultPath": null,
       "isJsonSchema": true,
       "metadata": {
        "isDbfsCommandResult": false
       },
       "overflow": false,
       "plotOptions": {
        "customPlotOptions": {},
        "displayType": "table",
        "pivotAggregation": null,
        "pivotColumns": null,
        "xColumns": null,
        "yColumns": null
       },
       "removedWidgets": [],
       "schema": [
        {
         "metadata": "{}",
         "name": "access_timestamp",
         "type": "\"timestamp\""
        },
        {
         "metadata": "{}",
         "name": "access_ip_address",
         "type": "\"string\""
        },
        {
         "metadata": "{}",
         "name": "local_access",
         "type": "\"string\""
        },
        {
         "metadata": "{}",
         "name": "access_uuid",
         "type": "\"string\""
        },
        {
         "metadata": "{}",
         "name": "uuid_user",
         "type": "\"string\""
        },
        {
         "metadata": "{}",
         "name": "course_uuid",
         "type": "\"string\""
        },
        {
         "metadata": "{}",
         "name": "dt_load",
         "type": "\"timestamp\""
        }
       ],
       "type": "table"
      }
     },
     "output_type": "display_data"
    }
   ],
   "source": [
    "df_access = spark.sql(\"\"\" \n",
    "    SELECT \n",
    "      CAST( access_date AS TIMESTAMP) AS access_timestamp,\n",
    "      ip_address AS access_ip_address,\n",
    "      CASE WHEN access_point IN ('iphone','android') THEN 'Mobile' ELSE 'Computer' END AS local_access,\n",
    "      md5(concat(\n",
    "        CAST(access_date AS TIMESTAMP),\n",
    "        ip_address,\n",
    "        CASE WHEN access_point IN ('iphne', 'android') THEN 'mobile' ELSE 'computer' END\n",
    "      )) AS access_uuid,\n",
    "      md5(concat(\n",
    "          CAST( access_date AS TIMESTAMP),\n",
    "          payload.info_usuario.nome        \n",
    "         )) AS user_uuid,\n",
    "        payload.info_produto.product_uuid AS course_uuid,\n",
    "      getdate() AS dt_load\n",
    "    FROM stream_temp_vw_api\n",
    "\"\"\"\n",
    ")\n",
    "\n",
    "df_access.limit(5).display()"
   ]
  },
  {
   "cell_type": "markdown",
   "metadata": {
    "application/vnd.databricks.v1+cell": {
     "cellMetadata": {},
     "inputWidgets": {},
     "nuid": "85b37a69-55ff-4d1a-aa87-37608586c34a",
     "showTitle": false,
     "tableResultSettingsMap": {},
     "title": ""
    }
   },
   "source": [
    "We have just read the stream data from our API. \n",
    "\n",
    "Important note about spark:\n",
    "* The origin and destination of the should have the same caracteristics. In other words:\n",
    "  * `Source` : Stream data and `Destination`: Stream data\n",
    "  * `Source` : Batch data and `Destionation`: batch data\n",
    "\n",
    "In other to overcome this issue, we will use `Spark Structured Streaming` to read the sterming data in batch.\n",
    "\n",
    "We use `Spark Structured Streaming` to load micro batch of data.\n",
    "\n",
    "`Spark Structured Streaming` :\n",
    "* No need to manage a checkpoint table to identify data that have been loead\n",
    "* The `Spark Structured Streaming` uses a **`checkpoint directory`** defined by the writeStream method. This checkpoint stores the last file/offset/row  that have been stored.This way, in case of failing the process, the spark will be able to garantee the **Stream Exactly-Once Semantics**. In other words, the checkpoint is responsible for controlling the load as it should be loaded.\n",
    "* **trigger(availableNow* == True)** : States spark to do the load in batch by using the Structured Streaming Process. That way, spark will ingest the data in micro-batches. After finishing all mapped data \n",
    "\n",
    "\n",
    "O Spark Structured Streaming permite o uso do tipo de **trigger availableNow**. Quando definido como **True** dentro do método **`trigger`** no método **`writeStream`** indicará ao Spark que **realize a carga de dados em Batch** usando o processo do Structured Streaming. O spark irá realizar a leitura de todos os registros disponíveis para carga e irá realizar a ingestão de todos esses dados em micro-batchs. Ao terminar a execução de todos os registros mapeados no início do processo de carga, o **Spark will stop the  Stream query automatically.**.  \n"
   ]
  },
  {
   "cell_type": "markdown",
   "metadata": {
    "application/vnd.databricks.v1+cell": {
     "cellMetadata": {},
     "inputWidgets": {},
     "nuid": "0a58e2e9-324f-4785-b1e1-b846fa0f4964",
     "showTitle": false,
     "tableResultSettingsMap": {},
     "title": ""
    }
   },
   "source": [
    "\n",
    "* **`.writeStream`** : Stores the dataframe data into the **silver.tb_access** table which will be created on-the-fly through the **`.table()`** method \n",
    "* **`.outputMode('append')`**: States the the data will be appended in the destiny table\n",
    "* **`option('CheckpointLocation', access_checkpoint_location)`**: Defines the diretory where the spark will use to control the streaming data and perform the `exactly-once delivery`\n",
    "* **`.trigger(availableNow=True)`**: States that the writeStream process will be performed in batch.\n",
    "* **`.awaitTermination()`**: Makes the stream query a synchronous process\n"
   ]
  },
  {
   "cell_type": "code",
   "execution_count": 0,
   "metadata": {
    "application/vnd.databricks.v1+cell": {
     "cellMetadata": {
      "byteLimit": 2048000,
      "rowLimit": 10000
     },
     "inputWidgets": {},
     "nuid": "e3e3b4d8-a37f-46af-b467-10d511909d0f",
     "showTitle": false,
     "tableResultSettingsMap": {},
     "title": ""
    }
   },
   "outputs": [
    {
     "output_type": "display_data",
     "data": {
      "text/html": [
       "<style scoped>\n",
       "  .table-result-container {\n",
       "    max-height: 300px;\n",
       "    overflow: auto;\n",
       "  }\n",
       "  table, th, td {\n",
       "    border: 1px solid black;\n",
       "    border-collapse: collapse;\n",
       "  }\n",
       "  th, td {\n",
       "    padding: 5px;\n",
       "  }\n",
       "  th {\n",
       "    text-align: left;\n",
       "  }\n",
       "</style><div class='table-result-container'><table class='table-result'><thead style='background-color: white'><tr><th>access_timestamp</th><th>access_ip_address</th><th>local_access</th><th>access_uuid</th><th>uuid_user</th><th>course_uuid</th><th>dt_load</th></tr></thead><tbody><tr><td>2024-06-02T04:32:32Z</td><td>69.127.75.83</td><td>Mobile</td><td>1103c7b8628eb7d9e78de86aa2b29d68</td><td>null</td><td>null</td><td>2024-11-22T11:27:33.031Z</td></tr><tr><td>2024-06-02T05:05:28Z</td><td>168.18.37.100</td><td>Computer</td><td>9b6441d6a9398786735cd962eabaf763</td><td>null</td><td>null</td><td>2024-11-22T11:27:33.031Z</td></tr><tr><td>2024-06-02T05:38:24Z</td><td>113.109.66.208</td><td>Computer</td><td>af4e558b3f8e7bda5f938521fc9f8d71</td><td>6a7bba03bab91ad37c8b99cc62b2b49b</td><td>f260cd97c6c9813b01601e834a2added</td><td>2024-11-22T11:27:33.031Z</td></tr><tr><td>2024-06-02T06:11:20Z</td><td>87.241.252.59</td><td>Mobile</td><td>09203dff192ad95f83d644065fdc86c9</td><td>null</td><td>null</td><td>2024-11-22T11:27:33.031Z</td></tr><tr><td>2024-06-02T06:44:16Z</td><td>188.111.120.11</td><td>Computer</td><td>a234a81dc3a2926c09d2a198e8d09750</td><td>d6f409ceb737a0a28b5c020593a4dff9</td><td>34bdd77f6954552d11c4f5547cb41458</td><td>2024-11-22T11:27:33.031Z</td></tr></tbody></table></div>"
      ]
     },
     "metadata": {
      "application/vnd.databricks.v1+output": {
       "addedWidgets": {},
       "aggData": [],
       "aggError": "",
       "aggOverflow": false,
       "aggSchema": [],
       "aggSeriesLimitReached": false,
       "aggType": "",
       "arguments": {},
       "columnCustomDisplayInfos": {},
       "data": [
        [
         "2024-06-02T04:32:32Z",
         "69.127.75.83",
         "Mobile",
         "1103c7b8628eb7d9e78de86aa2b29d68",
         null,
         null,
         "2024-11-22T11:27:33.031Z"
        ],
        [
         "2024-06-02T05:05:28Z",
         "168.18.37.100",
         "Computer",
         "9b6441d6a9398786735cd962eabaf763",
         null,
         null,
         "2024-11-22T11:27:33.031Z"
        ],
        [
         "2024-06-02T05:38:24Z",
         "113.109.66.208",
         "Computer",
         "af4e558b3f8e7bda5f938521fc9f8d71",
         "6a7bba03bab91ad37c8b99cc62b2b49b",
         "f260cd97c6c9813b01601e834a2added",
         "2024-11-22T11:27:33.031Z"
        ],
        [
         "2024-06-02T06:11:20Z",
         "87.241.252.59",
         "Mobile",
         "09203dff192ad95f83d644065fdc86c9",
         null,
         null,
         "2024-11-22T11:27:33.031Z"
        ],
        [
         "2024-06-02T06:44:16Z",
         "188.111.120.11",
         "Computer",
         "a234a81dc3a2926c09d2a198e8d09750",
         "d6f409ceb737a0a28b5c020593a4dff9",
         "34bdd77f6954552d11c4f5547cb41458",
         "2024-11-22T11:27:33.031Z"
        ]
       ],
       "datasetInfos": [],
       "dbfsResultPath": null,
       "isJsonSchema": true,
       "metadata": {},
       "overflow": false,
       "plotOptions": {
        "customPlotOptions": {},
        "displayType": "table",
        "pivotAggregation": null,
        "pivotColumns": null,
        "xColumns": null,
        "yColumns": null
       },
       "removedWidgets": [],
       "schema": [
        {
         "metadata": "{}",
         "name": "access_timestamp",
         "type": "\"timestamp\""
        },
        {
         "metadata": "{}",
         "name": "access_ip_address",
         "type": "\"string\""
        },
        {
         "metadata": "{}",
         "name": "local_access",
         "type": "\"string\""
        },
        {
         "metadata": "{}",
         "name": "access_uuid",
         "type": "\"string\""
        },
        {
         "metadata": "{}",
         "name": "uuid_user",
         "type": "\"string\""
        },
        {
         "metadata": "{}",
         "name": "course_uuid",
         "type": "\"string\""
        },
        {
         "metadata": "{}",
         "name": "dt_load",
         "type": "\"timestamp\""
        }
       ],
       "type": "table"
      }
     },
     "output_type": "display_data"
    }
   ],
   "source": [
    "access_checkpoint_location = 'dbfs:/user/hive/warehouse/silver.db/_checkpoint/api/tb_acesso'\n",
    "(\n",
    "    df_access.writeStream\n",
    "        .format('delta')\n",
    "        .outputMode('Append')\n",
    "        .option('CheckpointLocation', access_checkpoint_location)\n",
    "        .trigger(availableNow = True)\n",
    "        .table('silver.tb_access').awaitTermination()\n",
    ")\n",
    "spark.sql('SELECT * FROM silver.tb_access LIMIT 5').display()"
   ]
  },
  {
   "cell_type": "markdown",
   "metadata": {
    "application/vnd.databricks.v1+cell": {
     "cellMetadata": {},
     "inputWidgets": {},
     "nuid": "4731dff4-e3b9-435c-aedf-679ebdc55e1f",
     "showTitle": false,
     "tableResultSettingsMap": {},
     "title": ""
    }
   },
   "source": [
    "### 4.3 Users Table "
   ]
  },
  {
   "cell_type": "code",
   "execution_count": 0,
   "metadata": {
    "application/vnd.databricks.v1+cell": {
     "cellMetadata": {},
     "inputWidgets": {},
     "nuid": "c63a1868-216b-4c70-a4fe-af74b8ffa504",
     "showTitle": false,
     "tableResultSettingsMap": {},
     "title": ""
    }
   },
   "outputs": [],
   "source": []
  },
  {
   "cell_type": "code",
   "execution_count": 0,
   "metadata": {
    "application/vnd.databricks.v1+cell": {
     "cellMetadata": {},
     "inputWidgets": {},
     "nuid": "1e964401-d836-4c13-8954-ff4fe6b6c08e",
     "showTitle": false,
     "tableResultSettingsMap": {},
     "title": ""
    }
   },
   "outputs": [],
   "source": []
  },
  {
   "cell_type": "code",
   "execution_count": 0,
   "metadata": {
    "application/vnd.databricks.v1+cell": {
     "cellMetadata": {
      "byteLimit": 2048000,
      "rowLimit": 10000
     },
     "inputWidgets": {},
     "nuid": "0b73c2f4-4158-478f-8015-c3ba5f4e2509",
     "showTitle": false,
     "tableResultSettingsMap": {},
     "title": ""
    }
   },
   "outputs": [
    {
     "output_type": "stream",
     "name": "stdout",
     "output_type": "stream",
     "text": [
      "stop_all_streams-inicio-2024-11-22 11:44:08.223156\nO stream display_query_5 fui finalizado com sucesso.\nO stream display_query_3 fui finalizado com sucesso.\nstop_all_streams-fim-2024-11-22 11:44:10.136551\n              \nclean_up_landing_dir-inicio-2024-11-22 11:44:10.136712\nTodos os arquivos e diretórios dentro de 'dbfs:/FileStore/landing/' foram excluidos com sucesso.\nclean_up_landing_dir-fim-2024-11-22 11:44:20.700540\n              \n"
     ]
    }
   ],
   "source": [
    "stop_all_streams()\n",
    "clean_up_landing_dir()"
   ]
  },
  {
   "cell_type": "code",
   "execution_count": 0,
   "metadata": {
    "application/vnd.databricks.v1+cell": {
     "cellMetadata": {},
     "inputWidgets": {},
     "nuid": "457ef14f-3d09-41f7-9ae2-a9e4c594ad17",
     "showTitle": false,
     "tableResultSettingsMap": {},
     "title": ""
    }
   },
   "outputs": [],
   "source": []
  }
 ],
 "metadata": {
  "application/vnd.databricks.v1+notebook": {
   "dashboards": [],
   "environmentMetadata": null,
   "language": "python",
   "notebookMetadata": {
    "mostRecentlyExecutedCommandWithImplicitDF": {
     "commandId": 2927718099237826,
     "dataframes": [
      "_sqldf"
     ]
    },
    "pythonIndentUnit": 2
   },
   "notebookName": "Load_Silver_Zone",
   "widgets": {}
  }
 },
 "nbformat": 4,
 "nbformat_minor": 0
}
