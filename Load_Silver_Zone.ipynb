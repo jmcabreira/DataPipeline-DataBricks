{
 "cells": [
  {
   "cell_type": "markdown",
   "metadata": {
    "application/vnd.databricks.v1+cell": {
     "cellMetadata": {},
     "inputWidgets": {},
     "nuid": "1ca48b39-6254-44fe-8d5f-fe6ef60d1155",
     "showTitle": false,
     "tableResultSettingsMap": {},
     "title": ""
    }
   },
   "source": [
    "# Loading Data to Silver Zone\n",
    "\n",
    "This Notebook:\n",
    "* We will iIngest data from **Bronze Zone** to **Silver Zone** using spark\n",
    "* We will use Spark Structured Streaming with **`trigger(availableNow=True)`** for batch loading\n",
    "* We will do a **load control** of the batch processes through Structured Streaming **checkpoint**\n",
    "* We will use **`awaitTermination()`**  ethod to transform the streaming queries in a synchronous process\n",
    "* We will Combine spark and sql in order to do the data load"
   ]
  },
  {
   "cell_type": "markdown",
   "metadata": {
    "application/vnd.databricks.v1+cell": {
     "cellMetadata": {},
     "inputWidgets": {},
     "nuid": "cc4cbf26-23cf-4ff9-80a3-8302c1ab5505",
     "showTitle": false,
     "tableResultSettingsMap": {},
     "title": ""
    }
   },
   "source": [
    "## 1.0 Initial Setup"
   ]
  },
  {
   "cell_type": "code",
   "execution_count": 0,
   "metadata": {
    "application/vnd.databricks.v1+cell": {
     "cellMetadata": {
      "byteLimit": 2048000,
      "rowLimit": 10000
     },
     "collapsed": true,
     "inputWidgets": {},
     "nuid": "c3859f71-b7e2-4b25-8028-6301486d5453",
     "showTitle": false,
     "tableResultSettingsMap": {},
     "title": ""
    }
   },
   "outputs": [],
   "source": [
    "%run \"/Users/cabreirajm@gmail.com/DataPipelineCabreira/Helpers/data_generator\" "
   ]
  },
  {
   "cell_type": "code",
   "execution_count": 0,
   "metadata": {
    "application/vnd.databricks.v1+cell": {
     "cellMetadata": {
      "byteLimit": 2048000,
      "rowLimit": 10000
     },
     "inputWidgets": {},
     "nuid": "57533dbe-ef74-43f1-96c3-3e0e1508ea74",
     "showTitle": false,
     "tableResultSettingsMap": {},
     "title": ""
    }
   },
   "outputs": [],
   "source": [
    "#%run \"/Users/cabreirajm@gmail.com/DataPipelineCabreira/Load_Bronze_Zone\"   "
   ]
  },
  {
   "cell_type": "markdown",
   "metadata": {
    "application/vnd.databricks.v1+cell": {
     "cellMetadata": {},
     "inputWidgets": {},
     "nuid": "052ad713-ac0b-4051-8b6f-4b247e37cb05",
     "showTitle": false,
     "tableResultSettingsMap": {},
     "title": ""
    }
   },
   "source": [
    "## 2.0 Create `Silver Zone` Schema"
   ]
  },
  {
   "cell_type": "code",
   "execution_count": 0,
   "metadata": {
    "application/vnd.databricks.v1+cell": {
     "cellMetadata": {
      "byteLimit": 2048000,
      "rowLimit": 10000
     },
     "inputWidgets": {},
     "nuid": "e2e899e0-caae-458f-9ab1-ee338ec3c532",
     "showTitle": false,
     "tableResultSettingsMap": {},
     "title": ""
    }
   },
   "outputs": [
    {
     "output_type": "execute_result",
     "data": {
      "text/plain": [
       "DataFrame[]"
      ]
     },
     "execution_count": 21,
     "metadata": {},
     "output_type": "execute_result"
    }
   ],
   "source": [
    "spark.sql(\"CREATE DATABASE IF NOT EXISTS silver\")"
   ]
  },
  {
   "cell_type": "markdown",
   "metadata": {
    "application/vnd.databricks.v1+cell": {
     "cellMetadata": {},
     "inputWidgets": {},
     "nuid": "3b1f652a-4c5d-41ec-adb2-924dfaa4602a",
     "showTitle": false,
     "tableResultSettingsMap": {},
     "title": ""
    }
   },
   "source": [
    "## 3.0 Businesse Requirements for Silver Zone"
   ]
  },
  {
   "cell_type": "markdown",
   "metadata": {
    "application/vnd.databricks.v1+cell": {
     "cellMetadata": {},
     "inputWidgets": {},
     "nuid": "db2d40a5-b072-4525-9475-36d25b09840c",
     "showTitle": false,
     "tableResultSettingsMap": {},
     "title": ""
    }
   },
   "source": [
    "1. The ingestion need to be done in batch in order to avoid extra costs \n",
    "    * Even though the API data is stored in streaming in landing zone \n",
    "2. API and Batch Data need to be stored in the same table \n",
    "3. Each table will have an uuid column with a hash to identify each register\n",
    "4. We have to garantee the correct data type of all column \n",
    "5. We need to create better column names for each table "
   ]
  },
  {
   "cell_type": "markdown",
   "metadata": {
    "application/vnd.databricks.v1+cell": {
     "cellMetadata": {},
     "inputWidgets": {},
     "nuid": "56c5aab8-5a36-48e0-8e79-cd3923a9877d",
     "showTitle": false,
     "tableResultSettingsMap": {},
     "title": ""
    }
   },
   "source": [
    "## 4.0 Data Modeling"
   ]
  },
  {
   "cell_type": "markdown",
   "metadata": {
    "application/vnd.databricks.v1+cell": {
     "cellMetadata": {},
     "inputWidgets": {},
     "nuid": "510ba2f5-3b40-4c6d-982c-1197cc888852",
     "showTitle": false,
     "tableResultSettingsMap": {},
     "title": ""
    }
   },
   "source": [
    "### 4.1 Courses Table  ( Domain Table)"
   ]
  },
  {
   "cell_type": "markdown",
   "metadata": {
    "application/vnd.databricks.v1+cell": {
     "cellMetadata": {
      "byteLimit": 2048000,
      "rowLimit": 10000
     },
     "inputWidgets": {},
     "nuid": "67ed5195-477b-4595-b2e7-08aa947aec5a",
     "showTitle": false,
     "tableResultSettingsMap": {},
     "title": ""
    }
   },
   "source": [
    "The table `tb_courses` is a **domain table** and we will store all the available courses information ( the product ). Its information will be added manually.\n",
    "* We will use the **md5()** function to create the **curso_uuuid** column by the course name \n",
    "* The column **data_carga** : Contains the processing date"
   ]
  },
  {
   "cell_type": "code",
   "execution_count": 0,
   "metadata": {
    "application/vnd.databricks.v1+cell": {
     "cellMetadata": {
      "byteLimit": 2048000,
      "rowLimit": 10000
     },
     "inputWidgets": {},
     "nuid": "69c658f5-1110-4cdc-b4e5-75505de0a807",
     "showTitle": false,
     "tableResultSettingsMap": {},
     "title": ""
    }
   },
   "outputs": [
    {
     "output_type": "display_data",
     "data": {
      "text/html": [
       "<style scoped>\n",
       "  .ansiout {\n",
       "    display: block;\n",
       "    unicode-bidi: embed;\n",
       "    white-space: pre-wrap;\n",
       "    word-wrap: break-word;\n",
       "    word-break: break-all;\n",
       "    font-family: \"Menlo\", \"Monaco\", \"Consolas\", \"Ubuntu Mono\", \"Source Code Pro\", monospace;\n",
       "    font-size: 13px;\n",
       "    color: #555;\n",
       "    margin-left: 4px;\n",
       "    line-height: 19px;\n",
       "  }\n",
       "</style>\n",
       "<div class=\"ansiout\">res0: Boolean = true\n",
       "</div>"
      ]
     },
     "metadata": {
      "application/vnd.databricks.v1+output": {
       "addedWidgets": {},
       "arguments": {},
       "data": "<div class=\"ansiout\">res0: Boolean = true\n</div>",
       "datasetInfos": [],
       "metadata": {
        "isDbfsCommandResult": false
       },
       "removedWidgets": [],
       "type": "html"
      }
     },
     "output_type": "display_data"
    }
   ],
   "source": [
    "%fs rm -r dbfs:/user/hive/warehouse/silver.db/tb_courses"
   ]
  },
  {
   "cell_type": "code",
   "execution_count": 0,
   "metadata": {
    "application/vnd.databricks.v1+cell": {
     "cellMetadata": {
      "byteLimit": 2048000,
      "rowLimit": 10000
     },
     "inputWidgets": {},
     "nuid": "b2ad018d-8815-4026-b49a-af3ed022ad9f",
     "showTitle": false,
     "tableResultSettingsMap": {},
     "title": ""
    }
   },
   "outputs": [
    {
     "output_type": "display_data",
     "data": {
      "text/html": [
       "<style scoped>\n",
       "  .table-result-container {\n",
       "    max-height: 300px;\n",
       "    overflow: auto;\n",
       "  }\n",
       "  table, th, td {\n",
       "    border: 1px solid black;\n",
       "    border-collapse: collapse;\n",
       "  }\n",
       "  th, td {\n",
       "    padding: 5px;\n",
       "  }\n",
       "  th {\n",
       "    text-align: left;\n",
       "  }\n",
       "</style><div class='table-result-container'><table class='table-result'><thead style='background-color: white'><tr><th>course_uuid</th><th>course_name</th><th>course_level</th><th>course_price</th><th>dt_load</th></tr></thead><tbody><tr><td>fb95df132ca7f41d392bc98ccf0cfeb8</td><td>Data Pipeline with Databricks</td><td>beginner</td><td>589.90</td><td>2024-11-23T09:43:09.142Z</td></tr><tr><td>bda125b01c9596e123e5f9b3bf00f3a8</td><td>From your first data pipeline to a Data Lakehouse with Databricks</td><td>intermediate</td><td>659.90</td><td>2024-11-23T09:43:09.142Z</td></tr><tr><td>ff17869bc6f9d9865e0bf8133c4ce3c3</td><td>Building a Data Pipeline with Spark Structured Streaming</td><td>advanced</td><td>549.90</td><td>2024-11-23T09:43:09.142Z</td></tr></tbody></table></div>"
      ]
     },
     "metadata": {
      "application/vnd.databricks.v1+output": {
       "addedWidgets": {},
       "aggData": [],
       "aggError": "",
       "aggOverflow": false,
       "aggSchema": [],
       "aggSeriesLimitReached": false,
       "aggType": "",
       "arguments": {},
       "columnCustomDisplayInfos": {},
       "data": [
        [
         "fb95df132ca7f41d392bc98ccf0cfeb8",
         "Data Pipeline with Databricks",
         "beginner",
         "589.90",
         "2024-11-23T09:43:09.142Z"
        ],
        [
         "bda125b01c9596e123e5f9b3bf00f3a8",
         "From your first data pipeline to a Data Lakehouse with Databricks",
         "intermediate",
         "659.90",
         "2024-11-23T09:43:09.142Z"
        ],
        [
         "ff17869bc6f9d9865e0bf8133c4ce3c3",
         "Building a Data Pipeline with Spark Structured Streaming",
         "advanced",
         "549.90",
         "2024-11-23T09:43:09.142Z"
        ]
       ],
       "datasetInfos": [],
       "dbfsResultPath": null,
       "isJsonSchema": true,
       "metadata": {},
       "overflow": false,
       "plotOptions": {
        "customPlotOptions": {},
        "displayType": "table",
        "pivotAggregation": null,
        "pivotColumns": null,
        "xColumns": null,
        "yColumns": null
       },
       "removedWidgets": [],
       "schema": [
        {
         "metadata": "{}",
         "name": "course_uuid",
         "type": "\"string\""
        },
        {
         "metadata": "{}",
         "name": "course_name",
         "type": "\"string\""
        },
        {
         "metadata": "{}",
         "name": "course_level",
         "type": "\"string\""
        },
        {
         "metadata": "{}",
         "name": "course_price",
         "type": "\"decimal(5,2)\""
        },
        {
         "metadata": "{}",
         "name": "dt_load",
         "type": "\"timestamp\""
        }
       ],
       "type": "table"
      }
     },
     "output_type": "display_data"
    }
   ],
   "source": [
    "spark.sql(\"\"\"\n",
    "  CREATE TABLE IF NOT EXISTS silver.tb_courses\n",
    "  AS\n",
    "    SELECT  \n",
    "      md5('Data Pipeline with Databricks') AS course_uuid,\n",
    "      'Data Pipeline with Databricks' AS course_name,\n",
    "      'beginner' AS course_level,\n",
    "      589.90 AS course_price,\n",
    "      getdate() AS dt_load\n",
    "\n",
    "      UNION\n",
    "\n",
    "    SELECT\n",
    "      md5('From your first data pipeline to a Data Lakehouse with Databricks') AS course_uuid,\n",
    "      'From your first data pipeline to a Data Lakehouse with Databricks' AS course_name,\n",
    "      'intermediate' as course_level,\n",
    "      659.90 AS course_price,\n",
    "      getdate() AS dt_load\n",
    "\n",
    "\n",
    "      UNION\n",
    "\n",
    "    SELECT\n",
    "      md5('Building a Data Pipeline with Spark Structured Streaming') AS course_uuid,\n",
    "      'Building a Data Pipeline with Spark Structured Streaming' as course_name,\n",
    "      'advanced' as course_level,\n",
    "      549.90 as course_price,\n",
    "      getdate() as dt_load\n",
    "\"\"\"\n",
    ")\n",
    "\n",
    "\n",
    "spark.sql('SELECT * FROM silver.tb_courses').display()"
   ]
  },
  {
   "cell_type": "markdown",
   "metadata": {
    "application/vnd.databricks.v1+cell": {
     "cellMetadata": {},
     "inputWidgets": {},
     "nuid": "965ead0b-abfb-464d-9a6f-7abc73f8b657",
     "showTitle": false,
     "tableResultSettingsMap": {},
     "title": ""
    }
   },
   "source": [
    "We will now create two streaming views called **`stream_temp_vw_api`**  and **`stream_temp_vw_files`** that will be used as source data for our loading process."
   ]
  },
  {
   "cell_type": "code",
   "execution_count": 0,
   "metadata": {
    "application/vnd.databricks.v1+cell": {
     "cellMetadata": {
      "byteLimit": 2048000,
      "rowLimit": 10000
     },
     "inputWidgets": {},
     "nuid": "0d4e6a86-fe59-48e6-ba71-4286e1febb9f",
     "showTitle": false,
     "tableResultSettingsMap": {},
     "title": ""
    }
   },
   "outputs": [],
   "source": [
    "api_df = spark.readStream.table('bronze.api_data')\n",
    "api_df.createOrReplaceTempView('stream_temp_vw_api')\n",
    "\n",
    "files_df = spark.readStream.table('bronze.file_data')\n",
    "files_df.createOrReplaceTempView('stream_temp_vw_files')"
   ]
  },
  {
   "cell_type": "markdown",
   "metadata": {
    "application/vnd.databricks.v1+cell": {
     "cellMetadata": {},
     "inputWidgets": {},
     "nuid": "f502abce-be96-4a7c-8da2-9c6a250982cb",
     "showTitle": false,
     "tableResultSettingsMap": {},
     "title": ""
    }
   },
   "source": [
    "### 4.2 Access Table  "
   ]
  },
  {
   "cell_type": "markdown",
   "metadata": {
    "application/vnd.databricks.v1+cell": {
     "cellMetadata": {},
     "inputWidgets": {},
     "nuid": "a3cae93e-ef1b-4493-b364-848cc8e0e0c9",
     "showTitle": false,
     "tableResultSettingsMap": {},
     "title": ""
    }
   },
   "source": [
    "This table stores all the website access.\n",
    "\n",
    "**`df_access`** : Dataframe that used to load data into **`tb_access`** table. This dataframe stores all information regarding the website visitors and its information comes from API. \n",
    "\n",
    "**Columns:**\n",
    "* **`acesso_uuid` column** : Created with the **`md5()`** function  by **`concatenating`** the columns below:\n",
    "  * **`access_date`** - After being converted to Timestamp\n",
    "  * **`ip_address`**. - ip address of the computer \n",
    "  * **`access_point`** -Identify the access point as mobile or computer (**local_acesso**).\n",
    "* **`usuario_uuid` column**: Created with the **`md5()`** function  by **`concatenating`** the columns below:\n",
    "  * **`access_date`** - After being converted to Timestamp\n",
    "  * **`payload.info_usuario.nome`** - name of the user\n",
    "* **`data_carga` column**: The processing date of the register "
   ]
  },
  {
   "cell_type": "code",
   "execution_count": 0,
   "metadata": {
    "application/vnd.databricks.v1+cell": {
     "cellMetadata": {
      "byteLimit": 2048000,
      "implicitDf": true,
      "rowLimit": 10000
     },
     "inputWidgets": {},
     "nuid": "d4c473ac-b045-4c93-94c9-f4dc69954e57",
     "showTitle": false,
     "tableResultSettingsMap": {},
     "title": ""
    }
   },
   "outputs": [
    {
     "output_type": "display_data",
     "data": {
      "text/html": [
       "<style scoped>\n",
       "  .table-result-container {\n",
       "    max-height: 300px;\n",
       "    overflow: auto;\n",
       "  }\n",
       "  table, th, td {\n",
       "    border: 1px solid black;\n",
       "    border-collapse: collapse;\n",
       "  }\n",
       "  th, td {\n",
       "    padding: 5px;\n",
       "  }\n",
       "  th {\n",
       "    text-align: left;\n",
       "  }\n",
       "</style><div class='table-result-container'><table class='table-result'><thead style='background-color: white'><tr><th>access_date</th><th>access_point</th><th>ip_address</th><th>payload</th><th>_rescued_data</th><th>source_file_name</th><th>processing_timestamp</th></tr></thead><tbody><tr><td>2024-06-02T04:20:11.000Z</td><td>safari</td><td>69.127.75.83</td><td>List(null, null, List(usuario_022d744bd9@hotmail.com, PI, 20, Usuario 022d744bd9, Arquiteto de Dados, F))</td><td>null</td><td>part-00004-a3c1111d-bc3c-4dda-9b95-fc4fb36260cd-c000.json</td><td>2024-11-23T09:37:34.673Z</td></tr><tr><td>2024-06-02T04:53:07.000Z</td><td>android</td><td>168.18.37.100</td><td>List(null, null, null)</td><td>null</td><td>part-00004-a3c1111d-bc3c-4dda-9b95-fc4fb36260cd-c000.json</td><td>2024-11-23T09:37:34.673Z</td></tr></tbody></table></div>"
      ]
     },
     "metadata": {
      "application/vnd.databricks.v1+output": {
       "addedWidgets": {},
       "aggData": [],
       "aggError": "",
       "aggOverflow": false,
       "aggSchema": [],
       "aggSeriesLimitReached": false,
       "aggType": "",
       "arguments": {},
       "columnCustomDisplayInfos": {},
       "data": [
        [
         "2024-06-02T04:20:11.000Z",
         "safari",
         "69.127.75.83",
         [
          null,
          null,
          [
           "usuario_022d744bd9@hotmail.com",
           "PI",
           "20",
           "Usuario 022d744bd9",
           "Arquiteto de Dados",
           "F"
          ]
         ],
         null,
         "part-00004-a3c1111d-bc3c-4dda-9b95-fc4fb36260cd-c000.json",
         "2024-11-23T09:37:34.673Z"
        ],
        [
         "2024-06-02T04:53:07.000Z",
         "android",
         "168.18.37.100",
         [
          null,
          null,
          null
         ],
         null,
         "part-00004-a3c1111d-bc3c-4dda-9b95-fc4fb36260cd-c000.json",
         "2024-11-23T09:37:34.673Z"
        ]
       ],
       "datasetInfos": [],
       "dbfsResultPath": null,
       "isJsonSchema": true,
       "metadata": {
        "isDbfsCommandResult": false
       },
       "overflow": false,
       "plotOptions": {
        "customPlotOptions": {},
        "displayType": "table",
        "pivotAggregation": null,
        "pivotColumns": null,
        "xColumns": null,
        "yColumns": null
       },
       "removedWidgets": [],
       "schema": [
        {
         "metadata": "{}",
         "name": "access_date",
         "type": "\"string\""
        },
        {
         "metadata": "{}",
         "name": "access_point",
         "type": "\"string\""
        },
        {
         "metadata": "{}",
         "name": "ip_address",
         "type": "\"string\""
        },
        {
         "metadata": "{}",
         "name": "payload",
         "type": "{\"type\":\"struct\",\"fields\":[{\"name\":\"info_pagamento\",\"type\":{\"type\":\"struct\",\"fields\":[{\"name\":\"disconto\",\"type\":\"string\",\"nullable\":true,\"metadata\":{}},{\"name\":\"forma_pagamento\",\"type\":\"string\",\"nullable\":true,\"metadata\":{}},{\"name\":\"quantidade_parcelas\",\"type\":\"string\",\"nullable\":true,\"metadata\":{}},{\"name\":\"valor\",\"type\":\"string\",\"nullable\":true,\"metadata\":{}},{\"name\":\"valor_parcelas\",\"type\":\"string\",\"nullable\":true,\"metadata\":{}}]},\"nullable\":true,\"metadata\":{}},{\"name\":\"info_produto\",\"type\":{\"type\":\"struct\",\"fields\":[{\"name\":\"product_uuid\",\"type\":\"string\",\"nullable\":true,\"metadata\":{}},{\"name\":\"valor\",\"type\":\"string\",\"nullable\":true,\"metadata\":{}}]},\"nullable\":true,\"metadata\":{}},{\"name\":\"info_usuario\",\"type\":{\"type\":\"struct\",\"fields\":[{\"name\":\"email\",\"type\":\"string\",\"nullable\":true,\"metadata\":{}},{\"name\":\"estado\",\"type\":\"string\",\"nullable\":true,\"metadata\":{}},{\"name\":\"idade\",\"type\":\"string\",\"nullable\":true,\"metadata\":{}},{\"name\":\"nome\",\"type\":\"string\",\"nullable\":true,\"metadata\":{}},{\"name\":\"profissao\",\"type\":\"string\",\"nullable\":true,\"metadata\":{}},{\"name\":\"sexo\",\"type\":\"string\",\"nullable\":true,\"metadata\":{}}]},\"nullable\":true,\"metadata\":{}}]}"
        },
        {
         "metadata": "{}",
         "name": "_rescued_data",
         "type": "\"string\""
        },
        {
         "metadata": "{}",
         "name": "source_file_name",
         "type": "\"string\""
        },
        {
         "metadata": "{}",
         "name": "processing_timestamp",
         "type": "\"timestamp\""
        }
       ],
       "type": "table"
      }
     },
     "output_type": "display_data"
    }
   ],
   "source": [
    "%sql\n",
    "select * from stream_temp_vw_api limit 2"
   ]
  },
  {
   "cell_type": "code",
   "execution_count": 0,
   "metadata": {
    "application/vnd.databricks.v1+cell": {
     "cellMetadata": {
      "byteLimit": 2048000,
      "rowLimit": 10000
     },
     "inputWidgets": {},
     "nuid": "d58bddee-a4d1-4780-8c8c-7eb085c85021",
     "showTitle": false,
     "tableResultSettingsMap": {},
     "title": ""
    }
   },
   "outputs": [
    {
     "output_type": "display_data",
     "data": {
      "text/html": [
       "<style scoped>\n",
       "  .table-result-container {\n",
       "    max-height: 300px;\n",
       "    overflow: auto;\n",
       "  }\n",
       "  table, th, td {\n",
       "    border: 1px solid black;\n",
       "    border-collapse: collapse;\n",
       "  }\n",
       "  th, td {\n",
       "    padding: 5px;\n",
       "  }\n",
       "  th {\n",
       "    text-align: left;\n",
       "  }\n",
       "</style><div class='table-result-container'><table class='table-result'><thead style='background-color: white'><tr><th>access_timestamp</th><th>access_ip_address</th><th>local_access</th><th>access_uuid</th><th>user_uuid</th><th>course_uuid</th><th>dt_load</th></tr></thead><tbody><tr><td>2024-06-02T04:20:11Z</td><td>69.127.75.83</td><td>Computer</td><td>58b30dcf3f31a346a1e8309ffbdf2887</td><td>f4044489ec92e523c515291487ba1415</td><td>null</td><td>2024-11-23T09:45:13.265Z</td></tr><tr><td>2024-06-02T04:53:07Z</td><td>168.18.37.100</td><td>Mobile</td><td>2558841a58daf7b7d6bce7237c9c2321</td><td>null</td><td>null</td><td>2024-11-23T09:45:13.265Z</td></tr><tr><td>2024-06-02T05:26:03Z</td><td>113.109.66.208</td><td>Computer</td><td>643b450160c408db38b3f5ec5311f3b7</td><td>null</td><td>null</td><td>2024-11-23T09:45:13.265Z</td></tr><tr><td>2024-06-02T05:58:59Z</td><td>87.241.252.59</td><td>Computer</td><td>4f10a5f62ae52a8f5e8ac2b05d782963</td><td>5a80e866b5b0a425d501536855566096</td><td>null</td><td>2024-11-23T09:45:13.265Z</td></tr><tr><td>2024-06-02T06:31:55Z</td><td>188.111.120.11</td><td>Mobile</td><td>1719c3662fb07ac4c153e25e003799a5</td><td>null</td><td>null</td><td>2024-11-23T09:45:13.265Z</td></tr></tbody></table></div>"
      ]
     },
     "metadata": {
      "application/vnd.databricks.v1+output": {
       "addedWidgets": {},
       "aggData": [],
       "aggError": "",
       "aggOverflow": false,
       "aggSchema": [],
       "aggSeriesLimitReached": false,
       "aggType": "",
       "arguments": {},
       "columnCustomDisplayInfos": {},
       "data": [
        [
         "2024-06-02T04:20:11Z",
         "69.127.75.83",
         "Computer",
         "58b30dcf3f31a346a1e8309ffbdf2887",
         "f4044489ec92e523c515291487ba1415",
         null,
         "2024-11-23T09:45:13.265Z"
        ],
        [
         "2024-06-02T04:53:07Z",
         "168.18.37.100",
         "Mobile",
         "2558841a58daf7b7d6bce7237c9c2321",
         null,
         null,
         "2024-11-23T09:45:13.265Z"
        ],
        [
         "2024-06-02T05:26:03Z",
         "113.109.66.208",
         "Computer",
         "643b450160c408db38b3f5ec5311f3b7",
         null,
         null,
         "2024-11-23T09:45:13.265Z"
        ],
        [
         "2024-06-02T05:58:59Z",
         "87.241.252.59",
         "Computer",
         "4f10a5f62ae52a8f5e8ac2b05d782963",
         "5a80e866b5b0a425d501536855566096",
         null,
         "2024-11-23T09:45:13.265Z"
        ],
        [
         "2024-06-02T06:31:55Z",
         "188.111.120.11",
         "Mobile",
         "1719c3662fb07ac4c153e25e003799a5",
         null,
         null,
         "2024-11-23T09:45:13.265Z"
        ]
       ],
       "datasetInfos": [],
       "dbfsResultPath": null,
       "isJsonSchema": true,
       "metadata": {
        "isDbfsCommandResult": false
       },
       "overflow": false,
       "plotOptions": {
        "customPlotOptions": {},
        "displayType": "table",
        "pivotAggregation": null,
        "pivotColumns": null,
        "xColumns": null,
        "yColumns": null
       },
       "removedWidgets": [],
       "schema": [
        {
         "metadata": "{}",
         "name": "access_timestamp",
         "type": "\"timestamp\""
        },
        {
         "metadata": "{}",
         "name": "access_ip_address",
         "type": "\"string\""
        },
        {
         "metadata": "{}",
         "name": "local_access",
         "type": "\"string\""
        },
        {
         "metadata": "{}",
         "name": "access_uuid",
         "type": "\"string\""
        },
        {
         "metadata": "{}",
         "name": "user_uuid",
         "type": "\"string\""
        },
        {
         "metadata": "{}",
         "name": "course_uuid",
         "type": "\"string\""
        },
        {
         "metadata": "{}",
         "name": "dt_load",
         "type": "\"timestamp\""
        }
       ],
       "type": "table"
      }
     },
     "output_type": "display_data"
    }
   ],
   "source": [
    "df_access = spark.sql(\"\"\" \n",
    "    SELECT \n",
    "      CAST( access_date AS TIMESTAMP) AS access_timestamp,\n",
    "      ip_address AS access_ip_address,\n",
    "      CASE WHEN access_point IN ('iphone','android') THEN 'Mobile' ELSE 'Computer' END AS local_access,\n",
    "      md5(concat(\n",
    "        CAST(access_date AS TIMESTAMP),\n",
    "        ip_address,\n",
    "        CASE WHEN access_point IN ('iphne', 'android') THEN 'mobile' ELSE 'computer' END\n",
    "      )) AS access_uuid,\n",
    "      md5(concat(\n",
    "          CAST( access_date AS TIMESTAMP),\n",
    "          payload.info_usuario.nome        \n",
    "         )) AS user_uuid,\n",
    "        payload.info_produto.product_uuid AS course_uuid,\n",
    "      getdate() AS dt_load\n",
    "    FROM stream_temp_vw_api\n",
    "\"\"\"\n",
    ")\n",
    "\n",
    "df_access.limit(5).display()"
   ]
  },
  {
   "cell_type": "markdown",
   "metadata": {
    "application/vnd.databricks.v1+cell": {
     "cellMetadata": {},
     "inputWidgets": {},
     "nuid": "85b37a69-55ff-4d1a-aa87-37608586c34a",
     "showTitle": false,
     "tableResultSettingsMap": {},
     "title": ""
    }
   },
   "source": [
    "We have just read the stream data from our API. \n",
    "\n",
    "Important note about spark:\n",
    "* The origin and destination of the should have the same caracteristics. In other words:\n",
    "  * `Source` : Stream data and `Destination`: Stream data\n",
    "  * `Source` : Batch data and `Destionation`: batch data\n",
    "\n",
    "In other to overcome this issue, we will use `Spark Structured Streaming` to read the sterming data in batch.\n",
    "\n",
    "We use `Spark Structured Streaming` to load micro batch of data.\n",
    "\n",
    "`Spark Structured Streaming` :\n",
    "* No need to manage a checkpoint table to identify data that have been loead\n",
    "* The `Spark Structured Streaming` uses a **`checkpoint directory`** defined by the writeStream method. This checkpoint stores the last file/offset/row  that have been stored.This way, in case of failing the process, the spark will be able to garantee the **Stream Exactly-Once Semantics**. In other words, the checkpoint is responsible for controlling the load as it should be loaded.\n",
    "* **trigger(availableNow == True)** : States spark to do the load in batch by using the Structured Streaming Process. That way, spark will ingest the data in micro-batches. After finishing all mapped data \n",
    "\n",
    "\n",
    "O Spark Structured Streaming permite o uso do tipo de **trigger availableNow**. Quando definido como **True** dentro do método **`trigger`** no método **`writeStream`** indicará ao Spark que **realize a carga de dados em Batch** usando o processo do Structured Streaming. O spark irá realizar a leitura de todos os registros disponíveis para carga e irá realizar a ingestão de todos esses dados em micro-batchs. Ao terminar a execução de todos os registros mapeados no início do processo de carga, o **Spark will stop the  Stream query automatically.**.  \n"
   ]
  },
  {
   "cell_type": "markdown",
   "metadata": {
    "application/vnd.databricks.v1+cell": {
     "cellMetadata": {},
     "inputWidgets": {},
     "nuid": "0a58e2e9-324f-4785-b1e1-b846fa0f4964",
     "showTitle": false,
     "tableResultSettingsMap": {},
     "title": ""
    }
   },
   "source": [
    "\n",
    "* **`.writeStream`** : Stores the dataframe data into the **silver.tb_access** table which will be created on-the-fly through the **`.table()`** method \n",
    "* **`.outputMode('append')`**: States the the data will be appended in the destiny table\n",
    "* **`option('CheckpointLocation', access_checkpoint_location)`**: Defines the diretory where the spark will use to control the streaming data and perform the `exactly-once delivery`\n",
    "* **`.trigger(availableNow=True)`**: States that the writeStream process will be performed in batch.\n",
    "* **`.awaitTermination()`**: Makes the stream query a synchronous process. Used when the **`availableNow`** parameter is equal to **`True`**\n"
   ]
  },
  {
   "cell_type": "code",
   "execution_count": 0,
   "metadata": {
    "application/vnd.databricks.v1+cell": {
     "cellMetadata": {
      "byteLimit": 2048000,
      "rowLimit": 10000
     },
     "inputWidgets": {},
     "nuid": "47ddec4d-de75-48eb-8a20-3e134000d5b2",
     "showTitle": false,
     "tableResultSettingsMap": {},
     "title": ""
    }
   },
   "outputs": [
    {
     "output_type": "display_data",
     "data": {
      "text/html": [
       "<style scoped>\n",
       "  .ansiout {\n",
       "    display: block;\n",
       "    unicode-bidi: embed;\n",
       "    white-space: pre-wrap;\n",
       "    word-wrap: break-word;\n",
       "    word-break: break-all;\n",
       "    font-family: \"Menlo\", \"Monaco\", \"Consolas\", \"Ubuntu Mono\", \"Source Code Pro\", monospace;\n",
       "    font-size: 13px;\n",
       "    color: #555;\n",
       "    margin-left: 4px;\n",
       "    line-height: 19px;\n",
       "  }\n",
       "</style>\n",
       "<div class=\"ansiout\">res2: Boolean = true\n",
       "</div>"
      ]
     },
     "metadata": {
      "application/vnd.databricks.v1+output": {
       "addedWidgets": {},
       "arguments": {},
       "data": "<div class=\"ansiout\">res2: Boolean = true\n</div>",
       "datasetInfos": [],
       "metadata": {
        "isDbfsCommandResult": false
       },
       "removedWidgets": [],
       "type": "html"
      }
     },
     "output_type": "display_data"
    }
   ],
   "source": [
    "%fs rm -r dbfs:/user/hive/warehouse/silver.db/_checkpoint/api/tb_access"
   ]
  },
  {
   "cell_type": "code",
   "execution_count": 0,
   "metadata": {
    "application/vnd.databricks.v1+cell": {
     "cellMetadata": {
      "byteLimit": 2048000,
      "rowLimit": 10000
     },
     "inputWidgets": {},
     "nuid": "e3e3b4d8-a37f-46af-b467-10d511909d0f",
     "showTitle": false,
     "tableResultSettingsMap": {},
     "title": ""
    }
   },
   "outputs": [
    {
     "output_type": "display_data",
     "data": {
      "text/html": [
       "<style scoped>\n",
       "  .table-result-container {\n",
       "    max-height: 300px;\n",
       "    overflow: auto;\n",
       "  }\n",
       "  table, th, td {\n",
       "    border: 1px solid black;\n",
       "    border-collapse: collapse;\n",
       "  }\n",
       "  th, td {\n",
       "    padding: 5px;\n",
       "  }\n",
       "  th {\n",
       "    text-align: left;\n",
       "  }\n",
       "</style><div class='table-result-container'><table class='table-result'><thead style='background-color: white'><tr><th>access_timestamp</th><th>access_ip_address</th><th>local_access</th><th>access_uuid</th><th>user_uuid</th><th>course_uuid</th><th>dt_load</th></tr></thead><tbody><tr><td>2024-06-02T04:20:11Z</td><td>69.127.75.83</td><td>Computer</td><td>58b30dcf3f31a346a1e8309ffbdf2887</td><td>f4044489ec92e523c515291487ba1415</td><td>null</td><td>2024-11-23T09:47:04.931Z</td></tr><tr><td>2024-06-02T04:53:07Z</td><td>168.18.37.100</td><td>Mobile</td><td>2558841a58daf7b7d6bce7237c9c2321</td><td>null</td><td>null</td><td>2024-11-23T09:47:04.931Z</td></tr><tr><td>2024-06-02T05:26:03Z</td><td>113.109.66.208</td><td>Computer</td><td>643b450160c408db38b3f5ec5311f3b7</td><td>null</td><td>null</td><td>2024-11-23T09:47:04.931Z</td></tr><tr><td>2024-06-02T05:58:59Z</td><td>87.241.252.59</td><td>Computer</td><td>4f10a5f62ae52a8f5e8ac2b05d782963</td><td>5a80e866b5b0a425d501536855566096</td><td>null</td><td>2024-11-23T09:47:04.931Z</td></tr><tr><td>2024-06-02T06:31:55Z</td><td>188.111.120.11</td><td>Mobile</td><td>1719c3662fb07ac4c153e25e003799a5</td><td>null</td><td>null</td><td>2024-11-23T09:47:04.931Z</td></tr></tbody></table></div>"
      ]
     },
     "metadata": {
      "application/vnd.databricks.v1+output": {
       "addedWidgets": {},
       "aggData": [],
       "aggError": "",
       "aggOverflow": false,
       "aggSchema": [],
       "aggSeriesLimitReached": false,
       "aggType": "",
       "arguments": {},
       "columnCustomDisplayInfos": {},
       "data": [
        [
         "2024-06-02T04:20:11Z",
         "69.127.75.83",
         "Computer",
         "58b30dcf3f31a346a1e8309ffbdf2887",
         "f4044489ec92e523c515291487ba1415",
         null,
         "2024-11-23T09:47:04.931Z"
        ],
        [
         "2024-06-02T04:53:07Z",
         "168.18.37.100",
         "Mobile",
         "2558841a58daf7b7d6bce7237c9c2321",
         null,
         null,
         "2024-11-23T09:47:04.931Z"
        ],
        [
         "2024-06-02T05:26:03Z",
         "113.109.66.208",
         "Computer",
         "643b450160c408db38b3f5ec5311f3b7",
         null,
         null,
         "2024-11-23T09:47:04.931Z"
        ],
        [
         "2024-06-02T05:58:59Z",
         "87.241.252.59",
         "Computer",
         "4f10a5f62ae52a8f5e8ac2b05d782963",
         "5a80e866b5b0a425d501536855566096",
         null,
         "2024-11-23T09:47:04.931Z"
        ],
        [
         "2024-06-02T06:31:55Z",
         "188.111.120.11",
         "Mobile",
         "1719c3662fb07ac4c153e25e003799a5",
         null,
         null,
         "2024-11-23T09:47:04.931Z"
        ]
       ],
       "datasetInfos": [],
       "dbfsResultPath": null,
       "isJsonSchema": true,
       "metadata": {},
       "overflow": false,
       "plotOptions": {
        "customPlotOptions": {},
        "displayType": "table",
        "pivotAggregation": null,
        "pivotColumns": null,
        "xColumns": null,
        "yColumns": null
       },
       "removedWidgets": [],
       "schema": [
        {
         "metadata": "{}",
         "name": "access_timestamp",
         "type": "\"timestamp\""
        },
        {
         "metadata": "{}",
         "name": "access_ip_address",
         "type": "\"string\""
        },
        {
         "metadata": "{}",
         "name": "local_access",
         "type": "\"string\""
        },
        {
         "metadata": "{}",
         "name": "access_uuid",
         "type": "\"string\""
        },
        {
         "metadata": "{}",
         "name": "user_uuid",
         "type": "\"string\""
        },
        {
         "metadata": "{}",
         "name": "course_uuid",
         "type": "\"string\""
        },
        {
         "metadata": "{}",
         "name": "dt_load",
         "type": "\"timestamp\""
        }
       ],
       "type": "table"
      }
     },
     "output_type": "display_data"
    }
   ],
   "source": [
    "access_checkpoint_location = 'dbfs:/user/hive/warehouse/silver.db/_checkpoint/api/tb_access'\n",
    "(\n",
    "    df_access.writeStream\n",
    "        .format('delta')\n",
    "        .outputMode('append')\n",
    "        .option('CheckpointLocation', access_checkpoint_location)\n",
    "        .trigger(availableNow = True)\n",
    "        .table('silver.tb_access').awaitTermination()\n",
    ")\n",
    "\n",
    "\n",
    "\n",
    "spark.sql('SELECT * FROM silver.tb_access LIMIT 5').display()"
   ]
  },
  {
   "cell_type": "markdown",
   "metadata": {
    "application/vnd.databricks.v1+cell": {
     "cellMetadata": {},
     "inputWidgets": {},
     "nuid": "4731dff4-e3b9-435c-aedf-679ebdc55e1f",
     "showTitle": false,
     "tableResultSettingsMap": {},
     "title": ""
    }
   },
   "source": [
    "### 4.3 Users Table "
   ]
  },
  {
   "cell_type": "markdown",
   "metadata": {
    "application/vnd.databricks.v1+cell": {
     "cellMetadata": {},
     "inputWidgets": {},
     "nuid": "d72af21d-7a51-4fc2-ad1d-8178b6c39347",
     "showTitle": false,
     "tableResultSettingsMap": {},
     "title": ""
    }
   },
   "source": [
    "Important Note:\n",
    "* Even though we have two different sources ( API and Files) building the same user table, we still  have to identify two different checkpoint directory for each of the source.\n"
   ]
  },
  {
   "cell_type": "markdown",
   "metadata": {
    "application/vnd.databricks.v1+cell": {
     "cellMetadata": {},
     "inputWidgets": {},
     "nuid": "ff8d81a9-4257-4b90-8dd8-8ccd83c1b01f",
     "showTitle": false,
     "tableResultSettingsMap": {},
     "title": ""
    }
   },
   "source": [
    "### 4.3.1 API users data"
   ]
  },
  {
   "cell_type": "markdown",
   "metadata": {
    "application/vnd.databricks.v1+cell": {
     "cellMetadata": {},
     "inputWidgets": {},
     "nuid": "c63a1868-216b-4c70-a4fe-af74b8ffa504",
     "showTitle": false,
     "tableResultSettingsMap": {},
     "title": ""
    }
   },
   "source": [
    "* **`df_users_api`**: contains all the user information from the API data. \n",
    "* **`user_uuid`** : We will use the **`md5()`** function to create the `user_uuid`. To do that, we will concat the columns below:\n",
    "  * **`access_date`** - we will cast to timestamp\n",
    "  * **`payload.info_usuario.nome`** \n",
    "* **`origin`**: Informs wheather the data is from API or file ( data vault modelling principle)\n",
    "* **`dt_load`**: The process date"
   ]
  },
  {
   "cell_type": "code",
   "execution_count": 0,
   "metadata": {
    "application/vnd.databricks.v1+cell": {
     "cellMetadata": {
      "byteLimit": 2048000,
      "rowLimit": 10000
     },
     "inputWidgets": {},
     "nuid": "1e964401-d836-4c13-8954-ff4fe6b6c08e",
     "showTitle": false,
     "tableResultSettingsMap": {},
     "title": ""
    }
   },
   "outputs": [
    {
     "output_type": "display_data",
     "data": {
      "text/html": [
       "<style scoped>\n",
       "  .table-result-container {\n",
       "    max-height: 300px;\n",
       "    overflow: auto;\n",
       "  }\n",
       "  table, th, td {\n",
       "    border: 1px solid black;\n",
       "    border-collapse: collapse;\n",
       "  }\n",
       "  th, td {\n",
       "    padding: 5px;\n",
       "  }\n",
       "  th {\n",
       "    text-align: left;\n",
       "  }\n",
       "</style><div class='table-result-container'><table class='table-result'><thead style='background-color: white'><tr><th>user_uuid</th><th>user_name</th><th>user_email</th><th>user_idade</th><th>user_gender</th><th>user_state</th><th>user_profession</th><th>company</th><th>origin</th><th>dt_load</th></tr></thead><tbody><tr><td>f4044489ec92e523c515291487ba1415</td><td>Usuario 022d744bd9</td><td>usuario_022d744bd9@hotmail.com</td><td>20</td><td>F</td><td>PI</td><td>Arquiteto de Dados</td><td>null</td><td>API</td><td>2024-11-23T09:48:15.233Z</td></tr><tr><td>5a80e866b5b0a425d501536855566096</td><td>Usuario 17e7c1bc35</td><td>usuario_17e7c1bc35@hotmail.com</td><td>20</td><td>F</td><td>AP</td><td>Analista de Dados</td><td>null</td><td>API</td><td>2024-11-23T09:48:15.233Z</td></tr><tr><td>7c36c47f0d173f1b1d2f34331228b83c</td><td>Usuario 11d0f5abaf</td><td>usuario_11d0f5abaf@hotmail.com</td><td>30</td><td>F</td><td>AM</td><td>Cientista de Dados</td><td>null</td><td>API</td><td>2024-11-23T09:48:15.233Z</td></tr><tr><td>605fd40767a69a20931e1beb8820ba82</td><td>Usuario a563ca5283</td><td>usuario_a563ca5283@uol.com</td><td>37</td><td>M</td><td>RN</td><td>Analista de BI</td><td>null</td><td>API</td><td>2024-11-23T09:48:15.233Z</td></tr><tr><td>adf11c2b0254e8d4e72a51b2bc86737c</td><td>Usuario 993c1e8a92</td><td>usuario_993c1e8a92@outlook.com</td><td>46</td><td>M</td><td>RJ</td><td>Analista de Dados</td><td>null</td><td>API</td><td>2024-11-23T09:48:15.233Z</td></tr></tbody></table></div>"
      ]
     },
     "metadata": {
      "application/vnd.databricks.v1+output": {
       "addedWidgets": {},
       "aggData": [],
       "aggError": "",
       "aggOverflow": false,
       "aggSchema": [],
       "aggSeriesLimitReached": false,
       "aggType": "",
       "arguments": {},
       "columnCustomDisplayInfos": {},
       "data": [
        [
         "f4044489ec92e523c515291487ba1415",
         "Usuario 022d744bd9",
         "usuario_022d744bd9@hotmail.com",
         20,
         "F",
         "PI",
         "Arquiteto de Dados",
         null,
         "API",
         "2024-11-23T09:48:15.233Z"
        ],
        [
         "5a80e866b5b0a425d501536855566096",
         "Usuario 17e7c1bc35",
         "usuario_17e7c1bc35@hotmail.com",
         20,
         "F",
         "AP",
         "Analista de Dados",
         null,
         "API",
         "2024-11-23T09:48:15.233Z"
        ],
        [
         "7c36c47f0d173f1b1d2f34331228b83c",
         "Usuario 11d0f5abaf",
         "usuario_11d0f5abaf@hotmail.com",
         30,
         "F",
         "AM",
         "Cientista de Dados",
         null,
         "API",
         "2024-11-23T09:48:15.233Z"
        ],
        [
         "605fd40767a69a20931e1beb8820ba82",
         "Usuario a563ca5283",
         "usuario_a563ca5283@uol.com",
         37,
         "M",
         "RN",
         "Analista de BI",
         null,
         "API",
         "2024-11-23T09:48:15.233Z"
        ],
        [
         "adf11c2b0254e8d4e72a51b2bc86737c",
         "Usuario 993c1e8a92",
         "usuario_993c1e8a92@outlook.com",
         46,
         "M",
         "RJ",
         "Analista de Dados",
         null,
         "API",
         "2024-11-23T09:48:15.233Z"
        ]
       ],
       "datasetInfos": [],
       "dbfsResultPath": null,
       "isJsonSchema": true,
       "metadata": {
        "isDbfsCommandResult": false
       },
       "overflow": false,
       "plotOptions": {
        "customPlotOptions": {},
        "displayType": "table",
        "pivotAggregation": null,
        "pivotColumns": null,
        "xColumns": null,
        "yColumns": null
       },
       "removedWidgets": [],
       "schema": [
        {
         "metadata": "{}",
         "name": "user_uuid",
         "type": "\"string\""
        },
        {
         "metadata": "{}",
         "name": "user_name",
         "type": "\"string\""
        },
        {
         "metadata": "{}",
         "name": "user_email",
         "type": "\"string\""
        },
        {
         "metadata": "{}",
         "name": "user_idade",
         "type": "\"integer\""
        },
        {
         "metadata": "{}",
         "name": "user_gender",
         "type": "\"string\""
        },
        {
         "metadata": "{}",
         "name": "user_state",
         "type": "\"string\""
        },
        {
         "metadata": "{}",
         "name": "user_profession",
         "type": "\"string\""
        },
        {
         "metadata": "{}",
         "name": "company",
         "type": "\"string\""
        },
        {
         "metadata": "{}",
         "name": "origin",
         "type": "\"string\""
        },
        {
         "metadata": "{}",
         "name": "dt_load",
         "type": "\"timestamp\""
        }
       ],
       "type": "table"
      }
     },
     "output_type": "display_data"
    }
   ],
   "source": [
    "df_user_api = spark.sql(\"\"\"\n",
    "          SELECT \n",
    "            md5(concat(\n",
    "            cast(access_date AS TIMESTAMP),\n",
    "            payload.info_usuario.nome\n",
    "            )) AS user_uuid,\n",
    "            payload.info_usuario.nome AS user_name,\n",
    "            payload.info_usuario.email AS user_email,\n",
    "            CAST(payload.info_usuario.idade  AS INT) AS user_idade,\n",
    "            payload.info_usuario.sexo as user_gender,\n",
    "            payload.info_usuario.estado AS user_state,\n",
    "            payload.info_usuario.profissao AS user_profession,\n",
    "            CAST(NULL AS STRING) AS company,\n",
    "            'API' as origin,\n",
    "            getdate() as dt_load\n",
    "            FROM stream_temp_vw_api\n",
    "            WHERE payload.info_usuario IS NOT NULL\n",
    "\"\"\")\n",
    "\n",
    "df_user_api.limit(5).display()"
   ]
  },
  {
   "cell_type": "markdown",
   "metadata": {
    "application/vnd.databricks.v1+cell": {
     "cellMetadata": {},
     "inputWidgets": {},
     "nuid": "7c476fac-bfc5-4a04-82b5-925f176a69c9",
     "showTitle": false,
     "tableResultSettingsMap": {},
     "title": ""
    }
   },
   "source": [
    "* **`option('mergeSchema',True)`** Indicates the process of **Schema Evolution**.\n",
    "\n",
    "* **`.trigger(availableNow=True)`** States that the writeStream occours in  **batch**.\n",
    "\n",
    "* **`.awaitTermination()`**  Makes the stream query to be a synchronous \n"
   ]
  },
  {
   "cell_type": "code",
   "execution_count": 0,
   "metadata": {
    "application/vnd.databricks.v1+cell": {
     "cellMetadata": {
      "byteLimit": 2048000,
      "rowLimit": 10000
     },
     "inputWidgets": {},
     "nuid": "c1347f7c-9fc4-42ff-b256-8cd6f0371d19",
     "showTitle": false,
     "tableResultSettingsMap": {},
     "title": ""
    }
   },
   "outputs": [
    {
     "output_type": "display_data",
     "data": {
      "text/html": [
       "<style scoped>\n",
       "  .ansiout {\n",
       "    display: block;\n",
       "    unicode-bidi: embed;\n",
       "    white-space: pre-wrap;\n",
       "    word-wrap: break-word;\n",
       "    word-break: break-all;\n",
       "    font-family: \"Menlo\", \"Monaco\", \"Consolas\", \"Ubuntu Mono\", \"Source Code Pro\", monospace;\n",
       "    font-size: 13px;\n",
       "    color: #555;\n",
       "    margin-left: 4px;\n",
       "    line-height: 19px;\n",
       "  }\n",
       "</style>\n",
       "<div class=\"ansiout\">res4: Boolean = true\n",
       "</div>"
      ]
     },
     "metadata": {
      "application/vnd.databricks.v1+output": {
       "addedWidgets": {},
       "arguments": {},
       "data": "<div class=\"ansiout\">res4: Boolean = true\n</div>",
       "datasetInfos": [],
       "metadata": {
        "isDbfsCommandResult": false
       },
       "removedWidgets": [],
       "type": "html"
      }
     },
     "output_type": "display_data"
    }
   ],
   "source": [
    "%fs rm -r dbfs:/user/hive/warehouse/silver.db/tb_users"
   ]
  },
  {
   "cell_type": "code",
   "execution_count": 0,
   "metadata": {
    "application/vnd.databricks.v1+cell": {
     "cellMetadata": {
      "byteLimit": 2048000,
      "rowLimit": 10000
     },
     "inputWidgets": {},
     "nuid": "8839a32f-8159-4b39-9c92-99f0d4058928",
     "showTitle": false,
     "tableResultSettingsMap": {},
     "title": ""
    }
   },
   "outputs": [
    {
     "output_type": "display_data",
     "data": {
      "text/html": [
       "<style scoped>\n",
       "  .table-result-container {\n",
       "    max-height: 300px;\n",
       "    overflow: auto;\n",
       "  }\n",
       "  table, th, td {\n",
       "    border: 1px solid black;\n",
       "    border-collapse: collapse;\n",
       "  }\n",
       "  th, td {\n",
       "    padding: 5px;\n",
       "  }\n",
       "  th {\n",
       "    text-align: left;\n",
       "  }\n",
       "</style><div class='table-result-container'><table class='table-result'><thead style='background-color: white'><tr><th>user_uuid</th><th>user_name</th><th>user_email</th><th>user_idade</th><th>user_gender</th><th>user_state</th><th>user_profession</th><th>company</th><th>origin</th><th>dt_load</th></tr></thead><tbody><tr><td>f4044489ec92e523c515291487ba1415</td><td>Usuario 022d744bd9</td><td>usuario_022d744bd9@hotmail.com</td><td>20</td><td>F</td><td>PI</td><td>Arquiteto de Dados</td><td>null</td><td>API</td><td>2024-11-23T09:50:48.55Z</td></tr><tr><td>5a80e866b5b0a425d501536855566096</td><td>Usuario 17e7c1bc35</td><td>usuario_17e7c1bc35@hotmail.com</td><td>20</td><td>F</td><td>AP</td><td>Analista de Dados</td><td>null</td><td>API</td><td>2024-11-23T09:50:48.55Z</td></tr><tr><td>7c36c47f0d173f1b1d2f34331228b83c</td><td>Usuario 11d0f5abaf</td><td>usuario_11d0f5abaf@hotmail.com</td><td>30</td><td>F</td><td>AM</td><td>Cientista de Dados</td><td>null</td><td>API</td><td>2024-11-23T09:50:48.55Z</td></tr><tr><td>605fd40767a69a20931e1beb8820ba82</td><td>Usuario a563ca5283</td><td>usuario_a563ca5283@uol.com</td><td>37</td><td>M</td><td>RN</td><td>Analista de BI</td><td>null</td><td>API</td><td>2024-11-23T09:50:48.55Z</td></tr><tr><td>adf11c2b0254e8d4e72a51b2bc86737c</td><td>Usuario 993c1e8a92</td><td>usuario_993c1e8a92@outlook.com</td><td>46</td><td>M</td><td>RJ</td><td>Analista de Dados</td><td>null</td><td>API</td><td>2024-11-23T09:50:48.55Z</td></tr></tbody></table></div>"
      ]
     },
     "metadata": {
      "application/vnd.databricks.v1+output": {
       "addedWidgets": {},
       "aggData": [],
       "aggError": "",
       "aggOverflow": false,
       "aggSchema": [],
       "aggSeriesLimitReached": false,
       "aggType": "",
       "arguments": {},
       "columnCustomDisplayInfos": {},
       "data": [
        [
         "f4044489ec92e523c515291487ba1415",
         "Usuario 022d744bd9",
         "usuario_022d744bd9@hotmail.com",
         20,
         "F",
         "PI",
         "Arquiteto de Dados",
         null,
         "API",
         "2024-11-23T09:50:48.55Z"
        ],
        [
         "5a80e866b5b0a425d501536855566096",
         "Usuario 17e7c1bc35",
         "usuario_17e7c1bc35@hotmail.com",
         20,
         "F",
         "AP",
         "Analista de Dados",
         null,
         "API",
         "2024-11-23T09:50:48.55Z"
        ],
        [
         "7c36c47f0d173f1b1d2f34331228b83c",
         "Usuario 11d0f5abaf",
         "usuario_11d0f5abaf@hotmail.com",
         30,
         "F",
         "AM",
         "Cientista de Dados",
         null,
         "API",
         "2024-11-23T09:50:48.55Z"
        ],
        [
         "605fd40767a69a20931e1beb8820ba82",
         "Usuario a563ca5283",
         "usuario_a563ca5283@uol.com",
         37,
         "M",
         "RN",
         "Analista de BI",
         null,
         "API",
         "2024-11-23T09:50:48.55Z"
        ],
        [
         "adf11c2b0254e8d4e72a51b2bc86737c",
         "Usuario 993c1e8a92",
         "usuario_993c1e8a92@outlook.com",
         46,
         "M",
         "RJ",
         "Analista de Dados",
         null,
         "API",
         "2024-11-23T09:50:48.55Z"
        ]
       ],
       "datasetInfos": [],
       "dbfsResultPath": null,
       "isJsonSchema": true,
       "metadata": {},
       "overflow": false,
       "plotOptions": {
        "customPlotOptions": {},
        "displayType": "table",
        "pivotAggregation": null,
        "pivotColumns": null,
        "xColumns": null,
        "yColumns": null
       },
       "removedWidgets": [],
       "schema": [
        {
         "metadata": "{}",
         "name": "user_uuid",
         "type": "\"string\""
        },
        {
         "metadata": "{}",
         "name": "user_name",
         "type": "\"string\""
        },
        {
         "metadata": "{}",
         "name": "user_email",
         "type": "\"string\""
        },
        {
         "metadata": "{}",
         "name": "user_idade",
         "type": "\"integer\""
        },
        {
         "metadata": "{}",
         "name": "user_gender",
         "type": "\"string\""
        },
        {
         "metadata": "{}",
         "name": "user_state",
         "type": "\"string\""
        },
        {
         "metadata": "{}",
         "name": "user_profession",
         "type": "\"string\""
        },
        {
         "metadata": "{}",
         "name": "company",
         "type": "\"string\""
        },
        {
         "metadata": "{}",
         "name": "origin",
         "type": "\"string\""
        },
        {
         "metadata": "{}",
         "name": "dt_load",
         "type": "\"timestamp\""
        }
       ],
       "type": "table"
      }
     },
     "output_type": "display_data"
    }
   ],
   "source": [
    "user_api_checkpoint_path = \"dbfs:/user/hive/warehouse/silver.db/_checkpoint/api/tb_users\"\n",
    "(\n",
    "  df_user_api.writeStream\n",
    "        .format('delta')\n",
    "        .outputMode('append')\n",
    "        .option('CheckpointLocation',user_api_checkpoint_path)\n",
    "        .option('mergeSchema', True)\n",
    "        .trigger(availableNow=True)\n",
    "        .table('silver.tb_users')\n",
    ").awaitTermination()\n",
    "\n",
    "spark.sql(\"SELECT * FROM silver.tb_users WHERE origin = 'API' LIMIT 5\").display()"
   ]
  },
  {
   "cell_type": "markdown",
   "metadata": {
    "application/vnd.databricks.v1+cell": {
     "cellMetadata": {},
     "inputWidgets": {},
     "nuid": "6b07bb48-ef18-4eff-ab47-293737e33fb0",
     "showTitle": false,
     "tableResultSettingsMap": {},
     "title": ""
    }
   },
   "source": [
    "### 4.3.2 Files users data"
   ]
  },
  {
   "cell_type": "markdown",
   "metadata": {
    "application/vnd.databricks.v1+cell": {
     "cellMetadata": {},
     "inputWidgets": {},
     "nuid": "33cad111-38f8-49b4-b48b-346b31424a37",
     "showTitle": false,
     "tableResultSettingsMap": {},
     "title": ""
    }
   },
   "source": [
    "\n",
    "We will now create a **`df_users_file`** that will be used to ingest users data from all batch files.\n",
    "\n",
    "* **`usuario_uuid`** : We will use the `md5()` function with concat to create the user uuid\n",
    "  * **`nome_empresa`**.\n",
    "  * **`nome_funcionario`**.\n",
    "* **`origin`** :\n",
    "* **`dt_loat`**:"
   ]
  },
  {
   "cell_type": "code",
   "execution_count": 0,
   "metadata": {
    "application/vnd.databricks.v1+cell": {
     "cellMetadata": {
      "byteLimit": 2048000,
      "rowLimit": 10000
     },
     "inputWidgets": {},
     "nuid": "c4edef45-3b17-4553-b38e-213c74390f94",
     "showTitle": false,
     "tableResultSettingsMap": {},
     "title": ""
    }
   },
   "outputs": [
    {
     "output_type": "display_data",
     "data": {
      "text/html": [
       "<style scoped>\n",
       "  .table-result-container {\n",
       "    max-height: 300px;\n",
       "    overflow: auto;\n",
       "  }\n",
       "  table, th, td {\n",
       "    border: 1px solid black;\n",
       "    border-collapse: collapse;\n",
       "  }\n",
       "  th, td {\n",
       "    padding: 5px;\n",
       "  }\n",
       "  th {\n",
       "    text-align: left;\n",
       "  }\n",
       "</style><div class='table-result-container'><table class='table-result'><thead style='background-color: white'><tr><th>user_uuid</th><th>user_name</th><th>user_email</th><th>user_idade</th><th>user_gender</th><th>user_state</th><th>user_profession</th><th>company</th><th>origin</th><th>dt_load</th></tr></thead><tbody><tr><td>90d0bf57fa11177af392c348d2a5bd72</td><td>Funcionario 3284054f49</td><td>funcionario_3284054f49@empresaa.com.br</td><td>44</td><td>M</td><td>RO</td><td>Cientista de Dados</td><td>Empresa A</td><td>FILE</td><td>2024-11-23T09:51:39.493Z</td></tr><tr><td>807a38110c4576283cb8d42233072e47</td><td>Funcionario 85502baecc</td><td>funcionario_85502baecc@empresaa.com.br</td><td>31</td><td>F</td><td>AC</td><td>Desenvolvedor de ETL</td><td>Empresa A</td><td>FILE</td><td>2024-11-23T09:51:39.493Z</td></tr><tr><td>0d9b75f8fb5b36b9980780b335c37ddb</td><td>Funcionario cbdc66550c</td><td>funcionario_cbdc66550c@empresaa.com.br</td><td>19</td><td>M</td><td>AM</td><td>Desenvolvedor de ETL</td><td>Empresa A</td><td>FILE</td><td>2024-11-23T09:51:39.493Z</td></tr><tr><td>893ef864f4c3c3d96103b79c9f1d0277</td><td>Funcionario 348609e786</td><td>funcionario_348609e786@empresaa.com.br</td><td>21</td><td>F</td><td>RR</td><td>Analista de Dados</td><td>Empresa A</td><td>FILE</td><td>2024-11-23T09:51:39.493Z</td></tr><tr><td>901d1824911ad8b25d56b719a9e68942</td><td>Funcionario cfe808cdc0</td><td>funcionario_cfe808cdc0@empresaa.com.br</td><td>44</td><td>M</td><td>PA</td><td>Arquiteto de Dados</td><td>Empresa A</td><td>FILE</td><td>2024-11-23T09:51:39.493Z</td></tr></tbody></table></div>"
      ]
     },
     "metadata": {
      "application/vnd.databricks.v1+output": {
       "addedWidgets": {},
       "aggData": [],
       "aggError": "",
       "aggOverflow": false,
       "aggSchema": [],
       "aggSeriesLimitReached": false,
       "aggType": "",
       "arguments": {},
       "columnCustomDisplayInfos": {},
       "data": [
        [
         "90d0bf57fa11177af392c348d2a5bd72",
         "Funcionario 3284054f49",
         "funcionario_3284054f49@empresaa.com.br",
         44,
         "M",
         "RO",
         "Cientista de Dados",
         "Empresa A",
         "FILE",
         "2024-11-23T09:51:39.493Z"
        ],
        [
         "807a38110c4576283cb8d42233072e47",
         "Funcionario 85502baecc",
         "funcionario_85502baecc@empresaa.com.br",
         31,
         "F",
         "AC",
         "Desenvolvedor de ETL",
         "Empresa A",
         "FILE",
         "2024-11-23T09:51:39.493Z"
        ],
        [
         "0d9b75f8fb5b36b9980780b335c37ddb",
         "Funcionario cbdc66550c",
         "funcionario_cbdc66550c@empresaa.com.br",
         19,
         "M",
         "AM",
         "Desenvolvedor de ETL",
         "Empresa A",
         "FILE",
         "2024-11-23T09:51:39.493Z"
        ],
        [
         "893ef864f4c3c3d96103b79c9f1d0277",
         "Funcionario 348609e786",
         "funcionario_348609e786@empresaa.com.br",
         21,
         "F",
         "RR",
         "Analista de Dados",
         "Empresa A",
         "FILE",
         "2024-11-23T09:51:39.493Z"
        ],
        [
         "901d1824911ad8b25d56b719a9e68942",
         "Funcionario cfe808cdc0",
         "funcionario_cfe808cdc0@empresaa.com.br",
         44,
         "M",
         "PA",
         "Arquiteto de Dados",
         "Empresa A",
         "FILE",
         "2024-11-23T09:51:39.493Z"
        ]
       ],
       "datasetInfos": [],
       "dbfsResultPath": null,
       "isJsonSchema": true,
       "metadata": {
        "isDbfsCommandResult": false
       },
       "overflow": false,
       "plotOptions": {
        "customPlotOptions": {},
        "displayType": "table",
        "pivotAggregation": null,
        "pivotColumns": null,
        "xColumns": null,
        "yColumns": null
       },
       "removedWidgets": [],
       "schema": [
        {
         "metadata": "{}",
         "name": "user_uuid",
         "type": "\"string\""
        },
        {
         "metadata": "{}",
         "name": "user_name",
         "type": "\"string\""
        },
        {
         "metadata": "{}",
         "name": "user_email",
         "type": "\"string\""
        },
        {
         "metadata": "{}",
         "name": "user_idade",
         "type": "\"integer\""
        },
        {
         "metadata": "{}",
         "name": "user_gender",
         "type": "\"string\""
        },
        {
         "metadata": "{}",
         "name": "user_state",
         "type": "\"string\""
        },
        {
         "metadata": "{}",
         "name": "user_profession",
         "type": "\"string\""
        },
        {
         "metadata": "{}",
         "name": "company",
         "type": "\"string\""
        },
        {
         "metadata": "{}",
         "name": "origin",
         "type": "\"string\""
        },
        {
         "metadata": "{}",
         "name": "dt_load",
         "type": "\"timestamp\""
        }
       ],
       "type": "table"
      }
     },
     "output_type": "display_data"
    }
   ],
   "source": [
    "df_users_file = spark.sql(\"\"\"\n",
    "      SELECT   md5(CONCAT(\n",
    "            nome_empresa,\n",
    "            nome_funcionario\n",
    "        )) AS user_uuid,\n",
    "        nome_funcionario AS user_name,\n",
    "        email_functionario AS user_email,\n",
    "        CAST(idade AS INT) AS user_idade,\n",
    "        sexo AS user_gender,\n",
    "        estado as user_state,\n",
    "        profissao as user_profession,  \n",
    "        nome_empresa AS company,\n",
    "        'FILE'  as origin,\n",
    "        getdate() as dt_load       \n",
    "        FROM stream_temp_vw_files\n",
    "\"\"\")\n",
    "\n",
    "df_users_file.limit(5).display()"
   ]
  },
  {
   "cell_type": "code",
   "execution_count": 0,
   "metadata": {
    "application/vnd.databricks.v1+cell": {
     "cellMetadata": {
      "byteLimit": 2048000,
      "rowLimit": 10000
     },
     "inputWidgets": {},
     "nuid": "86dfdfd7-be1e-4dcb-8729-e7502f4ab850",
     "showTitle": false,
     "tableResultSettingsMap": {},
     "title": ""
    }
   },
   "outputs": [
    {
     "output_type": "display_data",
     "data": {
      "text/html": [
       "<style scoped>\n",
       "  .table-result-container {\n",
       "    max-height: 300px;\n",
       "    overflow: auto;\n",
       "  }\n",
       "  table, th, td {\n",
       "    border: 1px solid black;\n",
       "    border-collapse: collapse;\n",
       "  }\n",
       "  th, td {\n",
       "    padding: 5px;\n",
       "  }\n",
       "  th {\n",
       "    text-align: left;\n",
       "  }\n",
       "</style><div class='table-result-container'><table class='table-result'><thead style='background-color: white'><tr><th>user_uuid</th><th>user_name</th><th>user_email</th><th>user_idade</th><th>user_gender</th><th>user_state</th><th>user_profession</th><th>company</th><th>origin</th><th>dt_load</th></tr></thead><tbody><tr><td>6f9fe2aab0141bb55e4ac96386619fa8</td><td>Funcionario 259218b251</td><td>funcionario_259218b251@empresaa.com.br</td><td>43</td><td>M</td><td>AM</td><td>Engenheiro de Dados</td><td>Empresa A</td><td>FILE</td><td>2024-11-23T09:51:59.49Z</td></tr><tr><td>2c6044088cfed30dae78630eb4212151</td><td>Funcionario b1df875968</td><td>funcionario_b1df875968@empresaa.com.br</td><td>34</td><td>F</td><td>RR</td><td>Desenvolvedor de ETL</td><td>Empresa A</td><td>FILE</td><td>2024-11-23T09:51:59.49Z</td></tr><tr><td>72d4b60fa3676f45cb57d010e00efd03</td><td>Funcionario d0a2e2fa77</td><td>funcionario_d0a2e2fa77@empresaa.com.br</td><td>25</td><td>M</td><td>PA</td><td>Analista de BI</td><td>Empresa A</td><td>FILE</td><td>2024-11-23T09:51:59.49Z</td></tr><tr><td>4fbf0fbb8df8b0ae31dc523e2f1aff7b</td><td>Funcionario a774a75a5d</td><td>funcionario_a774a75a5d@empresaa.com.br</td><td>45</td><td>M</td><td>AP</td><td>Desenvolvedor de ETL</td><td>Empresa A</td><td>FILE</td><td>2024-11-23T09:51:59.49Z</td></tr><tr><td>212df58d29be91116d1e6317678e797c</td><td>Funcionario 9a97c8cb83</td><td>funcionario_9a97c8cb83@empresaa.com.br</td><td>45</td><td>M</td><td>TO</td><td>Analista de Dados</td><td>Empresa A</td><td>FILE</td><td>2024-11-23T09:51:59.49Z</td></tr></tbody></table></div>"
      ]
     },
     "metadata": {
      "application/vnd.databricks.v1+output": {
       "addedWidgets": {},
       "aggData": [],
       "aggError": "",
       "aggOverflow": false,
       "aggSchema": [],
       "aggSeriesLimitReached": false,
       "aggType": "",
       "arguments": {},
       "columnCustomDisplayInfos": {},
       "data": [
        [
         "6f9fe2aab0141bb55e4ac96386619fa8",
         "Funcionario 259218b251",
         "funcionario_259218b251@empresaa.com.br",
         43,
         "M",
         "AM",
         "Engenheiro de Dados",
         "Empresa A",
         "FILE",
         "2024-11-23T09:51:59.49Z"
        ],
        [
         "2c6044088cfed30dae78630eb4212151",
         "Funcionario b1df875968",
         "funcionario_b1df875968@empresaa.com.br",
         34,
         "F",
         "RR",
         "Desenvolvedor de ETL",
         "Empresa A",
         "FILE",
         "2024-11-23T09:51:59.49Z"
        ],
        [
         "72d4b60fa3676f45cb57d010e00efd03",
         "Funcionario d0a2e2fa77",
         "funcionario_d0a2e2fa77@empresaa.com.br",
         25,
         "M",
         "PA",
         "Analista de BI",
         "Empresa A",
         "FILE",
         "2024-11-23T09:51:59.49Z"
        ],
        [
         "4fbf0fbb8df8b0ae31dc523e2f1aff7b",
         "Funcionario a774a75a5d",
         "funcionario_a774a75a5d@empresaa.com.br",
         45,
         "M",
         "AP",
         "Desenvolvedor de ETL",
         "Empresa A",
         "FILE",
         "2024-11-23T09:51:59.49Z"
        ],
        [
         "212df58d29be91116d1e6317678e797c",
         "Funcionario 9a97c8cb83",
         "funcionario_9a97c8cb83@empresaa.com.br",
         45,
         "M",
         "TO",
         "Analista de Dados",
         "Empresa A",
         "FILE",
         "2024-11-23T09:51:59.49Z"
        ]
       ],
       "datasetInfos": [],
       "dbfsResultPath": null,
       "isJsonSchema": true,
       "metadata": {},
       "overflow": false,
       "plotOptions": {
        "customPlotOptions": {},
        "displayType": "table",
        "pivotAggregation": null,
        "pivotColumns": null,
        "xColumns": null,
        "yColumns": null
       },
       "removedWidgets": [],
       "schema": [
        {
         "metadata": "{}",
         "name": "user_uuid",
         "type": "\"string\""
        },
        {
         "metadata": "{}",
         "name": "user_name",
         "type": "\"string\""
        },
        {
         "metadata": "{}",
         "name": "user_email",
         "type": "\"string\""
        },
        {
         "metadata": "{}",
         "name": "user_idade",
         "type": "\"integer\""
        },
        {
         "metadata": "{}",
         "name": "user_gender",
         "type": "\"string\""
        },
        {
         "metadata": "{}",
         "name": "user_state",
         "type": "\"string\""
        },
        {
         "metadata": "{}",
         "name": "user_profession",
         "type": "\"string\""
        },
        {
         "metadata": "{}",
         "name": "company",
         "type": "\"string\""
        },
        {
         "metadata": "{}",
         "name": "origin",
         "type": "\"string\""
        },
        {
         "metadata": "{}",
         "name": "dt_load",
         "type": "\"timestamp\""
        }
       ],
       "type": "table"
      }
     },
     "output_type": "display_data"
    }
   ],
   "source": [
    "user_files_checkpoint_files = 'dbfs:/user/hive/warehouse/silver.db/_checkpoint/files/tb_users'\n",
    "(\n",
    "df_users_file.writeStream\n",
    "        .format('delta')\n",
    "        .outputMode('append')\n",
    "        .option('CheckpointLocation',user_files_checkpoint_files)\n",
    "        .option('mergeSchema',True)\n",
    "        .trigger(availableNow=True)\n",
    "        .table('silver.tb_users')\n",
    ").awaitTermination()\n",
    "\n",
    "spark.sql(\"SELECT * FROM silver.tb_users WHERE origin = 'FILE' LIMIT 5\").display()"
   ]
  },
  {
   "cell_type": "markdown",
   "metadata": {
    "application/vnd.databricks.v1+cell": {
     "cellMetadata": {},
     "inputWidgets": {},
     "nuid": "f335ee34-14b2-45d4-a210-cbc32b2ec230",
     "showTitle": false,
     "tableResultSettingsMap": {},
     "title": ""
    }
   },
   "source": [
    "### 4.4 Sales Table "
   ]
  },
  {
   "cell_type": "markdown",
   "metadata": {
    "application/vnd.databricks.v1+cell": {
     "cellMetadata": {},
     "inputWidgets": {},
     "nuid": "120b455d-1373-447f-ba65-661b11fc7e74",
     "showTitle": false,
     "tableResultSettingsMap": {},
     "title": ""
    }
   },
   "source": [
    "We will load sales information fom the streming and API data and create the dataframes **`df_sales_api`** and **`df_sales_file`**. The first one with API sales data and the second containing file sales data.\n",
    "\n",
    "1. **`df_sales_api`** \n",
    "* **`acesso_uuid`** We will use the**`md5()`** function with **`concat`** to create the uuid with the columns below:\n",
    "  * **`access_date`** - cast to timestamp\n",
    "  * **`ip_address`**.\n",
    "  * **`access_point`** -  mobile or Computador (**local_acesso**).\n",
    "* **`usuario_uuid`**  **`md5()`** + **`concat`** to create the uuid by concatenating the columns below:\n",
    "  * **`access_date`** - cast to timestamp\n",
    "  * **`payload.info_usuario.nome`**.\n",
    "* **`total_value`**, **`percent_descount`** and **`descount_value`** treated\n",
    "* **`origin`** API or FILE\n",
    "* **`td_load`** the loading date"
   ]
  },
  {
   "cell_type": "markdown",
   "metadata": {
    "application/vnd.databricks.v1+cell": {
     "cellMetadata": {},
     "inputWidgets": {},
     "nuid": "d9ea929e-5fdc-4b88-a662-8651aa1345ed",
     "showTitle": false,
     "tableResultSettingsMap": {},
     "title": ""
    }
   },
   "source": [
    "#### 4.4.1 Sales API Data\n"
   ]
  },
  {
   "cell_type": "code",
   "execution_count": 0,
   "metadata": {
    "application/vnd.databricks.v1+cell": {
     "cellMetadata": {
      "byteLimit": 2048000,
      "rowLimit": 10000
     },
     "inputWidgets": {},
     "nuid": "23e5e569-127e-4829-b8cc-6b9bc66280a3",
     "showTitle": false,
     "tableResultSettingsMap": {},
     "title": ""
    }
   },
   "outputs": [
    {
     "output_type": "display_data",
     "data": {
      "text/html": [
       "<style scoped>\n",
       "  .table-result-container {\n",
       "    max-height: 300px;\n",
       "    overflow: auto;\n",
       "  }\n",
       "  table, th, td {\n",
       "    border: 1px solid black;\n",
       "    border-collapse: collapse;\n",
       "  }\n",
       "  th, td {\n",
       "    padding: 5px;\n",
       "  }\n",
       "  th {\n",
       "    text-align: left;\n",
       "  }\n",
       "</style><div class='table-result-container'><table class='table-result'><thead style='background-color: white'><tr><th>dt_sale</th><th>access_uuid</th><th>user_uuid</th><th>course_uuid</th><th>payment_method</th><th>qnt_instalments</th><th>instalments_values</th><th>total_value</th><th>percent_discount</th><th>discount_value</th><th>origin</th><th>dt_load</th></tr></thead><tbody><tr><td>2024-06-02T07:37:47Z</td><td>c67bcead77c723dd2273bdc537cb5085</td><td>7c36c47f0d173f1b1d2f34331228b83c</td><td>c2d6bcbc3e46555bb1e7e9afbc24d3af</td><td>credito</td><td>10</td><td>54.99</td><td>549.90</td><td>null</td><td>null</td><td>API</td><td>2024-11-23T10:24:57.967Z</td></tr><tr><td>2024-06-02T21:21:07Z</td><td>9f703f48102ed386e6d3fe36b3db5ae6</td><td>a08e693ac7d1e3630788552626a31379</td><td>34bdd77f6954552d11c4f5547cb41458</td><td>credito</td><td>10</td><td>65.99</td><td>659.90</td><td>null</td><td>null</td><td>API</td><td>2024-11-23T10:24:57.967Z</td></tr><tr><td>2024-06-03T11:04:27Z</td><td>5516deecfae24f492753d612a7c9b0bb</td><td>dc402a364c5a6eb1e4a0e5d148a663c0</td><td>f260cd97c6c9813b01601e834a2added</td><td>credito</td><td>10</td><td>58.99</td><td>589.90</td><td>null</td><td>null</td><td>API</td><td>2024-11-23T10:24:57.967Z</td></tr><tr><td>2024-06-03T12:43:15Z</td><td>2b3e9b7fb951ea3d26df2c4f0eee41d7</td><td>5b71e33fcb230c85a909cccc4a7c4614</td><td>f260cd97c6c9813b01601e834a2added</td><td>credito</td><td>12</td><td>49.16</td><td>589.92</td><td>null</td><td>null</td><td>API</td><td>2024-11-23T10:24:57.967Z</td></tr><tr><td>2024-06-03T13:49:07Z</td><td>a006e739b422b40b0c0950f4c21d8819</td><td>228f3881e527db54ea749dd08f65c789</td><td>34bdd77f6954552d11c4f5547cb41458</td><td>boleto</td><td>1</td><td>659.90</td><td>659.90</td><td>null</td><td>null</td><td>API</td><td>2024-11-23T10:24:57.967Z</td></tr></tbody></table></div>"
      ]
     },
     "metadata": {
      "application/vnd.databricks.v1+output": {
       "addedWidgets": {},
       "aggData": [],
       "aggError": "",
       "aggOverflow": false,
       "aggSchema": [],
       "aggSeriesLimitReached": false,
       "aggType": "",
       "arguments": {},
       "columnCustomDisplayInfos": {},
       "data": [
        [
         "2024-06-02T07:37:47Z",
         "c67bcead77c723dd2273bdc537cb5085",
         "7c36c47f0d173f1b1d2f34331228b83c",
         "c2d6bcbc3e46555bb1e7e9afbc24d3af",
         "credito",
         10,
         "54.99",
         "549.90",
         null,
         null,
         "API",
         "2024-11-23T10:24:57.967Z"
        ],
        [
         "2024-06-02T21:21:07Z",
         "9f703f48102ed386e6d3fe36b3db5ae6",
         "a08e693ac7d1e3630788552626a31379",
         "34bdd77f6954552d11c4f5547cb41458",
         "credito",
         10,
         "65.99",
         "659.90",
         null,
         null,
         "API",
         "2024-11-23T10:24:57.967Z"
        ],
        [
         "2024-06-03T11:04:27Z",
         "5516deecfae24f492753d612a7c9b0bb",
         "dc402a364c5a6eb1e4a0e5d148a663c0",
         "f260cd97c6c9813b01601e834a2added",
         "credito",
         10,
         "58.99",
         "589.90",
         null,
         null,
         "API",
         "2024-11-23T10:24:57.967Z"
        ],
        [
         "2024-06-03T12:43:15Z",
         "2b3e9b7fb951ea3d26df2c4f0eee41d7",
         "5b71e33fcb230c85a909cccc4a7c4614",
         "f260cd97c6c9813b01601e834a2added",
         "credito",
         12,
         "49.16",
         "589.92",
         null,
         null,
         "API",
         "2024-11-23T10:24:57.967Z"
        ],
        [
         "2024-06-03T13:49:07Z",
         "a006e739b422b40b0c0950f4c21d8819",
         "228f3881e527db54ea749dd08f65c789",
         "34bdd77f6954552d11c4f5547cb41458",
         "boleto",
         1,
         "659.90",
         "659.90",
         null,
         null,
         "API",
         "2024-11-23T10:24:57.967Z"
        ]
       ],
       "datasetInfos": [],
       "dbfsResultPath": null,
       "isJsonSchema": true,
       "metadata": {
        "isDbfsCommandResult": false
       },
       "overflow": false,
       "plotOptions": {
        "customPlotOptions": {},
        "displayType": "table",
        "pivotAggregation": null,
        "pivotColumns": null,
        "xColumns": null,
        "yColumns": null
       },
       "removedWidgets": [],
       "schema": [
        {
         "metadata": "{}",
         "name": "dt_sale",
         "type": "\"timestamp\""
        },
        {
         "metadata": "{}",
         "name": "access_uuid",
         "type": "\"string\""
        },
        {
         "metadata": "{}",
         "name": "user_uuid",
         "type": "\"string\""
        },
        {
         "metadata": "{}",
         "name": "course_uuid",
         "type": "\"string\""
        },
        {
         "metadata": "{}",
         "name": "payment_method",
         "type": "\"string\""
        },
        {
         "metadata": "{}",
         "name": "qnt_instalments",
         "type": "\"integer\""
        },
        {
         "metadata": "{}",
         "name": "instalments_values",
         "type": "\"decimal(9,2)\""
        },
        {
         "metadata": "{}",
         "name": "total_value",
         "type": "\"decimal(9,2)\""
        },
        {
         "metadata": "{}",
         "name": "percent_discount",
         "type": "\"string\""
        },
        {
         "metadata": "{}",
         "name": "discount_value",
         "type": "\"decimal(9,2)\""
        },
        {
         "metadata": "{}",
         "name": "origin",
         "type": "\"string\""
        },
        {
         "metadata": "{}",
         "name": "dt_load",
         "type": "\"timestamp\""
        }
       ],
       "type": "table"
      }
     },
     "output_type": "display_data"
    }
   ],
   "source": [
    "df_sales_api = spark.sql(\"\"\"\n",
    "      SELECT \n",
    "        CAST( access_date AS TIMESTAMP) AS dt_sale,\n",
    "        md5(concat(\n",
    "          CAST(access_date AS TIMESTAMP),\n",
    "          ip_address,\n",
    "          CASE WHEN access_point IN ('iphone', 'android') THEN 'Mobile' ELSE 'Computer' END\n",
    "        )) AS access_uuid,\n",
    "        md5(concat(\n",
    "          cast(access_date as TIMESTAMP),\n",
    "          payload.info_usuario.nome\n",
    "       )) user_uuid,\n",
    "        payload.info_produto.product_uuid AS course_uuid,\n",
    "        payload.info_pagamento.forma_pagamento as payment_method, \n",
    "        CAST(payload.info_pagamento.quantidade_parcelas AS INT) AS qnt_instalments,  \n",
    "        CAST(payload.info_pagamento.valor_parcelas as DECIMAL(9,2) ) AS instalments_values,\n",
    "        CAST(payload.info_pagamento.quantidade_parcelas * payload.info_pagamento.valor_parcelas AS DECIMAL(9,2)) AS total_value, \n",
    "        concat(CAST((payload.info_pagamento.disconto*100) AS INT ), '%' ) AS percent_discount ,\n",
    "        CAST( replace(substr(payload.info_produto.valor,4),',','.' ) * payload.info_pagamento.disconto AS DECIMAL(9,2)) as discount_value,\n",
    "        'API' as origin,\n",
    "        getdate() as dt_load     \n",
    "      FROM stream_temp_vw_api\n",
    "      WHERE payload.info_pagamento IS NOT NULL       \n",
    "                         \n",
    "                         \n",
    "\"\"\")\n",
    "\n",
    "df_sales_api.limit(5).display()"
   ]
  },
  {
   "cell_type": "code",
   "execution_count": 0,
   "metadata": {
    "application/vnd.databricks.v1+cell": {
     "cellMetadata": {
      "byteLimit": 2048000,
      "rowLimit": 10000
     },
     "inputWidgets": {},
     "nuid": "ab7f86f5-dee5-439c-bf48-61474467963d",
     "showTitle": false,
     "tableResultSettingsMap": {},
     "title": ""
    }
   },
   "outputs": [
    {
     "output_type": "execute_result",
     "data": {
      "text/plain": [
       "DataFrame[dt_sale: timestamp, access_uuid: string, user_uuid: string, course_uuid: string, payment_method: string, qnt_instalments: int, instalments_values: decimal(9,2), total_value: decimal(9,2), percent_discount: string, discount_value: decimal(9,2), origin: string, dt_load: timestamp]"
      ]
     },
     "execution_count": 46,
     "metadata": {},
     "output_type": "execute_result"
    }
   ],
   "source": [
    "sales_api_checkout_path = 'dbfs:/user/hive/warehouse/silver.db/_checkpoint/api/tb_sales'\n",
    "(\n",
    "df_sales_api.writeStream\n",
    "        .format('delta')\n",
    "        .outputMode('append')\n",
    "        .option('CheckpointLocation',sales_api_checkout_path)\n",
    "        .option('mergeSchema','true')\n",
    "        .trigger(availableNow = True)\n",
    "        .toTable('silver.tb_sales')\n",
    ").awaitTermination()\n",
    "\n",
    "spark.sql(\"select * from silver.tb_sales where origin ='API' limit 5\")"
   ]
  },
  {
   "cell_type": "markdown",
   "metadata": {
    "application/vnd.databricks.v1+cell": {
     "cellMetadata": {},
     "inputWidgets": {},
     "nuid": "c4d4a1a2-1188-40ad-a41b-6806868a97da",
     "showTitle": false,
     "tableResultSettingsMap": {},
     "title": ""
    }
   },
   "source": [
    "#### 4.4.1 Sales File Data \n"
   ]
  },
  {
   "cell_type": "code",
   "execution_count": 0,
   "metadata": {
    "application/vnd.databricks.v1+cell": {
     "cellMetadata": {
      "byteLimit": 2048000,
      "rowLimit": 10000
     },
     "inputWidgets": {},
     "nuid": "f6fb5112-d71e-441c-bb83-2e920944820e",
     "showTitle": false,
     "tableResultSettingsMap": {},
     "title": ""
    }
   },
   "outputs": [
    {
     "output_type": "display_data",
     "data": {
      "text/html": [
       "<style scoped>\n",
       "  .table-result-container {\n",
       "    max-height: 300px;\n",
       "    overflow: auto;\n",
       "  }\n",
       "  table, th, td {\n",
       "    border: 1px solid black;\n",
       "    border-collapse: collapse;\n",
       "  }\n",
       "  th, td {\n",
       "    padding: 5px;\n",
       "  }\n",
       "  th {\n",
       "    text-align: left;\n",
       "  }\n",
       "</style><div class='table-result-container'><table class='table-result'><thead style='background-color: white'><tr><th>dt_sale</th><th>access_uuid</th><th>user_uuid</th><th>course_uuid</th><th>payment_method</th><th>qnt_instalments</th><th>instalments_values</th><th>total_value</th><th>percent_discount</th><th>discount_value</th><th>origin</th><th>dt_load</th></tr></thead><tbody><tr><td>2025-02-26T00:00:00Z</td><td>null</td><td>90d0bf57fa11177af392c348d2a5bd72</td><td>f260cd97c6c9813b01601e834a2added</td><td>pix</td><td>1</td><td>null</td><td>750.40</td><td>5%</td><td>39.50</td><td>FILE</td><td>2024-11-23T10:47:35.11Z</td></tr><tr><td>2024-07-01T00:00:00Z</td><td>null</td><td>807a38110c4576283cb8d42233072e47</td><td>34bdd77f6954552d11c4f5547cb41458</td><td>pix</td><td>1</td><td>null</td><td>655.40</td><td>5%</td><td>34.50</td><td>FILE</td><td>2024-11-23T10:47:35.11Z</td></tr><tr><td>2025-11-23T00:00:00Z</td><td>null</td><td>0d9b75f8fb5b36b9980780b335c37ddb</td><td>c2d6bcbc3e46555bb1e7e9afbc24d3af</td><td>pix</td><td>1</td><td>null</td><td>522.40</td><td>5%</td><td>27.50</td><td>FILE</td><td>2024-11-23T10:47:35.11Z</td></tr><tr><td>2025-04-07T00:00:00Z</td><td>null</td><td>893ef864f4c3c3d96103b79c9f1d0277</td><td>f260cd97c6c9813b01601e834a2added</td><td>pix</td><td>1</td><td>null</td><td>750.40</td><td>5%</td><td>39.50</td><td>FILE</td><td>2024-11-23T10:47:35.11Z</td></tr><tr><td>2024-08-10T00:00:00Z</td><td>null</td><td>901d1824911ad8b25d56b719a9e68942</td><td>34bdd77f6954552d11c4f5547cb41458</td><td>pix</td><td>1</td><td>null</td><td>655.40</td><td>5%</td><td>34.50</td><td>FILE</td><td>2024-11-23T10:47:35.11Z</td></tr></tbody></table></div>"
      ]
     },
     "metadata": {
      "application/vnd.databricks.v1+output": {
       "addedWidgets": {},
       "aggData": [],
       "aggError": "",
       "aggOverflow": false,
       "aggSchema": [],
       "aggSeriesLimitReached": false,
       "aggType": "",
       "arguments": {},
       "columnCustomDisplayInfos": {},
       "data": [
        [
         "2025-02-26T00:00:00Z",
         null,
         "90d0bf57fa11177af392c348d2a5bd72",
         "f260cd97c6c9813b01601e834a2added",
         "pix",
         1,
         null,
         "750.40",
         "5%",
         "39.50",
         "FILE",
         "2024-11-23T10:47:35.11Z"
        ],
        [
         "2024-07-01T00:00:00Z",
         null,
         "807a38110c4576283cb8d42233072e47",
         "34bdd77f6954552d11c4f5547cb41458",
         "pix",
         1,
         null,
         "655.40",
         "5%",
         "34.50",
         "FILE",
         "2024-11-23T10:47:35.11Z"
        ],
        [
         "2025-11-23T00:00:00Z",
         null,
         "0d9b75f8fb5b36b9980780b335c37ddb",
         "c2d6bcbc3e46555bb1e7e9afbc24d3af",
         "pix",
         1,
         null,
         "522.40",
         "5%",
         "27.50",
         "FILE",
         "2024-11-23T10:47:35.11Z"
        ],
        [
         "2025-04-07T00:00:00Z",
         null,
         "893ef864f4c3c3d96103b79c9f1d0277",
         "f260cd97c6c9813b01601e834a2added",
         "pix",
         1,
         null,
         "750.40",
         "5%",
         "39.50",
         "FILE",
         "2024-11-23T10:47:35.11Z"
        ],
        [
         "2024-08-10T00:00:00Z",
         null,
         "901d1824911ad8b25d56b719a9e68942",
         "34bdd77f6954552d11c4f5547cb41458",
         "pix",
         1,
         null,
         "655.40",
         "5%",
         "34.50",
         "FILE",
         "2024-11-23T10:47:35.11Z"
        ]
       ],
       "datasetInfos": [],
       "dbfsResultPath": null,
       "isJsonSchema": true,
       "metadata": {
        "isDbfsCommandResult": false
       },
       "overflow": false,
       "plotOptions": {
        "customPlotOptions": {},
        "displayType": "table",
        "pivotAggregation": null,
        "pivotColumns": null,
        "xColumns": null,
        "yColumns": null
       },
       "removedWidgets": [],
       "schema": [
        {
         "metadata": "{}",
         "name": "dt_sale",
         "type": "\"timestamp\""
        },
        {
         "metadata": "{}",
         "name": "access_uuid",
         "type": "\"string\""
        },
        {
         "metadata": "{}",
         "name": "user_uuid",
         "type": "\"string\""
        },
        {
         "metadata": "{}",
         "name": "course_uuid",
         "type": "\"string\""
        },
        {
         "metadata": "{}",
         "name": "payment_method",
         "type": "\"string\""
        },
        {
         "metadata": "{}",
         "name": "qnt_instalments",
         "type": "\"integer\""
        },
        {
         "metadata": "{}",
         "name": "instalments_values",
         "type": "\"decimal(9,2)\""
        },
        {
         "metadata": "{}",
         "name": "total_value",
         "type": "\"decimal(9,2)\""
        },
        {
         "metadata": "{}",
         "name": "percent_discount",
         "type": "\"string\""
        },
        {
         "metadata": "{}",
         "name": "discount_value",
         "type": "\"decimal(9,2)\""
        },
        {
         "metadata": "{}",
         "name": "origin",
         "type": "\"string\""
        },
        {
         "metadata": "{}",
         "name": "dt_load",
         "type": "\"timestamp\""
        }
       ],
       "type": "table"
      }
     },
     "output_type": "display_data"
    }
   ],
   "source": [
    "df_sales_file = spark.sql(\"\"\"\n",
    "        SELECT \n",
    "          CAST(data_venda as TIMESTAMP) as dt_sale,\n",
    "          CAST(NULL AS STRING) AS access_uuid,\n",
    "          md5(concat(\n",
    "            nome_empresa,\n",
    "            nome_funcionario\n",
    "             )) AS user_uuid,\n",
    "          md5(curso) AS course_uuid,\n",
    "          'pix' AS payment_method,\n",
    "          1 AS qnt_instalments,\n",
    "          CAST((replace(substr(valor,4), ',','.') - CAST(replace(substr(valor,4), ',','.' * (replace(disconto,'%','') / 100)) AS DECIMAL(9,2))) AS DECIMAL(9,2)) AS instalments_values,\n",
    "          CAST((replace(substr(valor,4),',','.') - CAST((replace(substr(valor,4),',','.') * (replace(disconto,'%','')/100)) AS DECIMAL(9,2))) AS DECIMAL(9,2)) AS total_value,\n",
    "          disconto AS percent_discount,\n",
    "          CAST((replace(substr(valor,4),',','.') * (replace(disconto,'%','')/100)) AS DECIMAL(9,2)) AS discount_value,\n",
    "          'FILE' as origin,\n",
    "          getdate() as dt_load\n",
    "          FROM stream_temp_vw_files                       \n",
    "\"\"\")\n",
    "\n",
    "df_sales_file.limit(5).display()"
   ]
  },
  {
   "cell_type": "markdown",
   "metadata": {
    "application/vnd.databricks.v1+cell": {
     "cellMetadata": {},
     "inputWidgets": {},
     "nuid": "2aada3c0-de14-4b92-ab89-462e4e35e452",
     "showTitle": false,
     "tableResultSettingsMap": {},
     "title": ""
    }
   },
   "source": [
    "* **`.writeStream`** and **`.table()`**: loads data from **`df_sales_file`** to the **silver.tb_sales** table \n",
    "* **`outputMode('append')`**: States that the data will be appended \n",
    "* **`option('CheckpointLocation', file_checkpoint_path)`**: Defines the checkpoint diretory where Spark will control the streaming process with **`exactly-once-delivery`**\n",
    "* **`option('mergeSchema',True)`**: Indicates a **Schema Evolution** processing\n",
    "* **`trigger(availableNow=True)`**: States that the process will occcour in batches\n",
    "* **`.trigger(availableNow=True)`**: Makes the query a scyncronous process"
   ]
  },
  {
   "cell_type": "code",
   "execution_count": 0,
   "metadata": {
    "application/vnd.databricks.v1+cell": {
     "cellMetadata": {
      "byteLimit": 2048000,
      "rowLimit": 10000
     },
     "inputWidgets": {},
     "nuid": "6bdaab2b-af91-4f25-805f-14cb8eb5ff82",
     "showTitle": false,
     "tableResultSettingsMap": {},
     "title": ""
    }
   },
   "outputs": [
    {
     "output_type": "display_data",
     "data": {
      "text/html": [
       "<style scoped>\n",
       "  .table-result-container {\n",
       "    max-height: 300px;\n",
       "    overflow: auto;\n",
       "  }\n",
       "  table, th, td {\n",
       "    border: 1px solid black;\n",
       "    border-collapse: collapse;\n",
       "  }\n",
       "  th, td {\n",
       "    padding: 5px;\n",
       "  }\n",
       "  th {\n",
       "    text-align: left;\n",
       "  }\n",
       "</style><div class='table-result-container'><table class='table-result'><thead style='background-color: white'><tr><th>dt_sale</th><th>access_uuid</th><th>user_uuid</th><th>course_uuid</th><th>payment_method</th><th>qnt_instalments</th><th>instalments_values</th><th>total_value</th><th>percent_discount</th><th>discount_value</th><th>origin</th><th>dt_load</th></tr></thead><tbody><tr><td>2025-02-26T00:00:00Z</td><td>null</td><td>fbf6574746a46651e9a72cf771891f14</td><td>f260cd97c6c9813b01601e834a2added</td><td>pix</td><td>1</td><td>null</td><td>750.40</td><td>5%</td><td>39.50</td><td>FILE</td><td>2024-11-23T10:51:35.968Z</td></tr><tr><td>2024-07-01T00:00:00Z</td><td>null</td><td>0146e0149c663954281270fe0396b8d3</td><td>34bdd77f6954552d11c4f5547cb41458</td><td>pix</td><td>1</td><td>null</td><td>655.40</td><td>5%</td><td>34.50</td><td>FILE</td><td>2024-11-23T10:51:35.968Z</td></tr><tr><td>2025-11-23T00:00:00Z</td><td>null</td><td>fe04c6beb42683f312bb07a3e344e4a2</td><td>c2d6bcbc3e46555bb1e7e9afbc24d3af</td><td>pix</td><td>1</td><td>null</td><td>522.40</td><td>5%</td><td>27.50</td><td>FILE</td><td>2024-11-23T10:51:35.968Z</td></tr><tr><td>2025-04-07T00:00:00Z</td><td>null</td><td>27eb0a19f0d73169e5163c1612647bc0</td><td>f260cd97c6c9813b01601e834a2added</td><td>pix</td><td>1</td><td>null</td><td>750.40</td><td>5%</td><td>39.50</td><td>FILE</td><td>2024-11-23T10:51:35.968Z</td></tr><tr><td>2024-08-10T00:00:00Z</td><td>null</td><td>4eca5d4c0b997cb694dc95bc5f46aa1d</td><td>34bdd77f6954552d11c4f5547cb41458</td><td>pix</td><td>1</td><td>null</td><td>655.40</td><td>5%</td><td>34.50</td><td>FILE</td><td>2024-11-23T10:51:35.968Z</td></tr></tbody></table></div>"
      ]
     },
     "metadata": {
      "application/vnd.databricks.v1+output": {
       "addedWidgets": {},
       "aggData": [],
       "aggError": "",
       "aggOverflow": false,
       "aggSchema": [],
       "aggSeriesLimitReached": false,
       "aggType": "",
       "arguments": {},
       "columnCustomDisplayInfos": {},
       "data": [
        [
         "2025-02-26T00:00:00Z",
         null,
         "fbf6574746a46651e9a72cf771891f14",
         "f260cd97c6c9813b01601e834a2added",
         "pix",
         1,
         null,
         "750.40",
         "5%",
         "39.50",
         "FILE",
         "2024-11-23T10:51:35.968Z"
        ],
        [
         "2024-07-01T00:00:00Z",
         null,
         "0146e0149c663954281270fe0396b8d3",
         "34bdd77f6954552d11c4f5547cb41458",
         "pix",
         1,
         null,
         "655.40",
         "5%",
         "34.50",
         "FILE",
         "2024-11-23T10:51:35.968Z"
        ],
        [
         "2025-11-23T00:00:00Z",
         null,
         "fe04c6beb42683f312bb07a3e344e4a2",
         "c2d6bcbc3e46555bb1e7e9afbc24d3af",
         "pix",
         1,
         null,
         "522.40",
         "5%",
         "27.50",
         "FILE",
         "2024-11-23T10:51:35.968Z"
        ],
        [
         "2025-04-07T00:00:00Z",
         null,
         "27eb0a19f0d73169e5163c1612647bc0",
         "f260cd97c6c9813b01601e834a2added",
         "pix",
         1,
         null,
         "750.40",
         "5%",
         "39.50",
         "FILE",
         "2024-11-23T10:51:35.968Z"
        ],
        [
         "2024-08-10T00:00:00Z",
         null,
         "4eca5d4c0b997cb694dc95bc5f46aa1d",
         "34bdd77f6954552d11c4f5547cb41458",
         "pix",
         1,
         null,
         "655.40",
         "5%",
         "34.50",
         "FILE",
         "2024-11-23T10:51:35.968Z"
        ]
       ],
       "datasetInfos": [],
       "dbfsResultPath": null,
       "isJsonSchema": true,
       "metadata": {},
       "overflow": false,
       "plotOptions": {
        "customPlotOptions": {},
        "displayType": "table",
        "pivotAggregation": null,
        "pivotColumns": null,
        "xColumns": null,
        "yColumns": null
       },
       "removedWidgets": [],
       "schema": [
        {
         "metadata": "{}",
         "name": "dt_sale",
         "type": "\"timestamp\""
        },
        {
         "metadata": "{}",
         "name": "access_uuid",
         "type": "\"string\""
        },
        {
         "metadata": "{}",
         "name": "user_uuid",
         "type": "\"string\""
        },
        {
         "metadata": "{}",
         "name": "course_uuid",
         "type": "\"string\""
        },
        {
         "metadata": "{}",
         "name": "payment_method",
         "type": "\"string\""
        },
        {
         "metadata": "{}",
         "name": "qnt_instalments",
         "type": "\"integer\""
        },
        {
         "metadata": "{}",
         "name": "instalments_values",
         "type": "\"decimal(9,2)\""
        },
        {
         "metadata": "{}",
         "name": "total_value",
         "type": "\"decimal(9,2)\""
        },
        {
         "metadata": "{}",
         "name": "percent_discount",
         "type": "\"string\""
        },
        {
         "metadata": "{}",
         "name": "discount_value",
         "type": "\"decimal(9,2)\""
        },
        {
         "metadata": "{}",
         "name": "origin",
         "type": "\"string\""
        },
        {
         "metadata": "{}",
         "name": "dt_load",
         "type": "\"timestamp\""
        }
       ],
       "type": "table"
      }
     },
     "output_type": "display_data"
    }
   ],
   "source": [
    "file_checkpoint_path = 'dbfs:/user/hive/warehouse/silver.db/_checkpoint/arquivo/tb_sales'\n",
    "(\n",
    "\n",
    "df_sales_file.writeStream\n",
    "      .format('delta')\n",
    "      .outputMode('append')\n",
    "      .option('mergeSchema', 'true')\n",
    "      .option('CheckpointLocation', file_checkpoint_path)\n",
    "      .trigger(availableNow=True)\n",
    "      .table('silver.tb_sales')\n",
    ").awaitTermination()\n",
    "\n",
    "spark.sql(\"SELECT * FROM silver.tb_sales WHERE origin = 'FILE' LIMIT 5\").display()"
   ]
  },
  {
   "cell_type": "code",
   "execution_count": 0,
   "metadata": {
    "application/vnd.databricks.v1+cell": {
     "cellMetadata": {
      "byteLimit": 2048000,
      "rowLimit": 10000
     },
     "inputWidgets": {},
     "nuid": "a0b3db8f-3704-48a5-b44b-34772c92cd6f",
     "showTitle": false,
     "tableResultSettingsMap": {},
     "title": ""
    }
   },
   "outputs": [
    {
     "output_type": "stream",
     "name": "stdout",
     "output_type": "stream",
     "text": [
      "stop_all_streams-inicio-2024-11-23 11:01:50.047884\nO stream display_query_5 fui finalizado com sucesso.\nO stream display_query_6 fui finalizado com sucesso.\nO stream display_query_3 fui finalizado com sucesso.\nO stream display_query_9 fui finalizado com sucesso.\nO stream display_query_8 fui finalizado com sucesso.\nO stream display_query_4 fui finalizado com sucesso.\nstop_all_streams-fim-2024-11-23 11:01:51.755516\n              \n"
     ]
    }
   ],
   "source": [
    "stop_all_streams()"
   ]
  },
  {
   "cell_type": "code",
   "execution_count": 0,
   "metadata": {
    "application/vnd.databricks.v1+cell": {
     "cellMetadata": {},
     "inputWidgets": {},
     "nuid": "457ef14f-3d09-41f7-9ae2-a9e4c594ad17",
     "showTitle": false,
     "tableResultSettingsMap": {},
     "title": ""
    }
   },
   "outputs": [],
   "source": []
  }
 ],
 "metadata": {
  "application/vnd.databricks.v1+notebook": {
   "dashboards": [],
   "environmentMetadata": null,
   "language": "python",
   "notebookMetadata": {
    "mostRecentlyExecutedCommandWithImplicitDF": {
     "commandId": 2572775482846143,
     "dataframes": [
      "_sqldf"
     ]
    },
    "pythonIndentUnit": 2
   },
   "notebookName": "Load_Silver_Zone",
   "widgets": {}
  }
 },
 "nbformat": 4,
 "nbformat_minor": 0
}
