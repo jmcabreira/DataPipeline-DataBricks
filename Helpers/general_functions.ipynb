{
 "cells": [
  {
   "cell_type": "code",
   "execution_count": 0,
   "metadata": {
    "application/vnd.databricks.v1+cell": {
     "cellMetadata": {
      "byteLimit": 2048000,
      "rowLimit": 10000
     },
     "inputWidgets": {},
     "nuid": "691a9809-da03-4349-a7b4-913a0f60de36",
     "showTitle": false,
     "tableResultSettingsMap": {},
     "title": ""
    }
   },
   "outputs": [],
   "source": [
    "import typing as T\n",
    "from datetime import datetime\n"
   ]
  },
  {
   "cell_type": "code",
   "execution_count": 0,
   "metadata": {
    "application/vnd.databricks.v1+cell": {
     "cellMetadata": {
      "byteLimit": 2048000,
      "rowLimit": 10000
     },
     "inputWidgets": {},
     "nuid": "2ef6657a-d885-4e91-a400-ccabb8d4c272",
     "showTitle": false,
     "tableResultSettingsMap": {},
     "title": ""
    }
   },
   "outputs": [],
   "source": [
    "# General Functions"
   ]
  },
  {
   "cell_type": "code",
   "execution_count": 0,
   "metadata": {
    "application/vnd.databricks.v1+cell": {
     "cellMetadata": {
      "byteLimit": 2048000,
      "rowLimit": 10000
     },
     "inputWidgets": {},
     "nuid": "0d066cf4-29df-4f3c-87c9-ae10e2097821",
     "showTitle": false,
     "tableResultSettingsMap": {},
     "title": ""
    }
   },
   "outputs": [],
   "source": [
    "\n",
    "def log_function_execution(func: T.Callable[..., T.Any]):\n",
    "    def wrapper(*args, **kwargs):\n",
    "        print(f\"{func.__name__}-inicio-{datetime.now()}\")\n",
    "        return_value = func(*args, **kwargs)\n",
    "        print(f\"\"\"{func.__name__}-fim-{datetime.now()}\n",
    "              \"\"\")\n",
    "        return return_value\n",
    "    return wrapper"
   ]
  },
  {
   "cell_type": "code",
   "execution_count": 0,
   "metadata": {
    "application/vnd.databricks.v1+cell": {
     "cellMetadata": {
      "byteLimit": 2048000,
      "rowLimit": 10000
     },
     "inputWidgets": {},
     "nuid": "4a42a883-28e5-44d4-aedf-f35af11cd1c5",
     "showTitle": false,
     "tableResultSettingsMap": {},
     "title": ""
    }
   },
   "outputs": [],
   "source": [
    "@log_function_execution\n",
    "def stop_all_streams():\n",
    "    for stream_query in spark.streams.active:\n",
    "        try:\n",
    "            stream_query.stop()\n",
    "            print(f'O stream {stream_query.name} fui finalizado com sucesso.')\n",
    "        except RuntimeError:\n",
    "            pass\n",
    "\n",
    "def clean_up_tables(database=\"default\"):\n",
    "    try: \n",
    "        spark.sql(f\"USE {database}\")\n",
    "        for table in spark.sql('show tables').collect():\n",
    "            if table['isTemporary'] is not True:\n",
    "                full_table_name = f\"{table['database']}.{table['tableName']}\"\n",
    "                spark.sql(f\"DROP TABLE {full_table_name}\")\n",
    "                print(f\"A tabela [{full_table_name}] foi excluída com sucesso.\")\n",
    "    except:\n",
    "        print(f\"O database [{database}] não existe.\")\n",
    "\n",
    "@log_function_execution\n",
    "def clean_up_landing_dir():\n",
    "    dbutils.fs.rm(\"dbfs:/FileStore/landing/\",True)\n",
    "    print(f\"Todos os arquivos e diretórios dentro de 'dbfs:/FileStore/landing/' foram excluidos com sucesso.\")\n",
    "\n",
    "@log_function_execution\n",
    "def clean_up_database(database='default'):\n",
    "    try:\n",
    "        clean_up_tables(database)\n",
    "        spark.sql(f'DROP DATABASE {database}')\n",
    "        print(f'O database [{database}] foi excluido com sucesso.')\n",
    "    except:\n",
    "        pass"
   ]
  }
 ],
 "metadata": {
  "application/vnd.databricks.v1+notebook": {
   "dashboards": [],
   "environmentMetadata": null,
   "language": "python",
   "notebookMetadata": {
    "pythonIndentUnit": 2
   },
   "notebookName": "general_functions",
   "widgets": {}
  }
 },
 "nbformat": 4,
 "nbformat_minor": 0
}
