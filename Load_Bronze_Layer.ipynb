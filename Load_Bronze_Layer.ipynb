{
 "cells": [
  {
   "cell_type": "markdown",
   "metadata": {
    "application/vnd.databricks.v1+cell": {
     "cellMetadata": {},
     "inputWidgets": {},
     "nuid": "4720f721-0b11-426c-9027-25d17543ef20",
     "showTitle": false,
     "tableResultSettingsMap": {},
     "title": ""
    }
   },
   "source": [
    "# Loading Data From Bronze Layer \n",
    "\n",
    "1. The origin of the table dados_arquivo are files and will be loaded in batch using spark. \n",
    "2. The origin of the table dados_api is the sales API and will be loaded in streamming using AutoLoader.\n"
   ]
  },
  {
   "cell_type": "markdown",
   "metadata": {
    "application/vnd.databricks.v1+cell": {
     "cellMetadata": {},
     "inputWidgets": {},
     "nuid": "0e63e37f-345e-49c9-9ce7-cf8d3c677517",
     "showTitle": false,
     "tableResultSettingsMap": {},
     "title": ""
    }
   },
   "source": [
    "* Batch Data : Sales from sales consultant - B2B\n",
    "* Streaming Data : API Sales"
   ]
  },
  {
   "cell_type": "markdown",
   "metadata": {
    "application/vnd.databricks.v1+cell": {
     "cellMetadata": {},
     "inputWidgets": {},
     "nuid": "9e886810-a08e-43d4-86bb-95e290e8a9ad",
     "showTitle": false,
     "tableResultSettingsMap": {},
     "title": ""
    }
   },
   "source": [
    "## 1.0 Initial Setup "
   ]
  },
  {
   "cell_type": "code",
   "execution_count": 0,
   "metadata": {
    "application/vnd.databricks.v1+cell": {
     "cellMetadata": {
      "byteLimit": 2048000,
      "rowLimit": 10000
     },
     "collapsed": true,
     "inputWidgets": {},
     "nuid": "057a83a2-36e3-471c-bef6-841781186a51",
     "showTitle": false,
     "tableResultSettingsMap": {},
     "title": ""
    }
   },
   "outputs": [],
   "source": [
    "%run \"/Users/cabreirajm@gmail.com/DataPipelineCabreira/Helpers/data_generator\""
   ]
  },
  {
   "cell_type": "markdown",
   "metadata": {
    "application/vnd.databricks.v1+cell": {
     "cellMetadata": {},
     "inputWidgets": {},
     "nuid": "b6f1d323-316d-48d4-8ba8-9e48d8549ef0",
     "showTitle": false,
     "tableResultSettingsMap": {},
     "title": ""
    }
   },
   "source": [
    "The Data\n",
    "1. **generate_api_data** - This function generate the Sales API streaming data which is in JSON format and is stored in **Landing Zone** : `dbfs:/FileStore/landing/stream/`\n",
    "\n",
    "An API file example is presented below : \n",
    "\n",
    "\n",
    "\n",
    "\n",
    "\n",
    "```\n",
    "    {\n",
    "        \"access_date\":\"2024-06-02T19:01:09.000Z\",\n",
    "        \"ip_address\":\"207.198.60.166\",\n",
    "        \"access_point\":\"chrome\",\n",
    "        \"payload\":{\n",
    "            \"info_usuario\":{\n",
    "                \"nome\":\"Usuario c3e5d305e1\",\n",
    "                \"idade\":\"44\",\n",
    "                \"sexo\":\"F\",\n",
    "                \"email\":\"usuario_c3e5d305e1@outlook.com\",\n",
    "                \"profissao\":\"Desenvolvedor de ETL\",\n",
    "                \"estado\":\"TO\"\n",
    "            },\n",
    "            \"info_produto\":{\n",
    "                \"product_uuid\":\"f260cd97c6c9813b01601e834a2added\",\n",
    "                \"valor\":\"R$ 589,90\"\n",
    "            },\n",
    "            \"info_pagamento\":{\n",
    "                \"valor\":\"589.90\",\n",
    "                \"forma_pagamento\":\"credito\",\n",
    "                \"quantidade_parcelas\":\"2\",\n",
    "                \"valor_parcelas\":\"294.95\"\n",
    "            }\n",
    "        }\n",
    "    }\n",
    "```\n",
    "\n",
    "2. **generate_files_data** - This function generates the batch data in csv format. As mentioned above, these csv data are data from sales consultant that sells the products to business ( B2B ). All the data are stored in **Landing Zone** `dbfs:/FileStore/landing/files/`.\n",
    "\n",
    "A batch file example is presented below:\n",
    "\n",
    "```\n",
    "    data_venda,nome_empresa,sexo,nome_funcionario,email_functionario,profissao,idade,estado,curso,valor,disconto\n",
    "    2025-02-26,Empresa A,M,Funcionario 3a0f99b401,funcionario_3a0f99b401@empresaa.com.br,Cientista de Dados,44,RO,Construindo o seu Primeiro Pipeline de Dados com o Databricks,\"R$ 789,90\",5%\n",
    "\n",
    "\n",
    "```"
   ]
  },
  {
   "cell_type": "code",
   "execution_count": 0,
   "metadata": {
    "application/vnd.databricks.v1+cell": {
     "cellMetadata": {},
     "inputWidgets": {},
     "nuid": "1f2b0562-413d-446d-bf12-167636566a3a",
     "showTitle": false,
     "tableResultSettingsMap": {},
     "title": ""
    }
   },
   "outputs": [],
   "source": []
  }
 ],
 "metadata": {
  "application/vnd.databricks.v1+notebook": {
   "dashboards": [],
   "environmentMetadata": null,
   "language": "python",
   "notebookMetadata": {
    "pythonIndentUnit": 2
   },
   "notebookName": "Load_Bronze_Layer",
   "widgets": {}
  }
 },
 "nbformat": 4,
 "nbformat_minor": 0
}
