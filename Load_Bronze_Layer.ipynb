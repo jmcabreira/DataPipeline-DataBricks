{
 "cells": [
  {
   "cell_type": "markdown",
   "metadata": {
    "application/vnd.databricks.v1+cell": {
     "cellMetadata": {},
     "inputWidgets": {},
     "nuid": "4720f721-0b11-426c-9027-25d17543ef20",
     "showTitle": false,
     "tableResultSettingsMap": {},
     "title": ""
    }
   },
   "source": [
    "# Loading Data To Bronze Layer \n",
    "\n",
    "1. The origin of the table dados_arquivo are files and will be loaded in batch using spark. \n",
    "2. The origin of the table dados_api is the sales API and will be loaded in streamming using AutoLoader.\n"
   ]
  },
  {
   "cell_type": "markdown",
   "metadata": {
    "application/vnd.databricks.v1+cell": {
     "cellMetadata": {},
     "inputWidgets": {},
     "nuid": "0e63e37f-345e-49c9-9ce7-cf8d3c677517",
     "showTitle": false,
     "tableResultSettingsMap": {},
     "title": ""
    }
   },
   "source": [
    "* Batch Data : Sales from sales consultant - B2B\n",
    "* Streaming Data : API Sales"
   ]
  },
  {
   "cell_type": "markdown",
   "metadata": {
    "application/vnd.databricks.v1+cell": {
     "cellMetadata": {},
     "inputWidgets": {},
     "nuid": "9e886810-a08e-43d4-86bb-95e290e8a9ad",
     "showTitle": false,
     "tableResultSettingsMap": {},
     "title": ""
    }
   },
   "source": [
    "## 1.0 Initial Setup "
   ]
  },
  {
   "cell_type": "code",
   "execution_count": 0,
   "metadata": {
    "application/vnd.databricks.v1+cell": {
     "cellMetadata": {
      "byteLimit": 2048000,
      "rowLimit": 10000
     },
     "collapsed": true,
     "inputWidgets": {},
     "nuid": "057a83a2-36e3-471c-bef6-841781186a51",
     "showTitle": false,
     "tableResultSettingsMap": {},
     "title": ""
    }
   },
   "outputs": [],
   "source": [
    "%run \"/Users/cabreirajm@gmail.com/DataPipelineCabreira/Helpers/data_generator\""
   ]
  },
  {
   "cell_type": "markdown",
   "metadata": {
    "application/vnd.databricks.v1+cell": {
     "cellMetadata": {},
     "inputWidgets": {},
     "nuid": "b6f1d323-316d-48d4-8ba8-9e48d8549ef0",
     "showTitle": false,
     "tableResultSettingsMap": {},
     "title": ""
    }
   },
   "source": [
    "The Data\n",
    "1. **generate_api_data** - This function generate the Sales API streaming data which is in JSON format and is stored in **Landing Zone** : `dbfs:/FileStore/landing/stream/`\n",
    "\n",
    "\n",
    "* The payload struct has information regarding user registration, the sale itself and the payment method. If an user just visit the website without any other action ( registration and selling), all elements will be set as null. \n",
    "\n",
    "An API file example is presented below : \n",
    "\n",
    "```\n",
    "    {\n",
    "        \"access_date\":\"2024-06-02T19:01:09.000Z\",\n",
    "        \"ip_address\":\"207.198.60.166\",\n",
    "        \"access_point\":\"chrome\",\n",
    "        \"payload\":{\n",
    "            \"info_usuario\":{\n",
    "                \"nome\":\"Usuario c3e5d305e1\",\n",
    "                \"idade\":\"44\",\n",
    "                \"sexo\":\"F\",\n",
    "                \"email\":\"usuario_c3e5d305e1@outlook.com\",\n",
    "                \"profissao\":\"Desenvolvedor de ETL\",\n",
    "                \"estado\":\"TO\"\n",
    "            },\n",
    "            \"info_produto\":{\n",
    "                \"product_uuid\":\"f260cd97c6c9813b01601e834a2added\",\n",
    "                \"valor\":\"R$ 589,90\"\n",
    "            },\n",
    "            \"info_pagamento\":{\n",
    "                \"valor\":\"589.90\",\n",
    "                \"forma_pagamento\":\"credito\",\n",
    "                \"quantidade_parcelas\":\"2\",\n",
    "                \"valor_parcelas\":\"294.95\"\n",
    "            }\n",
    "        }\n",
    "    }\n",
    "```\n",
    "\n",
    "2. **generate_files_data** - This function generates the batch data in csv format. As mentioned above, these csv data are data from sales consultant that sells the products to business ( B2B ). All the data are stored in **Landing Zone** `dbfs:/FileStore/landing/files/`.\n",
    "\n",
    "A batch file example is presented below:\n",
    "\n",
    "```\n",
    "    data_venda,nome_empresa,sexo,nome_funcionario,email_functionario,profissao,idade,estado,curso,valor,disconto\n",
    "    2025-02-26,Empresa A,M,Funcionario 3a0f99b401,funcionario_3a0f99b401@empresaa.com.br,Cientista de Dados,44,RO,Construindo o seu Primeiro Pipeline de Dados com o Databricks,\"R$ 789,90\",5%\n",
    "\n",
    "\n",
    "```"
   ]
  },
  {
   "cell_type": "code",
   "execution_count": 0,
   "metadata": {
    "application/vnd.databricks.v1+cell": {
     "cellMetadata": {
      "byteLimit": 2048000,
      "rowLimit": 10000
     },
     "inputWidgets": {},
     "nuid": "1f2b0562-413d-446d-bf12-167636566a3a",
     "showTitle": false,
     "tableResultSettingsMap": {},
     "title": ""
    }
   },
   "outputs": [
    {
     "output_type": "stream",
     "name": "stdout",
     "output_type": "stream",
     "text": [
      "generate_api_data-inicio-2024-11-20 01:40:31.691490\ngenerate_api_data-fim-2024-11-20 01:40:41.352557\n              \ngenerate_files_data-inicio-2024-11-20 01:40:41.353228\nO arquivo .csv com 100000 registros foi gerado no diretorio 'dbfs:/FileStore/landing/files'.\ngenerate_files_data-fim-2024-11-20 01:41:07.392084\n              \n"
     ]
    }
   ],
   "source": [
    "# generate api data\n",
    "query = generate_api_data()\n",
    "\n",
    "# generate file data\n",
    "generate_files_data(100000)"
   ]
  },
  {
   "cell_type": "markdown",
   "metadata": {
    "application/vnd.databricks.v1+cell": {
     "cellMetadata": {},
     "inputWidgets": {},
     "nuid": "d11dc89f-a478-4abe-bc88-9f88264d999d",
     "showTitle": false,
     "tableResultSettingsMap": {},
     "title": ""
    }
   },
   "source": [
    "## 2.0 Create Bronze Schema"
   ]
  },
  {
   "cell_type": "code",
   "execution_count": 0,
   "metadata": {
    "application/vnd.databricks.v1+cell": {
     "cellMetadata": {
      "byteLimit": 2048000,
      "rowLimit": 10000
     },
     "inputWidgets": {},
     "nuid": "24808ed4-343d-4ab4-92c4-61e260f4c594",
     "showTitle": false,
     "tableResultSettingsMap": {},
     "title": ""
    }
   },
   "outputs": [
    {
     "output_type": "execute_result",
     "data": {
      "text/plain": [
       "DataFrame[]"
      ]
     },
     "execution_count": 17,
     "metadata": {},
     "output_type": "execute_result"
    }
   ],
   "source": [
    "spark.sql(\"CREATE DATABASE IF NOT EXISTS bronze\")"
   ]
  },
  {
   "cell_type": "markdown",
   "metadata": {
    "application/vnd.databricks.v1+cell": {
     "cellMetadata": {},
     "inputWidgets": {},
     "nuid": "85ec9018-2b98-4b79-8835-4b83d0bc1780",
     "showTitle": false,
     "tableResultSettingsMap": {},
     "title": ""
    }
   },
   "source": [
    "## 3.0 Streaming Data Ingestion to Bronze Layer "
   ]
  },
  {
   "cell_type": "markdown",
   "metadata": {
    "application/vnd.databricks.v1+cell": {
     "cellMetadata": {},
     "inputWidgets": {},
     "nuid": "2fdf77d1-fc71-446b-ad3d-fe8d52a9d25f",
     "showTitle": false,
     "tableResultSettingsMap": {},
     "title": ""
    }
   },
   "source": [
    "Using the method **spark.readStream** and the AutoLoader **.format('cloudFiles')** we will be able to read the API streming data with no need of a pre defined schema.\n",
    "\n",
    "* `option('cloudFiles.format', 'json')` : Allows us to read the json data with no need of defining the schema. It is used to identify the file format the Autoloader will process. \n",
    "* `option('cloudFiles.schemaLocation', schema_location_api))`: The local where the infered schema will be stored and versioned."
   ]
  },
  {
   "cell_type": "code",
   "execution_count": 0,
   "metadata": {
    "application/vnd.databricks.v1+cell": {
     "cellMetadata": {
      "byteLimit": 2048000,
      "rowLimit": 10000
     },
     "inputWidgets": {},
     "nuid": "7029196e-fefa-46a6-94e8-bbcc56fc9409",
     "showTitle": false,
     "tableResultSettingsMap": {},
     "title": ""
    }
   },
   "outputs": [
    {
     "output_type": "display_data",
     "data": {
      "text/html": [
       "<style scoped>\n",
       "  .table-result-container {\n",
       "    max-height: 300px;\n",
       "    overflow: auto;\n",
       "  }\n",
       "  table, th, td {\n",
       "    border: 1px solid black;\n",
       "    border-collapse: collapse;\n",
       "  }\n",
       "  th, td {\n",
       "    padding: 5px;\n",
       "  }\n",
       "  th {\n",
       "    text-align: left;\n",
       "  }\n",
       "</style><div class='table-result-container'><table class='table-result'><thead style='background-color: white'><tr><th>access_date</th><th>access_point</th><th>ip_address</th><th>payload</th><th>_rescued_data</th><th>source_file_name</th><th>processing_timestamp</th></tr></thead><tbody><tr><td>2024-06-02T02:33:09.000Z</td><td>chrome</td><td>69.127.75.83</td><td>List(null, null, null)</td><td>null</td><td>part-00000-e08a9d60-07fc-435c-91f3-5cc817acc52e-c000.json</td><td>2024-11-20T01:57:46.01Z</td></tr><tr><td>2024-06-02T03:06:05.000Z</td><td>iphone</td><td>168.18.37.100</td><td>List(null, null, List(usuario_41a8154efd@hotmail.com, ES, 33, Usuario 41a8154efd, Cientista de Dados, F))</td><td>null</td><td>part-00000-e08a9d60-07fc-435c-91f3-5cc817acc52e-c000.json</td><td>2024-11-20T01:57:46.01Z</td></tr><tr><td>2024-06-02T03:39:01.000Z</td><td>safari</td><td>113.109.66.208</td><td>List(null, null, List(usuario_0cbfedc6af@uol.com, GO, 25, Usuario 0cbfedc6af, Analista de Dados, F))</td><td>null</td><td>part-00000-e08a9d60-07fc-435c-91f3-5cc817acc52e-c000.json</td><td>2024-11-20T01:57:46.01Z</td></tr><tr><td>2024-06-02T04:11:57.000Z</td><td>android</td><td>87.241.252.59</td><td>List(null, null, null)</td><td>null</td><td>part-00000-e08a9d60-07fc-435c-91f3-5cc817acc52e-c000.json</td><td>2024-11-20T01:57:46.01Z</td></tr><tr><td>2024-06-02T04:44:53.000Z</td><td>firefox</td><td>188.111.120.11</td><td>List(List(null, boleto, 1, 549.90, 549.90), List(c2d6bcbc3e46555bb1e7e9afbc24d3af, R$ 549,90), List(usuario_5425fd2789@gmail.com, SE, 27, Usuario 5425fd2789, Engenheiro de Dados, M))</td><td>null</td><td>part-00000-e08a9d60-07fc-435c-91f3-5cc817acc52e-c000.json</td><td>2024-11-20T01:57:46.01Z</td></tr></tbody></table></div>"
      ]
     },
     "metadata": {
      "application/vnd.databricks.v1+output": {
       "addedWidgets": {},
       "aggData": [],
       "aggError": "",
       "aggOverflow": false,
       "aggSchema": [],
       "aggSeriesLimitReached": false,
       "aggType": "",
       "arguments": {},
       "columnCustomDisplayInfos": {},
       "data": [
        [
         "2024-06-02T02:33:09.000Z",
         "chrome",
         "69.127.75.83",
         [
          null,
          null,
          null
         ],
         null,
         "part-00000-e08a9d60-07fc-435c-91f3-5cc817acc52e-c000.json",
         "2024-11-20T01:57:46.01Z"
        ],
        [
         "2024-06-02T03:06:05.000Z",
         "iphone",
         "168.18.37.100",
         [
          null,
          null,
          [
           "usuario_41a8154efd@hotmail.com",
           "ES",
           "33",
           "Usuario 41a8154efd",
           "Cientista de Dados",
           "F"
          ]
         ],
         null,
         "part-00000-e08a9d60-07fc-435c-91f3-5cc817acc52e-c000.json",
         "2024-11-20T01:57:46.01Z"
        ],
        [
         "2024-06-02T03:39:01.000Z",
         "safari",
         "113.109.66.208",
         [
          null,
          null,
          [
           "usuario_0cbfedc6af@uol.com",
           "GO",
           "25",
           "Usuario 0cbfedc6af",
           "Analista de Dados",
           "F"
          ]
         ],
         null,
         "part-00000-e08a9d60-07fc-435c-91f3-5cc817acc52e-c000.json",
         "2024-11-20T01:57:46.01Z"
        ],
        [
         "2024-06-02T04:11:57.000Z",
         "android",
         "87.241.252.59",
         [
          null,
          null,
          null
         ],
         null,
         "part-00000-e08a9d60-07fc-435c-91f3-5cc817acc52e-c000.json",
         "2024-11-20T01:57:46.01Z"
        ],
        [
         "2024-06-02T04:44:53.000Z",
         "firefox",
         "188.111.120.11",
         [
          [
           null,
           "boleto",
           "1",
           "549.90",
           "549.90"
          ],
          [
           "c2d6bcbc3e46555bb1e7e9afbc24d3af",
           "R$ 549,90"
          ],
          [
           "usuario_5425fd2789@gmail.com",
           "SE",
           "27",
           "Usuario 5425fd2789",
           "Engenheiro de Dados",
           "M"
          ]
         ],
         null,
         "part-00000-e08a9d60-07fc-435c-91f3-5cc817acc52e-c000.json",
         "2024-11-20T01:57:46.01Z"
        ]
       ],
       "datasetInfos": [],
       "dbfsResultPath": null,
       "isJsonSchema": true,
       "metadata": {
        "isDbfsCommandResult": false
       },
       "overflow": false,
       "plotOptions": {
        "customPlotOptions": {},
        "displayType": "table",
        "pivotAggregation": null,
        "pivotColumns": null,
        "xColumns": null,
        "yColumns": null
       },
       "removedWidgets": [],
       "schema": [
        {
         "metadata": "{}",
         "name": "access_date",
         "type": "\"string\""
        },
        {
         "metadata": "{}",
         "name": "access_point",
         "type": "\"string\""
        },
        {
         "metadata": "{}",
         "name": "ip_address",
         "type": "\"string\""
        },
        {
         "metadata": "{}",
         "name": "payload",
         "type": "{\"type\":\"struct\",\"fields\":[{\"name\":\"info_pagamento\",\"type\":{\"type\":\"struct\",\"fields\":[{\"name\":\"disconto\",\"type\":\"string\",\"nullable\":true,\"metadata\":{}},{\"name\":\"forma_pagamento\",\"type\":\"string\",\"nullable\":true,\"metadata\":{}},{\"name\":\"quantidade_parcelas\",\"type\":\"string\",\"nullable\":true,\"metadata\":{}},{\"name\":\"valor\",\"type\":\"string\",\"nullable\":true,\"metadata\":{}},{\"name\":\"valor_parcelas\",\"type\":\"string\",\"nullable\":true,\"metadata\":{}}]},\"nullable\":true,\"metadata\":{}},{\"name\":\"info_produto\",\"type\":{\"type\":\"struct\",\"fields\":[{\"name\":\"product_uuid\",\"type\":\"string\",\"nullable\":true,\"metadata\":{}},{\"name\":\"valor\",\"type\":\"string\",\"nullable\":true,\"metadata\":{}}]},\"nullable\":true,\"metadata\":{}},{\"name\":\"info_usuario\",\"type\":{\"type\":\"struct\",\"fields\":[{\"name\":\"email\",\"type\":\"string\",\"nullable\":true,\"metadata\":{}},{\"name\":\"estado\",\"type\":\"string\",\"nullable\":true,\"metadata\":{}},{\"name\":\"idade\",\"type\":\"string\",\"nullable\":true,\"metadata\":{}},{\"name\":\"nome\",\"type\":\"string\",\"nullable\":true,\"metadata\":{}},{\"name\":\"profissao\",\"type\":\"string\",\"nullable\":true,\"metadata\":{}},{\"name\":\"sexo\",\"type\":\"string\",\"nullable\":true,\"metadata\":{}}]},\"nullable\":true,\"metadata\":{}}]}"
        },
        {
         "metadata": "{}",
         "name": "_rescued_data",
         "type": "\"string\""
        },
        {
         "metadata": "{}",
         "name": "source_file_name",
         "type": "\"string\""
        },
        {
         "metadata": "{}",
         "name": "processing_timestamp",
         "type": "\"timestamp\""
        }
       ],
       "type": "table"
      }
     },
     "output_type": "display_data"
    }
   ],
   "source": [
    "schema_location_api = 'dbfs:/user/hive/warehouse/bronze.db/_schemas/load_api_raw_data'\n",
    "stream_lading_path  = \"dbfs:/FileStore/landing/stream/\"\n",
    "auto_loader_df = (\n",
    "  spark.readStream\n",
    "       .format('cloudFiles')\n",
    "       .option('cloudFiles.format','json')\n",
    "       .option('cloudFiles.schemaLocation', schema_location_api)\n",
    "       .option('cloudFiles.inferColumnTypes', True)\n",
    "       .load(stream_lading_path)\n",
    ")\n",
    "\n",
    "auto_loader_df = (\n",
    "  auto_loader_df.withColumn(\"source_file_name\", col(\"_metadata.file_name\"))\n",
    "                .withColumn(\"processing_timestamp\", current_timestamp() )\n",
    ")\n",
    "\n",
    "auto_loader_df.limit(5).display()"
   ]
  },
  {
   "cell_type": "code",
   "execution_count": 0,
   "metadata": {
    "application/vnd.databricks.v1+cell": {
     "cellMetadata": {
      "byteLimit": 2048000,
      "rowLimit": 10000
     },
     "inputWidgets": {},
     "nuid": "b4f77a1f-b09f-4a17-8c19-a50db7b733e4",
     "showTitle": false,
     "tableResultSettingsMap": {},
     "title": ""
    }
   },
   "outputs": [
    {
     "output_type": "stream",
     "name": "stdout",
     "output_type": "stream",
     "text": [
      "stop_all_streams-inicio-2024-11-20 02:02:14.188870\nO stream generate_api_stream_data fui finalizado com sucesso.\nO stream display_query_1 fui finalizado com sucesso.\nstop_all_streams-fim-2024-11-20 02:02:15.846736\n              \nclean_up_landing_dir-inicio-2024-11-20 02:02:15.846880\nTodos os arquivos e diretórios dentro de 'dbfs:/FileStore/landing/' foram excluidos com sucesso.\nclean_up_landing_dir-fim-2024-11-20 02:02:22.001455\n              \n"
     ]
    }
   ],
   "source": [
    "stop_all_streams()\n",
    "clean_up_landing_dir()"
   ]
  },
  {
   "cell_type": "code",
   "execution_count": 0,
   "metadata": {
    "application/vnd.databricks.v1+cell": {
     "cellMetadata": {},
     "inputWidgets": {},
     "nuid": "59f02adc-36aa-49f2-b97d-b6939177831a",
     "showTitle": false,
     "tableResultSettingsMap": {},
     "title": ""
    }
   },
   "outputs": [],
   "source": []
  }
 ],
 "metadata": {
  "application/vnd.databricks.v1+notebook": {
   "dashboards": [],
   "environmentMetadata": null,
   "language": "python",
   "notebookMetadata": {
    "pythonIndentUnit": 2
   },
   "notebookName": "Load_Bronze_Layer",
   "widgets": {}
  }
 },
 "nbformat": 4,
 "nbformat_minor": 0
}
